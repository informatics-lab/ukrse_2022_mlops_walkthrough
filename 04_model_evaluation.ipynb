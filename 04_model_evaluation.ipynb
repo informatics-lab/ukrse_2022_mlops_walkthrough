{
 "cells": [
  {
   "cell_type": "markdown",
   "id": "79a8d9c7-2a11-42ec-ba7f-0bdc208484d8",
   "metadata": {},
   "source": [
    "# MLOps Walkthrough - Model Evaluation\n",
    "\n",
    "key principles / tasks supported by RSEs\n",
    "* reusable components - making model results available to other researchers\n",
    "* running at scale - serving many results\n",
    "* interactive exploration of results (predictions and XAI)\n",
    "\n"
   ]
  },
  {
   "cell_type": "markdown",
   "id": "eebf44a4-75a5-40a1-9847-698c9be7dba7",
   "metadata": {},
   "source": [
    "## Example Load in trained model and do inference\n",
    "\n",
    "use mlflow for iinference"
   ]
  },
  {
   "cell_type": "code",
   "execution_count": 62,
   "id": "4a5fc1e3-2937-491a-9c53-230dcfbe753d",
   "metadata": {},
   "outputs": [],
   "source": [
    "import datetime\n",
    "import os\n",
    "import pathlib"
   ]
  },
  {
   "cell_type": "code",
   "execution_count": 1,
   "id": "4e691dd7-9422-41b2-935e-dc888e3aff64",
   "metadata": {},
   "outputs": [],
   "source": [
    "import intake"
   ]
  },
  {
   "cell_type": "code",
   "execution_count": 79,
   "id": "0c9e7336-876a-4d44-8d62-d7d800499e75",
   "metadata": {},
   "outputs": [],
   "source": [
    "import numpy\n",
    "import pandas"
   ]
  },
  {
   "cell_type": "code",
   "execution_count": 74,
   "id": "b7df5af6-c6d2-4ecb-b794-b6fb99c74882",
   "metadata": {},
   "outputs": [],
   "source": [
    "import sklearn\n",
    "import sklearn.preprocessing\n",
    "import sklearn.metrics"
   ]
  },
  {
   "cell_type": "markdown",
   "id": "a2f4a772-f414-4a3e-9aec-457ef4a1a5d2",
   "metadata": {
    "tags": []
   },
   "source": [
    "### Get train and test data"
   ]
  },
  {
   "cell_type": "code",
   "execution_count": 63,
   "id": "f41f2246-f7ab-46aa-aecd-9c4b44af688a",
   "metadata": {},
   "outputs": [
    {
     "name": "stdout",
     "output_type": "stream",
     "text": [
      "using default path\n"
     ]
    },
    {
     "data": {
      "text/plain": [
       "PosixPath('/Users/stephen.haddad/data/ukrse2022')"
      ]
     },
     "execution_count": 63,
     "metadata": {},
     "output_type": "execute_result"
    }
   ],
   "source": [
    "try:\n",
    "    rse_root_data_dir = pathlib.Path(os.environ['RSE22_ROOT_DATA_DIR'])\n",
    "    print('reading from environment variable')\n",
    "except KeyError as ke1:\n",
    "    rse_root_data_dir = pathlib.Path(os.environ['HOME'])  / 'data' / 'ukrse2022'\n",
    "    print('using default path')\n",
    "rse_root_data_dir"
   ]
  },
  {
   "cell_type": "code",
   "execution_count": 64,
   "id": "59bc54fe-d501-4579-8a06-0fdf3cc10144",
   "metadata": {},
   "outputs": [
    {
     "data": {
      "application/yaml": "rotors_catalog:\n  args:\n    path: /Users/stephen.haddad/data/ukrse2022/rotors_catalog.yml\n  description: ''\n  driver: intake.catalog.local.YAMLFileCatalog\n  metadata: {}\n",
      "text/plain": [
       "rotors_catalog:\n",
       "  args:\n",
       "    path: /Users/stephen.haddad/data/ukrse2022/rotors_catalog.yml\n",
       "  description: ''\n",
       "  driver: intake.catalog.local.YAMLFileCatalog\n",
       "  metadata: {}\n"
      ]
     },
     "metadata": {
      "application/json": {
       "root": "rotors_catalog"
      }
     },
     "output_type": "display_data"
    }
   ],
   "source": [
    "rotors_catalog = intake.open_catalog(rse_root_data_dir / 'rotors_catalog.yml')\n",
    "rotors_catalog "
   ]
  },
  {
   "cell_type": "code",
   "execution_count": 65,
   "id": "0e8e3df9-82ad-49bc-8835-e89589f42131",
   "metadata": {},
   "outputs": [],
   "source": [
    "rotors_df = rotors_catalog['rotors_preprocessed'].read()"
   ]
  },
  {
   "cell_type": "code",
   "execution_count": 69,
   "id": "3e7839fc-4c94-4df1-a54f-7e6790ed498a",
   "metadata": {},
   "outputs": [],
   "source": [
    "# one small bit of cleaning: ensuring the correct datetime type for our time feature\n",
    "rotors_df['time'] = pandas.to_datetime(rotors_df['time'])\n",
    "temp_feature_names = [f'air_temp_{i1}' for i1 in range(1,23)]\n",
    "humidity_feature_names = [f'sh_{i1}' for i1 in range(1,23)]\n",
    "wind_direction_feature_names = [f'winddir_{i1}' for i1 in range(1,23)]\n",
    "wind_speed_feature_names = [f'windspd_{i1}' for i1 in range(1,23)]\n",
    "u_wind_feature_names = [f'u_wind_{i1}' for i1 in range(1,23)]\n",
    "v_wind_feature_names = [f'v_wind_{i1}' for i1 in range(1,23)]\n",
    "target_feature_name = 'rotors_present'\n"
   ]
  },
  {
   "cell_type": "code",
   "execution_count": 70,
   "id": "81147a95-0fe3-4445-9f57-ed087a484ac7",
   "metadata": {},
   "outputs": [],
   "source": [
    "train_df = rotors_df[rotors_df['time'] < datetime.datetime(2020,1,1,0,0)]\n",
    "val_df = rotors_df[rotors_df['time'] > datetime.datetime(2020,1,1,0,0)]"
   ]
  },
  {
   "cell_type": "code",
   "execution_count": 71,
   "id": "f7e5dbdd-a489-467b-980f-6303cb8f7f2d",
   "metadata": {},
   "outputs": [],
   "source": [
    "input_feature_names = temp_feature_names + humidity_feature_names + u_wind_feature_names + v_wind_feature_names"
   ]
  },
  {
   "cell_type": "code",
   "execution_count": 75,
   "id": "5fb08596-5929-4740-be7d-68b04de0560c",
   "metadata": {},
   "outputs": [],
   "source": [
    "preproc_dict = {}\n",
    "for if1 in input_feature_names:\n",
    "    scaler1 = sklearn.preprocessing.StandardScaler()\n",
    "    scaler1.fit(train_df[[if1]])\n",
    "    preproc_dict[if1] = scaler1"
   ]
  },
  {
   "cell_type": "code",
   "execution_count": 76,
   "id": "27a5351c-7dc3-499b-9ab0-41d31ea901e8",
   "metadata": {},
   "outputs": [
    {
     "name": "stderr",
     "output_type": "stream",
     "text": [
      "/Users/stephen.haddad/opt/anaconda3/envs/ukrse2022_mlops_model_evaluation/lib/python3.8/site-packages/sklearn/utils/validation.py:63: DataConversionWarning: A column-vector y was passed when a 1d array was expected. Please change the shape of y to (n_samples, ), for example using ravel().\n",
      "  return f(*args, **kwargs)\n"
     ]
    },
    {
     "data": {
      "text/plain": [
       "LabelEncoder()"
      ]
     },
     "execution_count": 76,
     "metadata": {},
     "output_type": "execute_result"
    }
   ],
   "source": [
    "target_encoder = sklearn.preprocessing.LabelEncoder()\n",
    "target_encoder.fit(train_df[[target_feature_name]])\n"
   ]
  },
  {
   "cell_type": "code",
   "execution_count": 77,
   "id": "0955993b-0abe-452b-8614-164e84bde621",
   "metadata": {},
   "outputs": [],
   "source": [
    "def preproc_input(data_subset, pp_dict):\n",
    "    return numpy.concatenate([scaler1.transform(data_subset[[if1]]) for if1,scaler1 in pp_dict.items()],axis=1)\n",
    "\n",
    "def preproc_target(data_subset, enc1):\n",
    "     return enc1.transform(data_subset[[target_feature_name]])"
   ]
  },
  {
   "cell_type": "code",
   "execution_count": 80,
   "id": "f3a92a60-19a1-4308-8129-e425e5fd2219",
   "metadata": {},
   "outputs": [
    {
     "name": "stderr",
     "output_type": "stream",
     "text": [
      "/Users/stephen.haddad/opt/anaconda3/envs/ukrse2022_mlops_model_evaluation/lib/python3.8/site-packages/sklearn/utils/validation.py:63: DataConversionWarning: A column-vector y was passed when a 1d array was expected. Please change the shape of y to (n_samples, ), for example using ravel().\n",
      "  return f(*args, **kwargs)\n"
     ]
    }
   ],
   "source": [
    "X_train = preproc_input(train_df, preproc_dict)\n",
    "y_train = numpy.concatenate(\n",
    "    [preproc_target(train_df, target_encoder).reshape((-1,1)),\n",
    "    1.0 - (preproc_target(train_df, target_encoder).reshape((-1,1))),],\n",
    "    axis=1\n",
    ")"
   ]
  },
  {
   "cell_type": "code",
   "execution_count": 81,
   "id": "b8dd5a37-677b-4111-811d-568ef327f6c3",
   "metadata": {},
   "outputs": [
    {
     "name": "stderr",
     "output_type": "stream",
     "text": [
      "/Users/stephen.haddad/opt/anaconda3/envs/ukrse2022_mlops_model_evaluation/lib/python3.8/site-packages/sklearn/utils/validation.py:63: DataConversionWarning: A column-vector y was passed when a 1d array was expected. Please change the shape of y to (n_samples, ), for example using ravel().\n",
      "  return f(*args, **kwargs)\n"
     ]
    }
   ],
   "source": [
    "X_val = preproc_input(val_df, preproc_dict)\n",
    "y_val = numpy.concatenate(\n",
    "    [preproc_target(val_df, target_encoder).reshape((-1,1)),\n",
    "    1.0 - (preproc_target(val_df, target_encoder).reshape((-1,1))),],\n",
    "    axis=1\n",
    ")"
   ]
  },
  {
   "cell_type": "markdown",
   "id": "00f2f674-99be-48ec-a61e-5fb604dc6444",
   "metadata": {},
   "source": [
    "### Load in trained model\n",
    "We will now get a model from our most recent run, which will use to do inference and calculate metrics."
   ]
  },
  {
   "cell_type": "code",
   "execution_count": 82,
   "id": "135f46c4-e8b2-4d59-b3bb-147e785fb78c",
   "metadata": {},
   "outputs": [],
   "source": [
    "import mlflow\n",
    "import mlflow.models"
   ]
  },
  {
   "cell_type": "code",
   "execution_count": 83,
   "id": "bcdee2a1-0ca0-4ff8-9171-2ca40c65c0a6",
   "metadata": {},
   "outputs": [
    {
     "data": {
      "text/plain": [
       "'http://127.0.0.1:5001'"
      ]
     },
     "execution_count": 83,
     "metadata": {},
     "output_type": "execute_result"
    }
   ],
   "source": [
    "mlflow_server_address = '127.0.0.1'\n",
    "mlflow_server_port = 5001\n",
    "mlflow_server_uri = f'http://{mlflow_server_address}:{mlflow_server_port:d}'\n",
    "mlflow_server_uri    "
   ]
  },
  {
   "cell_type": "code",
   "execution_count": 84,
   "id": "52a4f424-998e-439e-88eb-6740238f4fae",
   "metadata": {},
   "outputs": [],
   "source": [
    "mlflow.set_tracking_uri(mlflow_server_uri)"
   ]
  },
  {
   "cell_type": "code",
   "execution_count": 85,
   "id": "e2b5fa98-4f92-4df7-97d0-1736d5c953fd",
   "metadata": {},
   "outputs": [],
   "source": [
    "rse_rotors_experiment_name = 'rse_mlops_demo_rotors'"
   ]
  },
  {
   "cell_type": "code",
   "execution_count": 86,
   "id": "92e35c21-6209-429a-816b-c7c47dc39417",
   "metadata": {},
   "outputs": [
    {
     "data": {
      "text/plain": [
       "<Experiment: artifact_location='/Users/stephen.haddad/data/ukrse2022/artifacts/1', experiment_id='1', lifecycle_stage='active', name='rse_mlops_demo_rotors', tags={}>"
      ]
     },
     "execution_count": 86,
     "metadata": {},
     "output_type": "execute_result"
    }
   ],
   "source": [
    "rse_rotors_experiment = mlflow.get_experiment_by_name(rse_rotors_experiment_name)\n",
    "rse_rotors_experiment"
   ]
  },
  {
   "cell_type": "code",
   "execution_count": 87,
   "id": "b2240f6f-1ff4-40ff-a891-9b04842e9d98",
   "metadata": {},
   "outputs": [
    {
     "data": {
      "text/plain": [
       "('c5becc89c46e4cfd82441cc37ab6afbf',\n",
       " datetime.datetime(2022, 8, 17, 19, 12, 33, 80000))"
      ]
     },
     "execution_count": 87,
     "metadata": {},
     "output_type": "execute_result"
    }
   ],
   "source": [
    "latest_run_info  = sorted(mlflow.list_run_infos(rse_rotors_experiment.experiment_id), key=lambda run1: run1.end_time)[-1]\n",
    "latest_run_info.run_id, datetime.datetime.fromtimestamp(latest_run_info.end_time / 1000)"
   ]
  },
  {
   "cell_type": "code",
   "execution_count": 88,
   "id": "9251ccf7-0990-4bc4-905f-843e7dfde870",
   "metadata": {},
   "outputs": [
    {
     "data": {
      "text/plain": [
       "<keras.engine.sequential.Sequential at 0x7ff235592a30>"
      ]
     },
     "execution_count": 88,
     "metadata": {},
     "output_type": "execute_result"
    }
   ],
   "source": [
    "rse_rotors_model = mlflow.keras.load_model(latest_run_info.artifact_uri + '/model')\n",
    "rse_rotors_model"
   ]
  },
  {
   "cell_type": "code",
   "execution_count": 89,
   "id": "3b7c5050-a8af-4f28-849e-ce9a94437c45",
   "metadata": {},
   "outputs": [
    {
     "data": {
      "text/plain": [
       "array([[8.2105380e-06, 9.9999177e-01],\n",
       "       [1.0245468e-04, 9.9989748e-01],\n",
       "       [3.7846921e-04, 9.9962151e-01],\n",
       "       ...,\n",
       "       [4.4974138e-10, 1.0000000e+00],\n",
       "       [4.1534731e-06, 9.9999583e-01],\n",
       "       [3.7166660e-03, 9.9628335e-01]], dtype=float32)"
      ]
     },
     "execution_count": 89,
     "metadata": {},
     "output_type": "execute_result"
    }
   ],
   "source": [
    "rse_rotors_model.predict(X_val)"
   ]
  },
  {
   "cell_type": "markdown",
   "id": "4469940f-8b11-4693-9797-c74c72d7a4f2",
   "metadata": {},
   "source": [
    "### Using the MLFlow model wrapping interface\n",
    "\n",
    "You can use the ML Flow models module to be able to use models from different frameworks interchangeably for inference purposes."
   ]
  },
  {
   "cell_type": "code",
   "execution_count": 94,
   "id": "f7958c23-2389-4c16-8151-f7533bd1db57",
   "metadata": {},
   "outputs": [],
   "source": [
    "logged_model = 'runs:/c5becc89c46e4cfd82441cc37ab6afbf/model'\n",
    "\n"
   ]
  },
  {
   "cell_type": "code",
   "execution_count": 95,
   "id": "1554f5d2-2926-49e3-9cbb-fcf6e5bf74e4",
   "metadata": {},
   "outputs": [
    {
     "name": "stderr",
     "output_type": "stream",
     "text": [
      "/Users/stephen.haddad/opt/anaconda3/envs/ukrse2022_mlops_model_evaluation/lib/python3.8/site-packages/keras/backend.py:450: UserWarning: `tf.keras.backend.set_learning_phase` is deprecated and will be removed after 2020-10-11. To update it, simply pass a True/False value to the `training` argument of the `__call__` method of your layer or model.\n",
      "  warnings.warn('`tf.keras.backend.set_learning_phase` is deprecated and '\n"
     ]
    },
    {
     "data": {
      "text/plain": [
       "mlflow.pyfunc.loaded_model:\n",
       "  artifact_path: model\n",
       "  flavor: mlflow.keras\n",
       "  run_id: c5becc89c46e4cfd82441cc37ab6afbf"
      ]
     },
     "execution_count": 95,
     "metadata": {},
     "output_type": "execute_result"
    }
   ],
   "source": [
    "loaded_model = mlflow.pyfunc.load_model(logged_model)\n",
    "loaded_model"
   ]
  },
  {
   "cell_type": "code",
   "execution_count": 97,
   "id": "430e86f8-77e9-475a-a068-e31d107fcf2b",
   "metadata": {},
   "outputs": [
    {
     "data": {
      "text/plain": [
       "array([[8.2105380e-06, 9.9999177e-01],\n",
       "       [1.0245468e-04, 9.9989748e-01],\n",
       "       [3.7846921e-04, 9.9962151e-01],\n",
       "       ...,\n",
       "       [4.4974138e-10, 1.0000000e+00],\n",
       "       [4.1534731e-06, 9.9999583e-01],\n",
       "       [3.7166660e-03, 9.9628335e-01]], dtype=float32)"
      ]
     },
     "execution_count": 97,
     "metadata": {},
     "output_type": "execute_result"
    }
   ],
   "source": [
    "loaded_model.predict(X_val)"
   ]
  },
  {
   "cell_type": "code",
   "execution_count": 106,
   "id": "9c8dcdbe-6271-4ef4-9b3b-13e15056ebff",
   "metadata": {},
   "outputs": [
    {
     "data": {
      "text/plain": [
       "'runs:/c5becc89c46e4cfd82441cc37ab6afbf/model'"
      ]
     },
     "execution_count": 106,
     "metadata": {},
     "output_type": "execute_result"
    }
   ],
   "source": [
    "latest_run_saved_model_uri = f'runs:/{latest_run_info.run_id}/model'\n",
    "latest_run_saved_model_uri"
   ]
  },
  {
   "cell_type": "code",
   "execution_count": 104,
   "id": "0ddbe4bc-37ad-4767-868a-802665459cf6",
   "metadata": {},
   "outputs": [
    {
     "data": {
      "text/plain": [
       "array([[8.2105380e-06, 9.9999177e-01],\n",
       "       [1.0245468e-04, 9.9989748e-01],\n",
       "       [3.7846921e-04, 9.9962151e-01],\n",
       "       ...,\n",
       "       [4.4974138e-10, 1.0000000e+00],\n",
       "       [4.1534731e-06, 9.9999583e-01],\n",
       "       [3.7166660e-03, 9.9628335e-01]], dtype=float32)"
      ]
     },
     "execution_count": 104,
     "metadata": {},
     "output_type": "execute_result"
    }
   ],
   "source": [
    "mlflow.keras.load_model().predict(X_val)"
   ]
  },
  {
   "cell_type": "code",
   "execution_count": null,
   "id": "61f4937f-2720-4c5f-bf9a-f2f8cf715766",
   "metadata": {},
   "outputs": [],
   "source": []
  },
  {
   "cell_type": "code",
   "execution_count": null,
   "id": "610b3513-1be3-4dbe-a90b-badb4ebaf5c4",
   "metadata": {},
   "outputs": [],
   "source": []
  },
  {
   "cell_type": "markdown",
   "id": "8d90c865-84d7-462b-b990-bb8be0375449",
   "metadata": {},
   "source": [
    "### Working with the ML Flow Client object and ML Flow UI\n",
    "\n",
    "Ways of working\n",
    "* browse models in UI\n",
    "* search models for relevant characteristic (e.g. highest/lowest value of metric)"
   ]
  },
  {
   "cell_type": "code",
   "execution_count": 91,
   "id": "8caa9cb1-e916-49c1-8f43-64b8d266d9d4",
   "metadata": {},
   "outputs": [
    {
     "data": {
      "text/plain": [
       "<mlflow.tracking.client.MlflowClient at 0x7ff21ffc16d0>"
      ]
     },
     "execution_count": 91,
     "metadata": {},
     "output_type": "execute_result"
    }
   ],
   "source": [
    "mlflow_client = mlflow.tracking.MlflowClient(tracking_uri=mlflow_server_uri)\n",
    "mlflow_client"
   ]
  },
  {
   "cell_type": "code",
   "execution_count": 118,
   "id": "ac9821a0-4980-4555-9c84-04f020b37a40",
   "metadata": {},
   "outputs": [
    {
     "data": {
      "text/plain": [
       "<ModelVersion: creation_timestamp=1660921051253, current_stage='None', description='', last_updated_timestamp=1660921051253, name='rse_rotors_20220819', run_id='c5becc89c46e4cfd82441cc37ab6afbf', run_link='', source='/Users/stephen.haddad/data/ukrse2022/artifacts/1/c5becc89c46e4cfd82441cc37ab6afbf/artifacts/model', status='READY', status_message='', tags={}, user_id='', version='1'>"
      ]
     },
     "execution_count": 118,
     "metadata": {},
     "output_type": "execute_result"
    }
   ],
   "source": [
    "mlflow_client.list_registered_models()[0].latest_versions[0]"
   ]
  },
  {
   "cell_type": "code",
   "execution_count": 123,
   "id": "6efa7e6a-5044-4dd4-8eec-a98ecce57b8b",
   "metadata": {},
   "outputs": [
    {
     "data": {
      "text/plain": [
       "[('rse_rotors_20220819', '1')]"
      ]
     },
     "execution_count": 123,
     "metadata": {},
     "output_type": "execute_result"
    }
   ],
   "source": [
    "[(m1.name, m1.version) for m1 in mlflow_client.list_registered_models()[0].latest_versions]"
   ]
  },
  {
   "cell_type": "code",
   "execution_count": 120,
   "id": "ae64287a-38b7-4b91-ab63-a6dd78305dd0",
   "metadata": {},
   "outputs": [
    {
     "data": {
      "text/plain": [
       "'models:/rse_rotors_20220819/1'"
      ]
     },
     "execution_count": 120,
     "metadata": {},
     "output_type": "execute_result"
    }
   ],
   "source": [
    "rotors_reg_model_name = 'rse_rotors_20220819'\n",
    "rotors_reg_model_version = '1'\n",
    "reg_model_artifact_uri = f'models:/{rotors_reg_model_name}/{rotors_reg_model_version}'\n",
    "reg_model_artifact_uri"
   ]
  },
  {
   "cell_type": "code",
   "execution_count": 133,
   "id": "10c01579-b9dd-483d-a242-2c1906fbea4f",
   "metadata": {},
   "outputs": [
    {
     "data": {
      "text/plain": [
       "<RegisteredModel: creation_timestamp=1660921051229, description='', last_updated_timestamp=1660921051253, latest_versions=[<ModelVersion: creation_timestamp=1660921051253, current_stage='None', description='', last_updated_timestamp=1660921051253, name='rse_rotors_20220819', run_id='c5becc89c46e4cfd82441cc37ab6afbf', run_link='', source='/Users/stephen.haddad/data/ukrse2022/artifacts/1/c5becc89c46e4cfd82441cc37ab6afbf/artifacts/model', status='READY', status_message='', tags={}, user_id='', version='1'>], name='rse_rotors_20220819', tags={}>"
      ]
     },
     "execution_count": 133,
     "metadata": {},
     "output_type": "execute_result"
    }
   ],
   "source": [
    "mlflow_client.get_registered_model(rotors_reg_model_name)"
   ]
  },
  {
   "cell_type": "code",
   "execution_count": 51,
   "id": "3d1f8313-b1e3-4bd5-9c9b-21f1003f5f61",
   "metadata": {},
   "outputs": [
    {
     "data": {
      "text/plain": [
       "'/Users/stephen.haddad/data/ukrse2022/artifacts/1/c5becc89c46e4cfd82441cc37ab6afbf/artifacts'"
      ]
     },
     "execution_count": 51,
     "metadata": {},
     "output_type": "execute_result"
    }
   ],
   "source": [
    "latest_run_info.artifact_uri"
   ]
  },
  {
   "cell_type": "code",
   "execution_count": 128,
   "id": "274fd33e-646e-47e4-842e-d50deb5b606c",
   "metadata": {},
   "outputs": [
    {
     "data": {
      "text/plain": [
       "<Run: data=<RunData: metrics={'loss': 0.017498191446065903,\n",
       " 'root_mean_squared_error': 0.13228072226047516,\n",
       " 'val_loss': 0.03716700151562691,\n",
       " 'val_root_mean_squared_error': 0.19278743863105774}, params={'batch_size': '1000',\n",
       " 'class_weight': 'None',\n",
       " 'epochs': '100',\n",
       " 'initial_epoch': '0',\n",
       " 'max_queue_size': '10',\n",
       " 'opt_amsgrad': 'False',\n",
       " 'opt_beta_1': '0.9',\n",
       " 'opt_beta_2': '0.999',\n",
       " 'opt_decay': '0.0',\n",
       " 'opt_epsilon': '1e-07',\n",
       " 'opt_learning_rate': '0.0001',\n",
       " 'opt_name': 'Adam',\n",
       " 'sample_weight': 'None',\n",
       " 'shuffle': 'True',\n",
       " 'steps_per_epoch': 'None',\n",
       " 'use_multiprocessing': 'False',\n",
       " 'validation_batch_size': 'None',\n",
       " 'validation_freq': '1',\n",
       " 'validation_split': '0.0',\n",
       " 'validation_steps': 'None',\n",
       " 'workers': '1'}, tags={'mlflow.log-model.history': '[{\"run_id\": \"c5becc89c46e4cfd82441cc37ab6afbf\", '\n",
       "                             '\"artifact_path\": \"model\", \"utc_time_created\": '\n",
       "                             '\"2022-08-17 18:12:24.662820\", \"flavors\": '\n",
       "                             '{\"keras\": {\"keras_module\": \"tensorflow.keras\", '\n",
       "                             '\"keras_version\": \"2.8.0\", \"save_format\": \"tf\", '\n",
       "                             '\"data\": \"data\"}, \"python_function\": '\n",
       "                             '{\"loader_module\": \"mlflow.keras\", '\n",
       "                             '\"python_version\": \"3.8.13\", \"data\": \"data\", '\n",
       "                             '\"env\": \"conda.yaml\"}}}]',\n",
       " 'mlflow.runName': 'rse_rotors_ffnn_20220817T190851',\n",
       " 'mlflow.source.name': '/Users/stephen.haddad/opt/anaconda3/envs/ukrse2022_mlops_model_dev/lib/python3.8/site-packages/ipykernel_launcher.py',\n",
       " 'mlflow.source.type': 'LOCAL',\n",
       " 'mlflow.user': 'stephen.haddad'}>, info=<RunInfo: artifact_uri='/Users/stephen.haddad/data/ukrse2022/artifacts/1/c5becc89c46e4cfd82441cc37ab6afbf/artifacts', end_time=1660759953080, experiment_id='1', lifecycle_stage='active', run_id='c5becc89c46e4cfd82441cc37ab6afbf', run_uuid='c5becc89c46e4cfd82441cc37ab6afbf', start_time=1660759731353, status='FINISHED', user_id='stephen.haddad'>>"
      ]
     },
     "execution_count": 128,
     "metadata": {},
     "output_type": "execute_result"
    }
   ],
   "source": [
    "mlflow.tracking.MlflowClient().get_run(latest_run_info.run_id)"
   ]
  },
  {
   "cell_type": "markdown",
   "id": "ab1a922e-1b0f-42a2-af94-098dcca0903b",
   "metadata": {},
   "source": [
    "# Example - calculate feature importance and vosualise results"
   ]
  },
  {
   "cell_type": "code",
   "execution_count": null,
   "id": "de5c9dd6-a158-4b35-94a3-5e18f5a63ff8",
   "metadata": {},
   "outputs": [],
   "source": []
  },
  {
   "cell_type": "code",
   "execution_count": null,
   "id": "b5b457e5-0cb6-4c01-845a-ce5eca505912",
   "metadata": {},
   "outputs": [],
   "source": []
  },
  {
   "cell_type": "markdown",
   "id": "fb49be50-20c5-464d-b205-d056146a54b9",
   "metadata": {},
   "source": [
    "### Example - Running a cluster with ray serve to serve many results"
   ]
  },
  {
   "cell_type": "code",
   "execution_count": null,
   "id": "beefa54f-2c91-478d-a02a-c5edf689ded1",
   "metadata": {},
   "outputs": [],
   "source": []
  },
  {
   "cell_type": "code",
   "execution_count": null,
   "id": "d77655bf-1761-465c-b902-01dc4f3dcaad",
   "metadata": {},
   "outputs": [],
   "source": []
  },
  {
   "cell_type": "code",
   "execution_count": null,
   "id": "5bbc538d-71b2-4667-aedf-d07953855563",
   "metadata": {},
   "outputs": [],
   "source": []
  },
  {
   "cell_type": "markdown",
   "id": "eb70f193-2d08-42b7-be5e-96449d9cb3a6",
   "metadata": {},
   "source": [
    "### Example - create a dashboard with holoviz that gets inference results from a ray serve or mlflow serve?"
   ]
  },
  {
   "cell_type": "code",
   "execution_count": null,
   "id": "d22f8ae8-5400-4a38-be11-09799c368752",
   "metadata": {},
   "outputs": [],
   "source": []
  },
  {
   "cell_type": "code",
   "execution_count": null,
   "id": "887114ac-0fdd-4efa-9a29-12d16db5f34b",
   "metadata": {},
   "outputs": [],
   "source": []
  },
  {
   "cell_type": "code",
   "execution_count": null,
   "id": "594dea56-deb0-4ee4-8932-65b77f62ed89",
   "metadata": {},
   "outputs": [],
   "source": []
  },
  {
   "cell_type": "code",
   "execution_count": null,
   "id": "fc53607f-9c0e-4237-8312-b1290514697c",
   "metadata": {},
   "outputs": [],
   "source": []
  },
  {
   "cell_type": "code",
   "execution_count": null,
   "id": "9298e641-8804-4752-9a87-73d18a8c2007",
   "metadata": {},
   "outputs": [],
   "source": []
  },
  {
   "cell_type": "code",
   "execution_count": null,
   "id": "80d56c43-87cb-4b0d-a640-f534f43b4b01",
   "metadata": {},
   "outputs": [],
   "source": []
  },
  {
   "cell_type": "code",
   "execution_count": null,
   "id": "e16bd4da-d6be-4275-8199-38d17d63127c",
   "metadata": {},
   "outputs": [],
   "source": []
  },
  {
   "cell_type": "code",
   "execution_count": null,
   "id": "cc34a617-cf5c-4623-b750-9e699d79bb06",
   "metadata": {},
   "outputs": [],
   "source": []
  },
  {
   "cell_type": "markdown",
   "id": "d6f9d47a-68f5-41d4-b779-080a63ede546",
   "metadata": {},
   "source": [
    "### Reference\n",
    "\n",
    "* [Holoviz](https://holoviz.org/) \n",
    "* SHAP\n",
    "* "
   ]
  },
  {
   "cell_type": "code",
   "execution_count": null,
   "id": "35f52c6f-28a2-4caf-82c2-53848dbd3a59",
   "metadata": {},
   "outputs": [],
   "source": []
  }
 ],
 "metadata": {
  "kernelspec": {
   "display_name": "Python 3 (ipykernel)",
   "language": "python",
   "name": "python3"
  },
  "language_info": {
   "codemirror_mode": {
    "name": "ipython",
    "version": 3
   },
   "file_extension": ".py",
   "mimetype": "text/x-python",
   "name": "python",
   "nbconvert_exporter": "python",
   "pygments_lexer": "ipython3",
   "version": "3.8.13"
  }
 },
 "nbformat": 4,
 "nbformat_minor": 5
}
