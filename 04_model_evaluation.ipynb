{
 "cells": [
  {
   "cell_type": "markdown",
   "id": "79a8d9c7-2a11-42ec-ba7f-0bdc208484d8",
   "metadata": {},
   "source": [
    "# MLOps for RSEs - 4. Model Evaluation & Reuse\n",
    "\n",
    "In this third part of the tutorial, we'll look at some of the practices and tools that are used after the machine learning model is trained. These activities are generally about evaluating the performance of the model,  understanding the results it produces and sharing the outputs so the model and its predictions can be reused. The FAIR principles are hopefully well known to most RSEs, and their application to both code and data. In a machine learning-based project it is important to apply FAIR principle to machine learning model and other ML assets to promote reproducible research and general reuse of research assets.\n",
    "\n",
    "![Met Office Logo](https://www.metoffice.gov.uk/webfiles/1661941781161/images/icons/social-icons/default_card_315.jpg)"
   ]
  },
  {
   "cell_type": "markdown",
   "id": "195024ac-c02d-49f4-b238-5a9c9184c890",
   "metadata": {},
   "source": [
    "### Key Principles\n",
    "* *Reusability* - making trained models, model results, performance metrics and explainability metricseasily  available to other researchers\n",
    "* *Scalability* - Be able to produce and serve results at scale, either for large datasets and problems or for many users simulataneously.\n",
    "* *Interactvity* - Make research outputs available through an interactive interface for to faclitate exploration and use of results in an intuitive way that does not distract from thinking about the actual problem the researcher is interested in."
   ]
  },
  {
   "cell_type": "markdown",
   "id": "cd92781d-deb7-4747-a5b2-783b5c0c4bd9",
   "metadata": {},
   "source": [
    "### Key Tasks for RSEs\n",
    "* Setting up infrastrcuture to serve models and model results\n",
    "* Creating model evaluation and testing suites/workflows to evaluate model performance in a reproducible and comparable way\n",
    "* Supporting tools for interpretability and explainability (XAI)\n",
    "* Creating dashboard for ML outputs including\n",
    "  * predictions from inference\n",
    "  * performance metrics\n",
    "  * explainability metrics\n"
   ]
  },
  {
   "cell_type": "markdown",
   "id": "5414ee44-39c9-4025-8ab6-fdc67b53e365",
   "metadata": {},
   "source": [
    "### Key Terms\n",
    "* *inference* - producing predictions from the trained machine learning model\n",
    "* *Explainable AI (XAI)* - A machine learning pipeline where the predictions made by the algorithm can be explained and interpreted (what does this prediction mean in terms of the problem domain?).\n",
    "* *Explainability* - Part of XAI which enables some one to explain how a machine learning algorithm made a certain prediction, such as which inputs were important, which particular parts of a neural network or decision tree were activated etc.\n",
    "* *Interpretability* - Part of XAI which tell us what a particular prediction mean in the original problem domian and generally understanding the performance of the model in the research context.\n",
    "* *metrics* - values which characterise some aspect of the model and its results.\n"
   ]
  },
  {
   "cell_type": "markdown",
   "id": "5936aae0-817f-4ec7-9811-9ca4451bd8d9",
   "metadata": {},
   "source": [
    "### Key Tools\n",
    "* model storage/loading ([mlflow](https://mlflow.org/), [onnx](https://github.com/onnx))\n",
    "  * model registry ([ML Flow models](https://www.mlflow.org/docs/latest/models.html))\n",
    "* inference ([mlflow](https://mlflow.org/), [ray serve](https://docs.ray.io/en/latest/serve/index.html))\n",
    "* workflow mangers/engines ([ray](https://docs.ray.io/))\n",
    "* metrics ([scikit learn](https://scikit-learn.org/))\n",
    "* XAI ([scikit learn](https://scikit-learn.org/), [shap](https://shap.readthedocs.io/en/latest/index.html), [omni xai](https://github.com/salesforce/OmniXAI))\n",
    "* dashboards ([matplotlib](https://www.google.com/search?q=matplotlib&oq=matplotlib&aqs=chrome..69i57j0i131i433i512j69i59l2j0i131i433i512j69i65l3.2614j0j7&sourceid=chrome&ie=UTF-8), [holoviz](https://holoviz.org/))"
   ]
  },
  {
   "cell_type": "markdown",
   "id": "d606c3eb-ec9e-4f5d-a525-b1977e676769",
   "metadata": {},
   "source": [
    "### Running this notebook\n",
    "This notebook should run from a conda environment created with the [requirements_evaluation.yml file](requirements_evaluation.yml). See the [readme file](https://github.com/informatics-lab/ukrse_2022_mlops_walkthrough/blob/main/README.md) for info on how to set up a conda environment for using this notebook."
   ]
  },
  {
   "cell_type": "markdown",
   "id": "eaa4debb-ccfb-4c33-8a74-f9930192c522",
   "metadata": {},
   "source": [
    "## Loading trained models for inference\n",
    "\n",
    "Once you've trained a model, or more usually in a research several different models to explore different options for you model such as different model architectures, different input features or different training datasets, you then want to evaluate the performance of each model (using performance metrics) and also understand how it is making (using interpretability and explainability techniques).\n",
    "\n"
   ]
  },
  {
   "cell_type": "code",
   "execution_count": 1,
   "id": "4a5fc1e3-2937-491a-9c53-230dcfbe753d",
   "metadata": {},
   "outputs": [],
   "source": [
    "import datetime\n",
    "import os\n",
    "import pathlib\n",
    "import functools"
   ]
  },
  {
   "cell_type": "code",
   "execution_count": 2,
   "id": "4e691dd7-9422-41b2-935e-dc888e3aff64",
   "metadata": {},
   "outputs": [],
   "source": [
    "import intake"
   ]
  },
  {
   "cell_type": "code",
   "execution_count": 3,
   "id": "0c9e7336-876a-4d44-8d62-d7d800499e75",
   "metadata": {},
   "outputs": [],
   "source": [
    "import numpy\n",
    "import pandas"
   ]
  },
  {
   "cell_type": "code",
   "execution_count": 4,
   "id": "faa635de-60e3-44bc-bfd3-63cb8550820b",
   "metadata": {},
   "outputs": [],
   "source": [
    "import matplotlib\n",
    "import matplotlib.pyplot"
   ]
  },
  {
   "cell_type": "code",
   "execution_count": 5,
   "id": "b7df5af6-c6d2-4ecb-b794-b6fb99c74882",
   "metadata": {},
   "outputs": [],
   "source": [
    "import sklearn\n",
    "import sklearn.preprocessing\n",
    "import sklearn.metrics"
   ]
  },
  {
   "cell_type": "markdown",
   "id": "a2f4a772-f414-4a3e-9aec-457ef4a1a5d2",
   "metadata": {
    "tags": []
   },
   "source": [
    "## Get train and test data\n",
    "\n",
    "First we load the data, both input data to feed in to the model and target data with which to compare results to assess performance. We will agin load the data from the catalog we created in the data preparation phase."
   ]
  },
  {
   "cell_type": "code",
   "execution_count": 6,
   "id": "f41f2246-f7ab-46aa-aecd-9c4b44af688a",
   "metadata": {},
   "outputs": [
    {
     "name": "stdout",
     "output_type": "stream",
     "text": [
      "using default path\n"
     ]
    },
    {
     "data": {
      "text/plain": [
       "PosixPath('/Users/stephen.haddad/data/ukrse2022')"
      ]
     },
     "execution_count": 6,
     "metadata": {},
     "output_type": "execute_result"
    }
   ],
   "source": [
    "try:\n",
    "    rse_root_data_dir = pathlib.Path(os.environ['RSE22_ROOT_DATA_DIR'])\n",
    "    print('reading from environment variable')\n",
    "except KeyError as ke1:\n",
    "    rse_root_data_dir = pathlib.Path(os.environ['HOME'])  / 'data' / 'ukrse2022'\n",
    "    print('using default path')\n",
    "rse_root_data_dir"
   ]
  },
  {
   "cell_type": "code",
   "execution_count": 7,
   "id": "59bc54fe-d501-4579-8a06-0fdf3cc10144",
   "metadata": {},
   "outputs": [
    {
     "data": {
      "application/yaml": "rotors_catalog:\n  args:\n    path: /Users/stephen.haddad/data/ukrse2022/rotors_catalog.yml\n  description: ''\n  driver: intake.catalog.local.YAMLFileCatalog\n  metadata: {}\n",
      "text/plain": [
       "rotors_catalog:\n",
       "  args:\n",
       "    path: /Users/stephen.haddad/data/ukrse2022/rotors_catalog.yml\n",
       "  description: ''\n",
       "  driver: intake.catalog.local.YAMLFileCatalog\n",
       "  metadata: {}\n"
      ]
     },
     "metadata": {
      "application/json": {
       "root": "rotors_catalog"
      }
     },
     "output_type": "display_data"
    }
   ],
   "source": [
    "rotors_catalog = intake.open_catalog(rse_root_data_dir / 'rotors_catalog.yml')\n",
    "rotors_catalog "
   ]
  },
  {
   "cell_type": "code",
   "execution_count": 8,
   "id": "0e8e3df9-82ad-49bc-8835-e89589f42131",
   "metadata": {},
   "outputs": [],
   "source": [
    "rotors_df = rotors_catalog['rotors_preprocessed'].read()"
   ]
  },
  {
   "cell_type": "code",
   "execution_count": 9,
   "id": "3e7839fc-4c94-4df1-a54f-7e6790ed498a",
   "metadata": {},
   "outputs": [],
   "source": [
    "# one small bit of cleaning: ensuring the correct datetime type for our time feature\n",
    "rotors_df['time'] = pandas.to_datetime(rotors_df['time'])\n",
    "temp_feature_names = [f'air_temp_{i1}' for i1 in range(1,23)]\n",
    "humidity_feature_names = [f'sh_{i1}' for i1 in range(1,23)]\n",
    "wind_direction_feature_names = [f'winddir_{i1}' for i1 in range(1,23)]\n",
    "wind_speed_feature_names = [f'windspd_{i1}' for i1 in range(1,23)]\n",
    "u_wind_feature_names = [f'u_wind_{i1}' for i1 in range(1,23)]\n",
    "v_wind_feature_names = [f'v_wind_{i1}' for i1 in range(1,23)]\n",
    "target_feature_name = 'rotors_present'\n"
   ]
  },
  {
   "cell_type": "code",
   "execution_count": 10,
   "id": "81147a95-0fe3-4445-9f57-ed087a484ac7",
   "metadata": {},
   "outputs": [],
   "source": [
    "train_df = rotors_df[rotors_df['time'] < datetime.datetime(2020,1,1,0,0)]\n",
    "val_df = rotors_df[rotors_df['time'] > datetime.datetime(2020,1,1,0,0)]"
   ]
  },
  {
   "cell_type": "code",
   "execution_count": 11,
   "id": "f7e5dbdd-a489-467b-980f-6303cb8f7f2d",
   "metadata": {},
   "outputs": [],
   "source": [
    "input_feature_names = temp_feature_names + humidity_feature_names + u_wind_feature_names + v_wind_feature_names"
   ]
  },
  {
   "cell_type": "code",
   "execution_count": 12,
   "id": "5fb08596-5929-4740-be7d-68b04de0560c",
   "metadata": {},
   "outputs": [],
   "source": [
    "preproc_dict = {}\n",
    "for if1 in input_feature_names:\n",
    "    scaler1 = sklearn.preprocessing.StandardScaler()\n",
    "    scaler1.fit(train_df[[if1]])\n",
    "    preproc_dict[if1] = scaler1"
   ]
  },
  {
   "cell_type": "code",
   "execution_count": 13,
   "id": "27a5351c-7dc3-499b-9ab0-41d31ea901e8",
   "metadata": {},
   "outputs": [
    {
     "name": "stderr",
     "output_type": "stream",
     "text": [
      "/Users/stephen.haddad/opt/anaconda3/envs/ukrse2022_mlops_model_evaluation/lib/python3.8/site-packages/sklearn/utils/validation.py:63: DataConversionWarning: A column-vector y was passed when a 1d array was expected. Please change the shape of y to (n_samples, ), for example using ravel().\n",
      "  return f(*args, **kwargs)\n"
     ]
    },
    {
     "data": {
      "text/plain": [
       "LabelEncoder()"
      ]
     },
     "execution_count": 13,
     "metadata": {},
     "output_type": "execute_result"
    }
   ],
   "source": [
    "target_encoder = sklearn.preprocessing.LabelEncoder()\n",
    "target_encoder.fit(train_df[[target_feature_name]])\n"
   ]
  },
  {
   "cell_type": "code",
   "execution_count": 14,
   "id": "0955993b-0abe-452b-8614-164e84bde621",
   "metadata": {},
   "outputs": [],
   "source": [
    "def preproc_input(data_subset, pp_dict):\n",
    "    return numpy.concatenate([scaler1.transform(data_subset[[if1]]) for if1,scaler1 in pp_dict.items()],axis=1)\n",
    "\n",
    "def preproc_target(data_subset, enc1):\n",
    "     return enc1.transform(data_subset[[target_feature_name]])"
   ]
  },
  {
   "cell_type": "code",
   "execution_count": 15,
   "id": "f3a92a60-19a1-4308-8129-e425e5fd2219",
   "metadata": {},
   "outputs": [
    {
     "name": "stderr",
     "output_type": "stream",
     "text": [
      "/Users/stephen.haddad/opt/anaconda3/envs/ukrse2022_mlops_model_evaluation/lib/python3.8/site-packages/sklearn/utils/validation.py:63: DataConversionWarning: A column-vector y was passed when a 1d array was expected. Please change the shape of y to (n_samples, ), for example using ravel().\n",
      "  return f(*args, **kwargs)\n"
     ]
    }
   ],
   "source": [
    "X_train = preproc_input(train_df, preproc_dict)\n",
    "y_train = numpy.concatenate(\n",
    "    [preproc_target(train_df, target_encoder).reshape((-1,1)),\n",
    "    1.0 - (preproc_target(train_df, target_encoder).reshape((-1,1))),],\n",
    "    axis=1\n",
    ")"
   ]
  },
  {
   "cell_type": "code",
   "execution_count": 16,
   "id": "b8dd5a37-677b-4111-811d-568ef327f6c3",
   "metadata": {},
   "outputs": [
    {
     "name": "stderr",
     "output_type": "stream",
     "text": [
      "/Users/stephen.haddad/opt/anaconda3/envs/ukrse2022_mlops_model_evaluation/lib/python3.8/site-packages/sklearn/utils/validation.py:63: DataConversionWarning: A column-vector y was passed when a 1d array was expected. Please change the shape of y to (n_samples, ), for example using ravel().\n",
      "  return f(*args, **kwargs)\n"
     ]
    }
   ],
   "source": [
    "X_val = preproc_input(val_df, preproc_dict)\n",
    "y_val = numpy.concatenate(\n",
    "    [preproc_target(val_df, target_encoder).reshape((-1,1)),\n",
    "    1.0 - (preproc_target(val_df, target_encoder).reshape((-1,1))),],\n",
    "    axis=1\n",
    ")"
   ]
  },
  {
   "cell_type": "markdown",
   "id": "00f2f674-99be-48ec-a61e-5fb604dc6444",
   "metadata": {},
   "source": [
    "### Load in trained model\n",
    "We will now get a model from our most recent run, which will use to do inference and calculate metrics. In this example we are using the ML Flow Models module to load in the model which was saved as part of our training run. Saving and loading models through ML Flow models provides a consistent interface for interacting with ML models even if the you change the underlying framework used to train the model. In this notebook we will explore different ways of selecting and loading models, including:\n",
    "* getting a model from a specific run of a specific experiment\n",
    "* getting the latest run from a specific experiment\n",
    "* searching for the best model from a specific experiment based on a specified metric\n",
    "* getting a model by name from the model registry\n",
    "\n",
    "\n",
    "(You will need to have the ML Flow server we set uop and started in notebook 3 Model Development to run this code.)"
   ]
  },
  {
   "cell_type": "markdown",
   "id": "7ec5634e-423f-4098-972b-9d22af0b0d3b",
   "metadata": {},
   "source": [
    "First set up our access to the ML Flow server."
   ]
  },
  {
   "cell_type": "code",
   "execution_count": 17,
   "id": "135f46c4-e8b2-4d59-b3bb-147e785fb78c",
   "metadata": {},
   "outputs": [],
   "source": [
    "import mlflow\n",
    "import mlflow.models"
   ]
  },
  {
   "cell_type": "code",
   "execution_count": 18,
   "id": "bcdee2a1-0ca0-4ff8-9171-2ca40c65c0a6",
   "metadata": {},
   "outputs": [
    {
     "data": {
      "text/plain": [
       "'http://127.0.0.1:5001'"
      ]
     },
     "execution_count": 18,
     "metadata": {},
     "output_type": "execute_result"
    }
   ],
   "source": [
    "mlflow_server_address = '127.0.0.1'\n",
    "mlflow_server_port = 5001\n",
    "mlflow_server_uri = f'http://{mlflow_server_address}:{mlflow_server_port:d}'\n",
    "mlflow_server_uri    "
   ]
  },
  {
   "cell_type": "code",
   "execution_count": 19,
   "id": "52a4f424-998e-439e-88eb-6740238f4fae",
   "metadata": {},
   "outputs": [],
   "source": [
    "mlflow.set_tracking_uri(mlflow_server_uri)"
   ]
  },
  {
   "cell_type": "markdown",
   "id": "b3f17eed-40c7-4de2-9990-3bf1240bce15",
   "metadata": {},
   "source": [
    "### get the latest "
   ]
  },
  {
   "cell_type": "code",
   "execution_count": 20,
   "id": "e2b5fa98-4f92-4df7-97d0-1736d5c953fd",
   "metadata": {},
   "outputs": [],
   "source": [
    "rse_rotors_experiment_name = 'rse_mlops_demo_rotors'"
   ]
  },
  {
   "cell_type": "code",
   "execution_count": 22,
   "id": "92e35c21-6209-429a-816b-c7c47dc39417",
   "metadata": {},
   "outputs": [
    {
     "data": {
      "text/plain": [
       "<Experiment: artifact_location='/Users/stephen.haddad/data/ukrse2022/artifacts/1', experiment_id='1', lifecycle_stage='active', name='rse_mlops_demo_rotors', tags={}>"
      ]
     },
     "execution_count": 22,
     "metadata": {},
     "output_type": "execute_result"
    }
   ],
   "source": [
    "rse_rotors_experiment = mlflow.get_experiment_by_name(rse_rotors_experiment_name)\n",
    "rse_rotors_experiment"
   ]
  },
  {
   "cell_type": "code",
   "execution_count": 23,
   "id": "b2240f6f-1ff4-40ff-a891-9b04842e9d98",
   "metadata": {},
   "outputs": [
    {
     "data": {
      "text/plain": [
       "('06cf7ce7ff1749b381f0e0631ecc0409',\n",
       " datetime.datetime(2022, 9, 2, 11, 53, 53, 704000))"
      ]
     },
     "execution_count": 23,
     "metadata": {},
     "output_type": "execute_result"
    }
   ],
   "source": [
    "latest_run_info  = sorted(mlflow.list_run_infos(rse_rotors_experiment.experiment_id), key=lambda run1: run1.end_time)[-1]\n",
    "latest_run_info.run_id, datetime.datetime.fromtimestamp(latest_run_info.end_time / 1000)"
   ]
  },
  {
   "cell_type": "code",
   "execution_count": 24,
   "id": "9251ccf7-0990-4bc4-905f-843e7dfde870",
   "metadata": {},
   "outputs": [
    {
     "name": "stderr",
     "output_type": "stream",
     "text": [
      "2022-09-06 16:01:57.642754: I tensorflow/core/platform/cpu_feature_guard.cc:151] This TensorFlow binary is optimized with oneAPI Deep Neural Network Library (oneDNN) to use the following CPU instructions in performance-critical operations:  SSE4.1 SSE4.2 AVX AVX2 AVX512F FMA\n",
      "To enable them in other operations, rebuild TensorFlow with the appropriate compiler flags.\n"
     ]
    },
    {
     "data": {
      "text/plain": [
       "<keras.engine.sequential.Sequential at 0x7fb272d320a0>"
      ]
     },
     "execution_count": 24,
     "metadata": {},
     "output_type": "execute_result"
    }
   ],
   "source": [
    "rse_rotors_model = mlflow.keras.load_model(latest_run_info.artifact_uri + '/model')\n",
    "rse_rotors_model"
   ]
  },
  {
   "cell_type": "code",
   "execution_count": 25,
   "id": "3b7c5050-a8af-4f28-849e-ce9a94437c45",
   "metadata": {},
   "outputs": [
    {
     "data": {
      "text/plain": [
       "array([[1.3463573e-05, 9.9998653e-01],\n",
       "       [2.3170852e-04, 9.9976832e-01],\n",
       "       [7.0496806e-04, 9.9929500e-01],\n",
       "       ...,\n",
       "       [1.7812070e-08, 1.0000000e+00],\n",
       "       [2.0583124e-05, 9.9997938e-01],\n",
       "       [6.4237947e-03, 9.9357623e-01]], dtype=float32)"
      ]
     },
     "execution_count": 25,
     "metadata": {},
     "output_type": "execute_result"
    }
   ],
   "source": [
    "rse_rotors_model.predict(X_val)"
   ]
  },
  {
   "cell_type": "markdown",
   "id": "e223ddb7-db5a-4cf5-bff2-37f95bca856f",
   "metadata": {},
   "source": [
    "Alternatively we can access the model through the URI specififed as `runs:/{run_id}` as described in the [ML Flow concepts page](https://www.mlflow.org/docs/latest/concepts.html)"
   ]
  },
  {
   "cell_type": "code",
   "execution_count": 26,
   "id": "9c8dcdbe-6271-4ef4-9b3b-13e15056ebff",
   "metadata": {},
   "outputs": [
    {
     "data": {
      "text/plain": [
       "'runs:/06cf7ce7ff1749b381f0e0631ecc0409/model'"
      ]
     },
     "execution_count": 26,
     "metadata": {},
     "output_type": "execute_result"
    }
   ],
   "source": [
    "latest_run_saved_model_uri = f'runs:/{latest_run_info.run_id}/model'\n",
    "latest_run_saved_model_uri"
   ]
  },
  {
   "cell_type": "code",
   "execution_count": 27,
   "id": "0ddbe4bc-37ad-4767-868a-802665459cf6",
   "metadata": {},
   "outputs": [
    {
     "data": {
      "text/plain": [
       "array([[1.3463573e-05, 9.9998653e-01],\n",
       "       [2.3170852e-04, 9.9976832e-01],\n",
       "       [7.0496806e-04, 9.9929500e-01],\n",
       "       ...,\n",
       "       [1.7812070e-08, 1.0000000e+00],\n",
       "       [2.0583124e-05, 9.9997938e-01],\n",
       "       [6.4237947e-03, 9.9357623e-01]], dtype=float32)"
      ]
     },
     "execution_count": 27,
     "metadata": {},
     "output_type": "execute_result"
    }
   ],
   "source": [
    "mlflow.keras.load_model(latest_run_saved_model_uri).predict(X_val)"
   ]
  },
  {
   "cell_type": "markdown",
   "id": "4469940f-8b11-4693-9797-c74c72d7a4f2",
   "metadata": {},
   "source": [
    "### Using the MLFlow model wrapping interface\n",
    "\n",
    "You can use the ML Flow models module to be able to use models from different frameworks interchangeably for inference purposes."
   ]
  },
  {
   "cell_type": "code",
   "execution_count": 28,
   "id": "f7958c23-2389-4c16-8151-f7533bd1db57",
   "metadata": {},
   "outputs": [],
   "source": [
    "logged_model = 'runs:/c5becc89c46e4cfd82441cc37ab6afbf/model'\n",
    "\n"
   ]
  },
  {
   "cell_type": "code",
   "execution_count": 29,
   "id": "1554f5d2-2926-49e3-9cbb-fcf6e5bf74e4",
   "metadata": {},
   "outputs": [
    {
     "name": "stderr",
     "output_type": "stream",
     "text": [
      "/Users/stephen.haddad/opt/anaconda3/envs/ukrse2022_mlops_model_evaluation/lib/python3.8/site-packages/keras/backend.py:450: UserWarning: `tf.keras.backend.set_learning_phase` is deprecated and will be removed after 2020-10-11. To update it, simply pass a True/False value to the `training` argument of the `__call__` method of your layer or model.\n",
      "  warnings.warn('`tf.keras.backend.set_learning_phase` is deprecated and '\n"
     ]
    },
    {
     "data": {
      "text/plain": [
       "mlflow.pyfunc.loaded_model:\n",
       "  artifact_path: model\n",
       "  flavor: mlflow.keras\n",
       "  run_id: c5becc89c46e4cfd82441cc37ab6afbf"
      ]
     },
     "execution_count": 29,
     "metadata": {},
     "output_type": "execute_result"
    }
   ],
   "source": [
    "loaded_model = mlflow.pyfunc.load_model(logged_model)\n",
    "loaded_model"
   ]
  },
  {
   "cell_type": "code",
   "execution_count": 30,
   "id": "430e86f8-77e9-475a-a068-e31d107fcf2b",
   "metadata": {},
   "outputs": [
    {
     "data": {
      "text/plain": [
       "2900"
      ]
     },
     "execution_count": 30,
     "metadata": {},
     "output_type": "execute_result"
    }
   ],
   "source": [
    "sum(loaded_model.predict(X_val).argmax(axis=1) == 1)\n"
   ]
  },
  {
   "cell_type": "code",
   "execution_count": 31,
   "id": "5e4842a3-2849-43a2-8190-0c2be61dd867",
   "metadata": {},
   "outputs": [
    {
     "data": {
      "text/plain": [
       "array([[8.2105380e-06, 9.9999177e-01],\n",
       "       [1.0245468e-04, 9.9989748e-01],\n",
       "       [3.7846921e-04, 9.9962151e-01],\n",
       "       ...,\n",
       "       [4.4974138e-10, 1.0000000e+00],\n",
       "       [4.1534731e-06, 9.9999583e-01],\n",
       "       [3.7166660e-03, 9.9628335e-01]], dtype=float32)"
      ]
     },
     "execution_count": 31,
     "metadata": {},
     "output_type": "execute_result"
    }
   ],
   "source": [
    "loaded_model.predict(X_val)"
   ]
  },
  {
   "cell_type": "code",
   "execution_count": 32,
   "id": "b0d469a2-2872-4b5e-abc4-fcdee0adfd13",
   "metadata": {},
   "outputs": [
    {
     "data": {
      "text/plain": [
       "(129.0, 2784.0, (2913, 2))"
      ]
     },
     "execution_count": 32,
     "metadata": {},
     "output_type": "execute_result"
    }
   ],
   "source": [
    "sum(y_val[:,0]), sum(y_val[:,1]), y_val.shape"
   ]
  },
  {
   "cell_type": "markdown",
   "id": "8d90c865-84d7-462b-b990-bb8be0375449",
   "metadata": {},
   "source": [
    "### Working with the ML Flow Client object and ML Flow UI\n",
    "\n",
    "The `MlflowClient` class gives us more general and low level access to the artifacts stored by the ML Flow server. Here we will use it to access a particular regiostered model and also to serch for the best model from all the runs in an experiment. A registered model is one from a particular run that we have decided to be of some significance. Usually at some point in a project you might decide that a particular model is best for some reason (usually perfrmance according to the chosen metric for the project). A model registry is a bit like for model what a catalogue is for data. One could image a research group maintaining a collective model registry to go with its colective data catalogue for commly used datasets and code rpository for common code.,\n"
   ]
  },
  {
   "cell_type": "code",
   "execution_count": 33,
   "id": "8caa9cb1-e916-49c1-8f43-64b8d266d9d4",
   "metadata": {},
   "outputs": [
    {
     "data": {
      "text/plain": [
       "<mlflow.tracking.client.MlflowClient at 0x7fb276261a00>"
      ]
     },
     "execution_count": 33,
     "metadata": {},
     "output_type": "execute_result"
    }
   ],
   "source": [
    "mlflow_client = mlflow.tracking.MlflowClient(tracking_uri=mlflow_server_uri)\n",
    "mlflow_client"
   ]
  },
  {
   "cell_type": "code",
   "execution_count": 34,
   "id": "6efa7e6a-5044-4dd4-8eec-a98ecce57b8b",
   "metadata": {},
   "outputs": [
    {
     "data": {
      "text/plain": [
       "[('rse_rotors_20220819', '1')]"
      ]
     },
     "execution_count": 34,
     "metadata": {},
     "output_type": "execute_result"
    }
   ],
   "source": [
    "[(m1.name, m1.version) for m1 in mlflow_client.list_registered_models()[0].latest_versions]"
   ]
  },
  {
   "cell_type": "code",
   "execution_count": 35,
   "id": "3d1f8313-b1e3-4bd5-9c9b-21f1003f5f61",
   "metadata": {},
   "outputs": [
    {
     "data": {
      "text/plain": [
       "'/Users/stephen.haddad/data/ukrse2022/artifacts/1/06cf7ce7ff1749b381f0e0631ecc0409/artifacts'"
      ]
     },
     "execution_count": 35,
     "metadata": {},
     "output_type": "execute_result"
    }
   ],
   "source": [
    "latest_run_info.artifact_uri"
   ]
  },
  {
   "cell_type": "code",
   "execution_count": 36,
   "id": "274fd33e-646e-47e4-842e-d50deb5b606c",
   "metadata": {},
   "outputs": [
    {
     "data": {
      "text/plain": [
       "<Run: data=<RunData: metrics={'loss': 0.017367182299494743,\n",
       " 'root_mean_squared_error': 0.1317846029996872,\n",
       " 'val_loss': 0.03681731969118118,\n",
       " 'val_root_mean_squared_error': 0.19187839329242706}, params={'batch_size': '1000',\n",
       " 'class_weight': 'None',\n",
       " 'epochs': '100',\n",
       " 'initial_epoch': '0',\n",
       " 'max_queue_size': '10',\n",
       " 'opt_amsgrad': 'False',\n",
       " 'opt_beta_1': '0.9',\n",
       " 'opt_beta_2': '0.999',\n",
       " 'opt_decay': '0.0',\n",
       " 'opt_epsilon': '1e-07',\n",
       " 'opt_learning_rate': '0.0001',\n",
       " 'opt_name': 'Adam',\n",
       " 'sample_weight': 'None',\n",
       " 'shuffle': 'True',\n",
       " 'steps_per_epoch': 'None',\n",
       " 'use_multiprocessing': 'False',\n",
       " 'validation_batch_size': 'None',\n",
       " 'validation_freq': '1',\n",
       " 'validation_split': '0.0',\n",
       " 'validation_steps': 'None',\n",
       " 'workers': '1'}, tags={'mlflow.log-model.history': '[{\"run_id\": \"06cf7ce7ff1749b381f0e0631ecc0409\", '\n",
       "                             '\"artifact_path\": \"model\", \"utc_time_created\": '\n",
       "                             '\"2022-09-02 10:53:47.899703\", \"flavors\": '\n",
       "                             '{\"keras\": {\"keras_module\": \"tensorflow.keras\", '\n",
       "                             '\"keras_version\": \"2.8.0\", \"save_format\": \"tf\", '\n",
       "                             '\"data\": \"data\"}, \"python_function\": '\n",
       "                             '{\"loader_module\": \"mlflow.keras\", '\n",
       "                             '\"python_version\": \"3.8.13\", \"data\": \"data\", '\n",
       "                             '\"env\": \"conda.yaml\"}}}]',\n",
       " 'mlflow.runName': 'rse_rotors_ffnn_20220902T115049',\n",
       " 'mlflow.source.name': '/Users/stephen.haddad/opt/anaconda3/envs/ukrse2022_mlops_model_dev/lib/python3.8/site-packages/ipykernel_launcher.py',\n",
       " 'mlflow.source.type': 'LOCAL',\n",
       " 'mlflow.user': 'stephen.haddad'}>, info=<RunInfo: artifact_uri='/Users/stephen.haddad/data/ukrse2022/artifacts/1/06cf7ce7ff1749b381f0e0631ecc0409/artifacts', end_time=1662116033704, experiment_id='1', lifecycle_stage='active', run_id='06cf7ce7ff1749b381f0e0631ecc0409', run_uuid='06cf7ce7ff1749b381f0e0631ecc0409', start_time=1662115849976, status='FINISHED', user_id='stephen.haddad'>>"
      ]
     },
     "execution_count": 36,
     "metadata": {},
     "output_type": "execute_result"
    }
   ],
   "source": [
    "mlflow.tracking.MlflowClient().get_run(latest_run_info.run_id)"
   ]
  },
  {
   "cell_type": "markdown",
   "id": "db707db7-b86d-400a-98e3-1f6d3dd299c9",
   "metadata": {},
   "source": [
    "### Searching for the best model\n",
    "\n",
    "Once you've done various training runs, perhaps varying the architecture, hyperparameters, input data or just using different random initialisations, you will have multiple runs in your experient (and also possiblly multiple experiments). You may then want to retrieve the model that is the best or highest scoring according some metric of interest, which you may do multiple times for different metrics of interest.\n",
    "\n",
    "\n"
   ]
  },
  {
   "cell_type": "code",
   "execution_count": 37,
   "id": "cef79acb-b157-4356-8305-02f6228e8ae3",
   "metadata": {},
   "outputs": [
    {
     "data": {
      "text/plain": [
       "[<Experiment: artifact_location='/Users/stephen.haddad/data/ukrse2022/artifacts/0', experiment_id='0', lifecycle_stage='active', name='Default', tags={}>,\n",
       " <Experiment: artifact_location='/Users/stephen.haddad/data/ukrse2022/artifacts/1', experiment_id='1', lifecycle_stage='active', name='rse_mlops_demo_rotors', tags={}>]"
      ]
     },
     "execution_count": 37,
     "metadata": {},
     "output_type": "execute_result"
    }
   ],
   "source": [
    "mlflow_client.list_experiments()"
   ]
  },
  {
   "cell_type": "code",
   "execution_count": 38,
   "id": "b3942aaa-da2c-4820-a146-209009327cec",
   "metadata": {},
   "outputs": [
    {
     "data": {
      "text/plain": [
       "'1'"
      ]
     },
     "execution_count": 38,
     "metadata": {},
     "output_type": "execute_result"
    }
   ],
   "source": [
    "mlflow_client.list_experiments()[-1].experiment_id"
   ]
  },
  {
   "cell_type": "code",
   "execution_count": 39,
   "id": "5929f131-ec6b-4983-bb1f-e05be3358ecd",
   "metadata": {},
   "outputs": [
    {
     "data": {
      "text/plain": [
       "[<Run: data=<RunData: metrics={'loss': 0.017426099628210068,\n",
       "  'root_mean_squared_error': 0.13200795650482178,\n",
       "  'val_loss': 0.03645496442914009,\n",
       "  'val_root_mean_squared_error': 0.19093182682991028}, params={'batch_size': '1000',\n",
       "  'class_weight': 'None',\n",
       "  'epochs': '100',\n",
       "  'initial_epoch': '0',\n",
       "  'max_queue_size': '10',\n",
       "  'opt_amsgrad': 'False',\n",
       "  'opt_beta_1': '0.9',\n",
       "  'opt_beta_2': '0.999',\n",
       "  'opt_decay': '0.0',\n",
       "  'opt_epsilon': '1e-07',\n",
       "  'opt_learning_rate': '0.0001',\n",
       "  'opt_name': 'Adam',\n",
       "  'sample_weight': 'None',\n",
       "  'shuffle': 'True',\n",
       "  'steps_per_epoch': 'None',\n",
       "  'use_multiprocessing': 'False',\n",
       "  'validation_batch_size': 'None',\n",
       "  'validation_freq': '1',\n",
       "  'validation_split': '0.0',\n",
       "  'validation_steps': 'None',\n",
       "  'workers': '1'}, tags={'mlflow.log-model.history': '[{\"run_id\": \"a04ebeaa5ffe4daca91d49ddce7e11ea\", '\n",
       "                              '\"artifact_path\": \"model\", \"utc_time_created\": '\n",
       "                              '\"2022-09-01 16:22:30.271352\", \"flavors\": '\n",
       "                              '{\"keras\": {\"keras_module\": \"tensorflow.keras\", '\n",
       "                              '\"keras_version\": \"2.8.0\", \"save_format\": \"tf\", '\n",
       "                              '\"data\": \"data\"}, \"python_function\": '\n",
       "                              '{\"loader_module\": \"mlflow.keras\", '\n",
       "                              '\"python_version\": \"3.8.13\", \"data\": \"data\", '\n",
       "                              '\"env\": \"conda.yaml\"}}}]',\n",
       "  'mlflow.runName': 'rse_rotors_ffnn_20220901T171931',\n",
       "  'mlflow.source.name': '/Users/stephen.haddad/opt/anaconda3/envs/ukrse2022_mlops_model_evaluation/lib/python3.8/site-packages/ipykernel_launcher.py',\n",
       "  'mlflow.source.type': 'LOCAL',\n",
       "  'mlflow.user': 'stephen.haddad'}>, info=<RunInfo: artifact_uri='/Users/stephen.haddad/data/ukrse2022/artifacts/1/a04ebeaa5ffe4daca91d49ddce7e11ea/artifacts', end_time=1662049356011, experiment_id='1', lifecycle_stage='active', run_id='a04ebeaa5ffe4daca91d49ddce7e11ea', run_uuid='a04ebeaa5ffe4daca91d49ddce7e11ea', start_time=1662049172037, status='FINISHED', user_id='stephen.haddad'>>,\n",
       " <Run: data=<RunData: metrics={'loss': 0.01752152293920517,\n",
       "  'root_mean_squared_error': 0.13236889243125916,\n",
       "  'val_loss': 0.03679447993636131,\n",
       "  'val_root_mean_squared_error': 0.19181886315345764}, params={'batch_size': '1000',\n",
       "  'class_weight': 'None',\n",
       "  'epochs': '100',\n",
       "  'initial_epoch': '0',\n",
       "  'max_queue_size': '10',\n",
       "  'opt_amsgrad': 'False',\n",
       "  'opt_beta_1': '0.9',\n",
       "  'opt_beta_2': '0.999',\n",
       "  'opt_decay': '0.0',\n",
       "  'opt_epsilon': '1e-07',\n",
       "  'opt_learning_rate': '0.0001',\n",
       "  'opt_name': 'Adam',\n",
       "  'sample_weight': 'None',\n",
       "  'shuffle': 'True',\n",
       "  'steps_per_epoch': 'None',\n",
       "  'use_multiprocessing': 'False',\n",
       "  'validation_batch_size': 'None',\n",
       "  'validation_freq': '1',\n",
       "  'validation_split': '0.0',\n",
       "  'validation_steps': 'None',\n",
       "  'workers': '1'}, tags={'mlflow.log-model.history': '[{\"run_id\": \"ecf7514262e949c29fa6f89af8c958dd\", '\n",
       "                              '\"artifact_path\": \"model\", \"utc_time_created\": '\n",
       "                              '\"2022-08-12 13:13:24.495750\", \"flavors\": '\n",
       "                              '{\"keras\": {\"keras_module\": \"tensorflow.keras\", '\n",
       "                              '\"keras_version\": \"2.8.0\", \"save_format\": \"tf\", '\n",
       "                              '\"data\": \"data\"}, \"python_function\": '\n",
       "                              '{\"loader_module\": \"mlflow.keras\", '\n",
       "                              '\"python_version\": \"3.8.13\", \"data\": \"data\", '\n",
       "                              '\"env\": \"conda.yaml\"}}}]',\n",
       "  'mlflow.runName': 'rse_rotors_ffnn_20220812T140947',\n",
       "  'mlflow.source.name': '/Users/stephen.haddad/opt/anaconda3/envs/ukrse2022_mlops_model_dev/lib/python3.8/site-packages/ipykernel_launcher.py',\n",
       "  'mlflow.source.type': 'LOCAL',\n",
       "  'mlflow.user': 'stephen.haddad'}>, info=<RunInfo: artifact_uri='/Users/stephen.haddad/data/ukrse2022/artifacts/1/ecf7514262e949c29fa6f89af8c958dd/artifacts', end_time=1660310015122, experiment_id='1', lifecycle_stage='active', run_id='ecf7514262e949c29fa6f89af8c958dd', run_uuid='ecf7514262e949c29fa6f89af8c958dd', start_time=1660309787485, status='FINISHED', user_id='stephen.haddad'>>,\n",
       " <Run: data=<RunData: metrics={'loss': 0.017367182299494743,\n",
       "  'root_mean_squared_error': 0.1317846029996872,\n",
       "  'val_loss': 0.03681731969118118,\n",
       "  'val_root_mean_squared_error': 0.19187839329242706}, params={'batch_size': '1000',\n",
       "  'class_weight': 'None',\n",
       "  'epochs': '100',\n",
       "  'initial_epoch': '0',\n",
       "  'max_queue_size': '10',\n",
       "  'opt_amsgrad': 'False',\n",
       "  'opt_beta_1': '0.9',\n",
       "  'opt_beta_2': '0.999',\n",
       "  'opt_decay': '0.0',\n",
       "  'opt_epsilon': '1e-07',\n",
       "  'opt_learning_rate': '0.0001',\n",
       "  'opt_name': 'Adam',\n",
       "  'sample_weight': 'None',\n",
       "  'shuffle': 'True',\n",
       "  'steps_per_epoch': 'None',\n",
       "  'use_multiprocessing': 'False',\n",
       "  'validation_batch_size': 'None',\n",
       "  'validation_freq': '1',\n",
       "  'validation_split': '0.0',\n",
       "  'validation_steps': 'None',\n",
       "  'workers': '1'}, tags={'mlflow.log-model.history': '[{\"run_id\": \"06cf7ce7ff1749b381f0e0631ecc0409\", '\n",
       "                              '\"artifact_path\": \"model\", \"utc_time_created\": '\n",
       "                              '\"2022-09-02 10:53:47.899703\", \"flavors\": '\n",
       "                              '{\"keras\": {\"keras_module\": \"tensorflow.keras\", '\n",
       "                              '\"keras_version\": \"2.8.0\", \"save_format\": \"tf\", '\n",
       "                              '\"data\": \"data\"}, \"python_function\": '\n",
       "                              '{\"loader_module\": \"mlflow.keras\", '\n",
       "                              '\"python_version\": \"3.8.13\", \"data\": \"data\", '\n",
       "                              '\"env\": \"conda.yaml\"}}}]',\n",
       "  'mlflow.runName': 'rse_rotors_ffnn_20220902T115049',\n",
       "  'mlflow.source.name': '/Users/stephen.haddad/opt/anaconda3/envs/ukrse2022_mlops_model_dev/lib/python3.8/site-packages/ipykernel_launcher.py',\n",
       "  'mlflow.source.type': 'LOCAL',\n",
       "  'mlflow.user': 'stephen.haddad'}>, info=<RunInfo: artifact_uri='/Users/stephen.haddad/data/ukrse2022/artifacts/1/06cf7ce7ff1749b381f0e0631ecc0409/artifacts', end_time=1662116033704, experiment_id='1', lifecycle_stage='active', run_id='06cf7ce7ff1749b381f0e0631ecc0409', run_uuid='06cf7ce7ff1749b381f0e0631ecc0409', start_time=1662115849976, status='FINISHED', user_id='stephen.haddad'>>,\n",
       " <Run: data=<RunData: metrics={'loss': 0.017078328877687454,\n",
       "  'root_mean_squared_error': 0.13068407773971558,\n",
       "  'val_loss': 0.0368516705930233,\n",
       "  'val_root_mean_squared_error': 0.1919678896665573}, params={'batch_size': '1000',\n",
       "  'class_weight': 'None',\n",
       "  'epochs': '100',\n",
       "  'initial_epoch': '0',\n",
       "  'max_queue_size': '10',\n",
       "  'opt_amsgrad': 'False',\n",
       "  'opt_beta_1': '0.9',\n",
       "  'opt_beta_2': '0.999',\n",
       "  'opt_decay': '0.0',\n",
       "  'opt_epsilon': '1e-07',\n",
       "  'opt_learning_rate': '0.0001',\n",
       "  'opt_name': 'Adam',\n",
       "  'sample_weight': 'None',\n",
       "  'shuffle': 'True',\n",
       "  'steps_per_epoch': 'None',\n",
       "  'use_multiprocessing': 'False',\n",
       "  'validation_batch_size': 'None',\n",
       "  'validation_freq': '1',\n",
       "  'validation_split': '0.0',\n",
       "  'validation_steps': 'None',\n",
       "  'workers': '1'}, tags={'mlflow.log-model.history': '[{\"run_id\": \"1c8bb82664f74c9d8587c4439c4a7fd4\", '\n",
       "                              '\"artifact_path\": \"model\", \"utc_time_created\": '\n",
       "                              '\"2022-09-02 08:05:28.015135\", \"flavors\": '\n",
       "                              '{\"keras\": {\"keras_module\": \"tensorflow.keras\", '\n",
       "                              '\"keras_version\": \"2.8.0\", \"save_format\": \"tf\", '\n",
       "                              '\"data\": \"data\"}, \"python_function\": '\n",
       "                              '{\"loader_module\": \"mlflow.keras\", '\n",
       "                              '\"python_version\": \"3.8.13\", \"data\": \"data\", '\n",
       "                              '\"env\": \"conda.yaml\"}}}]',\n",
       "  'mlflow.runName': 'rse_rotors_ffnn_20220901T183200',\n",
       "  'mlflow.source.name': '/Users/stephen.haddad/opt/anaconda3/envs/ukrse2022_mlops_model_dev/lib/python3.8/site-packages/ipykernel_launcher.py',\n",
       "  'mlflow.source.type': 'LOCAL',\n",
       "  'mlflow.user': 'stephen.haddad'}>, info=<RunInfo: artifact_uri='/Users/stephen.haddad/data/ukrse2022/artifacts/1/1c8bb82664f74c9d8587c4439c4a7fd4/artifacts', end_time=1662105943209, experiment_id='1', lifecycle_stage='active', run_id='1c8bb82664f74c9d8587c4439c4a7fd4', run_uuid='1c8bb82664f74c9d8587c4439c4a7fd4', start_time=1662053520352, status='FINISHED', user_id='stephen.haddad'>>,\n",
       " <Run: data=<RunData: metrics={'loss': 0.017498191446065903,\n",
       "  'root_mean_squared_error': 0.13228072226047516,\n",
       "  'val_loss': 0.03716700151562691,\n",
       "  'val_root_mean_squared_error': 0.19278743863105774}, params={'batch_size': '1000',\n",
       "  'class_weight': 'None',\n",
       "  'epochs': '100',\n",
       "  'initial_epoch': '0',\n",
       "  'max_queue_size': '10',\n",
       "  'opt_amsgrad': 'False',\n",
       "  'opt_beta_1': '0.9',\n",
       "  'opt_beta_2': '0.999',\n",
       "  'opt_decay': '0.0',\n",
       "  'opt_epsilon': '1e-07',\n",
       "  'opt_learning_rate': '0.0001',\n",
       "  'opt_name': 'Adam',\n",
       "  'sample_weight': 'None',\n",
       "  'shuffle': 'True',\n",
       "  'steps_per_epoch': 'None',\n",
       "  'use_multiprocessing': 'False',\n",
       "  'validation_batch_size': 'None',\n",
       "  'validation_freq': '1',\n",
       "  'validation_split': '0.0',\n",
       "  'validation_steps': 'None',\n",
       "  'workers': '1'}, tags={'mlflow.log-model.history': '[{\"run_id\": \"c5becc89c46e4cfd82441cc37ab6afbf\", '\n",
       "                              '\"artifact_path\": \"model\", \"utc_time_created\": '\n",
       "                              '\"2022-08-17 18:12:24.662820\", \"flavors\": '\n",
       "                              '{\"keras\": {\"keras_module\": \"tensorflow.keras\", '\n",
       "                              '\"keras_version\": \"2.8.0\", \"save_format\": \"tf\", '\n",
       "                              '\"data\": \"data\"}, \"python_function\": '\n",
       "                              '{\"loader_module\": \"mlflow.keras\", '\n",
       "                              '\"python_version\": \"3.8.13\", \"data\": \"data\", '\n",
       "                              '\"env\": \"conda.yaml\"}}}]',\n",
       "  'mlflow.runName': 'rse_rotors_ffnn_20220817T190851',\n",
       "  'mlflow.source.name': '/Users/stephen.haddad/opt/anaconda3/envs/ukrse2022_mlops_model_dev/lib/python3.8/site-packages/ipykernel_launcher.py',\n",
       "  'mlflow.source.type': 'LOCAL',\n",
       "  'mlflow.user': 'stephen.haddad'}>, info=<RunInfo: artifact_uri='/Users/stephen.haddad/data/ukrse2022/artifacts/1/c5becc89c46e4cfd82441cc37ab6afbf/artifacts', end_time=1660759953080, experiment_id='1', lifecycle_stage='active', run_id='c5becc89c46e4cfd82441cc37ab6afbf', run_uuid='c5becc89c46e4cfd82441cc37ab6afbf', start_time=1660759731353, status='FINISHED', user_id='stephen.haddad'>>]"
      ]
     },
     "execution_count": 39,
     "metadata": {},
     "output_type": "execute_result"
    }
   ],
   "source": [
    "mlflow_client.search_runs(mlflow_client.list_experiments()[-1].experiment_id, order_by=['metrics.val_loss'])"
   ]
  },
  {
   "cell_type": "markdown",
   "id": "c03e7a36-39d6-4cb5-9f9d-fd8d559de377",
   "metadata": {},
   "source": [
    "### Loading a registered model\n",
    "\n",
    "When you have a model that is performing well or is in some other way of significance"
   ]
  },
  {
   "cell_type": "markdown",
   "id": "6a8752b2-0b57-42df-b743-b50cb0b32085",
   "metadata": {},
   "source": [
    "As a dirst option you can use the API to find the registered models and load one of them."
   ]
  },
  {
   "cell_type": "code",
   "execution_count": 40,
   "id": "fb5e4356-c66b-4295-b816-87587996f7ab",
   "metadata": {},
   "outputs": [
    {
     "data": {
      "text/plain": [
       "(1, [('rse_rotors_20220819', '1')])"
      ]
     },
     "execution_count": 40,
     "metadata": {},
     "output_type": "execute_result"
    }
   ],
   "source": [
    "len(mlflow_client.list_registered_models()), [(m1.name, m1.latest_versions[-1].version) for m1 in mlflow_client.list_registered_models()]"
   ]
  },
  {
   "cell_type": "markdown",
   "id": "5455a91d-755a-4057-a173-69aa69246e1f",
   "metadata": {},
   "source": [
    "Now we can load the model through the information in the registered model item of interest."
   ]
  },
  {
   "cell_type": "code",
   "execution_count": 41,
   "id": "ae64287a-38b7-4b91-ab63-a6dd78305dd0",
   "metadata": {},
   "outputs": [
    {
     "data": {
      "text/plain": [
       "'models:/rse_rotors_20220819/1'"
      ]
     },
     "execution_count": 41,
     "metadata": {},
     "output_type": "execute_result"
    }
   ],
   "source": [
    "rotors_reg_model_name = 'rse_rotors_20220819'\n",
    "rotors_reg_model_version = '1'\n",
    "reg_model_artifact_uri = f'models:/{rotors_reg_model_name}/{rotors_reg_model_version}'\n",
    "reg_model_artifact_uri"
   ]
  },
  {
   "cell_type": "code",
   "execution_count": 65,
   "id": "71f402d1-cc1a-4764-b0d9-c24de4a568e0",
   "metadata": {},
   "outputs": [
    {
     "name": "stderr",
     "output_type": "stream",
     "text": [
      "/Users/stephen.haddad/opt/anaconda3/envs/ukrse2022_mlops_model_evaluation/lib/python3.8/site-packages/keras/backend.py:450: UserWarning: `tf.keras.backend.set_learning_phase` is deprecated and will be removed after 2020-10-11. To update it, simply pass a True/False value to the `training` argument of the `__call__` method of your layer or model.\n",
      "  warnings.warn('`tf.keras.backend.set_learning_phase` is deprecated and '\n"
     ]
    }
   ],
   "source": [
    "reg_model = mlflow.pyfunc.load_model(mlflow_client.get_registered_model(rotors_reg_model_name).latest_versions[0].source)"
   ]
  },
  {
   "cell_type": "code",
   "execution_count": 66,
   "id": "10c01579-b9dd-483d-a242-2c1906fbea4f",
   "metadata": {},
   "outputs": [
    {
     "data": {
      "text/plain": [
       "array([[8.2105380e-06, 9.9999177e-01],\n",
       "       [1.0245468e-04, 9.9989748e-01],\n",
       "       [3.7846921e-04, 9.9962151e-01],\n",
       "       ...,\n",
       "       [4.4974138e-10, 1.0000000e+00],\n",
       "       [4.1534731e-06, 9.9999583e-01],\n",
       "       [3.7166660e-03, 9.9628335e-01]], dtype=float32)"
      ]
     },
     "execution_count": 66,
     "metadata": {},
     "output_type": "execute_result"
    }
   ],
   "source": [
    "reg_model.predict(X_val)"
   ]
  },
  {
   "cell_type": "markdown",
   "id": "fceff222-4767-4e13-9b1e-e0a0bb1f1977",
   "metadata": {},
   "source": [
    "## Evaluating Performance\n",
    "\n",
    "Now that we have access to one or more trained models, typically we will want to calculate performance and explainability metrics with the models. For this example of our wind rotors models, we are going to calculate some [standard metrics for a classification problem](https://en.wikipedia.org/wiki/Precision_and_recall), such as \n",
    "* precision\n",
    "* recall\n",
    "* F1-score\n",
    "* false alarm rate\n",
    "* miss rate\n",
    "\n",
    "\n",
    "We will also calculate a *domain specific* metric called [*Symmetric Exteremal Dependence Index*](https://www.ecmwf.int/en/newsletter/147/meteorology/use-high-density-observations-precipitation-verification#:~:text=The%20Symmetric%20Extremal%20Dependence%20Index,a%20threshold%20to%20be%20set), which is a metrics specific to weather and climate probklems, rather than a generic machine learning metric. Most research ML research problems should consider both standard ML metrics, as well the measures of algorithm performance that are specific to the problem domain e.g. meteorlogy, genetics, astrophysics, medicine etc."
   ]
  },
  {
   "cell_type": "markdown",
   "id": "123e68b3-35d6-4a1a-bfa4-d4eacaade949",
   "metadata": {},
   "source": [
    "As we can see from the output in the cells above, our model outputs a pseudo probability of a rotor being observed in a given time window, "
   ]
  },
  {
   "cell_type": "code",
   "execution_count": 43,
   "id": "b16172e0-125b-4e63-bc31-6cff2ef05f67",
   "metadata": {},
   "outputs": [],
   "source": [
    "def calc_sedi(conf_mat):\n",
    "    \"\"\"\n",
    "    Define a function to calculate the Symmetic Extermal Dependence Index (SEDI) from a confusion matrix\n",
    "    \"\"\"\n",
    "    hr1 = conf_mat[1,1] / (conf_mat[1,0] + conf_mat[1,1])\n",
    "    fa1 = conf_mat[0,1] / (conf_mat[0,0] + conf_mat[0,1])\n",
    "    sedi_score1 = (\n",
    "        (numpy.log(fa1) - numpy.log(hr1) - numpy.log(1.0-fa1) + numpy.log(1.0-hr1) )\n",
    "        / (numpy.log(fa1) + numpy.log(hr1) + numpy.log(1.0 - fa1) + numpy.log(1.0-hr1) )  )\n",
    "    return sedi_score1"
   ]
  },
  {
   "cell_type": "code",
   "execution_count": 44,
   "id": "610b3513-1be3-4dbe-a90b-badb4ebaf5c4",
   "metadata": {},
   "outputs": [],
   "source": [
    "y_result_val = rse_rotors_model.predict(X_val)[:,0] >2e-3 "
   ]
  },
  {
   "cell_type": "code",
   "execution_count": 45,
   "id": "3c3f6249-99f7-430c-82f1-05aedaf6ebd9",
   "metadata": {},
   "outputs": [
    {
     "data": {
      "text/plain": [
       "<AxesSubplot:ylabel='None'>"
      ]
     },
     "execution_count": 45,
     "metadata": {},
     "output_type": "execute_result"
    },
    {
     "data": {
      "image/png": "[encoded data removed]",
      "text/plain": [
       "<Figure size 1296x432 with 3 Axes>"
      ]
     },
     "metadata": {},
     "output_type": "display_data"
    }
   ],
   "source": [
    "fig1 = matplotlib.pyplot.figure('comparison of class frequencies for different thresholds', figsize=(18,6))\n",
    "ax1 = fig1.add_subplot(1,3,1)\n",
    "pandas.Series(rse_rotors_model.predict(X_val)[:,0] >2e-3 ).value_counts().plot.pie(legend=True, autopct='%.2f',labels=['No Rotors', 'Rotors Present'], ax=ax1)\n",
    "ax1 = fig1.add_subplot(1,3,2)\n",
    "pandas.Series(rse_rotors_model.predict(X_val)[:,0] >2e-2 ).value_counts().plot.pie(legend=True, autopct='%.2f',labels=['No Rotors', 'Rotors Present'], ax=ax1)\n",
    "ax1 = fig1.add_subplot(1,3,3)\n",
    "pandas.Series(rse_rotors_model.predict(X_val)[:,0] >2e-1 ).value_counts().plot.pie(legend=True, autopct='%.2f',labels=['No Rotors', 'Rotors Present'], ax=ax1)\n"
   ]
  },
  {
   "cell_type": "markdown",
   "id": "a9d427fd-55d9-4081-af46-701e8ef2131a",
   "metadata": {},
   "source": [
    "For this model, we can choose different threshold to classify the result as *no rotors* vs *rotors present*. With different choices of threshold, we will get different metric results. We can choose the threshold that gives us the best performance for our particular requirements for the classifier."
   ]
  },
  {
   "cell_type": "code",
   "execution_count": 46,
   "id": "cfa69920-e315-4e06-bd27-239ba4626e55",
   "metadata": {},
   "outputs": [],
   "source": [
    "y_train_pred_raw = rse_rotors_model.predict(X_train)[:,0]\n",
    "y_val_pred_raw = rse_rotors_model.predict(X_val)[:,0]"
   ]
  },
  {
   "cell_type": "code",
   "execution_count": 47,
   "id": "b9e0c08b-7b6a-42d5-8e63-90aed00d2eb0",
   "metadata": {},
   "outputs": [],
   "source": [
    "thresholds_list = list(numpy.arange(1e-3,0.3,1e-3))"
   ]
  },
  {
   "cell_type": "code",
   "execution_count": 48,
   "id": "218cfdd0-560c-448b-8e82-216d01f94560",
   "metadata": {},
   "outputs": [],
   "source": [
    "hit_rates = []\n",
    "hit_rates_test = []\n",
    "false_alarm_rates = []\n",
    "false_alarm_rates_test = []\n",
    "sedi_list = []\n",
    "sedi_list_test = []\n",
    "for threshold in numpy.arange(1e-3,0.3,1e-3):\n",
    "    y_pred_train = list(map(float, y_train_pred_raw > threshold)) \n",
    "    cm1 = sklearn.metrics.confusion_matrix(y_train[:,0], y_pred_train)\n",
    "    hit_rates += [cm1[1,1] / (cm1[1,0] + cm1[1,1])]\n",
    "    false_alarm_rates += [cm1[0,1] / (cm1[0,0] + cm1[0,1])]\n",
    "    sedi_list += [calc_sedi(cm1)]\n",
    "\n",
    "    y_pred_val = list(map(float, y_val_pred_raw > threshold)) \n",
    "    cm1 = sklearn.metrics.confusion_matrix(y_val[:,0], y_pred_val )\n",
    "    hit_rates_test += [cm1[1,1] / (cm1[1,0] + cm1[1,1])]\n",
    "    false_alarm_rates_test += [cm1[0,1] / (cm1[0,0] + cm1[0,1])]\n",
    "    sedi_list_test += [calc_sedi(cm1)]"
   ]
  },
  {
   "cell_type": "code",
   "execution_count": 49,
   "id": "7c8e8635-8934-4984-9635-3213ed70054c",
   "metadata": {},
   "outputs": [
    {
     "data": {
      "text/plain": [
       "[<matplotlib.lines.Line2D at 0x7fb258927910>]"
      ]
     },
     "execution_count": 49,
     "metadata": {},
     "output_type": "execute_result"
    },
    {
     "data": {
      "image/png": "[encoded data removed]",
      "text/plain": [
       "<Figure size 1152x720 with 2 Axes>"
      ]
     },
     "metadata": {
      "needs_background": "light"
     },
     "output_type": "display_data"
    }
   ],
   "source": [
    "f1 = matplotlib.pyplot.figure(figsize=(16,10))\n",
    "ax1 = f1.add_subplot(1,2,1,title='hit rates vs false alarms vs SEDI (training data)')\n",
    "ax1.plot(thresholds_list, hit_rates,'r')\n",
    "ax1.plot(thresholds_list, false_alarm_rates,'b')\n",
    "ax1.plot(thresholds_list, sedi_list,'k')\n",
    "\n",
    "ax1 = f1.add_subplot(1,2,2,title='hit rates vs false alarms vs SEDI (test data)')\n",
    "ax1.plot(thresholds_list, hit_rates_test,'r')\n",
    "ax1.plot(thresholds_list, false_alarm_rates_test,'b')\n",
    "ax1.plot(thresholds_list, sedi_list_test,'k')"
   ]
  },
  {
   "cell_type": "markdown",
   "id": "eb70f193-2d08-42b7-be5e-96449d9cb3a6",
   "metadata": {
    "tags": []
   },
   "source": [
    "### Example - Dashboard to visualise results\n",
    "\n",
    "In any research project we want to share the results with others working on the project, in our research group, current and future collaborators and other researchers around the world in the same field. To do that, we don't just want to be able plot the results as we did above for ourselves, which we amy do for creating reports and papers, but ideally make it possible for other to interactively expore the results through a *results dashboard*. Here will use the same tool (panel from the holviz ecosystem) that we used in the notebook 2 to create a dashboard for data exploration to creaste a dashboard to enable researchers to explore the results of the trained machine learning model. "
   ]
  },
  {
   "cell_type": "code",
   "execution_count": 50,
   "id": "de5c9dd6-a158-4b35-94a3-5e18f5a63ff8",
   "metadata": {},
   "outputs": [],
   "source": [
    "import panel"
   ]
  },
  {
   "cell_type": "code",
   "execution_count": 51,
   "id": "9a82a8ca-0313-4de7-9d4c-44a0483ee6fd",
   "metadata": {},
   "outputs": [
    {
     "data": {
      "application/javascript": [
       "(function(root) {\n",
       "  function now() {\n",
       "    return new Date();\n",
       "  }\n",
       "\n",
       "  var force = true;\n",
       "\n",
       "  if (typeof root._bokeh_onload_callbacks === \"undefined\" || force === true) {\n",
       "    root._bokeh_onload_callbacks = [];\n",
       "    root._bokeh_is_loading = undefined;\n",
       "  }\n",
       "\n",
       "  if (typeof (root._bokeh_timeout) === \"undefined\" || force === true) {\n",
       "    root._bokeh_timeout = Date.now() + 5000;\n",
       "    root._bokeh_failed_load = false;\n",
       "  }\n",
       "\n",
       "  function run_callbacks() {\n",
       "    try {\n",
       "      root._bokeh_onload_callbacks.forEach(function(callback) {\n",
       "        if (callback != null)\n",
       "          callback();\n",
       "      });\n",
       "    } finally {\n",
       "      delete root._bokeh_onload_callbacks\n",
       "    }\n",
       "    console.debug(\"Bokeh: all callbacks have finished\");\n",
       "  }\n",
       "\n",
       "  function load_libs(css_urls, js_urls, js_modules, callback) {\n",
       "    if (css_urls == null) css_urls = [];\n",
       "    if (js_urls == null) js_urls = [];\n",
       "    if (js_modules == null) js_modules = [];\n",
       "\n",
       "    root._bokeh_onload_callbacks.push(callback);\n",
       "    if (root._bokeh_is_loading > 0) {\n",
       "      console.debug(\"Bokeh: BokehJS is being loaded, scheduling callback at\", now());\n",
       "      return null;\n",
       "    }\n",
       "    if (js_urls.length === 0 && js_modules.length === 0) {\n",
       "      run_callbacks();\n",
       "      return null;\n",
       "    }\n",
       "    console.debug(\"Bokeh: BokehJS not loaded, scheduling load and callback at\", now());\n",
       "\n",
       "    function on_load() {\n",
       "      root._bokeh_is_loading--;\n",
       "      if (root._bokeh_is_loading === 0) {\n",
       "        console.debug(\"Bokeh: all BokehJS libraries/stylesheets loaded\");\n",
       "        run_callbacks()\n",
       "      }\n",
       "    }\n",
       "\n",
       "    function on_error() {\n",
       "      console.error(\"failed to load \" + url);\n",
       "    }\n",
       "\n",
       "    for (var i = 0; i < css_urls.length; i++) {\n",
       "      var url = css_urls[i];\n",
       "      const element = document.createElement(\"link\");\n",
       "      element.onload = on_load;\n",
       "      element.onerror = on_error;\n",
       "      element.rel = \"stylesheet\";\n",
       "      element.type = \"text/css\";\n",
       "      element.href = url;\n",
       "      console.debug(\"Bokeh: injecting link tag for BokehJS stylesheet: \", url);\n",
       "      document.body.appendChild(element);\n",
       "    }\n",
       "\n",
       "    var skip = [];\n",
       "    if (window.requirejs) {\n",
       "      window.requirejs.config({'packages': {}, 'paths': {'gridstack': 'https://cdn.jsdelivr.net/npm/gridstack@4.2.5/dist/gridstack-h5', 'notyf': 'https://cdn.jsdelivr.net/npm/notyf@3/notyf.min'}, 'shim': {'gridstack': {'exports': 'GridStack'}}});\n",
       "      require([\"gridstack\"], function(GridStack) {\n",
       "\twindow.GridStack = GridStack\n",
       "\ton_load()\n",
       "      })\n",
       "      require([\"notyf\"], function() {\n",
       "\ton_load()\n",
       "      })\n",
       "      root._bokeh_is_loading = css_urls.length + 2;\n",
       "    } else {\n",
       "      root._bokeh_is_loading = css_urls.length + js_urls.length + js_modules.length;\n",
       "    }    if (((window['GridStack'] !== undefined) && (!(window['GridStack'] instanceof HTMLElement))) || window.requirejs) {\n",
       "      var urls = ['https://cdn.jsdelivr.net/npm/gridstack@4.2.5/dist/gridstack-h5.js'];\n",
       "      for (var i = 0; i < urls.length; i++) {\n",
       "        skip.push(urls[i])\n",
       "      }\n",
       "    }    if (((window['Notyf'] !== undefined) && (!(window['Notyf'] instanceof HTMLElement))) || window.requirejs) {\n",
       "      var urls = ['https://cdn.jsdelivr.net/npm/notyf@3/notyf.min.js'];\n",
       "      for (var i = 0; i < urls.length; i++) {\n",
       "        skip.push(urls[i])\n",
       "      }\n",
       "    }    for (var i = 0; i < js_urls.length; i++) {\n",
       "      var url = js_urls[i];\n",
       "      if (skip.indexOf(url) >= 0) {\n",
       "\tif (!window.requirejs) {\n",
       "\t  on_load();\n",
       "\t}\n",
       "\tcontinue;\n",
       "      }\n",
       "      var element = document.createElement('script');\n",
       "      element.onload = on_load;\n",
       "      element.onerror = on_error;\n",
       "      element.async = false;\n",
       "      element.src = url;\n",
       "      console.debug(\"Bokeh: injecting script tag for BokehJS library: \", url);\n",
       "      document.head.appendChild(element);\n",
       "    }\n",
       "    for (var i = 0; i < js_modules.length; i++) {\n",
       "      var url = js_modules[i];\n",
       "      if (skip.indexOf(url) >= 0) {\n",
       "\tif (!window.requirejs) {\n",
       "\t  on_load();\n",
       "\t}\n",
       "\tcontinue;\n",
       "      }\n",
       "      var element = document.createElement('script');\n",
       "      element.onload = on_load;\n",
       "      element.onerror = on_error;\n",
       "      element.async = false;\n",
       "      element.src = url;\n",
       "      element.type = \"module\";\n",
       "      console.debug(\"Bokeh: injecting script tag for BokehJS library: \", url);\n",
       "      document.head.appendChild(element);\n",
       "    }\n",
       "    if (!js_urls.length && !js_modules.length) {\n",
       "      on_load()\n",
       "    }\n",
       "  };\n",
       "\n",
       "  function inject_raw_css(css) {\n",
       "    const element = document.createElement(\"style\");\n",
       "    element.appendChild(document.createTextNode(css));\n",
       "    document.body.appendChild(element);\n",
       "  }\n",
       "\n",
       "  var js_urls = [\"https://cdn.bokeh.org/bokeh/release/bokeh-2.4.3.min.js\", \"https://cdn.bokeh.org/bokeh/release/bokeh-gl-2.4.3.min.js\", \"https://cdn.bokeh.org/bokeh/release/bokeh-widgets-2.4.3.min.js\", \"https://cdn.bokeh.org/bokeh/release/bokeh-tables-2.4.3.min.js\", \"https://cdn.bokeh.org/bokeh/release/bokeh-mathjax-2.4.3.min.js\", \"https://cdn.jsdelivr.net/npm/notyf@3/notyf.min.js\", \"https://unpkg.com/@holoviz/panel@0.13.1/dist/panel.min.js\"];\n",
       "  var js_modules = [];\n",
       "  var css_urls = [\"https://cdn.jsdelivr.net/npm/notyf@3/notyf.min.css\", \"https://cdnjs.cloudflare.com/ajax/libs/font-awesome/5.15.1/css/all.min.css\", \"https://unpkg.com/@holoviz/panel@0.13.1/dist/css/debugger.css\", \"https://unpkg.com/@holoviz/panel@0.13.1/dist/css/alerts.css\", \"https://unpkg.com/@holoviz/panel@0.13.1/dist/css/card.css\", \"https://unpkg.com/@holoviz/panel@0.13.1/dist/css/widgets.css\", \"https://unpkg.com/@holoviz/panel@0.13.1/dist/css/markdown.css\", \"https://unpkg.com/@holoviz/panel@0.13.1/dist/css/json.css\", \"https://unpkg.com/@holoviz/panel@0.13.1/dist/css/loading.css\", \"https://unpkg.com/@holoviz/panel@0.13.1/dist/css/dataframe.css\"];\n",
       "  var inline_js = [    function(Bokeh) {\n",
       "      inject_raw_css(\"\\n    .bk.pn-loading.arcs:before {\\n      background-image: url(\\\"data:image/svg+xml;base64,PHN2ZyB4bWxucz0iaHR0cDovL3d3dy53My5vcmcvMjAwMC9zdmciIHhtbG5zOnhsaW5rPSJodHRwOi8vd3d3LnczLm9yZy8xOTk5L3hsaW5rIiBzdHlsZT0ibWFyZ2luOiBhdXRvOyBiYWNrZ3JvdW5kOiBub25lOyBkaXNwbGF5OiBibG9jazsgc2hhcGUtcmVuZGVyaW5nOiBhdXRvOyIgdmlld0JveD0iMCAwIDEwMCAxMDAiIHByZXNlcnZlQXNwZWN0UmF0aW89InhNaWRZTWlkIj4gIDxjaXJjbGUgY3g9IjUwIiBjeT0iNTAiIHI9IjMyIiBzdHJva2Utd2lkdGg9IjgiIHN0cm9rZT0iI2MzYzNjMyIgc3Ryb2tlLWRhc2hhcnJheT0iNTAuMjY1NDgyNDU3NDM2NjkgNTAuMjY1NDgyNDU3NDM2NjkiIGZpbGw9Im5vbmUiIHN0cm9rZS1saW5lY2FwPSJyb3VuZCI+ICAgIDxhbmltYXRlVHJhbnNmb3JtIGF0dHJpYnV0ZU5hbWU9InRyYW5zZm9ybSIgdHlwZT0icm90YXRlIiByZXBlYXRDb3VudD0iaW5kZWZpbml0ZSIgZHVyPSIxcyIga2V5VGltZXM9IjA7MSIgdmFsdWVzPSIwIDUwIDUwOzM2MCA1MCA1MCI+PC9hbmltYXRlVHJhbnNmb3JtPiAgPC9jaXJjbGU+PC9zdmc+\\\");\\n      background-size: auto calc(min(50%, 400px));\\n    }\\n    \");\n",
       "    },    function(Bokeh) {\n",
       "      Bokeh.set_log_level(\"info\");\n",
       "    },\n",
       "function(Bokeh) {} // ensure no trailing comma for IE\n",
       "  ];\n",
       "\n",
       "  function run_inline_js() {\n",
       "    if ((root.Bokeh !== undefined) || (force === true)) {\n",
       "      for (var i = 0; i < inline_js.length; i++) {\n",
       "        inline_js[i].call(root, root.Bokeh);\n",
       "      }} else if (Date.now() < root._bokeh_timeout) {\n",
       "      setTimeout(run_inline_js, 100);\n",
       "    } else if (!root._bokeh_failed_load) {\n",
       "      console.log(\"Bokeh: BokehJS failed to load within specified timeout.\");\n",
       "      root._bokeh_failed_load = true;\n",
       "    }\n",
       "  }\n",
       "\n",
       "  if (root._bokeh_is_loading === 0) {\n",
       "    console.debug(\"Bokeh: BokehJS loaded, going straight to plotting\");\n",
       "    run_inline_js();\n",
       "  } else {\n",
       "    load_libs(css_urls, js_urls, js_modules, function() {\n",
       "      console.debug(\"Bokeh: BokehJS plotting callback run at\", now());\n",
       "      run_inline_js();\n",
       "    });\n",
       "  }\n",
       "}(window));"
      ],
      "application/vnd.holoviews_load.v0+json": "(function(root) {\n  function now() {\n    return new Date();\n  }\n\n  var force = true;\n\n  if (typeof root._bokeh_onload_callbacks === \"undefined\" || force === true) {\n    root._bokeh_onload_callbacks = [];\n    root._bokeh_is_loading = undefined;\n  }\n\n  if (typeof (root._bokeh_timeout) === \"undefined\" || force === true) {\n    root._bokeh_timeout = Date.now() + 5000;\n    root._bokeh_failed_load = false;\n  }\n\n  function run_callbacks() {\n    try {\n      root._bokeh_onload_callbacks.forEach(function(callback) {\n        if (callback != null)\n          callback();\n      });\n    } finally {\n      delete root._bokeh_onload_callbacks\n    }\n    console.debug(\"Bokeh: all callbacks have finished\");\n  }\n\n  function load_libs(css_urls, js_urls, js_modules, callback) {\n    if (css_urls == null) css_urls = [];\n    if (js_urls == null) js_urls = [];\n    if (js_modules == null) js_modules = [];\n\n    root._bokeh_onload_callbacks.push(callback);\n    if (root._bokeh_is_loading > 0) {\n      console.debug(\"Bokeh: BokehJS is being loaded, scheduling callback at\", now());\n      return null;\n    }\n    if (js_urls.length === 0 && js_modules.length === 0) {\n      run_callbacks();\n      return null;\n    }\n    console.debug(\"Bokeh: BokehJS not loaded, scheduling load and callback at\", now());\n\n    function on_load() {\n      root._bokeh_is_loading--;\n      if (root._bokeh_is_loading === 0) {\n        console.debug(\"Bokeh: all BokehJS libraries/stylesheets loaded\");\n        run_callbacks()\n      }\n    }\n\n    function on_error() {\n      console.error(\"failed to load \" + url);\n    }\n\n    for (var i = 0; i < css_urls.length; i++) {\n      var url = css_urls[i];\n      const element = document.createElement(\"link\");\n      element.onload = on_load;\n      element.onerror = on_error;\n      element.rel = \"stylesheet\";\n      element.type = \"text/css\";\n      element.href = url;\n      console.debug(\"Bokeh: injecting link tag for BokehJS stylesheet: \", url);\n      document.body.appendChild(element);\n    }\n\n    var skip = [];\n    if (window.requirejs) {\n      window.requirejs.config({'packages': {}, 'paths': {'gridstack': 'https://cdn.jsdelivr.net/npm/gridstack@4.2.5/dist/gridstack-h5', 'notyf': 'https://cdn.jsdelivr.net/npm/notyf@3/notyf.min'}, 'shim': {'gridstack': {'exports': 'GridStack'}}});\n      require([\"gridstack\"], function(GridStack) {\n\twindow.GridStack = GridStack\n\ton_load()\n      })\n      require([\"notyf\"], function() {\n\ton_load()\n      })\n      root._bokeh_is_loading = css_urls.length + 2;\n    } else {\n      root._bokeh_is_loading = css_urls.length + js_urls.length + js_modules.length;\n    }    if (((window['GridStack'] !== undefined) && (!(window['GridStack'] instanceof HTMLElement))) || window.requirejs) {\n      var urls = ['https://cdn.jsdelivr.net/npm/gridstack@4.2.5/dist/gridstack-h5.js'];\n      for (var i = 0; i < urls.length; i++) {\n        skip.push(urls[i])\n      }\n    }    if (((window['Notyf'] !== undefined) && (!(window['Notyf'] instanceof HTMLElement))) || window.requirejs) {\n      var urls = ['https://cdn.jsdelivr.net/npm/notyf@3/notyf.min.js'];\n      for (var i = 0; i < urls.length; i++) {\n        skip.push(urls[i])\n      }\n    }    for (var i = 0; i < js_urls.length; i++) {\n      var url = js_urls[i];\n      if (skip.indexOf(url) >= 0) {\n\tif (!window.requirejs) {\n\t  on_load();\n\t}\n\tcontinue;\n      }\n      var element = document.createElement('script');\n      element.onload = on_load;\n      element.onerror = on_error;\n      element.async = false;\n      element.src = url;\n      console.debug(\"Bokeh: injecting script tag for BokehJS library: \", url);\n      document.head.appendChild(element);\n    }\n    for (var i = 0; i < js_modules.length; i++) {\n      var url = js_modules[i];\n      if (skip.indexOf(url) >= 0) {\n\tif (!window.requirejs) {\n\t  on_load();\n\t}\n\tcontinue;\n      }\n      var element = document.createElement('script');\n      element.onload = on_load;\n      element.onerror = on_error;\n      element.async = false;\n      element.src = url;\n      element.type = \"module\";\n      console.debug(\"Bokeh: injecting script tag for BokehJS library: \", url);\n      document.head.appendChild(element);\n    }\n    if (!js_urls.length && !js_modules.length) {\n      on_load()\n    }\n  };\n\n  function inject_raw_css(css) {\n    const element = document.createElement(\"style\");\n    element.appendChild(document.createTextNode(css));\n    document.body.appendChild(element);\n  }\n\n  var js_urls = [\"https://cdn.bokeh.org/bokeh/release/bokeh-2.4.3.min.js\", \"https://cdn.bokeh.org/bokeh/release/bokeh-gl-2.4.3.min.js\", \"https://cdn.bokeh.org/bokeh/release/bokeh-widgets-2.4.3.min.js\", \"https://cdn.bokeh.org/bokeh/release/bokeh-tables-2.4.3.min.js\", \"https://cdn.bokeh.org/bokeh/release/bokeh-mathjax-2.4.3.min.js\", \"https://cdn.jsdelivr.net/npm/notyf@3/notyf.min.js\", \"https://unpkg.com/@holoviz/panel@0.13.1/dist/panel.min.js\"];\n  var js_modules = [];\n  var css_urls = [\"https://cdn.jsdelivr.net/npm/notyf@3/notyf.min.css\", \"https://cdnjs.cloudflare.com/ajax/libs/font-awesome/5.15.1/css/all.min.css\", \"https://unpkg.com/@holoviz/panel@0.13.1/dist/css/debugger.css\", \"https://unpkg.com/@holoviz/panel@0.13.1/dist/css/alerts.css\", \"https://unpkg.com/@holoviz/panel@0.13.1/dist/css/card.css\", \"https://unpkg.com/@holoviz/panel@0.13.1/dist/css/widgets.css\", \"https://unpkg.com/@holoviz/panel@0.13.1/dist/css/markdown.css\", \"https://unpkg.com/@holoviz/panel@0.13.1/dist/css/json.css\", \"https://unpkg.com/@holoviz/panel@0.13.1/dist/css/loading.css\", \"https://unpkg.com/@holoviz/panel@0.13.1/dist/css/dataframe.css\"];\n  var inline_js = [    function(Bokeh) {\n      inject_raw_css(\"\\n    .bk.pn-loading.arcs:before {\\n      background-image: url(\\\"data:image/svg+xml;base64,PHN2ZyB4bWxucz0iaHR0cDovL3d3dy53My5vcmcvMjAwMC9zdmciIHhtbG5zOnhsaW5rPSJodHRwOi8vd3d3LnczLm9yZy8xOTk5L3hsaW5rIiBzdHlsZT0ibWFyZ2luOiBhdXRvOyBiYWNrZ3JvdW5kOiBub25lOyBkaXNwbGF5OiBibG9jazsgc2hhcGUtcmVuZGVyaW5nOiBhdXRvOyIgdmlld0JveD0iMCAwIDEwMCAxMDAiIHByZXNlcnZlQXNwZWN0UmF0aW89InhNaWRZTWlkIj4gIDxjaXJjbGUgY3g9IjUwIiBjeT0iNTAiIHI9IjMyIiBzdHJva2Utd2lkdGg9IjgiIHN0cm9rZT0iI2MzYzNjMyIgc3Ryb2tlLWRhc2hhcnJheT0iNTAuMjY1NDgyNDU3NDM2NjkgNTAuMjY1NDgyNDU3NDM2NjkiIGZpbGw9Im5vbmUiIHN0cm9rZS1saW5lY2FwPSJyb3VuZCI+ICAgIDxhbmltYXRlVHJhbnNmb3JtIGF0dHJpYnV0ZU5hbWU9InRyYW5zZm9ybSIgdHlwZT0icm90YXRlIiByZXBlYXRDb3VudD0iaW5kZWZpbml0ZSIgZHVyPSIxcyIga2V5VGltZXM9IjA7MSIgdmFsdWVzPSIwIDUwIDUwOzM2MCA1MCA1MCI+PC9hbmltYXRlVHJhbnNmb3JtPiAgPC9jaXJjbGU+PC9zdmc+\\\");\\n      background-size: auto calc(min(50%, 400px));\\n    }\\n    \");\n    },    function(Bokeh) {\n      Bokeh.set_log_level(\"info\");\n    },\nfunction(Bokeh) {} // ensure no trailing comma for IE\n  ];\n\n  function run_inline_js() {\n    if ((root.Bokeh !== undefined) || (force === true)) {\n      for (var i = 0; i < inline_js.length; i++) {\n        inline_js[i].call(root, root.Bokeh);\n      }} else if (Date.now() < root._bokeh_timeout) {\n      setTimeout(run_inline_js, 100);\n    } else if (!root._bokeh_failed_load) {\n      console.log(\"Bokeh: BokehJS failed to load within specified timeout.\");\n      root._bokeh_failed_load = true;\n    }\n  }\n\n  if (root._bokeh_is_loading === 0) {\n    console.debug(\"Bokeh: BokehJS loaded, going straight to plotting\");\n    run_inline_js();\n  } else {\n    load_libs(css_urls, js_urls, js_modules, function() {\n      console.debug(\"Bokeh: BokehJS plotting callback run at\", now());\n      run_inline_js();\n    });\n  }\n}(window));"
     },
     "metadata": {},
     "output_type": "display_data"
    },
    {
     "data": {
      "application/javascript": [
       "\n",
       "if ((window.PyViz === undefined) || (window.PyViz instanceof HTMLElement)) {\n",
       "  window.PyViz = {comms: {}, comm_status:{}, kernels:{}, receivers: {}, plot_index: []}\n",
       "}\n",
       "\n",
       "\n",
       "    function JupyterCommManager() {\n",
       "    }\n",
       "\n",
       "    JupyterCommManager.prototype.register_target = function(plot_id, comm_id, msg_handler) {\n",
       "      if (window.comm_manager || ((window.Jupyter !== undefined) && (Jupyter.notebook.kernel != null))) {\n",
       "        var comm_manager = window.comm_manager || Jupyter.notebook.kernel.comm_manager;\n",
       "        comm_manager.register_target(comm_id, function(comm) {\n",
       "          comm.on_msg(msg_handler);\n",
       "        });\n",
       "      } else if ((plot_id in window.PyViz.kernels) && (window.PyViz.kernels[plot_id])) {\n",
       "        window.PyViz.kernels[plot_id].registerCommTarget(comm_id, function(comm) {\n",
       "          comm.onMsg = msg_handler;\n",
       "        });\n",
       "      } else if (typeof google != 'undefined' && google.colab.kernel != null) {\n",
       "        google.colab.kernel.comms.registerTarget(comm_id, (comm) => {\n",
       "          var messages = comm.messages[Symbol.asyncIterator]();\n",
       "          function processIteratorResult(result) {\n",
       "            var message = result.value;\n",
       "            console.log(message)\n",
       "            var content = {data: message.data, comm_id};\n",
       "            var buffers = []\n",
       "            for (var buffer of message.buffers || []) {\n",
       "              buffers.push(new DataView(buffer))\n",
       "            }\n",
       "            var metadata = message.metadata || {};\n",
       "            var msg = {content, buffers, metadata}\n",
       "            msg_handler(msg);\n",
       "            return messages.next().then(processIteratorResult);\n",
       "          }\n",
       "          return messages.next().then(processIteratorResult);\n",
       "        })\n",
       "      }\n",
       "    }\n",
       "\n",
       "    JupyterCommManager.prototype.get_client_comm = function(plot_id, comm_id, msg_handler) {\n",
       "      if (comm_id in window.PyViz.comms) {\n",
       "        return window.PyViz.comms[comm_id];\n",
       "      } else if (window.comm_manager || ((window.Jupyter !== undefined) && (Jupyter.notebook.kernel != null))) {\n",
       "        var comm_manager = window.comm_manager || Jupyter.notebook.kernel.comm_manager;\n",
       "        var comm = comm_manager.new_comm(comm_id, {}, {}, {}, comm_id);\n",
       "        if (msg_handler) {\n",
       "          comm.on_msg(msg_handler);\n",
       "        }\n",
       "      } else if ((plot_id in window.PyViz.kernels) && (window.PyViz.kernels[plot_id])) {\n",
       "        var comm = window.PyViz.kernels[plot_id].connectToComm(comm_id);\n",
       "        comm.open();\n",
       "        if (msg_handler) {\n",
       "          comm.onMsg = msg_handler;\n",
       "        }\n",
       "      } else if (typeof google != 'undefined' && google.colab.kernel != null) {\n",
       "        var comm_promise = google.colab.kernel.comms.open(comm_id)\n",
       "        comm_promise.then((comm) => {\n",
       "          window.PyViz.comms[comm_id] = comm;\n",
       "          if (msg_handler) {\n",
       "            var messages = comm.messages[Symbol.asyncIterator]();\n",
       "            function processIteratorResult(result) {\n",
       "              var message = result.value;\n",
       "              var content = {data: message.data};\n",
       "              var metadata = message.metadata || {comm_id};\n",
       "              var msg = {content, metadata}\n",
       "              msg_handler(msg);\n",
       "              return messages.next().then(processIteratorResult);\n",
       "            }\n",
       "            return messages.next().then(processIteratorResult);\n",
       "          }\n",
       "        }) \n",
       "        var sendClosure = (data, metadata, buffers, disposeOnDone) => {\n",
       "          return comm_promise.then((comm) => {\n",
       "            comm.send(data, metadata, buffers, disposeOnDone);\n",
       "          });\n",
       "        };\n",
       "        var comm = {\n",
       "          send: sendClosure\n",
       "        };\n",
       "      }\n",
       "      window.PyViz.comms[comm_id] = comm;\n",
       "      return comm;\n",
       "    }\n",
       "    window.PyViz.comm_manager = new JupyterCommManager();\n",
       "    \n",
       "\n",
       "\n",
       "var JS_MIME_TYPE = 'application/javascript';\n",
       "var HTML_MIME_TYPE = 'text/html';\n",
       "var EXEC_MIME_TYPE = 'application/vnd.holoviews_exec.v0+json';\n",
       "var CLASS_NAME = 'output';\n",
       "\n",
       "/**\n",
       " * Render data to the DOM node\n",
       " */\n",
       "function render(props, node) {\n",
       "  var div = document.createElement(\"div\");\n",
       "  var script = document.createElement(\"script\");\n",
       "  node.appendChild(div);\n",
       "  node.appendChild(script);\n",
       "}\n",
       "\n",
       "/**\n",
       " * Handle when a new output is added\n",
       " */\n",
       "function handle_add_output(event, handle) {\n",
       "  var output_area = handle.output_area;\n",
       "  var output = handle.output;\n",
       "  if ((output.data == undefined) || (!output.data.hasOwnProperty(EXEC_MIME_TYPE))) {\n",
       "    return\n",
       "  }\n",
       "  var id = output.metadata[EXEC_MIME_TYPE][\"id\"];\n",
       "  var toinsert = output_area.element.find(\".\" + CLASS_NAME.split(' ')[0]);\n",
       "  if (id !== undefined) {\n",
       "    var nchildren = toinsert.length;\n",
       "    var html_node = toinsert[nchildren-1].children[0];\n",
       "    html_node.innerHTML = output.data[HTML_MIME_TYPE];\n",
       "    var scripts = [];\n",
       "    var nodelist = html_node.querySelectorAll(\"script\");\n",
       "    for (var i in nodelist) {\n",
       "      if (nodelist.hasOwnProperty(i)) {\n",
       "        scripts.push(nodelist[i])\n",
       "      }\n",
       "    }\n",
       "\n",
       "    scripts.forEach( function (oldScript) {\n",
       "      var newScript = document.createElement(\"script\");\n",
       "      var attrs = [];\n",
       "      var nodemap = oldScript.attributes;\n",
       "      for (var j in nodemap) {\n",
       "        if (nodemap.hasOwnProperty(j)) {\n",
       "          attrs.push(nodemap[j])\n",
       "        }\n",
       "      }\n",
       "      attrs.forEach(function(attr) { newScript.setAttribute(attr.name, attr.value) });\n",
       "      newScript.appendChild(document.createTextNode(oldScript.innerHTML));\n",
       "      oldScript.parentNode.replaceChild(newScript, oldScript);\n",
       "    });\n",
       "    if (JS_MIME_TYPE in output.data) {\n",
       "      toinsert[nchildren-1].children[1].textContent = output.data[JS_MIME_TYPE];\n",
       "    }\n",
       "    output_area._hv_plot_id = id;\n",
       "    if ((window.Bokeh !== undefined) && (id in Bokeh.index)) {\n",
       "      window.PyViz.plot_index[id] = Bokeh.index[id];\n",
       "    } else {\n",
       "      window.PyViz.plot_index[id] = null;\n",
       "    }\n",
       "  } else if (output.metadata[EXEC_MIME_TYPE][\"server_id\"] !== undefined) {\n",
       "    var bk_div = document.createElement(\"div\");\n",
       "    bk_div.innerHTML = output.data[HTML_MIME_TYPE];\n",
       "    var script_attrs = bk_div.children[0].attributes;\n",
       "    for (var i = 0; i < script_attrs.length; i++) {\n",
       "      toinsert[toinsert.length - 1].childNodes[1].setAttribute(script_attrs[i].name, script_attrs[i].value);\n",
       "    }\n",
       "    // store reference to server id on output_area\n",
       "    output_area._bokeh_server_id = output.metadata[EXEC_MIME_TYPE][\"server_id\"];\n",
       "  }\n",
       "}\n",
       "\n",
       "/**\n",
       " * Handle when an output is cleared or removed\n",
       " */\n",
       "function handle_clear_output(event, handle) {\n",
       "  var id = handle.cell.output_area._hv_plot_id;\n",
       "  var server_id = handle.cell.output_area._bokeh_server_id;\n",
       "  if (((id === undefined) || !(id in PyViz.plot_index)) && (server_id !== undefined)) { return; }\n",
       "  var comm = window.PyViz.comm_manager.get_client_comm(\"hv-extension-comm\", \"hv-extension-comm\", function () {});\n",
       "  if (server_id !== null) {\n",
       "    comm.send({event_type: 'server_delete', 'id': server_id});\n",
       "    return;\n",
       "  } else if (comm !== null) {\n",
       "    comm.send({event_type: 'delete', 'id': id});\n",
       "  }\n",
       "  delete PyViz.plot_index[id];\n",
       "  if ((window.Bokeh !== undefined) & (id in window.Bokeh.index)) {\n",
       "    var doc = window.Bokeh.index[id].model.document\n",
       "    doc.clear();\n",
       "    const i = window.Bokeh.documents.indexOf(doc);\n",
       "    if (i > -1) {\n",
       "      window.Bokeh.documents.splice(i, 1);\n",
       "    }\n",
       "  }\n",
       "}\n",
       "\n",
       "/**\n",
       " * Handle kernel restart event\n",
       " */\n",
       "function handle_kernel_cleanup(event, handle) {\n",
       "  delete PyViz.comms[\"hv-extension-comm\"];\n",
       "  window.PyViz.plot_index = {}\n",
       "}\n",
       "\n",
       "/**\n",
       " * Handle update_display_data messages\n",
       " */\n",
       "function handle_update_output(event, handle) {\n",
       "  handle_clear_output(event, {cell: {output_area: handle.output_area}})\n",
       "  handle_add_output(event, handle)\n",
       "}\n",
       "\n",
       "function register_renderer(events, OutputArea) {\n",
       "  function append_mime(data, metadata, element) {\n",
       "    // create a DOM node to render to\n",
       "    var toinsert = this.create_output_subarea(\n",
       "    metadata,\n",
       "    CLASS_NAME,\n",
       "    EXEC_MIME_TYPE\n",
       "    );\n",
       "    this.keyboard_manager.register_events(toinsert);\n",
       "    // Render to node\n",
       "    var props = {data: data, metadata: metadata[EXEC_MIME_TYPE]};\n",
       "    render(props, toinsert[0]);\n",
       "    element.append(toinsert);\n",
       "    return toinsert\n",
       "  }\n",
       "\n",
       "  events.on('output_added.OutputArea', handle_add_output);\n",
       "  events.on('output_updated.OutputArea', handle_update_output);\n",
       "  events.on('clear_output.CodeCell', handle_clear_output);\n",
       "  events.on('delete.Cell', handle_clear_output);\n",
       "  events.on('kernel_ready.Kernel', handle_kernel_cleanup);\n",
       "\n",
       "  OutputArea.prototype.register_mime_type(EXEC_MIME_TYPE, append_mime, {\n",
       "    safe: true,\n",
       "    index: 0\n",
       "  });\n",
       "}\n",
       "\n",
       "if (window.Jupyter !== undefined) {\n",
       "  try {\n",
       "    var events = require('base/js/events');\n",
       "    var OutputArea = require('notebook/js/outputarea').OutputArea;\n",
       "    if (OutputArea.prototype.mime_types().indexOf(EXEC_MIME_TYPE) == -1) {\n",
       "      register_renderer(events, OutputArea);\n",
       "    }\n",
       "  } catch(err) {\n",
       "  }\n",
       "}\n"
      ],
      "application/vnd.holoviews_load.v0+json": "\nif ((window.PyViz === undefined) || (window.PyViz instanceof HTMLElement)) {\n  window.PyViz = {comms: {}, comm_status:{}, kernels:{}, receivers: {}, plot_index: []}\n}\n\n\n    function JupyterCommManager() {\n    }\n\n    JupyterCommManager.prototype.register_target = function(plot_id, comm_id, msg_handler) {\n      if (window.comm_manager || ((window.Jupyter !== undefined) && (Jupyter.notebook.kernel != null))) {\n        var comm_manager = window.comm_manager || Jupyter.notebook.kernel.comm_manager;\n        comm_manager.register_target(comm_id, function(comm) {\n          comm.on_msg(msg_handler);\n        });\n      } else if ((plot_id in window.PyViz.kernels) && (window.PyViz.kernels[plot_id])) {\n        window.PyViz.kernels[plot_id].registerCommTarget(comm_id, function(comm) {\n          comm.onMsg = msg_handler;\n        });\n      } else if (typeof google != 'undefined' && google.colab.kernel != null) {\n        google.colab.kernel.comms.registerTarget(comm_id, (comm) => {\n          var messages = comm.messages[Symbol.asyncIterator]();\n          function processIteratorResult(result) {\n            var message = result.value;\n            console.log(message)\n            var content = {data: message.data, comm_id};\n            var buffers = []\n            for (var buffer of message.buffers || []) {\n              buffers.push(new DataView(buffer))\n            }\n            var metadata = message.metadata || {};\n            var msg = {content, buffers, metadata}\n            msg_handler(msg);\n            return messages.next().then(processIteratorResult);\n          }\n          return messages.next().then(processIteratorResult);\n        })\n      }\n    }\n\n    JupyterCommManager.prototype.get_client_comm = function(plot_id, comm_id, msg_handler) {\n      if (comm_id in window.PyViz.comms) {\n        return window.PyViz.comms[comm_id];\n      } else if (window.comm_manager || ((window.Jupyter !== undefined) && (Jupyter.notebook.kernel != null))) {\n        var comm_manager = window.comm_manager || Jupyter.notebook.kernel.comm_manager;\n        var comm = comm_manager.new_comm(comm_id, {}, {}, {}, comm_id);\n        if (msg_handler) {\n          comm.on_msg(msg_handler);\n        }\n      } else if ((plot_id in window.PyViz.kernels) && (window.PyViz.kernels[plot_id])) {\n        var comm = window.PyViz.kernels[plot_id].connectToComm(comm_id);\n        comm.open();\n        if (msg_handler) {\n          comm.onMsg = msg_handler;\n        }\n      } else if (typeof google != 'undefined' && google.colab.kernel != null) {\n        var comm_promise = google.colab.kernel.comms.open(comm_id)\n        comm_promise.then((comm) => {\n          window.PyViz.comms[comm_id] = comm;\n          if (msg_handler) {\n            var messages = comm.messages[Symbol.asyncIterator]();\n            function processIteratorResult(result) {\n              var message = result.value;\n              var content = {data: message.data};\n              var metadata = message.metadata || {comm_id};\n              var msg = {content, metadata}\n              msg_handler(msg);\n              return messages.next().then(processIteratorResult);\n            }\n            return messages.next().then(processIteratorResult);\n          }\n        }) \n        var sendClosure = (data, metadata, buffers, disposeOnDone) => {\n          return comm_promise.then((comm) => {\n            comm.send(data, metadata, buffers, disposeOnDone);\n          });\n        };\n        var comm = {\n          send: sendClosure\n        };\n      }\n      window.PyViz.comms[comm_id] = comm;\n      return comm;\n    }\n    window.PyViz.comm_manager = new JupyterCommManager();\n    \n\n\nvar JS_MIME_TYPE = 'application/javascript';\nvar HTML_MIME_TYPE = 'text/html';\nvar EXEC_MIME_TYPE = 'application/vnd.holoviews_exec.v0+json';\nvar CLASS_NAME = 'output';\n\n/**\n * Render data to the DOM node\n */\nfunction render(props, node) {\n  var div = document.createElement(\"div\");\n  var script = document.createElement(\"script\");\n  node.appendChild(div);\n  node.appendChild(script);\n}\n\n/**\n * Handle when a new output is added\n */\nfunction handle_add_output(event, handle) {\n  var output_area = handle.output_area;\n  var output = handle.output;\n  if ((output.data == undefined) || (!output.data.hasOwnProperty(EXEC_MIME_TYPE))) {\n    return\n  }\n  var id = output.metadata[EXEC_MIME_TYPE][\"id\"];\n  var toinsert = output_area.element.find(\".\" + CLASS_NAME.split(' ')[0]);\n  if (id !== undefined) {\n    var nchildren = toinsert.length;\n    var html_node = toinsert[nchildren-1].children[0];\n    html_node.innerHTML = output.data[HTML_MIME_TYPE];\n    var scripts = [];\n    var nodelist = html_node.querySelectorAll(\"script\");\n    for (var i in nodelist) {\n      if (nodelist.hasOwnProperty(i)) {\n        scripts.push(nodelist[i])\n      }\n    }\n\n    scripts.forEach( function (oldScript) {\n      var newScript = document.createElement(\"script\");\n      var attrs = [];\n      var nodemap = oldScript.attributes;\n      for (var j in nodemap) {\n        if (nodemap.hasOwnProperty(j)) {\n          attrs.push(nodemap[j])\n        }\n      }\n      attrs.forEach(function(attr) { newScript.setAttribute(attr.name, attr.value) });\n      newScript.appendChild(document.createTextNode(oldScript.innerHTML));\n      oldScript.parentNode.replaceChild(newScript, oldScript);\n    });\n    if (JS_MIME_TYPE in output.data) {\n      toinsert[nchildren-1].children[1].textContent = output.data[JS_MIME_TYPE];\n    }\n    output_area._hv_plot_id = id;\n    if ((window.Bokeh !== undefined) && (id in Bokeh.index)) {\n      window.PyViz.plot_index[id] = Bokeh.index[id];\n    } else {\n      window.PyViz.plot_index[id] = null;\n    }\n  } else if (output.metadata[EXEC_MIME_TYPE][\"server_id\"] !== undefined) {\n    var bk_div = document.createElement(\"div\");\n    bk_div.innerHTML = output.data[HTML_MIME_TYPE];\n    var script_attrs = bk_div.children[0].attributes;\n    for (var i = 0; i < script_attrs.length; i++) {\n      toinsert[toinsert.length - 1].childNodes[1].setAttribute(script_attrs[i].name, script_attrs[i].value);\n    }\n    // store reference to server id on output_area\n    output_area._bokeh_server_id = output.metadata[EXEC_MIME_TYPE][\"server_id\"];\n  }\n}\n\n/**\n * Handle when an output is cleared or removed\n */\nfunction handle_clear_output(event, handle) {\n  var id = handle.cell.output_area._hv_plot_id;\n  var server_id = handle.cell.output_area._bokeh_server_id;\n  if (((id === undefined) || !(id in PyViz.plot_index)) && (server_id !== undefined)) { return; }\n  var comm = window.PyViz.comm_manager.get_client_comm(\"hv-extension-comm\", \"hv-extension-comm\", function () {});\n  if (server_id !== null) {\n    comm.send({event_type: 'server_delete', 'id': server_id});\n    return;\n  } else if (comm !== null) {\n    comm.send({event_type: 'delete', 'id': id});\n  }\n  delete PyViz.plot_index[id];\n  if ((window.Bokeh !== undefined) & (id in window.Bokeh.index)) {\n    var doc = window.Bokeh.index[id].model.document\n    doc.clear();\n    const i = window.Bokeh.documents.indexOf(doc);\n    if (i > -1) {\n      window.Bokeh.documents.splice(i, 1);\n    }\n  }\n}\n\n/**\n * Handle kernel restart event\n */\nfunction handle_kernel_cleanup(event, handle) {\n  delete PyViz.comms[\"hv-extension-comm\"];\n  window.PyViz.plot_index = {}\n}\n\n/**\n * Handle update_display_data messages\n */\nfunction handle_update_output(event, handle) {\n  handle_clear_output(event, {cell: {output_area: handle.output_area}})\n  handle_add_output(event, handle)\n}\n\nfunction register_renderer(events, OutputArea) {\n  function append_mime(data, metadata, element) {\n    // create a DOM node to render to\n    var toinsert = this.create_output_subarea(\n    metadata,\n    CLASS_NAME,\n    EXEC_MIME_TYPE\n    );\n    this.keyboard_manager.register_events(toinsert);\n    // Render to node\n    var props = {data: data, metadata: metadata[EXEC_MIME_TYPE]};\n    render(props, toinsert[0]);\n    element.append(toinsert);\n    return toinsert\n  }\n\n  events.on('output_added.OutputArea', handle_add_output);\n  events.on('output_updated.OutputArea', handle_update_output);\n  events.on('clear_output.CodeCell', handle_clear_output);\n  events.on('delete.Cell', handle_clear_output);\n  events.on('kernel_ready.Kernel', handle_kernel_cleanup);\n\n  OutputArea.prototype.register_mime_type(EXEC_MIME_TYPE, append_mime, {\n    safe: true,\n    index: 0\n  });\n}\n\nif (window.Jupyter !== undefined) {\n  try {\n    var events = require('base/js/events');\n    var OutputArea = require('notebook/js/outputarea').OutputArea;\n    if (OutputArea.prototype.mime_types().indexOf(EXEC_MIME_TYPE) == -1) {\n      register_renderer(events, OutputArea);\n    }\n  } catch(err) {\n  }\n}\n"
     },
     "metadata": {},
     "output_type": "display_data"
    },
    {
     "data": {
      "text/html": [
       "<style>.bk-root, .bk-root .bk:before, .bk-root .bk:after {\n",
       "  font-family: var(--jp-ui-font-size1);\n",
       "  font-size: var(--jp-ui-font-size1);\n",
       "  color: var(--jp-ui-font-color1);\n",
       "}\n",
       "</style>"
      ]
     },
     "metadata": {},
     "output_type": "display_data"
    }
   ],
   "source": [
    "panel.extension()"
   ]
  },
  {
   "cell_type": "code",
   "execution_count": 52,
   "id": "165e6a46-40c5-4647-bc67-2ff7363f5039",
   "metadata": {},
   "outputs": [],
   "source": [
    "def plot_rotors_metrics(rotors_model,  X_dict, y_dict, selected_split, threshold,):\n",
    "    y_raw = rotors_model.predict(X_dict[selected_split])[:,0]\n",
    "    y_pred = list(map(float, y_raw > threshold)) \n",
    "    cm1 = sklearn.metrics.confusion_matrix(y_dict[selected_split], y_pred)\n",
    "    metric_dict = {\n",
    "        'hit_rate' : [cm1[1,1] / (cm1[1,0] + cm1[1,1])],\n",
    "        'false_alarm_rate' : [cm1[0,1] / (cm1[0,0] + cm1[0,1])],\n",
    "        'sedi_score': [calc_sedi(cm1)],\n",
    "    }\n",
    "    \n",
    "    fig1 = matplotlib.pyplot.Figure()\n",
    "    ax1 = fig1.add_subplot(1,1,1)\n",
    "    pandas.DataFrame.from_dict(metric_dict).transpose().plot.bar(ax=ax1)\n",
    "    ax1.set_ylim([0.0, 1.0])\n",
    "    fig1.tight_layout()\n",
    "    return fig1\n"
   ]
  },
  {
   "cell_type": "code",
   "execution_count": 53,
   "id": "35b84ab9-8c1e-4698-93ce-510f03b3946c",
   "metadata": {},
   "outputs": [
    {
     "data": {
      "image/png": "[encoded data removed]",
      "text/plain": [
       "<Figure size 432x288 with 1 Axes>"
      ]
     },
     "execution_count": 53,
     "metadata": {},
     "output_type": "execute_result"
    }
   ],
   "source": [
    "plot_rotors_metrics(\n",
    "    rotors_model=rse_rotors_model,\n",
    "    X_dict= {'train': X_train, 'val': X_val},\n",
    "    y_dict= {'train': y_train[:,0], 'val': y_val[:,0]},\n",
    "    selected_split='val',\n",
    "    threshold=0.02,\n",
    ")"
   ]
  },
  {
   "cell_type": "code",
   "execution_count": 54,
   "id": "aed3f9dc-ee61-4309-a614-e01821f02b78",
   "metadata": {},
   "outputs": [],
   "source": [
    "split_select_widget = panel.widgets.Select(options=['train', 'val'])"
   ]
  },
  {
   "cell_type": "code",
   "execution_count": 55,
   "id": "db9b0a9f-2926-46cd-979b-5870346d66f9",
   "metadata": {},
   "outputs": [],
   "source": [
    "threshold_widget = panel.widgets.slider.FloatSlider(start=0.0,end=0.2,step=0.001, value=0.01)"
   ]
  },
  {
   "cell_type": "code",
   "execution_count": 56,
   "id": "b5b457e5-0cb6-4c01-845a-ce5eca505912",
   "metadata": {},
   "outputs": [],
   "source": [
    "metric_plotter = panel.bind(\n",
    "    functools.partial(plot_rotors_metrics, \n",
    "                      rotors_model=rse_rotors_model,\n",
    "                      X_dict= {'train': X_train, 'val': X_val},\n",
    "                      y_dict= {'train': y_train[:,0], 'val': y_val[:,0]},),\n",
    "    selected_split=split_select_widget,\n",
    "    threshold=threshold_widget,    \n",
    ")"
   ]
  },
  {
   "cell_type": "code",
   "execution_count": 57,
   "id": "9eac6d68-03a4-4aab-8ade-52920a88bdc2",
   "metadata": {},
   "outputs": [],
   "source": [
    "metric_dashboard = panel.Column(panel.Row(split_select_widget, threshold_widget), metric_plotter)"
   ]
  },
  {
   "cell_type": "code",
   "execution_count": 58,
   "id": "beefa54f-2c91-478d-a02a-c5edf689ded1",
   "metadata": {},
   "outputs": [
    {
     "data": {},
     "metadata": {},
     "output_type": "display_data"
    },
    {
     "data": {
      "application/vnd.holoviews_exec.v0+json": "",
      "text/html": [
       "<div id='1002'>\n",
       "  <div class=\"bk-root\" id=\"114416df-9f26-4271-b4bd-90d0ba2deb59\" data-root-id=\"1002\"></div>\n",
       "</div>\n",
       "<script type=\"application/javascript\">(function(root) {\n",
       "  function embed_document(root) {\n",
       "    var docs_json = {\"0626ea44-0837-4364-9ba5-5a6af3823760\":{\"defs\":[{\"extends\":null,\"module\":null,\"name\":\"ReactiveHTML1\",\"overrides\":[],\"properties\":[]},{\"extends\":null,\"module\":null,\"name\":\"FlexBox1\",\"overrides\":[],\"properties\":[{\"default\":\"flex-start\",\"kind\":null,\"name\":\"align_content\"},{\"default\":\"flex-start\",\"kind\":null,\"name\":\"align_items\"},{\"default\":\"row\",\"kind\":null,\"name\":\"flex_direction\"},{\"default\":\"wrap\",\"kind\":null,\"name\":\"flex_wrap\"},{\"default\":\"flex-start\",\"kind\":null,\"name\":\"justify_content\"}]},{\"extends\":null,\"module\":null,\"name\":\"GridStack1\",\"overrides\":[],\"properties\":[{\"default\":\"warn\",\"kind\":null,\"name\":\"mode\"},{\"default\":null,\"kind\":null,\"name\":\"ncols\"},{\"default\":null,\"kind\":null,\"name\":\"nrows\"},{\"default\":true,\"kind\":null,\"name\":\"allow_resize\"},{\"default\":true,\"kind\":null,\"name\":\"allow_drag\"},{\"default\":[],\"kind\":null,\"name\":\"state\"}]},{\"extends\":null,\"module\":null,\"name\":\"click1\",\"overrides\":[],\"properties\":[{\"default\":\"\",\"kind\":null,\"name\":\"terminal_output\"},{\"default\":\"\",\"kind\":null,\"name\":\"debug_name\"},{\"default\":0,\"kind\":null,\"name\":\"clears\"}]},{\"extends\":null,\"module\":null,\"name\":\"NotificationAreaBase1\",\"overrides\":[],\"properties\":[{\"default\":\"bottom-right\",\"kind\":null,\"name\":\"position\"},{\"default\":0,\"kind\":null,\"name\":\"_clear\"}]},{\"extends\":null,\"module\":null,\"name\":\"NotificationArea1\",\"overrides\":[],\"properties\":[{\"default\":[],\"kind\":null,\"name\":\"notifications\"},{\"default\":\"bottom-right\",\"kind\":null,\"name\":\"position\"},{\"default\":0,\"kind\":null,\"name\":\"_clear\"},{\"default\":[{\"background\":\"#ffc107\",\"icon\":{\"className\":\"fas fa-exclamation-triangle\",\"color\":\"white\",\"tagName\":\"i\"},\"type\":\"warning\"},{\"background\":\"#007bff\",\"icon\":{\"className\":\"fas fa-info-circle\",\"color\":\"white\",\"tagName\":\"i\"},\"type\":\"info\"}],\"kind\":null,\"name\":\"types\"}]},{\"extends\":null,\"module\":null,\"name\":\"Notification\",\"overrides\":[],\"properties\":[{\"default\":null,\"kind\":null,\"name\":\"background\"},{\"default\":3000,\"kind\":null,\"name\":\"duration\"},{\"default\":null,\"kind\":null,\"name\":\"icon\"},{\"default\":\"\",\"kind\":null,\"name\":\"message\"},{\"default\":null,\"kind\":null,\"name\":\"notification_type\"},{\"default\":false,\"kind\":null,\"name\":\"_destroyed\"}]},{\"extends\":null,\"module\":null,\"name\":\"TemplateActions1\",\"overrides\":[],\"properties\":[{\"default\":0,\"kind\":null,\"name\":\"open_modal\"},{\"default\":0,\"kind\":null,\"name\":\"close_modal\"}]},{\"extends\":null,\"module\":null,\"name\":\"MaterialTemplateActions1\",\"overrides\":[],\"properties\":[{\"default\":0,\"kind\":null,\"name\":\"open_modal\"},{\"default\":0,\"kind\":null,\"name\":\"close_modal\"}]}],\"roots\":{\"references\":[{\"attributes\":{\"children\":[{\"id\":\"1007\"}],\"margin\":[0,0,0,0],\"name\":\"Row00108\"},\"id\":\"1006\",\"type\":\"Row\"},{\"attributes\":{\"client_comm_id\":\"9d21beb3d8964f9b96016b3c95d573d3\",\"comm_id\":\"6c93189edadd418ca81cad3d4db4f56b\",\"plot_id\":\"1002\"},\"id\":\"1008\",\"type\":\"panel.models.comm_manager.CommManager\"},{\"attributes\":{\"reload\":false},\"id\":\"1009\",\"type\":\"panel.models.location.Location\"},{\"attributes\":{\"height\":576,\"margin\":[5,5,5,5],\"name\":\"ParamFunction00104\",\"text\":\"&lt;img src=&quot;data:image/png;base64,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&quot; width=&quot;864px&quot; height=&quot;576px&quot; alt=&quot;&quot;&gt;&lt;/img&gt;\",\"width\":864},\"id\":\"1007\",\"type\":\"panel.models.markup.HTML\"},{\"attributes\":{\"end\":0.2,\"margin\":[5,10,5,10],\"start\":0.0,\"step\":0.001,\"value\":0.01},\"id\":\"1005\",\"type\":\"Slider\"},{\"attributes\":{\"margin\":[5,10,5,10],\"options\":[\"train\",\"val\"],\"value\":\"train\"},\"id\":\"1004\",\"type\":\"panel.models.widgets.CustomSelect\"},{\"attributes\":{\"children\":[{\"id\":\"1003\"},{\"id\":\"1006\"}],\"margin\":[0,0,0,0],\"name\":\"Column00111\"},\"id\":\"1002\",\"type\":\"Column\"},{\"attributes\":{\"children\":[{\"id\":\"1004\"},{\"id\":\"1005\"}],\"margin\":[0,0,0,0],\"name\":\"Row00103\"},\"id\":\"1003\",\"type\":\"Row\"}],\"root_ids\":[\"1002\",\"1008\",\"1009\"]},\"title\":\"Bokeh Application\",\"version\":\"2.4.3\"}};\n",
       "    var render_items = [{\"docid\":\"0626ea44-0837-4364-9ba5-5a6af3823760\",\"root_ids\":[\"1002\"],\"roots\":{\"1002\":\"114416df-9f26-4271-b4bd-90d0ba2deb59\"}}];\n",
       "    root.Bokeh.embed.embed_items_notebook(docs_json, render_items);\n",
       "  }\n",
       "  if (root.Bokeh !== undefined && root.Bokeh.Panel !== undefined) {\n",
       "    embed_document(root);\n",
       "  } else {\n",
       "    var attempts = 0;\n",
       "    var timer = setInterval(function(root) {\n",
       "      if (root.Bokeh !== undefined && root.Bokeh.Panel !== undefined) {\n",
       "        clearInterval(timer);\n",
       "        embed_document(root);\n",
       "      } else if (document.readyState == \"complete\") {\n",
       "        attempts++;\n",
       "        if (attempts > 200) {\n",
       "          clearInterval(timer);\n",
       "          console.log(\"Bokeh: ERROR: Unable to run BokehJS code because BokehJS library is missing\");\n",
       "        }\n",
       "      }\n",
       "    }, 25, root)\n",
       "  }\n",
       "})(window);</script>"
      ],
      "text/plain": [
       "Column\n",
       "    [0] Row\n",
       "        [0] Select(options=['train', 'val'], value='train')\n",
       "        [1] FloatSlider(end=0.2, step=0.001, value=0.01)\n",
       "    [1] ParamFunction(function)"
      ]
     },
     "execution_count": 58,
     "metadata": {
      "application/vnd.holoviews_exec.v0+json": {
       "id": "1002"
      }
     },
     "output_type": "execute_result"
    }
   ],
   "source": [
    "metric_dashboard.servable()"
   ]
  },
  {
   "cell_type": "markdown",
   "id": "bbd99e5a-97ed-4678-8708-59986c829576",
   "metadata": {},
   "source": [
    "Our very basic dashboard is:\n",
    "* loading data from a catalog\n",
    "* loading a pre-trained model from catalog of pretrained models\n",
    "* display plots  created on demand through an interactive dashboard.\n",
    "\n",
    "Although this seems very simple (well, it is), this is a very scalable approach. We can easily make this better by\n",
    "* Using a larger dataset.\n",
    "* scaling up the calculation required through a workflow engine (e..g. dask, ray)\n",
    "* run this on the cloud\n",
    "* use more complicated/interesting plots\n",
    "\n"
   ]
  },
  {
   "cell_type": "markdown",
   "id": "ab1a922e-1b0f-42a2-af94-098dcca0903b",
   "metadata": {},
   "source": [
    "# Example - Explainable AI\n",
    "\n",
    "Lastly we'll briefly touch on an important emerging part of machine learning called interpretability or explainability or explainable AI (XAI). This aims to open up the \"black box\" of the machine learning algorithms and try to understand how predictions are made and what they mean. Often this reolves in understanding the contribution or importance of a particular feature or data point in the training set. In many ways this is calculated and displayed and stored in the same way as the performance metrics displayed above, so from a workflow or engineering perspective it is perhaps not that noteworthy. It is an increasingly important and impactful part of a machine learning pipeline and researchers are generally now expected to include some aspect of XAI in any publications for research depending on machine learning, so it is important for RSEs to be aware of this important class of tools which they will likely have to support in ML projects, including seamless scaling up on XAI computation and being able to do these calculations in a reliable, reproducible way. \n",
    "\n",
    "Common tools\n",
    "* [scikit learn permutation featue importance](https://scikit-learn.org/stable/modules/permutation_importance.html)\n",
    "* [SHAP](https://shap.readthedocs.io/en/latest/index.html)\n",
    "* [OmniXAI](https://github.com/salesforce/OmniXAI)\n",
    "\n"
   ]
  },
  {
   "cell_type": "code",
   "execution_count": 67,
   "id": "03d1dcd2-80ca-486f-8c5e-2e4545063d78",
   "metadata": {},
   "outputs": [
    {
     "data": {
      "text/plain": [
       "(2913, 88)"
      ]
     },
     "execution_count": 67,
     "metadata": {},
     "output_type": "execute_result"
    }
   ],
   "source": [
    "X_val.shape"
   ]
  },
  {
   "cell_type": "code",
   "execution_count": 71,
   "id": "c9c1f7e2-f8fd-4792-909b-c8485550bb7c",
   "metadata": {},
   "outputs": [],
   "source": [
    "import copy"
   ]
  },
  {
   "cell_type": "code",
   "execution_count": 86,
   "id": "dbd1877f-a1df-4cc5-81d8-a6c7198e330b",
   "metadata": {},
   "outputs": [],
   "source": [
    "recall_baseline = sklearn.metrics.recall_score(y_val[:,0] , reg_model.predict(X_val)[:,0] > 1e-2)"
   ]
  },
  {
   "cell_type": "code",
   "execution_count": 128,
   "id": "ca985f81-f312-4dad-862d-ed36b73ccc3d",
   "metadata": {},
   "outputs": [],
   "source": [
    "def calc_pfi_metric(rotors_reg_model_name, X_val, y_val, ix1, ix2):\n",
    "    reg_model = mlflow.pyfunc.load_model(mlflow_client.get_registered_model(rotors_reg_model_name).latest_versions[0].source)\n",
    "    pfi_X = copy.deepcopy(X_val)\n",
    "    pfi_X[:,ix1] = X_val[:,ix2]\n",
    "    pfi_X[:,ix2] = X_val[:,ix1]\n",
    "    recall_accum = sklearn.metrics.recall_score(y_val[:,0] , reg_model.predict(pfi_X)[:,0] > 1e-2)\n",
    "    return recall_accum\n"
   ]
  },
  {
   "cell_type": "code",
   "execution_count": 122,
   "id": "ae91ffef-120a-4690-bdf7-59b498766306",
   "metadata": {},
   "outputs": [],
   "source": [
    "import random"
   ]
  },
  {
   "cell_type": "code",
   "execution_count": 134,
   "id": "74214c46-c4f6-4249-88f1-4bc1ca1d7dbd",
   "metadata": {},
   "outputs": [],
   "source": [
    "import warnings\n",
    "warnings.filterwarnings(\"ignore\")"
   ]
  },
  {
   "cell_type": "code",
   "execution_count": 140,
   "id": "51317ba1-2cbd-44e2-bad2-87957a98950d",
   "metadata": {},
   "outputs": [
    {
     "name": "stdout",
     "output_type": "stream",
     "text": [
      "0\n",
      "1\n",
      "2\n",
      "3\n",
      "4\n",
      "5\n",
      "6\n",
      "7\n",
      "8\n",
      "9\n",
      "10\n",
      "11\n",
      "12\n",
      "13\n",
      "14\n",
      "15\n",
      "16\n",
      "17\n",
      "18\n",
      "19\n",
      "20\n",
      "21\n",
      "22\n",
      "23\n",
      "24\n",
      "25\n",
      "26\n",
      "27\n",
      "28\n",
      "29\n",
      "30\n",
      "31\n",
      "32\n",
      "33\n",
      "34\n",
      "35\n",
      "36\n",
      "37\n",
      "38\n",
      "39\n",
      "40\n",
      "41\n",
      "42\n",
      "43\n",
      "44\n",
      "45\n",
      "46\n",
      "47\n",
      "48\n",
      "49\n",
      "50\n",
      "51\n",
      "52\n",
      "53\n",
      "54\n",
      "55\n",
      "56\n",
      "57\n",
      "58\n",
      "59\n",
      "60\n",
      "61\n",
      "62\n",
      "63\n",
      "64\n",
      "65\n",
      "66\n",
      "67\n",
      "68\n",
      "69\n",
      "70\n",
      "71\n",
      "72\n",
      "73\n",
      "74\n",
      "75\n",
      "76\n",
      "77\n",
      "78\n",
      "79\n",
      "80\n",
      "81\n",
      "82\n",
      "83\n",
      "84\n",
      "85\n",
      "86\n",
      "87\n",
      "CPU times: user 7min 27s, sys: 1min 3s, total: 8min 31s\n",
      "Wall time: 4min 42s\n"
     ]
    }
   ],
   "source": [
    "%%time\n",
    "c = numpy.zeros(X_val.shape[1])\n",
    "for ix1 in range(X_val.shape[1]):\n",
    "    print(ix1)\n",
    "    recall_diffs = sum([calc_pfi_metric(rotors_reg_model_name, \n",
    "                                        X_val, \n",
    "                                        y_val, \n",
    "                                        ix1, \n",
    "                                        random.randint(0,87)) - recall_baseline \n",
    "                        for i2 in range(3)])\n",
    "    recall_average_changes[ix1] =  recall_diffs / 3.0\n",
    "    "
   ]
  },
  {
   "cell_type": "code",
   "execution_count": 141,
   "id": "7e246280-a794-4f67-a996-f898a83fa4f4",
   "metadata": {},
   "outputs": [
    {
     "data": {
      "text/plain": [
       "<AxesSubplot:>"
      ]
     },
     "execution_count": 141,
     "metadata": {},
     "output_type": "execute_result"
    },
    {
     "data": {
      "image/png": "[encoded data removed]",
      "text/plain": [
       "<Figure size 1152x720 with 1 Axes>"
      ]
     },
     "metadata": {
      "needs_background": "light"
     },
     "output_type": "display_data"
    }
   ],
   "source": [
    "pandas.Series(recall_average_changes).plot.bar(figsize=(16,10))"
   ]
  },
  {
   "cell_type": "markdown",
   "id": "ea23697e-c0b7-45c2-8cba-fb73e38e24ea",
   "metadata": {},
   "source": [
    "## Further reading\n",
    "\n",
    "* [Explainable AI - Towards Data Science](https://towardsdatascience.com/what-is-explainable-ai-xai-afc56938d513)"
   ]
  },
  {
   "cell_type": "markdown",
   "id": "d6f9d47a-68f5-41d4-b779-080a63ede546",
   "metadata": {},
   "source": [
    "### Reference\n",
    "\n",
    "* [Holoviz](https://holoviz.org/) \n",
    "* [ML Flow Models](https://www.mlflow.org/docs/latest/models.html)\n",
    "* [scikit learn model evaluation](https://scikit-learn.org/stable/modules/model_evaluation.html)\n",
    "* [OmniXAI](https://github.com/salesforce/OmniXAI)"
   ]
  }
 ],
 "metadata": {
  "kernelspec": {
   "display_name": "Python 3 (ipykernel)",
   "language": "python",
   "name": "python3"
  },
  "language_info": {
   "codemirror_mode": {
    "name": "ipython",
    "version": 3
   },
   "file_extension": ".py",
   "mimetype": "text/x-python",
   "name": "python",
   "nbconvert_exporter": "python",
   "pygments_lexer": "ipython3",
   "version": "3.8.13"
  }
 },
 "nbformat": 4,
 "nbformat_minor": 5
}
