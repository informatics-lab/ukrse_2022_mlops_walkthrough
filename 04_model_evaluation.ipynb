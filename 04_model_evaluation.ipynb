{
 "cells": [
  {
   "cell_type": "markdown",
   "id": "79a8d9c7-2a11-42ec-ba7f-0bdc208484d8",
   "metadata": {},
   "source": [
    "# MLOps Walkthrough - Model Evaluation\n",
    "\n"
   ]
  },
  {
   "cell_type": "markdown",
   "id": "eebf44a4-75a5-40a1-9847-698c9be7dba7",
   "metadata": {},
   "source": [
    "### Understanding, evaluating and reusing ML assets"
   ]
  },
  {
   "cell_type": "markdown",
   "id": "195024ac-c02d-49f4-b238-5a9c9184c890",
   "metadata": {},
   "source": [
    "### Key Principles\n",
    "* reusable components - making model results available to other researchers\n",
    "* running at scale - serving many results\n",
    "* interactive exploration of results (predictions and XAI)"
   ]
  },
  {
   "cell_type": "markdown",
   "id": "cd92781d-deb7-4747-a5b2-783b5c0c4bd9",
   "metadata": {},
   "source": [
    "### Key Tasks for RSEs\n",
    "* Setting up infrastrcuture to serve models and model results\n",
    "* Creating model evaluation and testing suites/workflows to evaluate model performance in a reproducible and comparable way\n",
    "* Supporting tools for interpretability and explainability (XAI)\n",
    "* Creating dashboard for ML outputs including\n",
    "  * predictions from inference\n",
    "  * performance metrics\n",
    "  * explainability metrics\n"
   ]
  },
  {
   "cell_type": "markdown",
   "id": "5414ee44-39c9-4025-8ab6-fdc67b53e365",
   "metadata": {},
   "source": [
    "### Key Terms\n",
    "* inference\n",
    "* XAI\n",
    "* explainabiliuty\n",
    "* interpretability\n",
    "* metrics\n"
   ]
  },
  {
   "cell_type": "markdown",
   "id": "5936aae0-817f-4ec7-9811-9ca4451bd8d9",
   "metadata": {},
   "source": [
    "### Key Tools\n",
    "* model storage/loading (mlflow, onnx)\n",
    "* inference (mlflow, ray serve)\n",
    "* workflow (ray)\n",
    "* metrics (scikit learn)\n",
    "* XAI (scikit learn, shap, omni xai)\n",
    "* dashboards (matplotlib, bokeh, holoviz)"
   ]
  },
  {
   "cell_type": "markdown",
   "id": "d606c3eb-ec9e-4f5d-a525-b1977e676769",
   "metadata": {},
   "source": [
    "### Running this notebook\n",
    "This notebook should run from a conda environment created with the [requirements_evaluation.yml file](requirements_evaluation.yml). See the readme file for info on how to set up a conda environment for using this notebook."
   ]
  },
  {
   "cell_type": "markdown",
   "id": "eaa4debb-ccfb-4c33-8a74-f9930192c522",
   "metadata": {},
   "source": [
    "## Loading trained models for inference\n",
    "\n",
    "Once you've trained a model, or more usually in a research several different models to explore different options for you model such as different model architectures, different input features or different training datasets, you then want to evaluate the performance of each model (using performance metrics) and also understand how it is making (using interpretability and explainability techniques).\n",
    "\n"
   ]
  },
  {
   "cell_type": "code",
   "execution_count": 1,
   "id": "4a5fc1e3-2937-491a-9c53-230dcfbe753d",
   "metadata": {},
   "outputs": [],
   "source": [
    "import datetime\n",
    "import os\n",
    "import pathlib\n",
    "import functools"
   ]
  },
  {
   "cell_type": "code",
   "execution_count": 2,
   "id": "4e691dd7-9422-41b2-935e-dc888e3aff64",
   "metadata": {},
   "outputs": [],
   "source": [
    "import intake"
   ]
  },
  {
   "cell_type": "code",
   "execution_count": 3,
   "id": "0c9e7336-876a-4d44-8d62-d7d800499e75",
   "metadata": {},
   "outputs": [],
   "source": [
    "import numpy\n",
    "import pandas"
   ]
  },
  {
   "cell_type": "code",
   "execution_count": 4,
   "id": "faa635de-60e3-44bc-bfd3-63cb8550820b",
   "metadata": {},
   "outputs": [],
   "source": [
    "import matplotlib\n",
    "import matplotlib.pyplot"
   ]
  },
  {
   "cell_type": "code",
   "execution_count": 5,
   "id": "b7df5af6-c6d2-4ecb-b794-b6fb99c74882",
   "metadata": {},
   "outputs": [],
   "source": [
    "import sklearn\n",
    "import sklearn.preprocessing\n",
    "import sklearn.metrics"
   ]
  },
  {
   "cell_type": "markdown",
   "id": "a2f4a772-f414-4a3e-9aec-457ef4a1a5d2",
   "metadata": {
    "tags": []
   },
   "source": [
    "### Get train and test data"
   ]
  },
  {
   "cell_type": "code",
   "execution_count": 6,
   "id": "f41f2246-f7ab-46aa-aecd-9c4b44af688a",
   "metadata": {},
   "outputs": [
    {
     "name": "stdout",
     "output_type": "stream",
     "text": [
      "using default path\n"
     ]
    },
    {
     "data": {
      "text/plain": [
       "PosixPath('/Users/stephen.haddad/data/ukrse2022')"
      ]
     },
     "execution_count": 6,
     "metadata": {},
     "output_type": "execute_result"
    }
   ],
   "source": [
    "try:\n",
    "    rse_root_data_dir = pathlib.Path(os.environ['RSE22_ROOT_DATA_DIR'])\n",
    "    print('reading from environment variable')\n",
    "except KeyError as ke1:\n",
    "    rse_root_data_dir = pathlib.Path(os.environ['HOME'])  / 'data' / 'ukrse2022'\n",
    "    print('using default path')\n",
    "rse_root_data_dir"
   ]
  },
  {
   "cell_type": "code",
   "execution_count": 7,
   "id": "59bc54fe-d501-4579-8a06-0fdf3cc10144",
   "metadata": {},
   "outputs": [
    {
     "data": {
      "application/yaml": "rotors_catalog:\n  args:\n    path: /Users/stephen.haddad/data/ukrse2022/rotors_catalog.yml\n  description: ''\n  driver: intake.catalog.local.YAMLFileCatalog\n  metadata: {}\n",
      "text/plain": [
       "rotors_catalog:\n",
       "  args:\n",
       "    path: /Users/stephen.haddad/data/ukrse2022/rotors_catalog.yml\n",
       "  description: ''\n",
       "  driver: intake.catalog.local.YAMLFileCatalog\n",
       "  metadata: {}\n"
      ]
     },
     "metadata": {
      "application/json": {
       "root": "rotors_catalog"
      }
     },
     "output_type": "display_data"
    }
   ],
   "source": [
    "rotors_catalog = intake.open_catalog(rse_root_data_dir / 'rotors_catalog.yml')\n",
    "rotors_catalog "
   ]
  },
  {
   "cell_type": "code",
   "execution_count": 8,
   "id": "0e8e3df9-82ad-49bc-8835-e89589f42131",
   "metadata": {},
   "outputs": [],
   "source": [
    "rotors_df = rotors_catalog['rotors_preprocessed'].read()"
   ]
  },
  {
   "cell_type": "code",
   "execution_count": 9,
   "id": "3e7839fc-4c94-4df1-a54f-7e6790ed498a",
   "metadata": {},
   "outputs": [],
   "source": [
    "# one small bit of cleaning: ensuring the correct datetime type for our time feature\n",
    "rotors_df['time'] = pandas.to_datetime(rotors_df['time'])\n",
    "temp_feature_names = [f'air_temp_{i1}' for i1 in range(1,23)]\n",
    "humidity_feature_names = [f'sh_{i1}' for i1 in range(1,23)]\n",
    "wind_direction_feature_names = [f'winddir_{i1}' for i1 in range(1,23)]\n",
    "wind_speed_feature_names = [f'windspd_{i1}' for i1 in range(1,23)]\n",
    "u_wind_feature_names = [f'u_wind_{i1}' for i1 in range(1,23)]\n",
    "v_wind_feature_names = [f'v_wind_{i1}' for i1 in range(1,23)]\n",
    "target_feature_name = 'rotors_present'\n"
   ]
  },
  {
   "cell_type": "code",
   "execution_count": 10,
   "id": "81147a95-0fe3-4445-9f57-ed087a484ac7",
   "metadata": {},
   "outputs": [],
   "source": [
    "train_df = rotors_df[rotors_df['time'] < datetime.datetime(2020,1,1,0,0)]\n",
    "val_df = rotors_df[rotors_df['time'] > datetime.datetime(2020,1,1,0,0)]"
   ]
  },
  {
   "cell_type": "code",
   "execution_count": 11,
   "id": "f7e5dbdd-a489-467b-980f-6303cb8f7f2d",
   "metadata": {},
   "outputs": [],
   "source": [
    "input_feature_names = temp_feature_names + humidity_feature_names + u_wind_feature_names + v_wind_feature_names"
   ]
  },
  {
   "cell_type": "code",
   "execution_count": 12,
   "id": "5fb08596-5929-4740-be7d-68b04de0560c",
   "metadata": {},
   "outputs": [],
   "source": [
    "preproc_dict = {}\n",
    "for if1 in input_feature_names:\n",
    "    scaler1 = sklearn.preprocessing.StandardScaler()\n",
    "    scaler1.fit(train_df[[if1]])\n",
    "    preproc_dict[if1] = scaler1"
   ]
  },
  {
   "cell_type": "code",
   "execution_count": 13,
   "id": "27a5351c-7dc3-499b-9ab0-41d31ea901e8",
   "metadata": {},
   "outputs": [
    {
     "name": "stderr",
     "output_type": "stream",
     "text": [
      "/Users/stephen.haddad/opt/anaconda3/envs/ukrse2022_mlops_model_evaluation/lib/python3.8/site-packages/sklearn/utils/validation.py:63: DataConversionWarning: A column-vector y was passed when a 1d array was expected. Please change the shape of y to (n_samples, ), for example using ravel().\n",
      "  return f(*args, **kwargs)\n"
     ]
    },
    {
     "data": {
      "text/plain": [
       "LabelEncoder()"
      ]
     },
     "execution_count": 13,
     "metadata": {},
     "output_type": "execute_result"
    }
   ],
   "source": [
    "target_encoder = sklearn.preprocessing.LabelEncoder()\n",
    "target_encoder.fit(train_df[[target_feature_name]])\n"
   ]
  },
  {
   "cell_type": "code",
   "execution_count": 14,
   "id": "0955993b-0abe-452b-8614-164e84bde621",
   "metadata": {},
   "outputs": [],
   "source": [
    "def preproc_input(data_subset, pp_dict):\n",
    "    return numpy.concatenate([scaler1.transform(data_subset[[if1]]) for if1,scaler1 in pp_dict.items()],axis=1)\n",
    "\n",
    "def preproc_target(data_subset, enc1):\n",
    "     return enc1.transform(data_subset[[target_feature_name]])"
   ]
  },
  {
   "cell_type": "code",
   "execution_count": 15,
   "id": "f3a92a60-19a1-4308-8129-e425e5fd2219",
   "metadata": {},
   "outputs": [
    {
     "name": "stderr",
     "output_type": "stream",
     "text": [
      "/Users/stephen.haddad/opt/anaconda3/envs/ukrse2022_mlops_model_evaluation/lib/python3.8/site-packages/sklearn/utils/validation.py:63: DataConversionWarning: A column-vector y was passed when a 1d array was expected. Please change the shape of y to (n_samples, ), for example using ravel().\n",
      "  return f(*args, **kwargs)\n"
     ]
    }
   ],
   "source": [
    "X_train = preproc_input(train_df, preproc_dict)\n",
    "y_train = numpy.concatenate(\n",
    "    [preproc_target(train_df, target_encoder).reshape((-1,1)),\n",
    "    1.0 - (preproc_target(train_df, target_encoder).reshape((-1,1))),],\n",
    "    axis=1\n",
    ")"
   ]
  },
  {
   "cell_type": "code",
   "execution_count": 16,
   "id": "b8dd5a37-677b-4111-811d-568ef327f6c3",
   "metadata": {},
   "outputs": [
    {
     "name": "stderr",
     "output_type": "stream",
     "text": [
      "/Users/stephen.haddad/opt/anaconda3/envs/ukrse2022_mlops_model_evaluation/lib/python3.8/site-packages/sklearn/utils/validation.py:63: DataConversionWarning: A column-vector y was passed when a 1d array was expected. Please change the shape of y to (n_samples, ), for example using ravel().\n",
      "  return f(*args, **kwargs)\n"
     ]
    }
   ],
   "source": [
    "X_val = preproc_input(val_df, preproc_dict)\n",
    "y_val = numpy.concatenate(\n",
    "    [preproc_target(val_df, target_encoder).reshape((-1,1)),\n",
    "    1.0 - (preproc_target(val_df, target_encoder).reshape((-1,1))),],\n",
    "    axis=1\n",
    ")"
   ]
  },
  {
   "cell_type": "markdown",
   "id": "00f2f674-99be-48ec-a61e-5fb604dc6444",
   "metadata": {},
   "source": [
    "### Load in trained model\n",
    "We will now get a model from our most recent run, which will use to do inference and calculate metrics."
   ]
  },
  {
   "cell_type": "code",
   "execution_count": 17,
   "id": "135f46c4-e8b2-4d59-b3bb-147e785fb78c",
   "metadata": {},
   "outputs": [],
   "source": [
    "import mlflow\n",
    "import mlflow.models"
   ]
  },
  {
   "cell_type": "code",
   "execution_count": 18,
   "id": "bcdee2a1-0ca0-4ff8-9171-2ca40c65c0a6",
   "metadata": {},
   "outputs": [
    {
     "data": {
      "text/plain": [
       "'http://127.0.0.1:5001'"
      ]
     },
     "execution_count": 18,
     "metadata": {},
     "output_type": "execute_result"
    }
   ],
   "source": [
    "mlflow_server_address = '127.0.0.1'\n",
    "mlflow_server_port = 5001\n",
    "mlflow_server_uri = f'http://{mlflow_server_address}:{mlflow_server_port:d}'\n",
    "mlflow_server_uri    "
   ]
  },
  {
   "cell_type": "code",
   "execution_count": 19,
   "id": "52a4f424-998e-439e-88eb-6740238f4fae",
   "metadata": {},
   "outputs": [],
   "source": [
    "mlflow.set_tracking_uri(mlflow_server_uri)"
   ]
  },
  {
   "cell_type": "code",
   "execution_count": 20,
   "id": "e2b5fa98-4f92-4df7-97d0-1736d5c953fd",
   "metadata": {},
   "outputs": [],
   "source": [
    "rse_rotors_experiment_name = 'rse_mlops_demo_rotors'"
   ]
  },
  {
   "cell_type": "code",
   "execution_count": 21,
   "id": "92e35c21-6209-429a-816b-c7c47dc39417",
   "metadata": {},
   "outputs": [
    {
     "data": {
      "text/plain": [
       "<Experiment: artifact_location='/Users/stephen.haddad/data/ukrse2022/artifacts/1', experiment_id='1', lifecycle_stage='active', name='rse_mlops_demo_rotors', tags={}>"
      ]
     },
     "execution_count": 21,
     "metadata": {},
     "output_type": "execute_result"
    }
   ],
   "source": [
    "rse_rotors_experiment = mlflow.get_experiment_by_name(rse_rotors_experiment_name)\n",
    "rse_rotors_experiment"
   ]
  },
  {
   "cell_type": "code",
   "execution_count": 22,
   "id": "b2240f6f-1ff4-40ff-a891-9b04842e9d98",
   "metadata": {},
   "outputs": [
    {
     "data": {
      "text/plain": [
       "('c5becc89c46e4cfd82441cc37ab6afbf',\n",
       " datetime.datetime(2022, 8, 17, 19, 12, 33, 80000))"
      ]
     },
     "execution_count": 22,
     "metadata": {},
     "output_type": "execute_result"
    }
   ],
   "source": [
    "latest_run_info  = sorted(mlflow.list_run_infos(rse_rotors_experiment.experiment_id), key=lambda run1: run1.end_time)[-1]\n",
    "latest_run_info.run_id, datetime.datetime.fromtimestamp(latest_run_info.end_time / 1000)"
   ]
  },
  {
   "cell_type": "code",
   "execution_count": 23,
   "id": "9251ccf7-0990-4bc4-905f-843e7dfde870",
   "metadata": {},
   "outputs": [
    {
     "name": "stderr",
     "output_type": "stream",
     "text": [
      "2022-08-24 16:44:33.135092: I tensorflow/core/platform/cpu_feature_guard.cc:151] This TensorFlow binary is optimized with oneAPI Deep Neural Network Library (oneDNN) to use the following CPU instructions in performance-critical operations:  SSE4.1 SSE4.2 AVX AVX2 AVX512F FMA\n",
      "To enable them in other operations, rebuild TensorFlow with the appropriate compiler flags.\n"
     ]
    },
    {
     "data": {
      "text/plain": [
       "<keras.engine.sequential.Sequential at 0x7fb75c93cd30>"
      ]
     },
     "execution_count": 23,
     "metadata": {},
     "output_type": "execute_result"
    }
   ],
   "source": [
    "rse_rotors_model = mlflow.keras.load_model(latest_run_info.artifact_uri + '/model')\n",
    "rse_rotors_model"
   ]
  },
  {
   "cell_type": "code",
   "execution_count": 24,
   "id": "3b7c5050-a8af-4f28-849e-ce9a94437c45",
   "metadata": {},
   "outputs": [
    {
     "data": {
      "text/plain": [
       "array([[8.2105380e-06, 9.9999177e-01],\n",
       "       [1.0245468e-04, 9.9989748e-01],\n",
       "       [3.7846921e-04, 9.9962151e-01],\n",
       "       ...,\n",
       "       [4.4974138e-10, 1.0000000e+00],\n",
       "       [4.1534731e-06, 9.9999583e-01],\n",
       "       [3.7166660e-03, 9.9628335e-01]], dtype=float32)"
      ]
     },
     "execution_count": 24,
     "metadata": {},
     "output_type": "execute_result"
    }
   ],
   "source": [
    "rse_rotors_model.predict(X_val)"
   ]
  },
  {
   "cell_type": "markdown",
   "id": "e223ddb7-db5a-4cf5-bff2-37f95bca856f",
   "metadata": {},
   "source": [
    "Alternatively we can access the model through the URI specififed as `runs:/{run_id}` as described in the [ML Flow concepts page](https://www.mlflow.org/docs/latest/concepts.html)"
   ]
  },
  {
   "cell_type": "code",
   "execution_count": 25,
   "id": "9c8dcdbe-6271-4ef4-9b3b-13e15056ebff",
   "metadata": {},
   "outputs": [
    {
     "data": {
      "text/plain": [
       "'runs:/c5becc89c46e4cfd82441cc37ab6afbf/model'"
      ]
     },
     "execution_count": 25,
     "metadata": {},
     "output_type": "execute_result"
    }
   ],
   "source": [
    "latest_run_saved_model_uri = f'runs:/{latest_run_info.run_id}/model'\n",
    "latest_run_saved_model_uri"
   ]
  },
  {
   "cell_type": "code",
   "execution_count": 26,
   "id": "0ddbe4bc-37ad-4767-868a-802665459cf6",
   "metadata": {},
   "outputs": [
    {
     "data": {
      "text/plain": [
       "array([[8.2105380e-06, 9.9999177e-01],\n",
       "       [1.0245468e-04, 9.9989748e-01],\n",
       "       [3.7846921e-04, 9.9962151e-01],\n",
       "       ...,\n",
       "       [4.4974138e-10, 1.0000000e+00],\n",
       "       [4.1534731e-06, 9.9999583e-01],\n",
       "       [3.7166660e-03, 9.9628335e-01]], dtype=float32)"
      ]
     },
     "execution_count": 26,
     "metadata": {},
     "output_type": "execute_result"
    }
   ],
   "source": [
    "mlflow.keras.load_model(latest_run_saved_model_uri).predict(X_val)"
   ]
  },
  {
   "cell_type": "markdown",
   "id": "4469940f-8b11-4693-9797-c74c72d7a4f2",
   "metadata": {},
   "source": [
    "### Using the MLFlow model wrapping interface\n",
    "\n",
    "You can use the ML Flow models module to be able to use models from different frameworks interchangeably for inference purposes."
   ]
  },
  {
   "cell_type": "code",
   "execution_count": 27,
   "id": "f7958c23-2389-4c16-8151-f7533bd1db57",
   "metadata": {},
   "outputs": [],
   "source": [
    "logged_model = 'runs:/c5becc89c46e4cfd82441cc37ab6afbf/model'\n",
    "\n"
   ]
  },
  {
   "cell_type": "code",
   "execution_count": 28,
   "id": "1554f5d2-2926-49e3-9cbb-fcf6e5bf74e4",
   "metadata": {},
   "outputs": [
    {
     "name": "stderr",
     "output_type": "stream",
     "text": [
      "/Users/stephen.haddad/opt/anaconda3/envs/ukrse2022_mlops_model_evaluation/lib/python3.8/site-packages/keras/backend.py:450: UserWarning: `tf.keras.backend.set_learning_phase` is deprecated and will be removed after 2020-10-11. To update it, simply pass a True/False value to the `training` argument of the `__call__` method of your layer or model.\n",
      "  warnings.warn('`tf.keras.backend.set_learning_phase` is deprecated and '\n"
     ]
    },
    {
     "data": {
      "text/plain": [
       "mlflow.pyfunc.loaded_model:\n",
       "  artifact_path: model\n",
       "  flavor: mlflow.keras\n",
       "  run_id: c5becc89c46e4cfd82441cc37ab6afbf"
      ]
     },
     "execution_count": 28,
     "metadata": {},
     "output_type": "execute_result"
    }
   ],
   "source": [
    "loaded_model = mlflow.pyfunc.load_model(logged_model)\n",
    "loaded_model"
   ]
  },
  {
   "cell_type": "code",
   "execution_count": 29,
   "id": "430e86f8-77e9-475a-a068-e31d107fcf2b",
   "metadata": {},
   "outputs": [
    {
     "data": {
      "text/plain": [
       "2900"
      ]
     },
     "execution_count": 29,
     "metadata": {},
     "output_type": "execute_result"
    }
   ],
   "source": [
    "sum(loaded_model.predict(X_val).argmax(axis=1) == 1)\n"
   ]
  },
  {
   "cell_type": "code",
   "execution_count": 30,
   "id": "5e4842a3-2849-43a2-8190-0c2be61dd867",
   "metadata": {},
   "outputs": [
    {
     "data": {
      "text/plain": [
       "array([[8.2105380e-06, 9.9999177e-01],\n",
       "       [1.0245468e-04, 9.9989748e-01],\n",
       "       [3.7846921e-04, 9.9962151e-01],\n",
       "       ...,\n",
       "       [4.4974138e-10, 1.0000000e+00],\n",
       "       [4.1534731e-06, 9.9999583e-01],\n",
       "       [3.7166660e-03, 9.9628335e-01]], dtype=float32)"
      ]
     },
     "execution_count": 30,
     "metadata": {},
     "output_type": "execute_result"
    }
   ],
   "source": [
    "loaded_model.predict(X_val)"
   ]
  },
  {
   "cell_type": "code",
   "execution_count": 31,
   "id": "b0d469a2-2872-4b5e-abc4-fcdee0adfd13",
   "metadata": {},
   "outputs": [
    {
     "data": {
      "text/plain": [
       "(129.0, 2784.0, (2913, 2))"
      ]
     },
     "execution_count": 31,
     "metadata": {},
     "output_type": "execute_result"
    }
   ],
   "source": [
    "sum(y_val[:,0]), sum(y_val[:,1]), y_val.shape"
   ]
  },
  {
   "cell_type": "markdown",
   "id": "8d90c865-84d7-462b-b990-bb8be0375449",
   "metadata": {},
   "source": [
    "### Working with the ML Flow Client object and ML Flow UI\n",
    "\n",
    "Ways of working\n",
    "* browse models in UI\n",
    "* search models for relevant characteristic (e.g. highest/lowest value of metric)"
   ]
  },
  {
   "cell_type": "code",
   "execution_count": 32,
   "id": "8caa9cb1-e916-49c1-8f43-64b8d266d9d4",
   "metadata": {},
   "outputs": [
    {
     "data": {
      "text/plain": [
       "<mlflow.tracking.client.MlflowClient at 0x7fb75e66f520>"
      ]
     },
     "execution_count": 32,
     "metadata": {},
     "output_type": "execute_result"
    }
   ],
   "source": [
    "mlflow_client = mlflow.tracking.MlflowClient(tracking_uri=mlflow_server_uri)\n",
    "mlflow_client"
   ]
  },
  {
   "cell_type": "code",
   "execution_count": 33,
   "id": "6efa7e6a-5044-4dd4-8eec-a98ecce57b8b",
   "metadata": {},
   "outputs": [
    {
     "data": {
      "text/plain": [
       "[('rse_rotors_20220819', '1')]"
      ]
     },
     "execution_count": 33,
     "metadata": {},
     "output_type": "execute_result"
    }
   ],
   "source": [
    "[(m1.name, m1.version) for m1 in mlflow_client.list_registered_models()[0].latest_versions]"
   ]
  },
  {
   "cell_type": "code",
   "execution_count": 34,
   "id": "3d1f8313-b1e3-4bd5-9c9b-21f1003f5f61",
   "metadata": {},
   "outputs": [
    {
     "data": {
      "text/plain": [
       "'/Users/stephen.haddad/data/ukrse2022/artifacts/1/c5becc89c46e4cfd82441cc37ab6afbf/artifacts'"
      ]
     },
     "execution_count": 34,
     "metadata": {},
     "output_type": "execute_result"
    }
   ],
   "source": [
    "latest_run_info.artifact_uri"
   ]
  },
  {
   "cell_type": "code",
   "execution_count": 35,
   "id": "274fd33e-646e-47e4-842e-d50deb5b606c",
   "metadata": {},
   "outputs": [
    {
     "data": {
      "text/plain": [
       "<Run: data=<RunData: metrics={'loss': 0.017498191446065903,\n",
       " 'root_mean_squared_error': 0.13228072226047516,\n",
       " 'val_loss': 0.03716700151562691,\n",
       " 'val_root_mean_squared_error': 0.19278743863105774}, params={'batch_size': '1000',\n",
       " 'class_weight': 'None',\n",
       " 'epochs': '100',\n",
       " 'initial_epoch': '0',\n",
       " 'max_queue_size': '10',\n",
       " 'opt_amsgrad': 'False',\n",
       " 'opt_beta_1': '0.9',\n",
       " 'opt_beta_2': '0.999',\n",
       " 'opt_decay': '0.0',\n",
       " 'opt_epsilon': '1e-07',\n",
       " 'opt_learning_rate': '0.0001',\n",
       " 'opt_name': 'Adam',\n",
       " 'sample_weight': 'None',\n",
       " 'shuffle': 'True',\n",
       " 'steps_per_epoch': 'None',\n",
       " 'use_multiprocessing': 'False',\n",
       " 'validation_batch_size': 'None',\n",
       " 'validation_freq': '1',\n",
       " 'validation_split': '0.0',\n",
       " 'validation_steps': 'None',\n",
       " 'workers': '1'}, tags={'mlflow.log-model.history': '[{\"run_id\": \"c5becc89c46e4cfd82441cc37ab6afbf\", '\n",
       "                             '\"artifact_path\": \"model\", \"utc_time_created\": '\n",
       "                             '\"2022-08-17 18:12:24.662820\", \"flavors\": '\n",
       "                             '{\"keras\": {\"keras_module\": \"tensorflow.keras\", '\n",
       "                             '\"keras_version\": \"2.8.0\", \"save_format\": \"tf\", '\n",
       "                             '\"data\": \"data\"}, \"python_function\": '\n",
       "                             '{\"loader_module\": \"mlflow.keras\", '\n",
       "                             '\"python_version\": \"3.8.13\", \"data\": \"data\", '\n",
       "                             '\"env\": \"conda.yaml\"}}}]',\n",
       " 'mlflow.runName': 'rse_rotors_ffnn_20220817T190851',\n",
       " 'mlflow.source.name': '/Users/stephen.haddad/opt/anaconda3/envs/ukrse2022_mlops_model_dev/lib/python3.8/site-packages/ipykernel_launcher.py',\n",
       " 'mlflow.source.type': 'LOCAL',\n",
       " 'mlflow.user': 'stephen.haddad'}>, info=<RunInfo: artifact_uri='/Users/stephen.haddad/data/ukrse2022/artifacts/1/c5becc89c46e4cfd82441cc37ab6afbf/artifacts', end_time=1660759953080, experiment_id='1', lifecycle_stage='active', run_id='c5becc89c46e4cfd82441cc37ab6afbf', run_uuid='c5becc89c46e4cfd82441cc37ab6afbf', start_time=1660759731353, status='FINISHED', user_id='stephen.haddad'>>"
      ]
     },
     "execution_count": 35,
     "metadata": {},
     "output_type": "execute_result"
    }
   ],
   "source": [
    "mlflow.tracking.MlflowClient().get_run(latest_run_info.run_id)"
   ]
  },
  {
   "cell_type": "markdown",
   "id": "db707db7-b86d-400a-98e3-1f6d3dd299c9",
   "metadata": {},
   "source": [
    "### Searching for the best model\n",
    "\n",
    "Once you've done various training runs, perhaps varying the architecture, hyperparameters, input data or just using different random initialisations, you will have multiple runs in your experient (and also possiblly multiple experiments). You may then want to retrieve the model that is the best or highest scoring according some metric of interest, which you may do multiple times for different metrics of interest.\n",
    "\n",
    "\n"
   ]
  },
  {
   "cell_type": "code",
   "execution_count": 36,
   "id": "cef79acb-b157-4356-8305-02f6228e8ae3",
   "metadata": {},
   "outputs": [
    {
     "data": {
      "text/plain": [
       "[<Experiment: artifact_location='/Users/stephen.haddad/data/ukrse2022/artifacts/0', experiment_id='0', lifecycle_stage='active', name='Default', tags={}>,\n",
       " <Experiment: artifact_location='/Users/stephen.haddad/data/ukrse2022/artifacts/1', experiment_id='1', lifecycle_stage='active', name='rse_mlops_demo_rotors', tags={}>]"
      ]
     },
     "execution_count": 36,
     "metadata": {},
     "output_type": "execute_result"
    }
   ],
   "source": [
    "mlflow_client.list_experiments()"
   ]
  },
  {
   "cell_type": "code",
   "execution_count": 37,
   "id": "b3942aaa-da2c-4820-a146-209009327cec",
   "metadata": {},
   "outputs": [
    {
     "data": {
      "text/plain": [
       "'1'"
      ]
     },
     "execution_count": 37,
     "metadata": {},
     "output_type": "execute_result"
    }
   ],
   "source": [
    "mlflow_client.list_experiments()[-1].experiment_id"
   ]
  },
  {
   "cell_type": "code",
   "execution_count": 38,
   "id": "5929f131-ec6b-4983-bb1f-e05be3358ecd",
   "metadata": {},
   "outputs": [
    {
     "data": {
      "text/plain": [
       "[<Run: data=<RunData: metrics={'loss': 0.01752152293920517,\n",
       "  'root_mean_squared_error': 0.13236889243125916,\n",
       "  'val_loss': 0.03679447993636131,\n",
       "  'val_root_mean_squared_error': 0.19181886315345764}, params={'batch_size': '1000',\n",
       "  'class_weight': 'None',\n",
       "  'epochs': '100',\n",
       "  'initial_epoch': '0',\n",
       "  'max_queue_size': '10',\n",
       "  'opt_amsgrad': 'False',\n",
       "  'opt_beta_1': '0.9',\n",
       "  'opt_beta_2': '0.999',\n",
       "  'opt_decay': '0.0',\n",
       "  'opt_epsilon': '1e-07',\n",
       "  'opt_learning_rate': '0.0001',\n",
       "  'opt_name': 'Adam',\n",
       "  'sample_weight': 'None',\n",
       "  'shuffle': 'True',\n",
       "  'steps_per_epoch': 'None',\n",
       "  'use_multiprocessing': 'False',\n",
       "  'validation_batch_size': 'None',\n",
       "  'validation_freq': '1',\n",
       "  'validation_split': '0.0',\n",
       "  'validation_steps': 'None',\n",
       "  'workers': '1'}, tags={'mlflow.log-model.history': '[{\"run_id\": \"ecf7514262e949c29fa6f89af8c958dd\", '\n",
       "                              '\"artifact_path\": \"model\", \"utc_time_created\": '\n",
       "                              '\"2022-08-12 13:13:24.495750\", \"flavors\": '\n",
       "                              '{\"keras\": {\"keras_module\": \"tensorflow.keras\", '\n",
       "                              '\"keras_version\": \"2.8.0\", \"save_format\": \"tf\", '\n",
       "                              '\"data\": \"data\"}, \"python_function\": '\n",
       "                              '{\"loader_module\": \"mlflow.keras\", '\n",
       "                              '\"python_version\": \"3.8.13\", \"data\": \"data\", '\n",
       "                              '\"env\": \"conda.yaml\"}}}]',\n",
       "  'mlflow.runName': 'rse_rotors_ffnn_20220812T140947',\n",
       "  'mlflow.source.name': '/Users/stephen.haddad/opt/anaconda3/envs/ukrse2022_mlops_model_dev/lib/python3.8/site-packages/ipykernel_launcher.py',\n",
       "  'mlflow.source.type': 'LOCAL',\n",
       "  'mlflow.user': 'stephen.haddad'}>, info=<RunInfo: artifact_uri='/Users/stephen.haddad/data/ukrse2022/artifacts/1/ecf7514262e949c29fa6f89af8c958dd/artifacts', end_time=1660310015122, experiment_id='1', lifecycle_stage='active', run_id='ecf7514262e949c29fa6f89af8c958dd', run_uuid='ecf7514262e949c29fa6f89af8c958dd', start_time=1660309787485, status='FINISHED', user_id='stephen.haddad'>>,\n",
       " <Run: data=<RunData: metrics={'loss': 0.017498191446065903,\n",
       "  'root_mean_squared_error': 0.13228072226047516,\n",
       "  'val_loss': 0.03716700151562691,\n",
       "  'val_root_mean_squared_error': 0.19278743863105774}, params={'batch_size': '1000',\n",
       "  'class_weight': 'None',\n",
       "  'epochs': '100',\n",
       "  'initial_epoch': '0',\n",
       "  'max_queue_size': '10',\n",
       "  'opt_amsgrad': 'False',\n",
       "  'opt_beta_1': '0.9',\n",
       "  'opt_beta_2': '0.999',\n",
       "  'opt_decay': '0.0',\n",
       "  'opt_epsilon': '1e-07',\n",
       "  'opt_learning_rate': '0.0001',\n",
       "  'opt_name': 'Adam',\n",
       "  'sample_weight': 'None',\n",
       "  'shuffle': 'True',\n",
       "  'steps_per_epoch': 'None',\n",
       "  'use_multiprocessing': 'False',\n",
       "  'validation_batch_size': 'None',\n",
       "  'validation_freq': '1',\n",
       "  'validation_split': '0.0',\n",
       "  'validation_steps': 'None',\n",
       "  'workers': '1'}, tags={'mlflow.log-model.history': '[{\"run_id\": \"c5becc89c46e4cfd82441cc37ab6afbf\", '\n",
       "                              '\"artifact_path\": \"model\", \"utc_time_created\": '\n",
       "                              '\"2022-08-17 18:12:24.662820\", \"flavors\": '\n",
       "                              '{\"keras\": {\"keras_module\": \"tensorflow.keras\", '\n",
       "                              '\"keras_version\": \"2.8.0\", \"save_format\": \"tf\", '\n",
       "                              '\"data\": \"data\"}, \"python_function\": '\n",
       "                              '{\"loader_module\": \"mlflow.keras\", '\n",
       "                              '\"python_version\": \"3.8.13\", \"data\": \"data\", '\n",
       "                              '\"env\": \"conda.yaml\"}}}]',\n",
       "  'mlflow.runName': 'rse_rotors_ffnn_20220817T190851',\n",
       "  'mlflow.source.name': '/Users/stephen.haddad/opt/anaconda3/envs/ukrse2022_mlops_model_dev/lib/python3.8/site-packages/ipykernel_launcher.py',\n",
       "  'mlflow.source.type': 'LOCAL',\n",
       "  'mlflow.user': 'stephen.haddad'}>, info=<RunInfo: artifact_uri='/Users/stephen.haddad/data/ukrse2022/artifacts/1/c5becc89c46e4cfd82441cc37ab6afbf/artifacts', end_time=1660759953080, experiment_id='1', lifecycle_stage='active', run_id='c5becc89c46e4cfd82441cc37ab6afbf', run_uuid='c5becc89c46e4cfd82441cc37ab6afbf', start_time=1660759731353, status='FINISHED', user_id='stephen.haddad'>>]"
      ]
     },
     "execution_count": 38,
     "metadata": {},
     "output_type": "execute_result"
    }
   ],
   "source": [
    "mlflow_client.search_runs(mlflow_client.list_experiments()[-1].experiment_id, order_by=['metrics.val_loss'])"
   ]
  },
  {
   "cell_type": "markdown",
   "id": "c03e7a36-39d6-4cb5-9f9d-fd8d559de377",
   "metadata": {},
   "source": [
    "### Loading a registered model\n",
    "\n",
    "When you have a model that is performing well or is in some other way of significance"
   ]
  },
  {
   "cell_type": "markdown",
   "id": "6a8752b2-0b57-42df-b743-b50cb0b32085",
   "metadata": {},
   "source": [
    "As a dirst option you can use the API to find the registered models and load one of them."
   ]
  },
  {
   "cell_type": "code",
   "execution_count": 39,
   "id": "fb5e4356-c66b-4295-b816-87587996f7ab",
   "metadata": {},
   "outputs": [
    {
     "data": {
      "text/plain": [
       "(1, [('rse_rotors_20220819', '1')])"
      ]
     },
     "execution_count": 39,
     "metadata": {},
     "output_type": "execute_result"
    }
   ],
   "source": [
    "len(mlflow_client.list_registered_models()), [(m1.name, m1.latest_versions[-1].version) for m1 in mlflow_client.list_registered_models()]"
   ]
  },
  {
   "cell_type": "markdown",
   "id": "5455a91d-755a-4057-a173-69aa69246e1f",
   "metadata": {},
   "source": [
    "Now we can load the model through the information in the registered model item of interest."
   ]
  },
  {
   "cell_type": "code",
   "execution_count": 40,
   "id": "ae64287a-38b7-4b91-ab63-a6dd78305dd0",
   "metadata": {},
   "outputs": [
    {
     "data": {
      "text/plain": [
       "'models:/rse_rotors_20220819/1'"
      ]
     },
     "execution_count": 40,
     "metadata": {},
     "output_type": "execute_result"
    }
   ],
   "source": [
    "rotors_reg_model_name = 'rse_rotors_20220819'\n",
    "rotors_reg_model_version = '1'\n",
    "reg_model_artifact_uri = f'models:/{rotors_reg_model_name}/{rotors_reg_model_version}'\n",
    "reg_model_artifact_uri"
   ]
  },
  {
   "cell_type": "code",
   "execution_count": 41,
   "id": "10c01579-b9dd-483d-a242-2c1906fbea4f",
   "metadata": {},
   "outputs": [
    {
     "data": {
      "text/plain": [
       "array([[8.2105380e-06, 9.9999177e-01],\n",
       "       [1.0245468e-04, 9.9989748e-01],\n",
       "       [3.7846921e-04, 9.9962151e-01],\n",
       "       ...,\n",
       "       [4.4974138e-10, 1.0000000e+00],\n",
       "       [4.1534731e-06, 9.9999583e-01],\n",
       "       [3.7166660e-03, 9.9628335e-01]], dtype=float32)"
      ]
     },
     "execution_count": 41,
     "metadata": {},
     "output_type": "execute_result"
    }
   ],
   "source": [
    "mlflow.pyfunc.load_model(mlflow_client.get_registered_model(rotors_reg_model_name).latest_versions[0].source).predict(X_val)"
   ]
  },
  {
   "cell_type": "markdown",
   "id": "fceff222-4767-4e13-9b1e-e0a0bb1f1977",
   "metadata": {},
   "source": [
    "### Calculating metrics\n",
    "\n",
    "Will now calculate some standard metrics for a classification problem, such as \n",
    "* precision\n",
    "* recall\n",
    "* F1-score\n",
    "* false alarm rate\n",
    "* miss rate\n",
    "\n",
    "We will also calculate a *domain specific* metric called [*Symmetric Exteremal Dependence Index*](https://www.ecmwf.int/en/newsletter/147/meteorology/use-high-density-observations-precipitation-verification#:~:text=The%20Symmetric%20Extremal%20Dependence%20Index,a%20threshold%20to%20be%20set), which is a metrics specific to weather and climate probklems, rather than a generic machine learning metric. Most research ML research problems should consider both standard ML metrics, as well the measures of algorithm performance that are specific to the problem domain e.g. meteorlogy, genetics, astrophysics, medicine etc."
   ]
  },
  {
   "cell_type": "markdown",
   "id": "123e68b3-35d6-4a1a-bfa4-d4eacaade949",
   "metadata": {},
   "source": [
    "As we can see from the output in the cells above, our model outputs a pseudo probability of a rotor being observed in a given time window, "
   ]
  },
  {
   "cell_type": "code",
   "execution_count": 42,
   "id": "b16172e0-125b-4e63-bc31-6cff2ef05f67",
   "metadata": {},
   "outputs": [],
   "source": [
    "def calc_sedi(conf_mat):\n",
    "    \"\"\"\n",
    "    Define a function to calculate the Symmetic Extermal Dependence Index (SEDI) from a confusion matrix\n",
    "    \"\"\"\n",
    "    hr1 = conf_mat[1,1] / (conf_mat[1,0] + conf_mat[1,1])\n",
    "    fa1 = conf_mat[0,1] / (conf_mat[0,0] + conf_mat[0,1])\n",
    "    sedi_score1 = (\n",
    "        (numpy.log(fa1) - numpy.log(hr1) - numpy.log(1.0-fa1) + numpy.log(1.0-hr1) )\n",
    "        / (numpy.log(fa1) + numpy.log(hr1) + numpy.log(1.0 - fa1) + numpy.log(1.0-hr1) )  )\n",
    "    return sedi_score1"
   ]
  },
  {
   "cell_type": "code",
   "execution_count": 43,
   "id": "610b3513-1be3-4dbe-a90b-badb4ebaf5c4",
   "metadata": {},
   "outputs": [],
   "source": [
    "y_result_val = rse_rotors_model.predict(X_val)[:,0] >2e-3 "
   ]
  },
  {
   "cell_type": "code",
   "execution_count": 44,
   "id": "3c3f6249-99f7-430c-82f1-05aedaf6ebd9",
   "metadata": {},
   "outputs": [
    {
     "data": {
      "text/plain": [
       "<AxesSubplot:ylabel='None'>"
      ]
     },
     "execution_count": 44,
     "metadata": {},
     "output_type": "execute_result"
    },
    {
     "data": {
      "image/png": "[encoded data removed]",
      "text/plain": [
       "<Figure size 1296x432 with 3 Axes>"
      ]
     },
     "metadata": {},
     "output_type": "display_data"
    }
   ],
   "source": [
    "fig1 = matplotlib.pyplot.figure('comparison of class frequencies for different thresholds', figsize=(18,6))\n",
    "ax1 = fig1.add_subplot(1,3,1)\n",
    "pandas.Series(rse_rotors_model.predict(X_val)[:,0] >2e-3 ).value_counts().plot.pie(legend=True, autopct='%.2f',labels=['No Rotors', 'Rotors Present'], ax=ax1)\n",
    "ax1 = fig1.add_subplot(1,3,2)\n",
    "pandas.Series(rse_rotors_model.predict(X_val)[:,0] >2e-2 ).value_counts().plot.pie(legend=True, autopct='%.2f',labels=['No Rotors', 'Rotors Present'], ax=ax1)\n",
    "ax1 = fig1.add_subplot(1,3,3)\n",
    "pandas.Series(rse_rotors_model.predict(X_val)[:,0] >2e-1 ).value_counts().plot.pie(legend=True, autopct='%.2f',labels=['No Rotors', 'Rotors Present'], ax=ax1)\n"
   ]
  },
  {
   "cell_type": "markdown",
   "id": "a9d427fd-55d9-4081-af46-701e8ef2131a",
   "metadata": {},
   "source": [
    "For this model, we can choose different threshold to classify the result as *no rotors* vs *rotors present*. With different choices of threshold, we will get different metric results. We can choose the threshold that gives us the best performance for our particular requirements for the classifier."
   ]
  },
  {
   "cell_type": "code",
   "execution_count": 45,
   "id": "cfa69920-e315-4e06-bd27-239ba4626e55",
   "metadata": {},
   "outputs": [],
   "source": [
    "y_train_pred_raw = rse_rotors_model.predict(X_train)[:,0]\n",
    "y_val_pred_raw = rse_rotors_model.predict(X_val)[:,0]"
   ]
  },
  {
   "cell_type": "code",
   "execution_count": 46,
   "id": "b9e0c08b-7b6a-42d5-8e63-90aed00d2eb0",
   "metadata": {},
   "outputs": [],
   "source": [
    "thresholds_list = list(numpy.arange(1e-3,0.3,1e-3))"
   ]
  },
  {
   "cell_type": "code",
   "execution_count": 47,
   "id": "218cfdd0-560c-448b-8e82-216d01f94560",
   "metadata": {},
   "outputs": [],
   "source": [
    "hit_rates = []\n",
    "hit_rates_test = []\n",
    "false_alarm_rates = []\n",
    "false_alarm_rates_test = []\n",
    "sedi_list = []\n",
    "sedi_list_test = []\n",
    "for threshold in numpy.arange(1e-3,0.3,1e-3):\n",
    "    y_pred_train = list(map(float, y_train_pred_raw > threshold)) \n",
    "    cm1 = sklearn.metrics.confusion_matrix(y_train[:,0], y_pred_train)\n",
    "    hit_rates += [cm1[1,1] / (cm1[1,0] + cm1[1,1])]\n",
    "    false_alarm_rates += [cm1[0,1] / (cm1[0,0] + cm1[0,1])]\n",
    "    sedi_list += [calc_sedi(cm1)]\n",
    "\n",
    "    y_pred_val = list(map(float, y_val_pred_raw > threshold)) \n",
    "    cm1 = sklearn.metrics.confusion_matrix(y_val[:,0], y_pred_val )\n",
    "    hit_rates_test += [cm1[1,1] / (cm1[1,0] + cm1[1,1])]\n",
    "    false_alarm_rates_test += [cm1[0,1] / (cm1[0,0] + cm1[0,1])]\n",
    "    sedi_list_test += [calc_sedi(cm1)]"
   ]
  },
  {
   "cell_type": "code",
   "execution_count": 48,
   "id": "7c8e8635-8934-4984-9635-3213ed70054c",
   "metadata": {},
   "outputs": [
    {
     "data": {
      "text/plain": [
       "[<matplotlib.lines.Line2D at 0x7fb75e157430>]"
      ]
     },
     "execution_count": 48,
     "metadata": {},
     "output_type": "execute_result"
    },
    {
     "data": {
      "image/png": "[encoded data removed]",
      "text/plain": [
       "<Figure size 1152x720 with 2 Axes>"
      ]
     },
     "metadata": {
      "needs_background": "light"
     },
     "output_type": "display_data"
    }
   ],
   "source": [
    "f1 = matplotlib.pyplot.figure(figsize=(16,10))\n",
    "ax1 = f1.add_subplot(1,2,1,title='hit rates vs false alarms vs SEDI (training data)')\n",
    "ax1.plot(thresholds_list, hit_rates,'r')\n",
    "ax1.plot(thresholds_list, false_alarm_rates,'b')\n",
    "ax1.plot(thresholds_list, sedi_list,'k')\n",
    "\n",
    "ax1 = f1.add_subplot(1,2,2,title='hit rates vs false alarms vs SEDI (test data)')\n",
    "ax1.plot(thresholds_list, hit_rates_test,'r')\n",
    "ax1.plot(thresholds_list, false_alarm_rates_test,'b')\n",
    "ax1.plot(thresholds_list, sedi_list_test,'k')"
   ]
  },
  {
   "cell_type": "markdown",
   "id": "eb70f193-2d08-42b7-be5e-96449d9cb3a6",
   "metadata": {
    "tags": []
   },
   "source": [
    "### Example - Dashboard to visualise results"
   ]
  },
  {
   "cell_type": "code",
   "execution_count": 49,
   "id": "de5c9dd6-a158-4b35-94a3-5e18f5a63ff8",
   "metadata": {},
   "outputs": [],
   "source": [
    "import panel"
   ]
  },
  {
   "cell_type": "code",
   "execution_count": 50,
   "id": "9a82a8ca-0313-4de7-9d4c-44a0483ee6fd",
   "metadata": {},
   "outputs": [
    {
     "data": {
      "application/javascript": [
       "(function(root) {\n",
       "  function now() {\n",
       "    return new Date();\n",
       "  }\n",
       "\n",
       "  var force = true;\n",
       "\n",
       "  if (typeof root._bokeh_onload_callbacks === \"undefined\" || force === true) {\n",
       "    root._bokeh_onload_callbacks = [];\n",
       "    root._bokeh_is_loading = undefined;\n",
       "  }\n",
       "\n",
       "  if (typeof (root._bokeh_timeout) === \"undefined\" || force === true) {\n",
       "    root._bokeh_timeout = Date.now() + 5000;\n",
       "    root._bokeh_failed_load = false;\n",
       "  }\n",
       "\n",
       "  function run_callbacks() {\n",
       "    try {\n",
       "      root._bokeh_onload_callbacks.forEach(function(callback) {\n",
       "        if (callback != null)\n",
       "          callback();\n",
       "      });\n",
       "    } finally {\n",
       "      delete root._bokeh_onload_callbacks\n",
       "    }\n",
       "    console.debug(\"Bokeh: all callbacks have finished\");\n",
       "  }\n",
       "\n",
       "  function load_libs(css_urls, js_urls, js_modules, callback) {\n",
       "    if (css_urls == null) css_urls = [];\n",
       "    if (js_urls == null) js_urls = [];\n",
       "    if (js_modules == null) js_modules = [];\n",
       "\n",
       "    root._bokeh_onload_callbacks.push(callback);\n",
       "    if (root._bokeh_is_loading > 0) {\n",
       "      console.debug(\"Bokeh: BokehJS is being loaded, scheduling callback at\", now());\n",
       "      return null;\n",
       "    }\n",
       "    if (js_urls.length === 0 && js_modules.length === 0) {\n",
       "      run_callbacks();\n",
       "      return null;\n",
       "    }\n",
       "    console.debug(\"Bokeh: BokehJS not loaded, scheduling load and callback at\", now());\n",
       "\n",
       "    function on_load() {\n",
       "      root._bokeh_is_loading--;\n",
       "      if (root._bokeh_is_loading === 0) {\n",
       "        console.debug(\"Bokeh: all BokehJS libraries/stylesheets loaded\");\n",
       "        run_callbacks()\n",
       "      }\n",
       "    }\n",
       "\n",
       "    function on_error() {\n",
       "      console.error(\"failed to load \" + url);\n",
       "    }\n",
       "\n",
       "    for (var i = 0; i < css_urls.length; i++) {\n",
       "      var url = css_urls[i];\n",
       "      const element = document.createElement(\"link\");\n",
       "      element.onload = on_load;\n",
       "      element.onerror = on_error;\n",
       "      element.rel = \"stylesheet\";\n",
       "      element.type = \"text/css\";\n",
       "      element.href = url;\n",
       "      console.debug(\"Bokeh: injecting link tag for BokehJS stylesheet: \", url);\n",
       "      document.body.appendChild(element);\n",
       "    }\n",
       "\n",
       "    var skip = [];\n",
       "    if (window.requirejs) {\n",
       "      window.requirejs.config({'packages': {}, 'paths': {'gridstack': 'https://cdn.jsdelivr.net/npm/gridstack@4.2.5/dist/gridstack-h5', 'notyf': 'https://cdn.jsdelivr.net/npm/notyf@3/notyf.min'}, 'shim': {'gridstack': {'exports': 'GridStack'}}});\n",
       "      require([\"gridstack\"], function(GridStack) {\n",
       "\twindow.GridStack = GridStack\n",
       "\ton_load()\n",
       "      })\n",
       "      require([\"notyf\"], function() {\n",
       "\ton_load()\n",
       "      })\n",
       "      root._bokeh_is_loading = css_urls.length + 2;\n",
       "    } else {\n",
       "      root._bokeh_is_loading = css_urls.length + js_urls.length + js_modules.length;\n",
       "    }    if (((window['GridStack'] !== undefined) && (!(window['GridStack'] instanceof HTMLElement))) || window.requirejs) {\n",
       "      var urls = ['https://cdn.jsdelivr.net/npm/gridstack@4.2.5/dist/gridstack-h5.js'];\n",
       "      for (var i = 0; i < urls.length; i++) {\n",
       "        skip.push(urls[i])\n",
       "      }\n",
       "    }    if (((window['Notyf'] !== undefined) && (!(window['Notyf'] instanceof HTMLElement))) || window.requirejs) {\n",
       "      var urls = ['https://cdn.jsdelivr.net/npm/notyf@3/notyf.min.js'];\n",
       "      for (var i = 0; i < urls.length; i++) {\n",
       "        skip.push(urls[i])\n",
       "      }\n",
       "    }    for (var i = 0; i < js_urls.length; i++) {\n",
       "      var url = js_urls[i];\n",
       "      if (skip.indexOf(url) >= 0) {\n",
       "\tif (!window.requirejs) {\n",
       "\t  on_load();\n",
       "\t}\n",
       "\tcontinue;\n",
       "      }\n",
       "      var element = document.createElement('script');\n",
       "      element.onload = on_load;\n",
       "      element.onerror = on_error;\n",
       "      element.async = false;\n",
       "      element.src = url;\n",
       "      console.debug(\"Bokeh: injecting script tag for BokehJS library: \", url);\n",
       "      document.head.appendChild(element);\n",
       "    }\n",
       "    for (var i = 0; i < js_modules.length; i++) {\n",
       "      var url = js_modules[i];\n",
       "      if (skip.indexOf(url) >= 0) {\n",
       "\tif (!window.requirejs) {\n",
       "\t  on_load();\n",
       "\t}\n",
       "\tcontinue;\n",
       "      }\n",
       "      var element = document.createElement('script');\n",
       "      element.onload = on_load;\n",
       "      element.onerror = on_error;\n",
       "      element.async = false;\n",
       "      element.src = url;\n",
       "      element.type = \"module\";\n",
       "      console.debug(\"Bokeh: injecting script tag for BokehJS library: \", url);\n",
       "      document.head.appendChild(element);\n",
       "    }\n",
       "    if (!js_urls.length && !js_modules.length) {\n",
       "      on_load()\n",
       "    }\n",
       "  };\n",
       "\n",
       "  function inject_raw_css(css) {\n",
       "    const element = document.createElement(\"style\");\n",
       "    element.appendChild(document.createTextNode(css));\n",
       "    document.body.appendChild(element);\n",
       "  }\n",
       "\n",
       "  var js_urls = [\"https://cdn.bokeh.org/bokeh/release/bokeh-2.4.3.min.js\", \"https://cdn.bokeh.org/bokeh/release/bokeh-gl-2.4.3.min.js\", \"https://cdn.bokeh.org/bokeh/release/bokeh-widgets-2.4.3.min.js\", \"https://cdn.bokeh.org/bokeh/release/bokeh-tables-2.4.3.min.js\", \"https://cdn.bokeh.org/bokeh/release/bokeh-mathjax-2.4.3.min.js\", \"https://cdn.jsdelivr.net/npm/notyf@3/notyf.min.js\", \"https://unpkg.com/@holoviz/panel@0.13.1/dist/panel.min.js\"];\n",
       "  var js_modules = [];\n",
       "  var css_urls = [\"https://cdn.jsdelivr.net/npm/notyf@3/notyf.min.css\", \"https://cdnjs.cloudflare.com/ajax/libs/font-awesome/5.15.1/css/all.min.css\", \"https://unpkg.com/@holoviz/panel@0.13.1/dist/css/debugger.css\", \"https://unpkg.com/@holoviz/panel@0.13.1/dist/css/alerts.css\", \"https://unpkg.com/@holoviz/panel@0.13.1/dist/css/card.css\", \"https://unpkg.com/@holoviz/panel@0.13.1/dist/css/widgets.css\", \"https://unpkg.com/@holoviz/panel@0.13.1/dist/css/markdown.css\", \"https://unpkg.com/@holoviz/panel@0.13.1/dist/css/json.css\", \"https://unpkg.com/@holoviz/panel@0.13.1/dist/css/loading.css\", \"https://unpkg.com/@holoviz/panel@0.13.1/dist/css/dataframe.css\"];\n",
       "  var inline_js = [    function(Bokeh) {\n",
       "      inject_raw_css(\"\\n    .bk.pn-loading.arcs:before {\\n      background-image: url(\\\"data:image/svg+xml;base64,PHN2ZyB4bWxucz0iaHR0cDovL3d3dy53My5vcmcvMjAwMC9zdmciIHhtbG5zOnhsaW5rPSJodHRwOi8vd3d3LnczLm9yZy8xOTk5L3hsaW5rIiBzdHlsZT0ibWFyZ2luOiBhdXRvOyBiYWNrZ3JvdW5kOiBub25lOyBkaXNwbGF5OiBibG9jazsgc2hhcGUtcmVuZGVyaW5nOiBhdXRvOyIgdmlld0JveD0iMCAwIDEwMCAxMDAiIHByZXNlcnZlQXNwZWN0UmF0aW89InhNaWRZTWlkIj4gIDxjaXJjbGUgY3g9IjUwIiBjeT0iNTAiIHI9IjMyIiBzdHJva2Utd2lkdGg9IjgiIHN0cm9rZT0iI2MzYzNjMyIgc3Ryb2tlLWRhc2hhcnJheT0iNTAuMjY1NDgyNDU3NDM2NjkgNTAuMjY1NDgyNDU3NDM2NjkiIGZpbGw9Im5vbmUiIHN0cm9rZS1saW5lY2FwPSJyb3VuZCI+ICAgIDxhbmltYXRlVHJhbnNmb3JtIGF0dHJpYnV0ZU5hbWU9InRyYW5zZm9ybSIgdHlwZT0icm90YXRlIiByZXBlYXRDb3VudD0iaW5kZWZpbml0ZSIgZHVyPSIxcyIga2V5VGltZXM9IjA7MSIgdmFsdWVzPSIwIDUwIDUwOzM2MCA1MCA1MCI+PC9hbmltYXRlVHJhbnNmb3JtPiAgPC9jaXJjbGU+PC9zdmc+\\\");\\n      background-size: auto calc(min(50%, 400px));\\n    }\\n    \");\n",
       "    },    function(Bokeh) {\n",
       "      Bokeh.set_log_level(\"info\");\n",
       "    },\n",
       "function(Bokeh) {} // ensure no trailing comma for IE\n",
       "  ];\n",
       "\n",
       "  function run_inline_js() {\n",
       "    if ((root.Bokeh !== undefined) || (force === true)) {\n",
       "      for (var i = 0; i < inline_js.length; i++) {\n",
       "        inline_js[i].call(root, root.Bokeh);\n",
       "      }} else if (Date.now() < root._bokeh_timeout) {\n",
       "      setTimeout(run_inline_js, 100);\n",
       "    } else if (!root._bokeh_failed_load) {\n",
       "      console.log(\"Bokeh: BokehJS failed to load within specified timeout.\");\n",
       "      root._bokeh_failed_load = true;\n",
       "    }\n",
       "  }\n",
       "\n",
       "  if (root._bokeh_is_loading === 0) {\n",
       "    console.debug(\"Bokeh: BokehJS loaded, going straight to plotting\");\n",
       "    run_inline_js();\n",
       "  } else {\n",
       "    load_libs(css_urls, js_urls, js_modules, function() {\n",
       "      console.debug(\"Bokeh: BokehJS plotting callback run at\", now());\n",
       "      run_inline_js();\n",
       "    });\n",
       "  }\n",
       "}(window));"
      ],
      "application/vnd.holoviews_load.v0+json": "(function(root) {\n  function now() {\n    return new Date();\n  }\n\n  var force = true;\n\n  if (typeof root._bokeh_onload_callbacks === \"undefined\" || force === true) {\n    root._bokeh_onload_callbacks = [];\n    root._bokeh_is_loading = undefined;\n  }\n\n  if (typeof (root._bokeh_timeout) === \"undefined\" || force === true) {\n    root._bokeh_timeout = Date.now() + 5000;\n    root._bokeh_failed_load = false;\n  }\n\n  function run_callbacks() {\n    try {\n      root._bokeh_onload_callbacks.forEach(function(callback) {\n        if (callback != null)\n          callback();\n      });\n    } finally {\n      delete root._bokeh_onload_callbacks\n    }\n    console.debug(\"Bokeh: all callbacks have finished\");\n  }\n\n  function load_libs(css_urls, js_urls, js_modules, callback) {\n    if (css_urls == null) css_urls = [];\n    if (js_urls == null) js_urls = [];\n    if (js_modules == null) js_modules = [];\n\n    root._bokeh_onload_callbacks.push(callback);\n    if (root._bokeh_is_loading > 0) {\n      console.debug(\"Bokeh: BokehJS is being loaded, scheduling callback at\", now());\n      return null;\n    }\n    if (js_urls.length === 0 && js_modules.length === 0) {\n      run_callbacks();\n      return null;\n    }\n    console.debug(\"Bokeh: BokehJS not loaded, scheduling load and callback at\", now());\n\n    function on_load() {\n      root._bokeh_is_loading--;\n      if (root._bokeh_is_loading === 0) {\n        console.debug(\"Bokeh: all BokehJS libraries/stylesheets loaded\");\n        run_callbacks()\n      }\n    }\n\n    function on_error() {\n      console.error(\"failed to load \" + url);\n    }\n\n    for (var i = 0; i < css_urls.length; i++) {\n      var url = css_urls[i];\n      const element = document.createElement(\"link\");\n      element.onload = on_load;\n      element.onerror = on_error;\n      element.rel = \"stylesheet\";\n      element.type = \"text/css\";\n      element.href = url;\n      console.debug(\"Bokeh: injecting link tag for BokehJS stylesheet: \", url);\n      document.body.appendChild(element);\n    }\n\n    var skip = [];\n    if (window.requirejs) {\n      window.requirejs.config({'packages': {}, 'paths': {'gridstack': 'https://cdn.jsdelivr.net/npm/gridstack@4.2.5/dist/gridstack-h5', 'notyf': 'https://cdn.jsdelivr.net/npm/notyf@3/notyf.min'}, 'shim': {'gridstack': {'exports': 'GridStack'}}});\n      require([\"gridstack\"], function(GridStack) {\n\twindow.GridStack = GridStack\n\ton_load()\n      })\n      require([\"notyf\"], function() {\n\ton_load()\n      })\n      root._bokeh_is_loading = css_urls.length + 2;\n    } else {\n      root._bokeh_is_loading = css_urls.length + js_urls.length + js_modules.length;\n    }    if (((window['GridStack'] !== undefined) && (!(window['GridStack'] instanceof HTMLElement))) || window.requirejs) {\n      var urls = ['https://cdn.jsdelivr.net/npm/gridstack@4.2.5/dist/gridstack-h5.js'];\n      for (var i = 0; i < urls.length; i++) {\n        skip.push(urls[i])\n      }\n    }    if (((window['Notyf'] !== undefined) && (!(window['Notyf'] instanceof HTMLElement))) || window.requirejs) {\n      var urls = ['https://cdn.jsdelivr.net/npm/notyf@3/notyf.min.js'];\n      for (var i = 0; i < urls.length; i++) {\n        skip.push(urls[i])\n      }\n    }    for (var i = 0; i < js_urls.length; i++) {\n      var url = js_urls[i];\n      if (skip.indexOf(url) >= 0) {\n\tif (!window.requirejs) {\n\t  on_load();\n\t}\n\tcontinue;\n      }\n      var element = document.createElement('script');\n      element.onload = on_load;\n      element.onerror = on_error;\n      element.async = false;\n      element.src = url;\n      console.debug(\"Bokeh: injecting script tag for BokehJS library: \", url);\n      document.head.appendChild(element);\n    }\n    for (var i = 0; i < js_modules.length; i++) {\n      var url = js_modules[i];\n      if (skip.indexOf(url) >= 0) {\n\tif (!window.requirejs) {\n\t  on_load();\n\t}\n\tcontinue;\n      }\n      var element = document.createElement('script');\n      element.onload = on_load;\n      element.onerror = on_error;\n      element.async = false;\n      element.src = url;\n      element.type = \"module\";\n      console.debug(\"Bokeh: injecting script tag for BokehJS library: \", url);\n      document.head.appendChild(element);\n    }\n    if (!js_urls.length && !js_modules.length) {\n      on_load()\n    }\n  };\n\n  function inject_raw_css(css) {\n    const element = document.createElement(\"style\");\n    element.appendChild(document.createTextNode(css));\n    document.body.appendChild(element);\n  }\n\n  var js_urls = [\"https://cdn.bokeh.org/bokeh/release/bokeh-2.4.3.min.js\", \"https://cdn.bokeh.org/bokeh/release/bokeh-gl-2.4.3.min.js\", \"https://cdn.bokeh.org/bokeh/release/bokeh-widgets-2.4.3.min.js\", \"https://cdn.bokeh.org/bokeh/release/bokeh-tables-2.4.3.min.js\", \"https://cdn.bokeh.org/bokeh/release/bokeh-mathjax-2.4.3.min.js\", \"https://cdn.jsdelivr.net/npm/notyf@3/notyf.min.js\", \"https://unpkg.com/@holoviz/panel@0.13.1/dist/panel.min.js\"];\n  var js_modules = [];\n  var css_urls = [\"https://cdn.jsdelivr.net/npm/notyf@3/notyf.min.css\", \"https://cdnjs.cloudflare.com/ajax/libs/font-awesome/5.15.1/css/all.min.css\", \"https://unpkg.com/@holoviz/panel@0.13.1/dist/css/debugger.css\", \"https://unpkg.com/@holoviz/panel@0.13.1/dist/css/alerts.css\", \"https://unpkg.com/@holoviz/panel@0.13.1/dist/css/card.css\", \"https://unpkg.com/@holoviz/panel@0.13.1/dist/css/widgets.css\", \"https://unpkg.com/@holoviz/panel@0.13.1/dist/css/markdown.css\", \"https://unpkg.com/@holoviz/panel@0.13.1/dist/css/json.css\", \"https://unpkg.com/@holoviz/panel@0.13.1/dist/css/loading.css\", \"https://unpkg.com/@holoviz/panel@0.13.1/dist/css/dataframe.css\"];\n  var inline_js = [    function(Bokeh) {\n      inject_raw_css(\"\\n    .bk.pn-loading.arcs:before {\\n      background-image: url(\\\"data:image/svg+xml;base64,PHN2ZyB4bWxucz0iaHR0cDovL3d3dy53My5vcmcvMjAwMC9zdmciIHhtbG5zOnhsaW5rPSJodHRwOi8vd3d3LnczLm9yZy8xOTk5L3hsaW5rIiBzdHlsZT0ibWFyZ2luOiBhdXRvOyBiYWNrZ3JvdW5kOiBub25lOyBkaXNwbGF5OiBibG9jazsgc2hhcGUtcmVuZGVyaW5nOiBhdXRvOyIgdmlld0JveD0iMCAwIDEwMCAxMDAiIHByZXNlcnZlQXNwZWN0UmF0aW89InhNaWRZTWlkIj4gIDxjaXJjbGUgY3g9IjUwIiBjeT0iNTAiIHI9IjMyIiBzdHJva2Utd2lkdGg9IjgiIHN0cm9rZT0iI2MzYzNjMyIgc3Ryb2tlLWRhc2hhcnJheT0iNTAuMjY1NDgyNDU3NDM2NjkgNTAuMjY1NDgyNDU3NDM2NjkiIGZpbGw9Im5vbmUiIHN0cm9rZS1saW5lY2FwPSJyb3VuZCI+ICAgIDxhbmltYXRlVHJhbnNmb3JtIGF0dHJpYnV0ZU5hbWU9InRyYW5zZm9ybSIgdHlwZT0icm90YXRlIiByZXBlYXRDb3VudD0iaW5kZWZpbml0ZSIgZHVyPSIxcyIga2V5VGltZXM9IjA7MSIgdmFsdWVzPSIwIDUwIDUwOzM2MCA1MCA1MCI+PC9hbmltYXRlVHJhbnNmb3JtPiAgPC9jaXJjbGU+PC9zdmc+\\\");\\n      background-size: auto calc(min(50%, 400px));\\n    }\\n    \");\n    },    function(Bokeh) {\n      Bokeh.set_log_level(\"info\");\n    },\nfunction(Bokeh) {} // ensure no trailing comma for IE\n  ];\n\n  function run_inline_js() {\n    if ((root.Bokeh !== undefined) || (force === true)) {\n      for (var i = 0; i < inline_js.length; i++) {\n        inline_js[i].call(root, root.Bokeh);\n      }} else if (Date.now() < root._bokeh_timeout) {\n      setTimeout(run_inline_js, 100);\n    } else if (!root._bokeh_failed_load) {\n      console.log(\"Bokeh: BokehJS failed to load within specified timeout.\");\n      root._bokeh_failed_load = true;\n    }\n  }\n\n  if (root._bokeh_is_loading === 0) {\n    console.debug(\"Bokeh: BokehJS loaded, going straight to plotting\");\n    run_inline_js();\n  } else {\n    load_libs(css_urls, js_urls, js_modules, function() {\n      console.debug(\"Bokeh: BokehJS plotting callback run at\", now());\n      run_inline_js();\n    });\n  }\n}(window));"
     },
     "metadata": {},
     "output_type": "display_data"
    },
    {
     "data": {
      "application/javascript": [
       "\n",
       "if ((window.PyViz === undefined) || (window.PyViz instanceof HTMLElement)) {\n",
       "  window.PyViz = {comms: {}, comm_status:{}, kernels:{}, receivers: {}, plot_index: []}\n",
       "}\n",
       "\n",
       "\n",
       "    function JupyterCommManager() {\n",
       "    }\n",
       "\n",
       "    JupyterCommManager.prototype.register_target = function(plot_id, comm_id, msg_handler) {\n",
       "      if (window.comm_manager || ((window.Jupyter !== undefined) && (Jupyter.notebook.kernel != null))) {\n",
       "        var comm_manager = window.comm_manager || Jupyter.notebook.kernel.comm_manager;\n",
       "        comm_manager.register_target(comm_id, function(comm) {\n",
       "          comm.on_msg(msg_handler);\n",
       "        });\n",
       "      } else if ((plot_id in window.PyViz.kernels) && (window.PyViz.kernels[plot_id])) {\n",
       "        window.PyViz.kernels[plot_id].registerCommTarget(comm_id, function(comm) {\n",
       "          comm.onMsg = msg_handler;\n",
       "        });\n",
       "      } else if (typeof google != 'undefined' && google.colab.kernel != null) {\n",
       "        google.colab.kernel.comms.registerTarget(comm_id, (comm) => {\n",
       "          var messages = comm.messages[Symbol.asyncIterator]();\n",
       "          function processIteratorResult(result) {\n",
       "            var message = result.value;\n",
       "            console.log(message)\n",
       "            var content = {data: message.data, comm_id};\n",
       "            var buffers = []\n",
       "            for (var buffer of message.buffers || []) {\n",
       "              buffers.push(new DataView(buffer))\n",
       "            }\n",
       "            var metadata = message.metadata || {};\n",
       "            var msg = {content, buffers, metadata}\n",
       "            msg_handler(msg);\n",
       "            return messages.next().then(processIteratorResult);\n",
       "          }\n",
       "          return messages.next().then(processIteratorResult);\n",
       "        })\n",
       "      }\n",
       "    }\n",
       "\n",
       "    JupyterCommManager.prototype.get_client_comm = function(plot_id, comm_id, msg_handler) {\n",
       "      if (comm_id in window.PyViz.comms) {\n",
       "        return window.PyViz.comms[comm_id];\n",
       "      } else if (window.comm_manager || ((window.Jupyter !== undefined) && (Jupyter.notebook.kernel != null))) {\n",
       "        var comm_manager = window.comm_manager || Jupyter.notebook.kernel.comm_manager;\n",
       "        var comm = comm_manager.new_comm(comm_id, {}, {}, {}, comm_id);\n",
       "        if (msg_handler) {\n",
       "          comm.on_msg(msg_handler);\n",
       "        }\n",
       "      } else if ((plot_id in window.PyViz.kernels) && (window.PyViz.kernels[plot_id])) {\n",
       "        var comm = window.PyViz.kernels[plot_id].connectToComm(comm_id);\n",
       "        comm.open();\n",
       "        if (msg_handler) {\n",
       "          comm.onMsg = msg_handler;\n",
       "        }\n",
       "      } else if (typeof google != 'undefined' && google.colab.kernel != null) {\n",
       "        var comm_promise = google.colab.kernel.comms.open(comm_id)\n",
       "        comm_promise.then((comm) => {\n",
       "          window.PyViz.comms[comm_id] = comm;\n",
       "          if (msg_handler) {\n",
       "            var messages = comm.messages[Symbol.asyncIterator]();\n",
       "            function processIteratorResult(result) {\n",
       "              var message = result.value;\n",
       "              var content = {data: message.data};\n",
       "              var metadata = message.metadata || {comm_id};\n",
       "              var msg = {content, metadata}\n",
       "              msg_handler(msg);\n",
       "              return messages.next().then(processIteratorResult);\n",
       "            }\n",
       "            return messages.next().then(processIteratorResult);\n",
       "          }\n",
       "        }) \n",
       "        var sendClosure = (data, metadata, buffers, disposeOnDone) => {\n",
       "          return comm_promise.then((comm) => {\n",
       "            comm.send(data, metadata, buffers, disposeOnDone);\n",
       "          });\n",
       "        };\n",
       "        var comm = {\n",
       "          send: sendClosure\n",
       "        };\n",
       "      }\n",
       "      window.PyViz.comms[comm_id] = comm;\n",
       "      return comm;\n",
       "    }\n",
       "    window.PyViz.comm_manager = new JupyterCommManager();\n",
       "    \n",
       "\n",
       "\n",
       "var JS_MIME_TYPE = 'application/javascript';\n",
       "var HTML_MIME_TYPE = 'text/html';\n",
       "var EXEC_MIME_TYPE = 'application/vnd.holoviews_exec.v0+json';\n",
       "var CLASS_NAME = 'output';\n",
       "\n",
       "/**\n",
       " * Render data to the DOM node\n",
       " */\n",
       "function render(props, node) {\n",
       "  var div = document.createElement(\"div\");\n",
       "  var script = document.createElement(\"script\");\n",
       "  node.appendChild(div);\n",
       "  node.appendChild(script);\n",
       "}\n",
       "\n",
       "/**\n",
       " * Handle when a new output is added\n",
       " */\n",
       "function handle_add_output(event, handle) {\n",
       "  var output_area = handle.output_area;\n",
       "  var output = handle.output;\n",
       "  if ((output.data == undefined) || (!output.data.hasOwnProperty(EXEC_MIME_TYPE))) {\n",
       "    return\n",
       "  }\n",
       "  var id = output.metadata[EXEC_MIME_TYPE][\"id\"];\n",
       "  var toinsert = output_area.element.find(\".\" + CLASS_NAME.split(' ')[0]);\n",
       "  if (id !== undefined) {\n",
       "    var nchildren = toinsert.length;\n",
       "    var html_node = toinsert[nchildren-1].children[0];\n",
       "    html_node.innerHTML = output.data[HTML_MIME_TYPE];\n",
       "    var scripts = [];\n",
       "    var nodelist = html_node.querySelectorAll(\"script\");\n",
       "    for (var i in nodelist) {\n",
       "      if (nodelist.hasOwnProperty(i)) {\n",
       "        scripts.push(nodelist[i])\n",
       "      }\n",
       "    }\n",
       "\n",
       "    scripts.forEach( function (oldScript) {\n",
       "      var newScript = document.createElement(\"script\");\n",
       "      var attrs = [];\n",
       "      var nodemap = oldScript.attributes;\n",
       "      for (var j in nodemap) {\n",
       "        if (nodemap.hasOwnProperty(j)) {\n",
       "          attrs.push(nodemap[j])\n",
       "        }\n",
       "      }\n",
       "      attrs.forEach(function(attr) { newScript.setAttribute(attr.name, attr.value) });\n",
       "      newScript.appendChild(document.createTextNode(oldScript.innerHTML));\n",
       "      oldScript.parentNode.replaceChild(newScript, oldScript);\n",
       "    });\n",
       "    if (JS_MIME_TYPE in output.data) {\n",
       "      toinsert[nchildren-1].children[1].textContent = output.data[JS_MIME_TYPE];\n",
       "    }\n",
       "    output_area._hv_plot_id = id;\n",
       "    if ((window.Bokeh !== undefined) && (id in Bokeh.index)) {\n",
       "      window.PyViz.plot_index[id] = Bokeh.index[id];\n",
       "    } else {\n",
       "      window.PyViz.plot_index[id] = null;\n",
       "    }\n",
       "  } else if (output.metadata[EXEC_MIME_TYPE][\"server_id\"] !== undefined) {\n",
       "    var bk_div = document.createElement(\"div\");\n",
       "    bk_div.innerHTML = output.data[HTML_MIME_TYPE];\n",
       "    var script_attrs = bk_div.children[0].attributes;\n",
       "    for (var i = 0; i < script_attrs.length; i++) {\n",
       "      toinsert[toinsert.length - 1].childNodes[1].setAttribute(script_attrs[i].name, script_attrs[i].value);\n",
       "    }\n",
       "    // store reference to server id on output_area\n",
       "    output_area._bokeh_server_id = output.metadata[EXEC_MIME_TYPE][\"server_id\"];\n",
       "  }\n",
       "}\n",
       "\n",
       "/**\n",
       " * Handle when an output is cleared or removed\n",
       " */\n",
       "function handle_clear_output(event, handle) {\n",
       "  var id = handle.cell.output_area._hv_plot_id;\n",
       "  var server_id = handle.cell.output_area._bokeh_server_id;\n",
       "  if (((id === undefined) || !(id in PyViz.plot_index)) && (server_id !== undefined)) { return; }\n",
       "  var comm = window.PyViz.comm_manager.get_client_comm(\"hv-extension-comm\", \"hv-extension-comm\", function () {});\n",
       "  if (server_id !== null) {\n",
       "    comm.send({event_type: 'server_delete', 'id': server_id});\n",
       "    return;\n",
       "  } else if (comm !== null) {\n",
       "    comm.send({event_type: 'delete', 'id': id});\n",
       "  }\n",
       "  delete PyViz.plot_index[id];\n",
       "  if ((window.Bokeh !== undefined) & (id in window.Bokeh.index)) {\n",
       "    var doc = window.Bokeh.index[id].model.document\n",
       "    doc.clear();\n",
       "    const i = window.Bokeh.documents.indexOf(doc);\n",
       "    if (i > -1) {\n",
       "      window.Bokeh.documents.splice(i, 1);\n",
       "    }\n",
       "  }\n",
       "}\n",
       "\n",
       "/**\n",
       " * Handle kernel restart event\n",
       " */\n",
       "function handle_kernel_cleanup(event, handle) {\n",
       "  delete PyViz.comms[\"hv-extension-comm\"];\n",
       "  window.PyViz.plot_index = {}\n",
       "}\n",
       "\n",
       "/**\n",
       " * Handle update_display_data messages\n",
       " */\n",
       "function handle_update_output(event, handle) {\n",
       "  handle_clear_output(event, {cell: {output_area: handle.output_area}})\n",
       "  handle_add_output(event, handle)\n",
       "}\n",
       "\n",
       "function register_renderer(events, OutputArea) {\n",
       "  function append_mime(data, metadata, element) {\n",
       "    // create a DOM node to render to\n",
       "    var toinsert = this.create_output_subarea(\n",
       "    metadata,\n",
       "    CLASS_NAME,\n",
       "    EXEC_MIME_TYPE\n",
       "    );\n",
       "    this.keyboard_manager.register_events(toinsert);\n",
       "    // Render to node\n",
       "    var props = {data: data, metadata: metadata[EXEC_MIME_TYPE]};\n",
       "    render(props, toinsert[0]);\n",
       "    element.append(toinsert);\n",
       "    return toinsert\n",
       "  }\n",
       "\n",
       "  events.on('output_added.OutputArea', handle_add_output);\n",
       "  events.on('output_updated.OutputArea', handle_update_output);\n",
       "  events.on('clear_output.CodeCell', handle_clear_output);\n",
       "  events.on('delete.Cell', handle_clear_output);\n",
       "  events.on('kernel_ready.Kernel', handle_kernel_cleanup);\n",
       "\n",
       "  OutputArea.prototype.register_mime_type(EXEC_MIME_TYPE, append_mime, {\n",
       "    safe: true,\n",
       "    index: 0\n",
       "  });\n",
       "}\n",
       "\n",
       "if (window.Jupyter !== undefined) {\n",
       "  try {\n",
       "    var events = require('base/js/events');\n",
       "    var OutputArea = require('notebook/js/outputarea').OutputArea;\n",
       "    if (OutputArea.prototype.mime_types().indexOf(EXEC_MIME_TYPE) == -1) {\n",
       "      register_renderer(events, OutputArea);\n",
       "    }\n",
       "  } catch(err) {\n",
       "  }\n",
       "}\n"
      ],
      "application/vnd.holoviews_load.v0+json": "\nif ((window.PyViz === undefined) || (window.PyViz instanceof HTMLElement)) {\n  window.PyViz = {comms: {}, comm_status:{}, kernels:{}, receivers: {}, plot_index: []}\n}\n\n\n    function JupyterCommManager() {\n    }\n\n    JupyterCommManager.prototype.register_target = function(plot_id, comm_id, msg_handler) {\n      if (window.comm_manager || ((window.Jupyter !== undefined) && (Jupyter.notebook.kernel != null))) {\n        var comm_manager = window.comm_manager || Jupyter.notebook.kernel.comm_manager;\n        comm_manager.register_target(comm_id, function(comm) {\n          comm.on_msg(msg_handler);\n        });\n      } else if ((plot_id in window.PyViz.kernels) && (window.PyViz.kernels[plot_id])) {\n        window.PyViz.kernels[plot_id].registerCommTarget(comm_id, function(comm) {\n          comm.onMsg = msg_handler;\n        });\n      } else if (typeof google != 'undefined' && google.colab.kernel != null) {\n        google.colab.kernel.comms.registerTarget(comm_id, (comm) => {\n          var messages = comm.messages[Symbol.asyncIterator]();\n          function processIteratorResult(result) {\n            var message = result.value;\n            console.log(message)\n            var content = {data: message.data, comm_id};\n            var buffers = []\n            for (var buffer of message.buffers || []) {\n              buffers.push(new DataView(buffer))\n            }\n            var metadata = message.metadata || {};\n            var msg = {content, buffers, metadata}\n            msg_handler(msg);\n            return messages.next().then(processIteratorResult);\n          }\n          return messages.next().then(processIteratorResult);\n        })\n      }\n    }\n\n    JupyterCommManager.prototype.get_client_comm = function(plot_id, comm_id, msg_handler) {\n      if (comm_id in window.PyViz.comms) {\n        return window.PyViz.comms[comm_id];\n      } else if (window.comm_manager || ((window.Jupyter !== undefined) && (Jupyter.notebook.kernel != null))) {\n        var comm_manager = window.comm_manager || Jupyter.notebook.kernel.comm_manager;\n        var comm = comm_manager.new_comm(comm_id, {}, {}, {}, comm_id);\n        if (msg_handler) {\n          comm.on_msg(msg_handler);\n        }\n      } else if ((plot_id in window.PyViz.kernels) && (window.PyViz.kernels[plot_id])) {\n        var comm = window.PyViz.kernels[plot_id].connectToComm(comm_id);\n        comm.open();\n        if (msg_handler) {\n          comm.onMsg = msg_handler;\n        }\n      } else if (typeof google != 'undefined' && google.colab.kernel != null) {\n        var comm_promise = google.colab.kernel.comms.open(comm_id)\n        comm_promise.then((comm) => {\n          window.PyViz.comms[comm_id] = comm;\n          if (msg_handler) {\n            var messages = comm.messages[Symbol.asyncIterator]();\n            function processIteratorResult(result) {\n              var message = result.value;\n              var content = {data: message.data};\n              var metadata = message.metadata || {comm_id};\n              var msg = {content, metadata}\n              msg_handler(msg);\n              return messages.next().then(processIteratorResult);\n            }\n            return messages.next().then(processIteratorResult);\n          }\n        }) \n        var sendClosure = (data, metadata, buffers, disposeOnDone) => {\n          return comm_promise.then((comm) => {\n            comm.send(data, metadata, buffers, disposeOnDone);\n          });\n        };\n        var comm = {\n          send: sendClosure\n        };\n      }\n      window.PyViz.comms[comm_id] = comm;\n      return comm;\n    }\n    window.PyViz.comm_manager = new JupyterCommManager();\n    \n\n\nvar JS_MIME_TYPE = 'application/javascript';\nvar HTML_MIME_TYPE = 'text/html';\nvar EXEC_MIME_TYPE = 'application/vnd.holoviews_exec.v0+json';\nvar CLASS_NAME = 'output';\n\n/**\n * Render data to the DOM node\n */\nfunction render(props, node) {\n  var div = document.createElement(\"div\");\n  var script = document.createElement(\"script\");\n  node.appendChild(div);\n  node.appendChild(script);\n}\n\n/**\n * Handle when a new output is added\n */\nfunction handle_add_output(event, handle) {\n  var output_area = handle.output_area;\n  var output = handle.output;\n  if ((output.data == undefined) || (!output.data.hasOwnProperty(EXEC_MIME_TYPE))) {\n    return\n  }\n  var id = output.metadata[EXEC_MIME_TYPE][\"id\"];\n  var toinsert = output_area.element.find(\".\" + CLASS_NAME.split(' ')[0]);\n  if (id !== undefined) {\n    var nchildren = toinsert.length;\n    var html_node = toinsert[nchildren-1].children[0];\n    html_node.innerHTML = output.data[HTML_MIME_TYPE];\n    var scripts = [];\n    var nodelist = html_node.querySelectorAll(\"script\");\n    for (var i in nodelist) {\n      if (nodelist.hasOwnProperty(i)) {\n        scripts.push(nodelist[i])\n      }\n    }\n\n    scripts.forEach( function (oldScript) {\n      var newScript = document.createElement(\"script\");\n      var attrs = [];\n      var nodemap = oldScript.attributes;\n      for (var j in nodemap) {\n        if (nodemap.hasOwnProperty(j)) {\n          attrs.push(nodemap[j])\n        }\n      }\n      attrs.forEach(function(attr) { newScript.setAttribute(attr.name, attr.value) });\n      newScript.appendChild(document.createTextNode(oldScript.innerHTML));\n      oldScript.parentNode.replaceChild(newScript, oldScript);\n    });\n    if (JS_MIME_TYPE in output.data) {\n      toinsert[nchildren-1].children[1].textContent = output.data[JS_MIME_TYPE];\n    }\n    output_area._hv_plot_id = id;\n    if ((window.Bokeh !== undefined) && (id in Bokeh.index)) {\n      window.PyViz.plot_index[id] = Bokeh.index[id];\n    } else {\n      window.PyViz.plot_index[id] = null;\n    }\n  } else if (output.metadata[EXEC_MIME_TYPE][\"server_id\"] !== undefined) {\n    var bk_div = document.createElement(\"div\");\n    bk_div.innerHTML = output.data[HTML_MIME_TYPE];\n    var script_attrs = bk_div.children[0].attributes;\n    for (var i = 0; i < script_attrs.length; i++) {\n      toinsert[toinsert.length - 1].childNodes[1].setAttribute(script_attrs[i].name, script_attrs[i].value);\n    }\n    // store reference to server id on output_area\n    output_area._bokeh_server_id = output.metadata[EXEC_MIME_TYPE][\"server_id\"];\n  }\n}\n\n/**\n * Handle when an output is cleared or removed\n */\nfunction handle_clear_output(event, handle) {\n  var id = handle.cell.output_area._hv_plot_id;\n  var server_id = handle.cell.output_area._bokeh_server_id;\n  if (((id === undefined) || !(id in PyViz.plot_index)) && (server_id !== undefined)) { return; }\n  var comm = window.PyViz.comm_manager.get_client_comm(\"hv-extension-comm\", \"hv-extension-comm\", function () {});\n  if (server_id !== null) {\n    comm.send({event_type: 'server_delete', 'id': server_id});\n    return;\n  } else if (comm !== null) {\n    comm.send({event_type: 'delete', 'id': id});\n  }\n  delete PyViz.plot_index[id];\n  if ((window.Bokeh !== undefined) & (id in window.Bokeh.index)) {\n    var doc = window.Bokeh.index[id].model.document\n    doc.clear();\n    const i = window.Bokeh.documents.indexOf(doc);\n    if (i > -1) {\n      window.Bokeh.documents.splice(i, 1);\n    }\n  }\n}\n\n/**\n * Handle kernel restart event\n */\nfunction handle_kernel_cleanup(event, handle) {\n  delete PyViz.comms[\"hv-extension-comm\"];\n  window.PyViz.plot_index = {}\n}\n\n/**\n * Handle update_display_data messages\n */\nfunction handle_update_output(event, handle) {\n  handle_clear_output(event, {cell: {output_area: handle.output_area}})\n  handle_add_output(event, handle)\n}\n\nfunction register_renderer(events, OutputArea) {\n  function append_mime(data, metadata, element) {\n    // create a DOM node to render to\n    var toinsert = this.create_output_subarea(\n    metadata,\n    CLASS_NAME,\n    EXEC_MIME_TYPE\n    );\n    this.keyboard_manager.register_events(toinsert);\n    // Render to node\n    var props = {data: data, metadata: metadata[EXEC_MIME_TYPE]};\n    render(props, toinsert[0]);\n    element.append(toinsert);\n    return toinsert\n  }\n\n  events.on('output_added.OutputArea', handle_add_output);\n  events.on('output_updated.OutputArea', handle_update_output);\n  events.on('clear_output.CodeCell', handle_clear_output);\n  events.on('delete.Cell', handle_clear_output);\n  events.on('kernel_ready.Kernel', handle_kernel_cleanup);\n\n  OutputArea.prototype.register_mime_type(EXEC_MIME_TYPE, append_mime, {\n    safe: true,\n    index: 0\n  });\n}\n\nif (window.Jupyter !== undefined) {\n  try {\n    var events = require('base/js/events');\n    var OutputArea = require('notebook/js/outputarea').OutputArea;\n    if (OutputArea.prototype.mime_types().indexOf(EXEC_MIME_TYPE) == -1) {\n      register_renderer(events, OutputArea);\n    }\n  } catch(err) {\n  }\n}\n"
     },
     "metadata": {},
     "output_type": "display_data"
    },
    {
     "data": {
      "text/html": [
       "<style>.bk-root, .bk-root .bk:before, .bk-root .bk:after {\n",
       "  font-family: var(--jp-ui-font-size1);\n",
       "  font-size: var(--jp-ui-font-size1);\n",
       "  color: var(--jp-ui-font-color1);\n",
       "}\n",
       "</style>"
      ]
     },
     "metadata": {},
     "output_type": "display_data"
    }
   ],
   "source": [
    "panel.extension()"
   ]
  },
  {
   "cell_type": "code",
   "execution_count": 69,
   "id": "165e6a46-40c5-4647-bc67-2ff7363f5039",
   "metadata": {},
   "outputs": [],
   "source": [
    "def plot_rotors_metrics(rotors_model,  X_dict, y_dict, selected_split, threshold,):\n",
    "    y_raw = rotors_model.predict(X_dict[selected_split])[:,0]\n",
    "    y_pred = list(map(float, y_raw > threshold)) \n",
    "    cm1 = sklearn.metrics.confusion_matrix(y_dict[selected_split], y_pred)\n",
    "    metric_dict = {\n",
    "        'hit_rate' : [cm1[1,1] / (cm1[1,0] + cm1[1,1])],\n",
    "        'false_alarm_rate' : [cm1[0,1] / (cm1[0,0] + cm1[0,1])],\n",
    "        'sedi_score': [calc_sedi(cm1)],\n",
    "    }\n",
    "    \n",
    "    fig1 = matplotlib.pyplot.Figure()\n",
    "    ax1 = fig1.add_subplot(1,1,1)\n",
    "    pandas.DataFrame.from_dict(metric_dict).transpose().plot.bar(ax=ax1)\n",
    "    ax1.set_ylim([0.0, 1.0])\n",
    "    fig1.tight_layout()\n",
    "    return fig1\n"
   ]
  },
  {
   "cell_type": "code",
   "execution_count": 70,
   "id": "35b84ab9-8c1e-4698-93ce-510f03b3946c",
   "metadata": {},
   "outputs": [
    {
     "data": {
      "image/png": "[encoded data removed]",
      "text/plain": [
       "<Figure size 432x288 with 1 Axes>"
      ]
     },
     "execution_count": 70,
     "metadata": {},
     "output_type": "execute_result"
    }
   ],
   "source": [
    "plot_rotors_metrics(\n",
    "    rotors_model=rse_rotors_model,\n",
    "    X_dict= {'train': X_train, 'val': X_val},\n",
    "    y_dict= {'train': y_train[:,0], 'val': y_val[:,0]},\n",
    "    selected_split='val',\n",
    "    threshold=0.02,\n",
    ")"
   ]
  },
  {
   "cell_type": "code",
   "execution_count": 53,
   "id": "aed3f9dc-ee61-4309-a614-e01821f02b78",
   "metadata": {},
   "outputs": [],
   "source": [
    "split_select_widget = panel.widgets.Select(options=['train', 'val'])"
   ]
  },
  {
   "cell_type": "code",
   "execution_count": 54,
   "id": "db9b0a9f-2926-46cd-979b-5870346d66f9",
   "metadata": {},
   "outputs": [],
   "source": [
    "threshold_widget = panel.widgets.slider.FloatSlider(start=0.0,end=0.2,step=0.001, value=0.01)"
   ]
  },
  {
   "cell_type": "code",
   "execution_count": 71,
   "id": "b5b457e5-0cb6-4c01-845a-ce5eca505912",
   "metadata": {},
   "outputs": [],
   "source": [
    "metric_plotter = panel.bind(\n",
    "    functools.partial(plot_rotors_metrics, \n",
    "                      rotors_model=rse_rotors_model,\n",
    "                      X_dict= {'train': X_train, 'val': X_val},\n",
    "                      y_dict= {'train': y_train[:,0], 'val': y_val[:,0]},),\n",
    "    selected_split=split_select_widget,\n",
    "    threshold=threshold_widget,    \n",
    ")"
   ]
  },
  {
   "cell_type": "code",
   "execution_count": 72,
   "id": "9eac6d68-03a4-4aab-8ade-52920a88bdc2",
   "metadata": {},
   "outputs": [],
   "source": [
    "metric_dashboard = panel.Column(panel.Row(split_select_widget, threshold_widget), metric_plotter)"
   ]
  },
  {
   "cell_type": "code",
   "execution_count": 73,
   "id": "beefa54f-2c91-478d-a02a-c5edf689ded1",
   "metadata": {},
   "outputs": [
    {
     "data": {},
     "metadata": {},
     "output_type": "display_data"
    },
    {
     "data": {
      "application/vnd.holoviews_exec.v0+json": "",
      "text/html": [
       "<div id='1028'>\n",
       "  <div class=\"bk-root\" id=\"a79f9169-f435-4629-ade1-f48b1a6b8cd6\" data-root-id=\"1028\"></div>\n",
       "</div>\n",
       "<script type=\"application/javascript\">(function(root) {\n",
       "  function embed_document(root) {\n",
       "    var docs_json = {\"0d1329ea-f5d9-4d87-8045-a117e549ecdb\":{\"defs\":[{\"extends\":null,\"module\":null,\"name\":\"ReactiveHTML1\",\"overrides\":[],\"properties\":[]},{\"extends\":null,\"module\":null,\"name\":\"FlexBox1\",\"overrides\":[],\"properties\":[{\"default\":\"flex-start\",\"kind\":null,\"name\":\"align_content\"},{\"default\":\"flex-start\",\"kind\":null,\"name\":\"align_items\"},{\"default\":\"row\",\"kind\":null,\"name\":\"flex_direction\"},{\"default\":\"wrap\",\"kind\":null,\"name\":\"flex_wrap\"},{\"default\":\"flex-start\",\"kind\":null,\"name\":\"justify_content\"}]},{\"extends\":null,\"module\":null,\"name\":\"GridStack1\",\"overrides\":[],\"properties\":[{\"default\":\"warn\",\"kind\":null,\"name\":\"mode\"},{\"default\":null,\"kind\":null,\"name\":\"ncols\"},{\"default\":null,\"kind\":null,\"name\":\"nrows\"},{\"default\":true,\"kind\":null,\"name\":\"allow_resize\"},{\"default\":true,\"kind\":null,\"name\":\"allow_drag\"},{\"default\":[],\"kind\":null,\"name\":\"state\"}]},{\"extends\":null,\"module\":null,\"name\":\"click1\",\"overrides\":[],\"properties\":[{\"default\":\"\",\"kind\":null,\"name\":\"terminal_output\"},{\"default\":\"\",\"kind\":null,\"name\":\"debug_name\"},{\"default\":0,\"kind\":null,\"name\":\"clears\"}]},{\"extends\":null,\"module\":null,\"name\":\"NotificationAreaBase1\",\"overrides\":[],\"properties\":[{\"default\":\"bottom-right\",\"kind\":null,\"name\":\"position\"},{\"default\":0,\"kind\":null,\"name\":\"_clear\"}]},{\"extends\":null,\"module\":null,\"name\":\"NotificationArea1\",\"overrides\":[],\"properties\":[{\"default\":[],\"kind\":null,\"name\":\"notifications\"},{\"default\":\"bottom-right\",\"kind\":null,\"name\":\"position\"},{\"default\":0,\"kind\":null,\"name\":\"_clear\"},{\"default\":[{\"background\":\"#ffc107\",\"icon\":{\"className\":\"fas fa-exclamation-triangle\",\"color\":\"white\",\"tagName\":\"i\"},\"type\":\"warning\"},{\"background\":\"#007bff\",\"icon\":{\"className\":\"fas fa-info-circle\",\"color\":\"white\",\"tagName\":\"i\"},\"type\":\"info\"}],\"kind\":null,\"name\":\"types\"}]},{\"extends\":null,\"module\":null,\"name\":\"Notification\",\"overrides\":[],\"properties\":[{\"default\":null,\"kind\":null,\"name\":\"background\"},{\"default\":3000,\"kind\":null,\"name\":\"duration\"},{\"default\":null,\"kind\":null,\"name\":\"icon\"},{\"default\":\"\",\"kind\":null,\"name\":\"message\"},{\"default\":null,\"kind\":null,\"name\":\"notification_type\"},{\"default\":false,\"kind\":null,\"name\":\"_destroyed\"}]},{\"extends\":null,\"module\":null,\"name\":\"TemplateActions1\",\"overrides\":[],\"properties\":[{\"default\":0,\"kind\":null,\"name\":\"open_modal\"},{\"default\":0,\"kind\":null,\"name\":\"close_modal\"}]},{\"extends\":null,\"module\":null,\"name\":\"MaterialTemplateActions1\",\"overrides\":[],\"properties\":[{\"default\":0,\"kind\":null,\"name\":\"open_modal\"},{\"default\":0,\"kind\":null,\"name\":\"close_modal\"}]}],\"roots\":{\"references\":[{\"attributes\":{\"children\":[{\"id\":\"1029\"},{\"id\":\"1032\"}],\"margin\":[0,0,0,0],\"name\":\"Column00154\"},\"id\":\"1028\",\"type\":\"Column\"},{\"attributes\":{\"margin\":[5,10,5,10],\"options\":[\"train\",\"val\"],\"value\":\"val\"},\"id\":\"1030\",\"type\":\"panel.models.widgets.CustomSelect\"},{\"attributes\":{\"reload\":false},\"id\":\"1035\",\"type\":\"panel.models.location.Location\"},{\"attributes\":{\"children\":[{\"id\":\"1030\"},{\"id\":\"1031\"}],\"margin\":[0,0,0,0],\"name\":\"Row00146\"},\"id\":\"1029\",\"type\":\"Row\"},{\"attributes\":{\"end\":0.2,\"margin\":[5,10,5,10],\"start\":0.0,\"step\":0.001,\"value\":0.03},\"id\":\"1031\",\"type\":\"Slider\"},{\"attributes\":{\"client_comm_id\":\"df91d179bd4a4c8986b1ca852f2b0cb6\",\"comm_id\":\"4d32cababa1f41a58d761dca21cf21ba\",\"plot_id\":\"1028\"},\"id\":\"1034\",\"type\":\"panel.models.comm_manager.CommManager\"},{\"attributes\":{\"children\":[{\"id\":\"1033\"}],\"margin\":[0,0,0,0],\"name\":\"Row00151\"},\"id\":\"1032\",\"type\":\"Row\"},{\"attributes\":{\"height\":576,\"margin\":[5,5,5,5],\"name\":\"ParamFunction00147\",\"text\":\"&lt;img src=&quot;data:image/png;base64,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&quot; width=&quot;864px&quot; height=&quot;576px&quot; alt=&quot;&quot;&gt;&lt;/img&gt;\",\"width\":864},\"id\":\"1033\",\"type\":\"panel.models.markup.HTML\"}],\"root_ids\":[\"1028\",\"1034\",\"1035\"]},\"title\":\"Bokeh Application\",\"version\":\"2.4.3\"}};\n",
       "    var render_items = [{\"docid\":\"0d1329ea-f5d9-4d87-8045-a117e549ecdb\",\"root_ids\":[\"1028\"],\"roots\":{\"1028\":\"a79f9169-f435-4629-ade1-f48b1a6b8cd6\"}}];\n",
       "    root.Bokeh.embed.embed_items_notebook(docs_json, render_items);\n",
       "  }\n",
       "  if (root.Bokeh !== undefined && root.Bokeh.Panel !== undefined) {\n",
       "    embed_document(root);\n",
       "  } else {\n",
       "    var attempts = 0;\n",
       "    var timer = setInterval(function(root) {\n",
       "      if (root.Bokeh !== undefined && root.Bokeh.Panel !== undefined) {\n",
       "        clearInterval(timer);\n",
       "        embed_document(root);\n",
       "      } else if (document.readyState == \"complete\") {\n",
       "        attempts++;\n",
       "        if (attempts > 200) {\n",
       "          clearInterval(timer);\n",
       "          console.log(\"Bokeh: ERROR: Unable to run BokehJS code because BokehJS library is missing\");\n",
       "        }\n",
       "      }\n",
       "    }, 25, root)\n",
       "  }\n",
       "})(window);</script>"
      ],
      "text/plain": [
       "Column\n",
       "    [0] Row\n",
       "        [0] Select(options=['train', 'val'], value='val')\n",
       "        [1] FloatSlider(end=0.2, step=0.001, value=0.03)\n",
       "    [1] ParamFunction(function)"
      ]
     },
     "execution_count": 73,
     "metadata": {
      "application/vnd.holoviews_exec.v0+json": {
       "id": "1028"
      }
     },
     "output_type": "execute_result"
    }
   ],
   "source": [
    "metric_dashboard.servable()"
   ]
  },
  {
   "cell_type": "markdown",
   "id": "bbd99e5a-97ed-4678-8708-59986c829576",
   "metadata": {},
   "source": [
    "Our very basic dashboard is:\n",
    "* loading data from a catalog\n",
    "* loading a pre-trained model from catalog of pretrained models\n",
    "* display plots  created on demand through an interactive dashboard.\n",
    "\n",
    "Although this seems very simple (well, it is), this is a very scalable approach. We can easily make this better by\n",
    "* Using a larger dataset.\n",
    "* scaling up the calculation required through a workflow engine (e..g. dask, ray)\n",
    "* run this on the cloud\n",
    "* use more complicated/interesting plots\n",
    "\n"
   ]
  },
  {
   "cell_type": "markdown",
   "id": "ab1a922e-1b0f-42a2-af94-098dcca0903b",
   "metadata": {},
   "source": [
    "# Example - Explainable AI"
   ]
  },
  {
   "cell_type": "code",
   "execution_count": null,
   "id": "03d1dcd2-80ca-486f-8c5e-2e4545063d78",
   "metadata": {},
   "outputs": [],
   "source": [
    "mlflow.shap."
   ]
  },
  {
   "cell_type": "code",
   "execution_count": null,
   "id": "887114ac-0fdd-4efa-9a29-12d16db5f34b",
   "metadata": {},
   "outputs": [],
   "source": []
  },
  {
   "cell_type": "code",
   "execution_count": null,
   "id": "594dea56-deb0-4ee4-8932-65b77f62ed89",
   "metadata": {},
   "outputs": [],
   "source": []
  },
  {
   "cell_type": "code",
   "execution_count": null,
   "id": "fc53607f-9c0e-4237-8312-b1290514697c",
   "metadata": {},
   "outputs": [],
   "source": []
  },
  {
   "cell_type": "code",
   "execution_count": null,
   "id": "9298e641-8804-4752-9a87-73d18a8c2007",
   "metadata": {},
   "outputs": [],
   "source": []
  },
  {
   "cell_type": "code",
   "execution_count": null,
   "id": "80d56c43-87cb-4b0d-a640-f534f43b4b01",
   "metadata": {},
   "outputs": [],
   "source": []
  },
  {
   "cell_type": "code",
   "execution_count": null,
   "id": "e16bd4da-d6be-4275-8199-38d17d63127c",
   "metadata": {},
   "outputs": [],
   "source": []
  },
  {
   "cell_type": "code",
   "execution_count": null,
   "id": "cc34a617-cf5c-4623-b750-9e699d79bb06",
   "metadata": {},
   "outputs": [],
   "source": []
  },
  {
   "cell_type": "markdown",
   "id": "d6f9d47a-68f5-41d4-b779-080a63ede546",
   "metadata": {},
   "source": [
    "### Reference\n",
    "\n",
    "* [Holoviz](https://holoviz.org/) \n",
    "* SHAP\n",
    "* "
   ]
  },
  {
   "cell_type": "code",
   "execution_count": null,
   "id": "35f52c6f-28a2-4caf-82c2-53848dbd3a59",
   "metadata": {},
   "outputs": [],
   "source": []
  }
 ],
 "metadata": {
  "kernelspec": {
   "display_name": "Python 3 (ipykernel)",
   "language": "python",
   "name": "python3"
  },
  "language_info": {
   "codemirror_mode": {
    "name": "ipython",
    "version": 3
   },
   "file_extension": ".py",
   "mimetype": "text/x-python",
   "name": "python",
   "nbconvert_exporter": "python",
   "pygments_lexer": "ipython3",
   "version": "3.8.13"
  }
 },
 "nbformat": 4,
 "nbformat_minor": 5
}
