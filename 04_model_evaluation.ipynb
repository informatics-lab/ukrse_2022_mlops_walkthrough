{
 "cells": [
  {
   "cell_type": "markdown",
   "id": "79a8d9c7-2a11-42ec-ba7f-0bdc208484d8",
   "metadata": {},
   "source": [
    "# MLOps for RSEs - 4. Model Evaluation & Reuse\n",
    "\n",
    "In this third part of the tutorial, we'll look at some of the practices and tools that are used after the machine learning model is trained. These activities are generally about evaluating the performance of the model,  understanding the results it produces and sharing the outputs so the model and its predictions can be reused. The FAIR principles are hopefully well known to most RSEs, and their application to both code and data. In a machine learning-based project it is important to apply FAIR principle to machine learning model and other ML assets to promote reproducible research and general reuse of research assets.\n",
    "\n",
    "![Met Office Logo](https://www.metoffice.gov.uk/webfiles/1661941781161/images/icons/social-icons/default_card_315.jpg)"
   ]
  },
  {
   "cell_type": "markdown",
   "id": "195024ac-c02d-49f4-b238-5a9c9184c890",
   "metadata": {},
   "source": [
    "### Key Principles\n",
    "* *Reusability* - making trained models, model results, performance metrics and explainability metricseasily  available to other researchers\n",
    "* *Scalability* - Be able to produce and serve results at scale, either for large datasets and problems or for many users simulataneously.\n",
    "* *Interactvity* - Make research outputs available through an interactive interface for to faclitate exploration and use of results in an intuitive way that does not distract from thinking about the actual problem the researcher is interested in."
   ]
  },
  {
   "cell_type": "markdown",
   "id": "cd92781d-deb7-4747-a5b2-783b5c0c4bd9",
   "metadata": {},
   "source": [
    "### Key Tasks for RSEs\n",
    "* Setting up infrastrcuture to serve models and model results\n",
    "* Creating model evaluation and testing suites/workflows to evaluate model performance in a reproducible and comparable way\n",
    "* Supporting tools for interpretability and explainability (XAI)\n",
    "* Creating dashboard for ML outputs including\n",
    "  * predictions from inference\n",
    "  * performance metrics\n",
    "  * explainability metrics\n"
   ]
  },
  {
   "cell_type": "markdown",
   "id": "5414ee44-39c9-4025-8ab6-fdc67b53e365",
   "metadata": {},
   "source": [
    "### Key Terms\n",
    "* *inference* - producing predictions from the trained machine learning model\n",
    "* *Explainable AI (XAI)* - A machine learning pipeline where the predictions made by the algorithm can be explained and interpreted (what does this prediction mean in terms of the problem domain?).\n",
    "* *Explainability* - Part of XAI which enables some one to explain how a machine learning algorithm made a certain prediction, such as which inputs were important, which particular parts of a neural network or decision tree were activated etc.\n",
    "* *Interpretability* - Part of XAI which tell us what a particular prediction mean in the original problem domian and generally understanding the performance of the model in the research context.\n",
    "* *metrics* - values which characterise some aspect of the model and its results.\n"
   ]
  },
  {
   "cell_type": "markdown",
   "id": "5936aae0-817f-4ec7-9811-9ca4451bd8d9",
   "metadata": {},
   "source": [
    "### Key Tools\n",
    "* model storage/loading ([mlflow](https://mlflow.org/), [onnx](https://github.com/onnx))\n",
    "  * model registry ([ML Flow models](https://www.mlflow.org/docs/latest/models.html))\n",
    "* inference ([mlflow](https://mlflow.org/), [ray serve](https://docs.ray.io/en/latest/serve/index.html))\n",
    "* workflow mangers/engines ([ray](https://docs.ray.io/))\n",
    "* metrics ([scikit learn](https://scikit-learn.org/))\n",
    "* XAI ([scikit learn](https://scikit-learn.org/), [shap](https://shap.readthedocs.io/en/latest/index.html), [omni xai](https://github.com/salesforce/OmniXAI))\n",
    "* dashboards ([matplotlib](https://www.google.com/search?q=matplotlib&oq=matplotlib&aqs=chrome..69i57j0i131i433i512j69i59l2j0i131i433i512j69i65l3.2614j0j7&sourceid=chrome&ie=UTF-8), [holoviz](https://holoviz.org/))"
   ]
  },
  {
   "cell_type": "markdown",
   "id": "d606c3eb-ec9e-4f5d-a525-b1977e676769",
   "metadata": {},
   "source": [
    "### Running this notebook\n",
    "This notebook should run from a conda environment created with the [requirements_evaluation.yml file](requirements_evaluation.yml). See the [readme file](https://github.com/informatics-lab/ukrse_2022_mlops_walkthrough/blob/main/README.md) for info on how to set up a conda environment for using this notebook."
   ]
  },
  {
   "cell_type": "markdown",
   "id": "eaa4debb-ccfb-4c33-8a74-f9930192c522",
   "metadata": {},
   "source": [
    "## Loading trained models for inference\n",
    "\n",
    "Once you've trained a model, or more usually in a research several different models to explore different options for you model such as different model architectures, different input features or different training datasets, you then want to evaluate the performance of each model (using performance metrics) and also understand how it is making (using interpretability and explainability techniques).\n",
    "\n"
   ]
  },
  {
   "cell_type": "code",
   "execution_count": 1,
   "id": "4a5fc1e3-2937-491a-9c53-230dcfbe753d",
   "metadata": {},
   "outputs": [],
   "source": [
    "import datetime\n",
    "import os\n",
    "import pathlib\n",
    "import functools"
   ]
  },
  {
   "cell_type": "code",
   "execution_count": 2,
   "id": "4e691dd7-9422-41b2-935e-dc888e3aff64",
   "metadata": {},
   "outputs": [],
   "source": [
    "import intake"
   ]
  },
  {
   "cell_type": "code",
   "execution_count": 3,
   "id": "0c9e7336-876a-4d44-8d62-d7d800499e75",
   "metadata": {},
   "outputs": [],
   "source": [
    "import numpy\n",
    "import pandas"
   ]
  },
  {
   "cell_type": "code",
   "execution_count": 4,
   "id": "faa635de-60e3-44bc-bfd3-63cb8550820b",
   "metadata": {},
   "outputs": [],
   "source": [
    "import matplotlib\n",
    "import matplotlib.pyplot"
   ]
  },
  {
   "cell_type": "code",
   "execution_count": 5,
   "id": "b7df5af6-c6d2-4ecb-b794-b6fb99c74882",
   "metadata": {},
   "outputs": [],
   "source": [
    "import sklearn\n",
    "import sklearn.preprocessing\n",
    "import sklearn.metrics"
   ]
  },
  {
   "cell_type": "markdown",
   "id": "a2f4a772-f414-4a3e-9aec-457ef4a1a5d2",
   "metadata": {
    "tags": []
   },
   "source": [
    "## Get train and test data\n",
    "\n",
    "First we load the data, both input data to feed in to the model and target data with which to compare results to assess performance. We will agin load the data from the catalog we created in the data preparation phase."
   ]
  },
  {
   "cell_type": "code",
   "execution_count": 6,
   "id": "f41f2246-f7ab-46aa-aecd-9c4b44af688a",
   "metadata": {},
   "outputs": [
    {
     "name": "stdout",
     "output_type": "stream",
     "text": [
      "using default path\n"
     ]
    },
    {
     "data": {
      "text/plain": [
       "PosixPath('/Users/stephen.haddad/data/ukrse2022')"
      ]
     },
     "execution_count": 6,
     "metadata": {},
     "output_type": "execute_result"
    }
   ],
   "source": [
    "try:\n",
    "    rse_root_data_dir = pathlib.Path(os.environ['RSE22_ROOT_DATA_DIR'])\n",
    "    print('reading from environment variable')\n",
    "except KeyError as ke1:\n",
    "    rse_root_data_dir = pathlib.Path(os.environ['HOME'])  / 'data' / 'ukrse2022'\n",
    "    print('using default path')\n",
    "rse_root_data_dir"
   ]
  },
  {
   "cell_type": "code",
   "execution_count": 7,
   "id": "59bc54fe-d501-4579-8a06-0fdf3cc10144",
   "metadata": {},
   "outputs": [
    {
     "data": {
      "application/yaml": "rotors_catalog:\n  args:\n    path: /Users/stephen.haddad/data/ukrse2022/rotors_catalog.yml\n  description: ''\n  driver: intake.catalog.local.YAMLFileCatalog\n  metadata: {}\n",
      "text/plain": [
       "rotors_catalog:\n",
       "  args:\n",
       "    path: /Users/stephen.haddad/data/ukrse2022/rotors_catalog.yml\n",
       "  description: ''\n",
       "  driver: intake.catalog.local.YAMLFileCatalog\n",
       "  metadata: {}\n"
      ]
     },
     "metadata": {
      "application/json": {
       "root": "rotors_catalog"
      }
     },
     "output_type": "display_data"
    }
   ],
   "source": [
    "rotors_catalog = intake.open_catalog(rse_root_data_dir / 'rotors_catalog.yml')\n",
    "rotors_catalog "
   ]
  },
  {
   "cell_type": "code",
   "execution_count": 8,
   "id": "0e8e3df9-82ad-49bc-8835-e89589f42131",
   "metadata": {},
   "outputs": [],
   "source": [
    "rotors_df = rotors_catalog['rotors_preprocessed'].read()"
   ]
  },
  {
   "cell_type": "code",
   "execution_count": 9,
   "id": "3e7839fc-4c94-4df1-a54f-7e6790ed498a",
   "metadata": {},
   "outputs": [],
   "source": [
    "# one small bit of cleaning: ensuring the correct datetime type for our time feature\n",
    "rotors_df['time'] = pandas.to_datetime(rotors_df['time'])\n",
    "temp_feature_names = [f'air_temp_{i1}' for i1 in range(1,23)]\n",
    "humidity_feature_names = [f'sh_{i1}' for i1 in range(1,23)]\n",
    "wind_direction_feature_names = [f'winddir_{i1}' for i1 in range(1,23)]\n",
    "wind_speed_feature_names = [f'windspd_{i1}' for i1 in range(1,23)]\n",
    "u_wind_feature_names = [f'u_wind_{i1}' for i1 in range(1,23)]\n",
    "v_wind_feature_names = [f'v_wind_{i1}' for i1 in range(1,23)]\n",
    "target_feature_name = 'rotors_present'\n"
   ]
  },
  {
   "cell_type": "code",
   "execution_count": 10,
   "id": "81147a95-0fe3-4445-9f57-ed087a484ac7",
   "metadata": {},
   "outputs": [],
   "source": [
    "train_df = rotors_df[rotors_df['time'] < datetime.datetime(2020,1,1,0,0)]\n",
    "val_df = rotors_df[rotors_df['time'] > datetime.datetime(2020,1,1,0,0)]"
   ]
  },
  {
   "cell_type": "code",
   "execution_count": 11,
   "id": "f7e5dbdd-a489-467b-980f-6303cb8f7f2d",
   "metadata": {},
   "outputs": [],
   "source": [
    "input_feature_names = temp_feature_names + humidity_feature_names + u_wind_feature_names + v_wind_feature_names"
   ]
  },
  {
   "cell_type": "code",
   "execution_count": 12,
   "id": "5fb08596-5929-4740-be7d-68b04de0560c",
   "metadata": {},
   "outputs": [],
   "source": [
    "preproc_dict = {}\n",
    "for if1 in input_feature_names:\n",
    "    scaler1 = sklearn.preprocessing.StandardScaler()\n",
    "    scaler1.fit(train_df[[if1]])\n",
    "    preproc_dict[if1] = scaler1"
   ]
  },
  {
   "cell_type": "code",
   "execution_count": 13,
   "id": "27a5351c-7dc3-499b-9ab0-41d31ea901e8",
   "metadata": {},
   "outputs": [
    {
     "name": "stderr",
     "output_type": "stream",
     "text": [
      "/Users/stephen.haddad/opt/anaconda3/envs/ukrse2022_mlops_model_evaluation/lib/python3.8/site-packages/sklearn/utils/validation.py:63: DataConversionWarning: A column-vector y was passed when a 1d array was expected. Please change the shape of y to (n_samples, ), for example using ravel().\n",
      "  return f(*args, **kwargs)\n"
     ]
    },
    {
     "data": {
      "text/plain": [
       "LabelEncoder()"
      ]
     },
     "execution_count": 13,
     "metadata": {},
     "output_type": "execute_result"
    }
   ],
   "source": [
    "target_encoder = sklearn.preprocessing.LabelEncoder()\n",
    "target_encoder.fit(train_df[[target_feature_name]])\n"
   ]
  },
  {
   "cell_type": "code",
   "execution_count": 14,
   "id": "0955993b-0abe-452b-8614-164e84bde621",
   "metadata": {},
   "outputs": [],
   "source": [
    "def preproc_input(data_subset, pp_dict):\n",
    "    return numpy.concatenate([scaler1.transform(data_subset[[if1]]) for if1,scaler1 in pp_dict.items()],axis=1)\n",
    "\n",
    "def preproc_target(data_subset, enc1):\n",
    "     return enc1.transform(data_subset[[target_feature_name]])"
   ]
  },
  {
   "cell_type": "code",
   "execution_count": 15,
   "id": "f3a92a60-19a1-4308-8129-e425e5fd2219",
   "metadata": {},
   "outputs": [
    {
     "name": "stderr",
     "output_type": "stream",
     "text": [
      "/Users/stephen.haddad/opt/anaconda3/envs/ukrse2022_mlops_model_evaluation/lib/python3.8/site-packages/sklearn/utils/validation.py:63: DataConversionWarning: A column-vector y was passed when a 1d array was expected. Please change the shape of y to (n_samples, ), for example using ravel().\n",
      "  return f(*args, **kwargs)\n"
     ]
    }
   ],
   "source": [
    "X_train = preproc_input(train_df, preproc_dict)\n",
    "y_train = numpy.concatenate(\n",
    "    [preproc_target(train_df, target_encoder).reshape((-1,1)),\n",
    "    1.0 - (preproc_target(train_df, target_encoder).reshape((-1,1))),],\n",
    "    axis=1\n",
    ")"
   ]
  },
  {
   "cell_type": "code",
   "execution_count": 16,
   "id": "b8dd5a37-677b-4111-811d-568ef327f6c3",
   "metadata": {},
   "outputs": [
    {
     "name": "stderr",
     "output_type": "stream",
     "text": [
      "/Users/stephen.haddad/opt/anaconda3/envs/ukrse2022_mlops_model_evaluation/lib/python3.8/site-packages/sklearn/utils/validation.py:63: DataConversionWarning: A column-vector y was passed when a 1d array was expected. Please change the shape of y to (n_samples, ), for example using ravel().\n",
      "  return f(*args, **kwargs)\n"
     ]
    }
   ],
   "source": [
    "X_val = preproc_input(val_df, preproc_dict)\n",
    "y_val = numpy.concatenate(\n",
    "    [preproc_target(val_df, target_encoder).reshape((-1,1)),\n",
    "    1.0 - (preproc_target(val_df, target_encoder).reshape((-1,1))),],\n",
    "    axis=1\n",
    ")"
   ]
  },
  {
   "cell_type": "markdown",
   "id": "00f2f674-99be-48ec-a61e-5fb604dc6444",
   "metadata": {},
   "source": [
    "### Load in trained model\n",
    "We will now get a model from our most recent run, which will use to do inference and calculate metrics. In this example we are using the ML Flow Models module to load in the model which was saved as part of our training run. Saving and loading models through ML Flow models provides a consistent interface for interacting with ML models even if the you change the underlying framework used to train the model. In this notebook we will explore different ways of selecting and loading models, including:\n",
    "* getting a model from a specific run of a specific experiment\n",
    "* getting the latest run from a specific experiment\n",
    "* searching for the best model from a specific experiment based on a specified metric\n",
    "* getting a model by name from the model registry\n",
    "\n",
    "\n",
    "(You will need to have the ML Flow server we set uop and started in notebook 3 Model Development to run this code.)"
   ]
  },
  {
   "cell_type": "markdown",
   "id": "7ec5634e-423f-4098-972b-9d22af0b0d3b",
   "metadata": {},
   "source": [
    "First set up our access to the ML Flow server."
   ]
  },
  {
   "cell_type": "code",
   "execution_count": 17,
   "id": "135f46c4-e8b2-4d59-b3bb-147e785fb78c",
   "metadata": {},
   "outputs": [],
   "source": [
    "import mlflow\n",
    "import mlflow.models"
   ]
  },
  {
   "cell_type": "code",
   "execution_count": 18,
   "id": "bcdee2a1-0ca0-4ff8-9171-2ca40c65c0a6",
   "metadata": {},
   "outputs": [
    {
     "data": {
      "text/plain": [
       "'http://127.0.0.1:5001'"
      ]
     },
     "execution_count": 18,
     "metadata": {},
     "output_type": "execute_result"
    }
   ],
   "source": [
    "mlflow_server_address = '127.0.0.1'\n",
    "mlflow_server_port = 5001\n",
    "mlflow_server_uri = f'http://{mlflow_server_address}:{mlflow_server_port:d}'\n",
    "mlflow_server_uri    "
   ]
  },
  {
   "cell_type": "code",
   "execution_count": 19,
   "id": "52a4f424-998e-439e-88eb-6740238f4fae",
   "metadata": {},
   "outputs": [],
   "source": [
    "mlflow.set_tracking_uri(mlflow_server_uri)"
   ]
  },
  {
   "cell_type": "markdown",
   "id": "b3f17eed-40c7-4de2-9990-3bf1240bce15",
   "metadata": {},
   "source": [
    "### get the latest "
   ]
  },
  {
   "cell_type": "code",
   "execution_count": 20,
   "id": "e2b5fa98-4f92-4df7-97d0-1736d5c953fd",
   "metadata": {},
   "outputs": [],
   "source": [
    "rse_rotors_experiment_name = 'rse_mlops_demo_rotors'"
   ]
  },
  {
   "cell_type": "code",
   "execution_count": 21,
   "id": "92e35c21-6209-429a-816b-c7c47dc39417",
   "metadata": {},
   "outputs": [
    {
     "data": {
      "text/plain": [
       "<Experiment: artifact_location='/Users/stephen.haddad/data/ukrse2022/artifacts/1', experiment_id='1', lifecycle_stage='active', name='rse_mlops_demo_rotors', tags={}>"
      ]
     },
     "execution_count": 21,
     "metadata": {},
     "output_type": "execute_result"
    }
   ],
   "source": [
    "rse_rotors_experiment = mlflow.get_experiment_by_name(rse_rotors_experiment_name)\n",
    "rse_rotors_experiment"
   ]
  },
  {
   "cell_type": "code",
   "execution_count": 22,
   "id": "b2240f6f-1ff4-40ff-a891-9b04842e9d98",
   "metadata": {},
   "outputs": [
    {
     "data": {
      "text/plain": [
       "('ba0c2321a240409dba5893abd652a32e',\n",
       " datetime.datetime(2022, 9, 7, 11, 33, 48, 69000))"
      ]
     },
     "execution_count": 22,
     "metadata": {},
     "output_type": "execute_result"
    }
   ],
   "source": [
    "latest_run_info  = sorted(mlflow.list_run_infos(rse_rotors_experiment.experiment_id), key=lambda run1: run1.end_time)[-1]\n",
    "latest_run_info.run_id, datetime.datetime.fromtimestamp(latest_run_info.end_time / 1000)"
   ]
  },
  {
   "cell_type": "code",
   "execution_count": 23,
   "id": "9251ccf7-0990-4bc4-905f-843e7dfde870",
   "metadata": {},
   "outputs": [
    {
     "name": "stderr",
     "output_type": "stream",
     "text": [
      "2022-09-07 11:36:04.340669: I tensorflow/core/platform/cpu_feature_guard.cc:151] This TensorFlow binary is optimized with oneAPI Deep Neural Network Library (oneDNN) to use the following CPU instructions in performance-critical operations:  SSE4.1 SSE4.2 AVX AVX2 AVX512F FMA\n",
      "To enable them in other operations, rebuild TensorFlow with the appropriate compiler flags.\n"
     ]
    },
    {
     "data": {
      "text/plain": [
       "<keras.engine.sequential.Sequential at 0x7fd9ac735520>"
      ]
     },
     "execution_count": 23,
     "metadata": {},
     "output_type": "execute_result"
    }
   ],
   "source": [
    "rse_rotors_model = mlflow.keras.load_model(latest_run_info.artifact_uri + '/model')\n",
    "rse_rotors_model"
   ]
  },
  {
   "cell_type": "code",
   "execution_count": 24,
   "id": "3b7c5050-a8af-4f28-849e-ce9a94437c45",
   "metadata": {},
   "outputs": [
    {
     "data": {
      "text/plain": [
       "array([[8.0795162e-06, 9.9999189e-01],\n",
       "       [2.3889543e-04, 9.9976116e-01],\n",
       "       [3.9728716e-04, 9.9960274e-01],\n",
       "       ...,\n",
       "       [6.8163888e-09, 1.0000000e+00],\n",
       "       [9.3280205e-06, 9.9999070e-01],\n",
       "       [1.4721898e-02, 9.8527819e-01]], dtype=float32)"
      ]
     },
     "execution_count": 24,
     "metadata": {},
     "output_type": "execute_result"
    }
   ],
   "source": [
    "rse_rotors_model.predict(X_val)"
   ]
  },
  {
   "cell_type": "markdown",
   "id": "e223ddb7-db5a-4cf5-bff2-37f95bca856f",
   "metadata": {},
   "source": [
    "Alternatively we can access the model through the URI specififed as `runs:/{run_id}` as described in the [ML Flow concepts page](https://www.mlflow.org/docs/latest/concepts.html)"
   ]
  },
  {
   "cell_type": "code",
   "execution_count": 25,
   "id": "9c8dcdbe-6271-4ef4-9b3b-13e15056ebff",
   "metadata": {},
   "outputs": [
    {
     "data": {
      "text/plain": [
       "'runs:/ba0c2321a240409dba5893abd652a32e/model'"
      ]
     },
     "execution_count": 25,
     "metadata": {},
     "output_type": "execute_result"
    }
   ],
   "source": [
    "latest_run_saved_model_uri = f'runs:/{latest_run_info.run_id}/model'\n",
    "latest_run_saved_model_uri"
   ]
  },
  {
   "cell_type": "code",
   "execution_count": 26,
   "id": "0ddbe4bc-37ad-4767-868a-802665459cf6",
   "metadata": {},
   "outputs": [
    {
     "data": {
      "text/plain": [
       "array([[8.0795162e-06, 9.9999189e-01],\n",
       "       [2.3889543e-04, 9.9976116e-01],\n",
       "       [3.9728716e-04, 9.9960274e-01],\n",
       "       ...,\n",
       "       [6.8163888e-09, 1.0000000e+00],\n",
       "       [9.3280205e-06, 9.9999070e-01],\n",
       "       [1.4721898e-02, 9.8527819e-01]], dtype=float32)"
      ]
     },
     "execution_count": 26,
     "metadata": {},
     "output_type": "execute_result"
    }
   ],
   "source": [
    "mlflow.keras.load_model(latest_run_saved_model_uri).predict(X_val)"
   ]
  },
  {
   "cell_type": "markdown",
   "id": "4469940f-8b11-4693-9797-c74c72d7a4f2",
   "metadata": {},
   "source": [
    "### Using the MLFlow model wrapping interface\n",
    "\n",
    "You can use the ML Flow models module to be able to use models from different frameworks interchangeably for inference purposes."
   ]
  },
  {
   "cell_type": "code",
   "execution_count": 27,
   "id": "f7958c23-2389-4c16-8151-f7533bd1db57",
   "metadata": {},
   "outputs": [],
   "source": [
    "logged_model = 'runs:/c5becc89c46e4cfd82441cc37ab6afbf/model'\n",
    "\n"
   ]
  },
  {
   "cell_type": "code",
   "execution_count": 28,
   "id": "1554f5d2-2926-49e3-9cbb-fcf6e5bf74e4",
   "metadata": {},
   "outputs": [
    {
     "name": "stderr",
     "output_type": "stream",
     "text": [
      "/Users/stephen.haddad/opt/anaconda3/envs/ukrse2022_mlops_model_evaluation/lib/python3.8/site-packages/keras/backend.py:450: UserWarning: `tf.keras.backend.set_learning_phase` is deprecated and will be removed after 2020-10-11. To update it, simply pass a True/False value to the `training` argument of the `__call__` method of your layer or model.\n",
      "  warnings.warn('`tf.keras.backend.set_learning_phase` is deprecated and '\n"
     ]
    },
    {
     "data": {
      "text/plain": [
       "mlflow.pyfunc.loaded_model:\n",
       "  artifact_path: model\n",
       "  flavor: mlflow.keras\n",
       "  run_id: c5becc89c46e4cfd82441cc37ab6afbf"
      ]
     },
     "execution_count": 28,
     "metadata": {},
     "output_type": "execute_result"
    }
   ],
   "source": [
    "loaded_model = mlflow.pyfunc.load_model(logged_model)\n",
    "loaded_model"
   ]
  },
  {
   "cell_type": "code",
   "execution_count": 29,
   "id": "430e86f8-77e9-475a-a068-e31d107fcf2b",
   "metadata": {},
   "outputs": [
    {
     "data": {
      "text/plain": [
       "2900"
      ]
     },
     "execution_count": 29,
     "metadata": {},
     "output_type": "execute_result"
    }
   ],
   "source": [
    "sum(loaded_model.predict(X_val).argmax(axis=1) == 1)\n"
   ]
  },
  {
   "cell_type": "code",
   "execution_count": 30,
   "id": "5e4842a3-2849-43a2-8190-0c2be61dd867",
   "metadata": {},
   "outputs": [
    {
     "data": {
      "text/plain": [
       "array([[8.2105380e-06, 9.9999177e-01],\n",
       "       [1.0245468e-04, 9.9989748e-01],\n",
       "       [3.7846921e-04, 9.9962151e-01],\n",
       "       ...,\n",
       "       [4.4974138e-10, 1.0000000e+00],\n",
       "       [4.1534731e-06, 9.9999583e-01],\n",
       "       [3.7166660e-03, 9.9628335e-01]], dtype=float32)"
      ]
     },
     "execution_count": 30,
     "metadata": {},
     "output_type": "execute_result"
    }
   ],
   "source": [
    "loaded_model.predict(X_val)"
   ]
  },
  {
   "cell_type": "code",
   "execution_count": 31,
   "id": "b0d469a2-2872-4b5e-abc4-fcdee0adfd13",
   "metadata": {},
   "outputs": [
    {
     "data": {
      "text/plain": [
       "(129.0, 2784.0, (2913, 2))"
      ]
     },
     "execution_count": 31,
     "metadata": {},
     "output_type": "execute_result"
    }
   ],
   "source": [
    "sum(y_val[:,0]), sum(y_val[:,1]), y_val.shape"
   ]
  },
  {
   "cell_type": "markdown",
   "id": "8d90c865-84d7-462b-b990-bb8be0375449",
   "metadata": {},
   "source": [
    "### Working with the ML Flow Client object and ML Flow UI\n",
    "\n",
    "The `MlflowClient` class gives us more general and low level access to the artifacts stored by the ML Flow server. Here we will use it to access a particular regiostered model and also to serch for the best model from all the runs in an experiment. A registered model is one from a particular run that we have decided to be of some significance. Usually at some point in a project you might decide that a particular model is best for some reason (usually perfrmance according to the chosen metric for the project). A model registry is a bit like for model what a catalogue is for data. One could image a research group maintaining a collective model registry to go with its colective data catalogue for commly used datasets and code rpository for common code.,\n"
   ]
  },
  {
   "cell_type": "code",
   "execution_count": 32,
   "id": "8caa9cb1-e916-49c1-8f43-64b8d266d9d4",
   "metadata": {},
   "outputs": [
    {
     "data": {
      "text/plain": [
       "<mlflow.tracking.client.MlflowClient at 0x7fd9b69abb50>"
      ]
     },
     "execution_count": 32,
     "metadata": {},
     "output_type": "execute_result"
    }
   ],
   "source": [
    "mlflow_client = mlflow.tracking.MlflowClient(tracking_uri=mlflow_server_uri)\n",
    "mlflow_client"
   ]
  },
  {
   "cell_type": "code",
   "execution_count": 33,
   "id": "6efa7e6a-5044-4dd4-8eec-a98ecce57b8b",
   "metadata": {},
   "outputs": [
    {
     "data": {
      "text/plain": [
       "[('rse_rotors_20220819', '1')]"
      ]
     },
     "execution_count": 33,
     "metadata": {},
     "output_type": "execute_result"
    }
   ],
   "source": [
    "[(m1.name, m1.version) for m1 in mlflow_client.list_registered_models()[0].latest_versions]"
   ]
  },
  {
   "cell_type": "code",
   "execution_count": 34,
   "id": "3d1f8313-b1e3-4bd5-9c9b-21f1003f5f61",
   "metadata": {},
   "outputs": [
    {
     "data": {
      "text/plain": [
       "'/Users/stephen.haddad/data/ukrse2022/artifacts/1/ba0c2321a240409dba5893abd652a32e/artifacts'"
      ]
     },
     "execution_count": 34,
     "metadata": {},
     "output_type": "execute_result"
    }
   ],
   "source": [
    "latest_run_info.artifact_uri"
   ]
  },
  {
   "cell_type": "code",
   "execution_count": 35,
   "id": "274fd33e-646e-47e4-842e-d50deb5b606c",
   "metadata": {},
   "outputs": [
    {
     "data": {
      "text/plain": [
       "<Run: data=<RunData: metrics={'loss': 0.017507269978523254,\n",
       " 'root_mean_squared_error': 0.1323150396347046,\n",
       " 'val_loss': 0.03696952760219574,\n",
       " 'val_root_mean_squared_error': 0.19227460026741028}, params={'batch_size': '1000',\n",
       " 'class_weight': 'None',\n",
       " 'epochs': '100',\n",
       " 'initial_epoch': '0',\n",
       " 'max_queue_size': '10',\n",
       " 'opt_amsgrad': 'False',\n",
       " 'opt_beta_1': '0.9',\n",
       " 'opt_beta_2': '0.999',\n",
       " 'opt_decay': '0.0',\n",
       " 'opt_epsilon': '1e-07',\n",
       " 'opt_learning_rate': '0.0001',\n",
       " 'opt_name': 'Adam',\n",
       " 'sample_weight': 'None',\n",
       " 'shuffle': 'True',\n",
       " 'steps_per_epoch': 'None',\n",
       " 'use_multiprocessing': 'False',\n",
       " 'validation_batch_size': 'None',\n",
       " 'validation_freq': '1',\n",
       " 'validation_split': '0.0',\n",
       " 'validation_steps': 'None',\n",
       " 'workers': '1'}, tags={'mlflow.log-model.history': '[{\"run_id\": \"ba0c2321a240409dba5893abd652a32e\", '\n",
       "                             '\"artifact_path\": \"model\", \"utc_time_created\": '\n",
       "                             '\"2022-09-07 10:33:38.722550\", \"flavors\": '\n",
       "                             '{\"keras\": {\"keras_module\": \"tensorflow.keras\", '\n",
       "                             '\"keras_version\": \"2.8.0\", \"save_format\": \"tf\", '\n",
       "                             '\"data\": \"data\"}, \"python_function\": '\n",
       "                             '{\"loader_module\": \"mlflow.keras\", '\n",
       "                             '\"python_version\": \"3.8.13\", \"data\": \"data\", '\n",
       "                             '\"env\": \"conda.yaml\"}}}]',\n",
       " 'mlflow.runName': 'rse_rotors_ffnn_20220907T113029',\n",
       " 'mlflow.source.name': '/Users/stephen.haddad/opt/anaconda3/envs/ukrse2022_mlops_model_dev/lib/python3.8/site-packages/ipykernel_launcher.py',\n",
       " 'mlflow.source.type': 'LOCAL',\n",
       " 'mlflow.user': 'stephen.haddad'}>, info=<RunInfo: artifact_uri='/Users/stephen.haddad/data/ukrse2022/artifacts/1/ba0c2321a240409dba5893abd652a32e/artifacts', end_time=1662546828069, experiment_id='1', lifecycle_stage='active', run_id='ba0c2321a240409dba5893abd652a32e', run_uuid='ba0c2321a240409dba5893abd652a32e', start_time=1662546629743, status='FINISHED', user_id='stephen.haddad'>>"
      ]
     },
     "execution_count": 35,
     "metadata": {},
     "output_type": "execute_result"
    }
   ],
   "source": [
    "mlflow.tracking.MlflowClient().get_run(latest_run_info.run_id)"
   ]
  },
  {
   "cell_type": "markdown",
   "id": "db707db7-b86d-400a-98e3-1f6d3dd299c9",
   "metadata": {},
   "source": [
    "### Searching for the best model\n",
    "\n",
    "Once you've done various training runs, perhaps varying the architecture, hyperparameters, input data or just using different random initialisations, you will have multiple runs in your experient (and also possiblly multiple experiments). You may then want to retrieve the model that is the best or highest scoring according some metric of interest, which you may do multiple times for different metrics of interest.\n",
    "\n",
    "\n"
   ]
  },
  {
   "cell_type": "code",
   "execution_count": 36,
   "id": "cef79acb-b157-4356-8305-02f6228e8ae3",
   "metadata": {},
   "outputs": [
    {
     "data": {
      "text/plain": [
       "[<Experiment: artifact_location='/Users/stephen.haddad/data/ukrse2022/artifacts/0', experiment_id='0', lifecycle_stage='active', name='Default', tags={}>,\n",
       " <Experiment: artifact_location='/Users/stephen.haddad/data/ukrse2022/artifacts/1', experiment_id='1', lifecycle_stage='active', name='rse_mlops_demo_rotors', tags={}>]"
      ]
     },
     "execution_count": 36,
     "metadata": {},
     "output_type": "execute_result"
    }
   ],
   "source": [
    "mlflow_client.list_experiments()"
   ]
  },
  {
   "cell_type": "code",
   "execution_count": 37,
   "id": "b3942aaa-da2c-4820-a146-209009327cec",
   "metadata": {},
   "outputs": [
    {
     "data": {
      "text/plain": [
       "'1'"
      ]
     },
     "execution_count": 37,
     "metadata": {},
     "output_type": "execute_result"
    }
   ],
   "source": [
    "mlflow_client.list_experiments()[-1].experiment_id"
   ]
  },
  {
   "cell_type": "code",
   "execution_count": 38,
   "id": "5929f131-ec6b-4983-bb1f-e05be3358ecd",
   "metadata": {},
   "outputs": [
    {
     "data": {
      "text/plain": [
       "[<Run: data=<RunData: metrics={'loss': 0.017426099628210068,\n",
       "  'root_mean_squared_error': 0.13200795650482178,\n",
       "  'val_loss': 0.03645496442914009,\n",
       "  'val_root_mean_squared_error': 0.19093182682991028}, params={'batch_size': '1000',\n",
       "  'class_weight': 'None',\n",
       "  'epochs': '100',\n",
       "  'initial_epoch': '0',\n",
       "  'max_queue_size': '10',\n",
       "  'opt_amsgrad': 'False',\n",
       "  'opt_beta_1': '0.9',\n",
       "  'opt_beta_2': '0.999',\n",
       "  'opt_decay': '0.0',\n",
       "  'opt_epsilon': '1e-07',\n",
       "  'opt_learning_rate': '0.0001',\n",
       "  'opt_name': 'Adam',\n",
       "  'sample_weight': 'None',\n",
       "  'shuffle': 'True',\n",
       "  'steps_per_epoch': 'None',\n",
       "  'use_multiprocessing': 'False',\n",
       "  'validation_batch_size': 'None',\n",
       "  'validation_freq': '1',\n",
       "  'validation_split': '0.0',\n",
       "  'validation_steps': 'None',\n",
       "  'workers': '1'}, tags={'mlflow.log-model.history': '[{\"run_id\": \"a04ebeaa5ffe4daca91d49ddce7e11ea\", '\n",
       "                              '\"artifact_path\": \"model\", \"utc_time_created\": '\n",
       "                              '\"2022-09-01 16:22:30.271352\", \"flavors\": '\n",
       "                              '{\"keras\": {\"keras_module\": \"tensorflow.keras\", '\n",
       "                              '\"keras_version\": \"2.8.0\", \"save_format\": \"tf\", '\n",
       "                              '\"data\": \"data\"}, \"python_function\": '\n",
       "                              '{\"loader_module\": \"mlflow.keras\", '\n",
       "                              '\"python_version\": \"3.8.13\", \"data\": \"data\", '\n",
       "                              '\"env\": \"conda.yaml\"}}}]',\n",
       "  'mlflow.runName': 'rse_rotors_ffnn_20220901T171931',\n",
       "  'mlflow.source.name': '/Users/stephen.haddad/opt/anaconda3/envs/ukrse2022_mlops_model_evaluation/lib/python3.8/site-packages/ipykernel_launcher.py',\n",
       "  'mlflow.source.type': 'LOCAL',\n",
       "  'mlflow.user': 'stephen.haddad'}>, info=<RunInfo: artifact_uri='/Users/stephen.haddad/data/ukrse2022/artifacts/1/a04ebeaa5ffe4daca91d49ddce7e11ea/artifacts', end_time=1662049356011, experiment_id='1', lifecycle_stage='active', run_id='a04ebeaa5ffe4daca91d49ddce7e11ea', run_uuid='a04ebeaa5ffe4daca91d49ddce7e11ea', start_time=1662049172037, status='FINISHED', user_id='stephen.haddad'>>,\n",
       " <Run: data=<RunData: metrics={'loss': 0.01752152293920517,\n",
       "  'root_mean_squared_error': 0.13236889243125916,\n",
       "  'val_loss': 0.03679447993636131,\n",
       "  'val_root_mean_squared_error': 0.19181886315345764}, params={'batch_size': '1000',\n",
       "  'class_weight': 'None',\n",
       "  'epochs': '100',\n",
       "  'initial_epoch': '0',\n",
       "  'max_queue_size': '10',\n",
       "  'opt_amsgrad': 'False',\n",
       "  'opt_beta_1': '0.9',\n",
       "  'opt_beta_2': '0.999',\n",
       "  'opt_decay': '0.0',\n",
       "  'opt_epsilon': '1e-07',\n",
       "  'opt_learning_rate': '0.0001',\n",
       "  'opt_name': 'Adam',\n",
       "  'sample_weight': 'None',\n",
       "  'shuffle': 'True',\n",
       "  'steps_per_epoch': 'None',\n",
       "  'use_multiprocessing': 'False',\n",
       "  'validation_batch_size': 'None',\n",
       "  'validation_freq': '1',\n",
       "  'validation_split': '0.0',\n",
       "  'validation_steps': 'None',\n",
       "  'workers': '1'}, tags={'mlflow.log-model.history': '[{\"run_id\": \"ecf7514262e949c29fa6f89af8c958dd\", '\n",
       "                              '\"artifact_path\": \"model\", \"utc_time_created\": '\n",
       "                              '\"2022-08-12 13:13:24.495750\", \"flavors\": '\n",
       "                              '{\"keras\": {\"keras_module\": \"tensorflow.keras\", '\n",
       "                              '\"keras_version\": \"2.8.0\", \"save_format\": \"tf\", '\n",
       "                              '\"data\": \"data\"}, \"python_function\": '\n",
       "                              '{\"loader_module\": \"mlflow.keras\", '\n",
       "                              '\"python_version\": \"3.8.13\", \"data\": \"data\", '\n",
       "                              '\"env\": \"conda.yaml\"}}}]',\n",
       "  'mlflow.runName': 'rse_rotors_ffnn_20220812T140947',\n",
       "  'mlflow.source.name': '/Users/stephen.haddad/opt/anaconda3/envs/ukrse2022_mlops_model_dev/lib/python3.8/site-packages/ipykernel_launcher.py',\n",
       "  'mlflow.source.type': 'LOCAL',\n",
       "  'mlflow.user': 'stephen.haddad'}>, info=<RunInfo: artifact_uri='/Users/stephen.haddad/data/ukrse2022/artifacts/1/ecf7514262e949c29fa6f89af8c958dd/artifacts', end_time=1660310015122, experiment_id='1', lifecycle_stage='active', run_id='ecf7514262e949c29fa6f89af8c958dd', run_uuid='ecf7514262e949c29fa6f89af8c958dd', start_time=1660309787485, status='FINISHED', user_id='stephen.haddad'>>,\n",
       " <Run: data=<RunData: metrics={'loss': 0.017367182299494743,\n",
       "  'root_mean_squared_error': 0.1317846029996872,\n",
       "  'val_loss': 0.03681731969118118,\n",
       "  'val_root_mean_squared_error': 0.19187839329242706}, params={'batch_size': '1000',\n",
       "  'class_weight': 'None',\n",
       "  'epochs': '100',\n",
       "  'initial_epoch': '0',\n",
       "  'max_queue_size': '10',\n",
       "  'opt_amsgrad': 'False',\n",
       "  'opt_beta_1': '0.9',\n",
       "  'opt_beta_2': '0.999',\n",
       "  'opt_decay': '0.0',\n",
       "  'opt_epsilon': '1e-07',\n",
       "  'opt_learning_rate': '0.0001',\n",
       "  'opt_name': 'Adam',\n",
       "  'sample_weight': 'None',\n",
       "  'shuffle': 'True',\n",
       "  'steps_per_epoch': 'None',\n",
       "  'use_multiprocessing': 'False',\n",
       "  'validation_batch_size': 'None',\n",
       "  'validation_freq': '1',\n",
       "  'validation_split': '0.0',\n",
       "  'validation_steps': 'None',\n",
       "  'workers': '1'}, tags={'mlflow.log-model.history': '[{\"run_id\": \"06cf7ce7ff1749b381f0e0631ecc0409\", '\n",
       "                              '\"artifact_path\": \"model\", \"utc_time_created\": '\n",
       "                              '\"2022-09-02 10:53:47.899703\", \"flavors\": '\n",
       "                              '{\"keras\": {\"keras_module\": \"tensorflow.keras\", '\n",
       "                              '\"keras_version\": \"2.8.0\", \"save_format\": \"tf\", '\n",
       "                              '\"data\": \"data\"}, \"python_function\": '\n",
       "                              '{\"loader_module\": \"mlflow.keras\", '\n",
       "                              '\"python_version\": \"3.8.13\", \"data\": \"data\", '\n",
       "                              '\"env\": \"conda.yaml\"}}}]',\n",
       "  'mlflow.runName': 'rse_rotors_ffnn_20220902T115049',\n",
       "  'mlflow.source.name': '/Users/stephen.haddad/opt/anaconda3/envs/ukrse2022_mlops_model_dev/lib/python3.8/site-packages/ipykernel_launcher.py',\n",
       "  'mlflow.source.type': 'LOCAL',\n",
       "  'mlflow.user': 'stephen.haddad'}>, info=<RunInfo: artifact_uri='/Users/stephen.haddad/data/ukrse2022/artifacts/1/06cf7ce7ff1749b381f0e0631ecc0409/artifacts', end_time=1662116033704, experiment_id='1', lifecycle_stage='active', run_id='06cf7ce7ff1749b381f0e0631ecc0409', run_uuid='06cf7ce7ff1749b381f0e0631ecc0409', start_time=1662115849976, status='FINISHED', user_id='stephen.haddad'>>,\n",
       " <Run: data=<RunData: metrics={'loss': 0.017078328877687454,\n",
       "  'root_mean_squared_error': 0.13068407773971558,\n",
       "  'val_loss': 0.0368516705930233,\n",
       "  'val_root_mean_squared_error': 0.1919678896665573}, params={'batch_size': '1000',\n",
       "  'class_weight': 'None',\n",
       "  'epochs': '100',\n",
       "  'initial_epoch': '0',\n",
       "  'max_queue_size': '10',\n",
       "  'opt_amsgrad': 'False',\n",
       "  'opt_beta_1': '0.9',\n",
       "  'opt_beta_2': '0.999',\n",
       "  'opt_decay': '0.0',\n",
       "  'opt_epsilon': '1e-07',\n",
       "  'opt_learning_rate': '0.0001',\n",
       "  'opt_name': 'Adam',\n",
       "  'sample_weight': 'None',\n",
       "  'shuffle': 'True',\n",
       "  'steps_per_epoch': 'None',\n",
       "  'use_multiprocessing': 'False',\n",
       "  'validation_batch_size': 'None',\n",
       "  'validation_freq': '1',\n",
       "  'validation_split': '0.0',\n",
       "  'validation_steps': 'None',\n",
       "  'workers': '1'}, tags={'mlflow.log-model.history': '[{\"run_id\": \"1c8bb82664f74c9d8587c4439c4a7fd4\", '\n",
       "                              '\"artifact_path\": \"model\", \"utc_time_created\": '\n",
       "                              '\"2022-09-02 08:05:28.015135\", \"flavors\": '\n",
       "                              '{\"keras\": {\"keras_module\": \"tensorflow.keras\", '\n",
       "                              '\"keras_version\": \"2.8.0\", \"save_format\": \"tf\", '\n",
       "                              '\"data\": \"data\"}, \"python_function\": '\n",
       "                              '{\"loader_module\": \"mlflow.keras\", '\n",
       "                              '\"python_version\": \"3.8.13\", \"data\": \"data\", '\n",
       "                              '\"env\": \"conda.yaml\"}}}]',\n",
       "  'mlflow.runName': 'rse_rotors_ffnn_20220901T183200',\n",
       "  'mlflow.source.name': '/Users/stephen.haddad/opt/anaconda3/envs/ukrse2022_mlops_model_dev/lib/python3.8/site-packages/ipykernel_launcher.py',\n",
       "  'mlflow.source.type': 'LOCAL',\n",
       "  'mlflow.user': 'stephen.haddad'}>, info=<RunInfo: artifact_uri='/Users/stephen.haddad/data/ukrse2022/artifacts/1/1c8bb82664f74c9d8587c4439c4a7fd4/artifacts', end_time=1662105943209, experiment_id='1', lifecycle_stage='active', run_id='1c8bb82664f74c9d8587c4439c4a7fd4', run_uuid='1c8bb82664f74c9d8587c4439c4a7fd4', start_time=1662053520352, status='FINISHED', user_id='stephen.haddad'>>,\n",
       " <Run: data=<RunData: metrics={'loss': 0.017507269978523254,\n",
       "  'root_mean_squared_error': 0.1323150396347046,\n",
       "  'val_loss': 0.03696952760219574,\n",
       "  'val_root_mean_squared_error': 0.19227460026741028}, params={'batch_size': '1000',\n",
       "  'class_weight': 'None',\n",
       "  'epochs': '100',\n",
       "  'initial_epoch': '0',\n",
       "  'max_queue_size': '10',\n",
       "  'opt_amsgrad': 'False',\n",
       "  'opt_beta_1': '0.9',\n",
       "  'opt_beta_2': '0.999',\n",
       "  'opt_decay': '0.0',\n",
       "  'opt_epsilon': '1e-07',\n",
       "  'opt_learning_rate': '0.0001',\n",
       "  'opt_name': 'Adam',\n",
       "  'sample_weight': 'None',\n",
       "  'shuffle': 'True',\n",
       "  'steps_per_epoch': 'None',\n",
       "  'use_multiprocessing': 'False',\n",
       "  'validation_batch_size': 'None',\n",
       "  'validation_freq': '1',\n",
       "  'validation_split': '0.0',\n",
       "  'validation_steps': 'None',\n",
       "  'workers': '1'}, tags={'mlflow.log-model.history': '[{\"run_id\": \"ba0c2321a240409dba5893abd652a32e\", '\n",
       "                              '\"artifact_path\": \"model\", \"utc_time_created\": '\n",
       "                              '\"2022-09-07 10:33:38.722550\", \"flavors\": '\n",
       "                              '{\"keras\": {\"keras_module\": \"tensorflow.keras\", '\n",
       "                              '\"keras_version\": \"2.8.0\", \"save_format\": \"tf\", '\n",
       "                              '\"data\": \"data\"}, \"python_function\": '\n",
       "                              '{\"loader_module\": \"mlflow.keras\", '\n",
       "                              '\"python_version\": \"3.8.13\", \"data\": \"data\", '\n",
       "                              '\"env\": \"conda.yaml\"}}}]',\n",
       "  'mlflow.runName': 'rse_rotors_ffnn_20220907T113029',\n",
       "  'mlflow.source.name': '/Users/stephen.haddad/opt/anaconda3/envs/ukrse2022_mlops_model_dev/lib/python3.8/site-packages/ipykernel_launcher.py',\n",
       "  'mlflow.source.type': 'LOCAL',\n",
       "  'mlflow.user': 'stephen.haddad'}>, info=<RunInfo: artifact_uri='/Users/stephen.haddad/data/ukrse2022/artifacts/1/ba0c2321a240409dba5893abd652a32e/artifacts', end_time=1662546828069, experiment_id='1', lifecycle_stage='active', run_id='ba0c2321a240409dba5893abd652a32e', run_uuid='ba0c2321a240409dba5893abd652a32e', start_time=1662546629743, status='FINISHED', user_id='stephen.haddad'>>,\n",
       " <Run: data=<RunData: metrics={'loss': 0.017498191446065903,\n",
       "  'root_mean_squared_error': 0.13228072226047516,\n",
       "  'val_loss': 0.03716700151562691,\n",
       "  'val_root_mean_squared_error': 0.19278743863105774}, params={'batch_size': '1000',\n",
       "  'class_weight': 'None',\n",
       "  'epochs': '100',\n",
       "  'initial_epoch': '0',\n",
       "  'max_queue_size': '10',\n",
       "  'opt_amsgrad': 'False',\n",
       "  'opt_beta_1': '0.9',\n",
       "  'opt_beta_2': '0.999',\n",
       "  'opt_decay': '0.0',\n",
       "  'opt_epsilon': '1e-07',\n",
       "  'opt_learning_rate': '0.0001',\n",
       "  'opt_name': 'Adam',\n",
       "  'sample_weight': 'None',\n",
       "  'shuffle': 'True',\n",
       "  'steps_per_epoch': 'None',\n",
       "  'use_multiprocessing': 'False',\n",
       "  'validation_batch_size': 'None',\n",
       "  'validation_freq': '1',\n",
       "  'validation_split': '0.0',\n",
       "  'validation_steps': 'None',\n",
       "  'workers': '1'}, tags={'mlflow.log-model.history': '[{\"run_id\": \"c5becc89c46e4cfd82441cc37ab6afbf\", '\n",
       "                              '\"artifact_path\": \"model\", \"utc_time_created\": '\n",
       "                              '\"2022-08-17 18:12:24.662820\", \"flavors\": '\n",
       "                              '{\"keras\": {\"keras_module\": \"tensorflow.keras\", '\n",
       "                              '\"keras_version\": \"2.8.0\", \"save_format\": \"tf\", '\n",
       "                              '\"data\": \"data\"}, \"python_function\": '\n",
       "                              '{\"loader_module\": \"mlflow.keras\", '\n",
       "                              '\"python_version\": \"3.8.13\", \"data\": \"data\", '\n",
       "                              '\"env\": \"conda.yaml\"}}}]',\n",
       "  'mlflow.runName': 'rse_rotors_ffnn_20220817T190851',\n",
       "  'mlflow.source.name': '/Users/stephen.haddad/opt/anaconda3/envs/ukrse2022_mlops_model_dev/lib/python3.8/site-packages/ipykernel_launcher.py',\n",
       "  'mlflow.source.type': 'LOCAL',\n",
       "  'mlflow.user': 'stephen.haddad'}>, info=<RunInfo: artifact_uri='/Users/stephen.haddad/data/ukrse2022/artifacts/1/c5becc89c46e4cfd82441cc37ab6afbf/artifacts', end_time=1660759953080, experiment_id='1', lifecycle_stage='active', run_id='c5becc89c46e4cfd82441cc37ab6afbf', run_uuid='c5becc89c46e4cfd82441cc37ab6afbf', start_time=1660759731353, status='FINISHED', user_id='stephen.haddad'>>]"
      ]
     },
     "execution_count": 38,
     "metadata": {},
     "output_type": "execute_result"
    }
   ],
   "source": [
    "mlflow_client.search_runs(mlflow_client.list_experiments()[-1].experiment_id, order_by=['metrics.val_loss'])"
   ]
  },
  {
   "cell_type": "markdown",
   "id": "c03e7a36-39d6-4cb5-9f9d-fd8d559de377",
   "metadata": {},
   "source": [
    "### Loading a registered model\n",
    "\n",
    "When you have a model that is performing well or is in some other way of significance"
   ]
  },
  {
   "cell_type": "markdown",
   "id": "6a8752b2-0b57-42df-b743-b50cb0b32085",
   "metadata": {},
   "source": [
    "As a dirst option you can use the API to find the registered models and load one of them."
   ]
  },
  {
   "cell_type": "code",
   "execution_count": 39,
   "id": "fb5e4356-c66b-4295-b816-87587996f7ab",
   "metadata": {},
   "outputs": [
    {
     "data": {
      "text/plain": [
       "(1, [('rse_rotors_20220819', '1')])"
      ]
     },
     "execution_count": 39,
     "metadata": {},
     "output_type": "execute_result"
    }
   ],
   "source": [
    "len(mlflow_client.list_registered_models()), [(m1.name, m1.latest_versions[-1].version) for m1 in mlflow_client.list_registered_models()]"
   ]
  },
  {
   "cell_type": "markdown",
   "id": "5455a91d-755a-4057-a173-69aa69246e1f",
   "metadata": {},
   "source": [
    "Now we can load the model through the information in the registered model item of interest."
   ]
  },
  {
   "cell_type": "code",
   "execution_count": 40,
   "id": "ae64287a-38b7-4b91-ab63-a6dd78305dd0",
   "metadata": {},
   "outputs": [
    {
     "data": {
      "text/plain": [
       "'models:/rse_rotors_20220819/1'"
      ]
     },
     "execution_count": 40,
     "metadata": {},
     "output_type": "execute_result"
    }
   ],
   "source": [
    "rotors_reg_model_name = 'rse_rotors_20220819'\n",
    "rotors_reg_model_version = '1'\n",
    "reg_model_artifact_uri = f'models:/{rotors_reg_model_name}/{rotors_reg_model_version}'\n",
    "reg_model_artifact_uri"
   ]
  },
  {
   "cell_type": "code",
   "execution_count": 41,
   "id": "71f402d1-cc1a-4764-b0d9-c24de4a568e0",
   "metadata": {},
   "outputs": [],
   "source": [
    "reg_model = mlflow.pyfunc.load_model(mlflow_client.get_registered_model(rotors_reg_model_name).latest_versions[0].source)"
   ]
  },
  {
   "cell_type": "code",
   "execution_count": 42,
   "id": "10c01579-b9dd-483d-a242-2c1906fbea4f",
   "metadata": {},
   "outputs": [
    {
     "data": {
      "text/plain": [
       "array([[8.2105380e-06, 9.9999177e-01],\n",
       "       [1.0245468e-04, 9.9989748e-01],\n",
       "       [3.7846921e-04, 9.9962151e-01],\n",
       "       ...,\n",
       "       [4.4974138e-10, 1.0000000e+00],\n",
       "       [4.1534731e-06, 9.9999583e-01],\n",
       "       [3.7166660e-03, 9.9628335e-01]], dtype=float32)"
      ]
     },
     "execution_count": 42,
     "metadata": {},
     "output_type": "execute_result"
    }
   ],
   "source": [
    "reg_model.predict(X_val)"
   ]
  },
  {
   "cell_type": "markdown",
   "id": "fceff222-4767-4e13-9b1e-e0a0bb1f1977",
   "metadata": {},
   "source": [
    "## Evaluating Performance\n",
    "\n",
    "Now that we have access to one or more trained models, typically we will want to calculate performance and explainability metrics with the models. For this example of our wind rotors models, we are going to calculate some [standard metrics for a classification problem](https://en.wikipedia.org/wiki/Precision_and_recall), such as \n",
    "* precision\n",
    "* recall\n",
    "* F1-score\n",
    "* false alarm rate\n",
    "* miss rate\n",
    "\n",
    "\n",
    "We will also calculate a *domain specific* metric called [*Symmetric Exteremal Dependence Index*](https://www.ecmwf.int/en/newsletter/147/meteorology/use-high-density-observations-precipitation-verification#:~:text=The%20Symmetric%20Extremal%20Dependence%20Index,a%20threshold%20to%20be%20set), which is a metrics specific to weather and climate probklems, rather than a generic machine learning metric. Most research ML research problems should consider both standard ML metrics, as well the measures of algorithm performance that are specific to the problem domain e.g. meteorlogy, genetics, astrophysics, medicine etc."
   ]
  },
  {
   "cell_type": "markdown",
   "id": "123e68b3-35d6-4a1a-bfa4-d4eacaade949",
   "metadata": {},
   "source": [
    "As we can see from the output in the cells above, our model outputs a pseudo probability of a rotor being observed in a given time window, "
   ]
  },
  {
   "cell_type": "code",
   "execution_count": 43,
   "id": "b16172e0-125b-4e63-bc31-6cff2ef05f67",
   "metadata": {},
   "outputs": [],
   "source": [
    "def calc_sedi(conf_mat):\n",
    "    \"\"\"\n",
    "    Define a function to calculate the Symmetic Extermal Dependence Index (SEDI) from a confusion matrix\n",
    "    \"\"\"\n",
    "    hr1 = conf_mat[1,1] / (conf_mat[1,0] + conf_mat[1,1])\n",
    "    fa1 = conf_mat[0,1] / (conf_mat[0,0] + conf_mat[0,1])\n",
    "    sedi_score1 = (\n",
    "        (numpy.log(fa1) - numpy.log(hr1) - numpy.log(1.0-fa1) + numpy.log(1.0-hr1) )\n",
    "        / (numpy.log(fa1) + numpy.log(hr1) + numpy.log(1.0 - fa1) + numpy.log(1.0-hr1) )  )\n",
    "    return sedi_score1"
   ]
  },
  {
   "cell_type": "code",
   "execution_count": 44,
   "id": "610b3513-1be3-4dbe-a90b-badb4ebaf5c4",
   "metadata": {},
   "outputs": [],
   "source": [
    "y_result_val = rse_rotors_model.predict(X_val)[:,0] >2e-3 "
   ]
  },
  {
   "cell_type": "code",
   "execution_count": 45,
   "id": "3c3f6249-99f7-430c-82f1-05aedaf6ebd9",
   "metadata": {},
   "outputs": [
    {
     "data": {
      "text/plain": [
       "<AxesSubplot:ylabel='None'>"
      ]
     },
     "execution_count": 45,
     "metadata": {},
     "output_type": "execute_result"
    },
    {
     "data": {
      "image/png": "[encoded data removed]",
      "text/plain": [
       "<Figure size 1296x432 with 3 Axes>"
      ]
     },
     "metadata": {},
     "output_type": "display_data"
    }
   ],
   "source": [
    "fig1 = matplotlib.pyplot.figure('comparison of class frequencies for different thresholds', figsize=(18,6))\n",
    "ax1 = fig1.add_subplot(1,3,1)\n",
    "pandas.Series(rse_rotors_model.predict(X_val)[:,0] >2e-3 ).value_counts().plot.pie(legend=True, autopct='%.2f',labels=['No Rotors', 'Rotors Present'], ax=ax1)\n",
    "ax1 = fig1.add_subplot(1,3,2)\n",
    "pandas.Series(rse_rotors_model.predict(X_val)[:,0] >2e-2 ).value_counts().plot.pie(legend=True, autopct='%.2f',labels=['No Rotors', 'Rotors Present'], ax=ax1)\n",
    "ax1 = fig1.add_subplot(1,3,3)\n",
    "pandas.Series(rse_rotors_model.predict(X_val)[:,0] >2e-1 ).value_counts().plot.pie(legend=True, autopct='%.2f',labels=['No Rotors', 'Rotors Present'], ax=ax1)\n"
   ]
  },
  {
   "cell_type": "markdown",
   "id": "a9d427fd-55d9-4081-af46-701e8ef2131a",
   "metadata": {},
   "source": [
    "For this model, we can choose different threshold to classify the result as *no rotors* vs *rotors present*. With different choices of threshold, we will get different metric results. We can choose the threshold that gives us the best performance for our particular requirements for the classifier."
   ]
  },
  {
   "cell_type": "code",
   "execution_count": 46,
   "id": "cfa69920-e315-4e06-bd27-239ba4626e55",
   "metadata": {},
   "outputs": [],
   "source": [
    "y_train_pred_raw = rse_rotors_model.predict(X_train)[:,0]\n",
    "y_val_pred_raw = rse_rotors_model.predict(X_val)[:,0]"
   ]
  },
  {
   "cell_type": "code",
   "execution_count": 47,
   "id": "b9e0c08b-7b6a-42d5-8e63-90aed00d2eb0",
   "metadata": {},
   "outputs": [],
   "source": [
    "thresholds_list = list(numpy.arange(1e-3,0.3,1e-3))"
   ]
  },
  {
   "cell_type": "code",
   "execution_count": 48,
   "id": "218cfdd0-560c-448b-8e82-216d01f94560",
   "metadata": {},
   "outputs": [],
   "source": [
    "hit_rates = []\n",
    "hit_rates_test = []\n",
    "false_alarm_rates = []\n",
    "false_alarm_rates_test = []\n",
    "sedi_list = []\n",
    "sedi_list_test = []\n",
    "for threshold in numpy.arange(1e-3,0.3,1e-3):\n",
    "    y_pred_train = list(map(float, y_train_pred_raw > threshold)) \n",
    "    cm1 = sklearn.metrics.confusion_matrix(y_train[:,0], y_pred_train)\n",
    "    hit_rates += [cm1[1,1] / (cm1[1,0] + cm1[1,1])]\n",
    "    false_alarm_rates += [cm1[0,1] / (cm1[0,0] + cm1[0,1])]\n",
    "    sedi_list += [calc_sedi(cm1)]\n",
    "\n",
    "    y_pred_val = list(map(float, y_val_pred_raw > threshold)) \n",
    "    cm1 = sklearn.metrics.confusion_matrix(y_val[:,0], y_pred_val )\n",
    "    hit_rates_test += [cm1[1,1] / (cm1[1,0] + cm1[1,1])]\n",
    "    false_alarm_rates_test += [cm1[0,1] / (cm1[0,0] + cm1[0,1])]\n",
    "    sedi_list_test += [calc_sedi(cm1)]"
   ]
  },
  {
   "cell_type": "code",
   "execution_count": 49,
   "id": "7c8e8635-8934-4984-9635-3213ed70054c",
   "metadata": {},
   "outputs": [
    {
     "data": {
      "text/plain": [
       "[<matplotlib.lines.Line2D at 0x7fd9b5ad6c70>]"
      ]
     },
     "execution_count": 49,
     "metadata": {},
     "output_type": "execute_result"
    },
    {
     "data": {
      "image/png": "[encoded data removed]",
      "text/plain": [
       "<Figure size 1152x720 with 2 Axes>"
      ]
     },
     "metadata": {
      "needs_background": "light"
     },
     "output_type": "display_data"
    }
   ],
   "source": [
    "f1 = matplotlib.pyplot.figure(figsize=(16,10))\n",
    "ax1 = f1.add_subplot(1,2,1,title='hit rates vs false alarms vs SEDI (training data)')\n",
    "ax1.plot(thresholds_list, hit_rates,'r')\n",
    "ax1.plot(thresholds_list, false_alarm_rates,'b')\n",
    "ax1.plot(thresholds_list, sedi_list,'k')\n",
    "\n",
    "ax1 = f1.add_subplot(1,2,2,title='hit rates vs false alarms vs SEDI (test data)')\n",
    "ax1.plot(thresholds_list, hit_rates_test,'r')\n",
    "ax1.plot(thresholds_list, false_alarm_rates_test,'b')\n",
    "ax1.plot(thresholds_list, sedi_list_test,'k')"
   ]
  },
  {
   "cell_type": "markdown",
   "id": "eb70f193-2d08-42b7-be5e-96449d9cb3a6",
   "metadata": {
    "tags": []
   },
   "source": [
    "### Example - Dashboard to visualise results\n",
    "\n",
    "In any research project we want to share the results with others working on the project, in our research group, current and future collaborators and other researchers around the world in the same field. To do that, we don't just want to be able plot the results as we did above for ourselves, which we amy do for creating reports and papers, but ideally make it possible for other to interactively expore the results through a *results dashboard*. Here will use the same tool (panel from the holviz ecosystem) that we used in the notebook 2 to create a dashboard for data exploration to creaste a dashboard to enable researchers to explore the results of the trained machine learning model. "
   ]
  },
  {
   "cell_type": "code",
   "execution_count": 50,
   "id": "de5c9dd6-a158-4b35-94a3-5e18f5a63ff8",
   "metadata": {},
   "outputs": [],
   "source": [
    "import panel"
   ]
  },
  {
   "cell_type": "code",
   "execution_count": 51,
   "id": "9a82a8ca-0313-4de7-9d4c-44a0483ee6fd",
   "metadata": {},
   "outputs": [
    {
     "data": {
      "application/javascript": [
       "(function(root) {\n",
       "  function now() {\n",
       "    return new Date();\n",
       "  }\n",
       "\n",
       "  var force = true;\n",
       "\n",
       "  if (typeof root._bokeh_onload_callbacks === \"undefined\" || force === true) {\n",
       "    root._bokeh_onload_callbacks = [];\n",
       "    root._bokeh_is_loading = undefined;\n",
       "  }\n",
       "\n",
       "  if (typeof (root._bokeh_timeout) === \"undefined\" || force === true) {\n",
       "    root._bokeh_timeout = Date.now() + 5000;\n",
       "    root._bokeh_failed_load = false;\n",
       "  }\n",
       "\n",
       "  function run_callbacks() {\n",
       "    try {\n",
       "      root._bokeh_onload_callbacks.forEach(function(callback) {\n",
       "        if (callback != null)\n",
       "          callback();\n",
       "      });\n",
       "    } finally {\n",
       "      delete root._bokeh_onload_callbacks\n",
       "    }\n",
       "    console.debug(\"Bokeh: all callbacks have finished\");\n",
       "  }\n",
       "\n",
       "  function load_libs(css_urls, js_urls, js_modules, callback) {\n",
       "    if (css_urls == null) css_urls = [];\n",
       "    if (js_urls == null) js_urls = [];\n",
       "    if (js_modules == null) js_modules = [];\n",
       "\n",
       "    root._bokeh_onload_callbacks.push(callback);\n",
       "    if (root._bokeh_is_loading > 0) {\n",
       "      console.debug(\"Bokeh: BokehJS is being loaded, scheduling callback at\", now());\n",
       "      return null;\n",
       "    }\n",
       "    if (js_urls.length === 0 && js_modules.length === 0) {\n",
       "      run_callbacks();\n",
       "      return null;\n",
       "    }\n",
       "    console.debug(\"Bokeh: BokehJS not loaded, scheduling load and callback at\", now());\n",
       "\n",
       "    function on_load() {\n",
       "      root._bokeh_is_loading--;\n",
       "      if (root._bokeh_is_loading === 0) {\n",
       "        console.debug(\"Bokeh: all BokehJS libraries/stylesheets loaded\");\n",
       "        run_callbacks()\n",
       "      }\n",
       "    }\n",
       "\n",
       "    function on_error() {\n",
       "      console.error(\"failed to load \" + url);\n",
       "    }\n",
       "\n",
       "    for (var i = 0; i < css_urls.length; i++) {\n",
       "      var url = css_urls[i];\n",
       "      const element = document.createElement(\"link\");\n",
       "      element.onload = on_load;\n",
       "      element.onerror = on_error;\n",
       "      element.rel = \"stylesheet\";\n",
       "      element.type = \"text/css\";\n",
       "      element.href = url;\n",
       "      console.debug(\"Bokeh: injecting link tag for BokehJS stylesheet: \", url);\n",
       "      document.body.appendChild(element);\n",
       "    }\n",
       "\n",
       "    var skip = [];\n",
       "    if (window.requirejs) {\n",
       "      window.requirejs.config({'packages': {}, 'paths': {'gridstack': 'https://cdn.jsdelivr.net/npm/gridstack@4.2.5/dist/gridstack-h5', 'notyf': 'https://cdn.jsdelivr.net/npm/notyf@3/notyf.min'}, 'shim': {'gridstack': {'exports': 'GridStack'}}});\n",
       "      require([\"gridstack\"], function(GridStack) {\n",
       "\twindow.GridStack = GridStack\n",
       "\ton_load()\n",
       "      })\n",
       "      require([\"notyf\"], function() {\n",
       "\ton_load()\n",
       "      })\n",
       "      root._bokeh_is_loading = css_urls.length + 2;\n",
       "    } else {\n",
       "      root._bokeh_is_loading = css_urls.length + js_urls.length + js_modules.length;\n",
       "    }    if (((window['GridStack'] !== undefined) && (!(window['GridStack'] instanceof HTMLElement))) || window.requirejs) {\n",
       "      var urls = ['https://cdn.jsdelivr.net/npm/gridstack@4.2.5/dist/gridstack-h5.js'];\n",
       "      for (var i = 0; i < urls.length; i++) {\n",
       "        skip.push(urls[i])\n",
       "      }\n",
       "    }    if (((window['Notyf'] !== undefined) && (!(window['Notyf'] instanceof HTMLElement))) || window.requirejs) {\n",
       "      var urls = ['https://cdn.jsdelivr.net/npm/notyf@3/notyf.min.js'];\n",
       "      for (var i = 0; i < urls.length; i++) {\n",
       "        skip.push(urls[i])\n",
       "      }\n",
       "    }    for (var i = 0; i < js_urls.length; i++) {\n",
       "      var url = js_urls[i];\n",
       "      if (skip.indexOf(url) >= 0) {\n",
       "\tif (!window.requirejs) {\n",
       "\t  on_load();\n",
       "\t}\n",
       "\tcontinue;\n",
       "      }\n",
       "      var element = document.createElement('script');\n",
       "      element.onload = on_load;\n",
       "      element.onerror = on_error;\n",
       "      element.async = false;\n",
       "      element.src = url;\n",
       "      console.debug(\"Bokeh: injecting script tag for BokehJS library: \", url);\n",
       "      document.head.appendChild(element);\n",
       "    }\n",
       "    for (var i = 0; i < js_modules.length; i++) {\n",
       "      var url = js_modules[i];\n",
       "      if (skip.indexOf(url) >= 0) {\n",
       "\tif (!window.requirejs) {\n",
       "\t  on_load();\n",
       "\t}\n",
       "\tcontinue;\n",
       "      }\n",
       "      var element = document.createElement('script');\n",
       "      element.onload = on_load;\n",
       "      element.onerror = on_error;\n",
       "      element.async = false;\n",
       "      element.src = url;\n",
       "      element.type = \"module\";\n",
       "      console.debug(\"Bokeh: injecting script tag for BokehJS library: \", url);\n",
       "      document.head.appendChild(element);\n",
       "    }\n",
       "    if (!js_urls.length && !js_modules.length) {\n",
       "      on_load()\n",
       "    }\n",
       "  };\n",
       "\n",
       "  function inject_raw_css(css) {\n",
       "    const element = document.createElement(\"style\");\n",
       "    element.appendChild(document.createTextNode(css));\n",
       "    document.body.appendChild(element);\n",
       "  }\n",
       "\n",
       "  var js_urls = [\"https://cdn.bokeh.org/bokeh/release/bokeh-2.4.3.min.js\", \"https://cdn.bokeh.org/bokeh/release/bokeh-gl-2.4.3.min.js\", \"https://cdn.bokeh.org/bokeh/release/bokeh-widgets-2.4.3.min.js\", \"https://cdn.bokeh.org/bokeh/release/bokeh-tables-2.4.3.min.js\", \"https://cdn.bokeh.org/bokeh/release/bokeh-mathjax-2.4.3.min.js\", \"https://cdn.jsdelivr.net/npm/notyf@3/notyf.min.js\", \"https://unpkg.com/@holoviz/panel@0.13.1/dist/panel.min.js\"];\n",
       "  var js_modules = [];\n",
       "  var css_urls = [\"https://cdn.jsdelivr.net/npm/notyf@3/notyf.min.css\", \"https://cdnjs.cloudflare.com/ajax/libs/font-awesome/5.15.1/css/all.min.css\", \"https://unpkg.com/@holoviz/panel@0.13.1/dist/css/debugger.css\", \"https://unpkg.com/@holoviz/panel@0.13.1/dist/css/alerts.css\", \"https://unpkg.com/@holoviz/panel@0.13.1/dist/css/card.css\", \"https://unpkg.com/@holoviz/panel@0.13.1/dist/css/widgets.css\", \"https://unpkg.com/@holoviz/panel@0.13.1/dist/css/markdown.css\", \"https://unpkg.com/@holoviz/panel@0.13.1/dist/css/json.css\", \"https://unpkg.com/@holoviz/panel@0.13.1/dist/css/loading.css\", \"https://unpkg.com/@holoviz/panel@0.13.1/dist/css/dataframe.css\"];\n",
       "  var inline_js = [    function(Bokeh) {\n",
       "      inject_raw_css(\"\\n    .bk.pn-loading.arcs:before {\\n      background-image: url(\\\"data:image/svg+xml;base64,PHN2ZyB4bWxucz0iaHR0cDovL3d3dy53My5vcmcvMjAwMC9zdmciIHhtbG5zOnhsaW5rPSJodHRwOi8vd3d3LnczLm9yZy8xOTk5L3hsaW5rIiBzdHlsZT0ibWFyZ2luOiBhdXRvOyBiYWNrZ3JvdW5kOiBub25lOyBkaXNwbGF5OiBibG9jazsgc2hhcGUtcmVuZGVyaW5nOiBhdXRvOyIgdmlld0JveD0iMCAwIDEwMCAxMDAiIHByZXNlcnZlQXNwZWN0UmF0aW89InhNaWRZTWlkIj4gIDxjaXJjbGUgY3g9IjUwIiBjeT0iNTAiIHI9IjMyIiBzdHJva2Utd2lkdGg9IjgiIHN0cm9rZT0iI2MzYzNjMyIgc3Ryb2tlLWRhc2hhcnJheT0iNTAuMjY1NDgyNDU3NDM2NjkgNTAuMjY1NDgyNDU3NDM2NjkiIGZpbGw9Im5vbmUiIHN0cm9rZS1saW5lY2FwPSJyb3VuZCI+ICAgIDxhbmltYXRlVHJhbnNmb3JtIGF0dHJpYnV0ZU5hbWU9InRyYW5zZm9ybSIgdHlwZT0icm90YXRlIiByZXBlYXRDb3VudD0iaW5kZWZpbml0ZSIgZHVyPSIxcyIga2V5VGltZXM9IjA7MSIgdmFsdWVzPSIwIDUwIDUwOzM2MCA1MCA1MCI+PC9hbmltYXRlVHJhbnNmb3JtPiAgPC9jaXJjbGU+PC9zdmc+\\\");\\n      background-size: auto calc(min(50%, 400px));\\n    }\\n    \");\n",
       "    },    function(Bokeh) {\n",
       "      Bokeh.set_log_level(\"info\");\n",
       "    },\n",
       "function(Bokeh) {} // ensure no trailing comma for IE\n",
       "  ];\n",
       "\n",
       "  function run_inline_js() {\n",
       "    if ((root.Bokeh !== undefined) || (force === true)) {\n",
       "      for (var i = 0; i < inline_js.length; i++) {\n",
       "        inline_js[i].call(root, root.Bokeh);\n",
       "      }} else if (Date.now() < root._bokeh_timeout) {\n",
       "      setTimeout(run_inline_js, 100);\n",
       "    } else if (!root._bokeh_failed_load) {\n",
       "      console.log(\"Bokeh: BokehJS failed to load within specified timeout.\");\n",
       "      root._bokeh_failed_load = true;\n",
       "    }\n",
       "  }\n",
       "\n",
       "  if (root._bokeh_is_loading === 0) {\n",
       "    console.debug(\"Bokeh: BokehJS loaded, going straight to plotting\");\n",
       "    run_inline_js();\n",
       "  } else {\n",
       "    load_libs(css_urls, js_urls, js_modules, function() {\n",
       "      console.debug(\"Bokeh: BokehJS plotting callback run at\", now());\n",
       "      run_inline_js();\n",
       "    });\n",
       "  }\n",
       "}(window));"
      ],
      "application/vnd.holoviews_load.v0+json": "(function(root) {\n  function now() {\n    return new Date();\n  }\n\n  var force = true;\n\n  if (typeof root._bokeh_onload_callbacks === \"undefined\" || force === true) {\n    root._bokeh_onload_callbacks = [];\n    root._bokeh_is_loading = undefined;\n  }\n\n  if (typeof (root._bokeh_timeout) === \"undefined\" || force === true) {\n    root._bokeh_timeout = Date.now() + 5000;\n    root._bokeh_failed_load = false;\n  }\n\n  function run_callbacks() {\n    try {\n      root._bokeh_onload_callbacks.forEach(function(callback) {\n        if (callback != null)\n          callback();\n      });\n    } finally {\n      delete root._bokeh_onload_callbacks\n    }\n    console.debug(\"Bokeh: all callbacks have finished\");\n  }\n\n  function load_libs(css_urls, js_urls, js_modules, callback) {\n    if (css_urls == null) css_urls = [];\n    if (js_urls == null) js_urls = [];\n    if (js_modules == null) js_modules = [];\n\n    root._bokeh_onload_callbacks.push(callback);\n    if (root._bokeh_is_loading > 0) {\n      console.debug(\"Bokeh: BokehJS is being loaded, scheduling callback at\", now());\n      return null;\n    }\n    if (js_urls.length === 0 && js_modules.length === 0) {\n      run_callbacks();\n      return null;\n    }\n    console.debug(\"Bokeh: BokehJS not loaded, scheduling load and callback at\", now());\n\n    function on_load() {\n      root._bokeh_is_loading--;\n      if (root._bokeh_is_loading === 0) {\n        console.debug(\"Bokeh: all BokehJS libraries/stylesheets loaded\");\n        run_callbacks()\n      }\n    }\n\n    function on_error() {\n      console.error(\"failed to load \" + url);\n    }\n\n    for (var i = 0; i < css_urls.length; i++) {\n      var url = css_urls[i];\n      const element = document.createElement(\"link\");\n      element.onload = on_load;\n      element.onerror = on_error;\n      element.rel = \"stylesheet\";\n      element.type = \"text/css\";\n      element.href = url;\n      console.debug(\"Bokeh: injecting link tag for BokehJS stylesheet: \", url);\n      document.body.appendChild(element);\n    }\n\n    var skip = [];\n    if (window.requirejs) {\n      window.requirejs.config({'packages': {}, 'paths': {'gridstack': 'https://cdn.jsdelivr.net/npm/gridstack@4.2.5/dist/gridstack-h5', 'notyf': 'https://cdn.jsdelivr.net/npm/notyf@3/notyf.min'}, 'shim': {'gridstack': {'exports': 'GridStack'}}});\n      require([\"gridstack\"], function(GridStack) {\n\twindow.GridStack = GridStack\n\ton_load()\n      })\n      require([\"notyf\"], function() {\n\ton_load()\n      })\n      root._bokeh_is_loading = css_urls.length + 2;\n    } else {\n      root._bokeh_is_loading = css_urls.length + js_urls.length + js_modules.length;\n    }    if (((window['GridStack'] !== undefined) && (!(window['GridStack'] instanceof HTMLElement))) || window.requirejs) {\n      var urls = ['https://cdn.jsdelivr.net/npm/gridstack@4.2.5/dist/gridstack-h5.js'];\n      for (var i = 0; i < urls.length; i++) {\n        skip.push(urls[i])\n      }\n    }    if (((window['Notyf'] !== undefined) && (!(window['Notyf'] instanceof HTMLElement))) || window.requirejs) {\n      var urls = ['https://cdn.jsdelivr.net/npm/notyf@3/notyf.min.js'];\n      for (var i = 0; i < urls.length; i++) {\n        skip.push(urls[i])\n      }\n    }    for (var i = 0; i < js_urls.length; i++) {\n      var url = js_urls[i];\n      if (skip.indexOf(url) >= 0) {\n\tif (!window.requirejs) {\n\t  on_load();\n\t}\n\tcontinue;\n      }\n      var element = document.createElement('script');\n      element.onload = on_load;\n      element.onerror = on_error;\n      element.async = false;\n      element.src = url;\n      console.debug(\"Bokeh: injecting script tag for BokehJS library: \", url);\n      document.head.appendChild(element);\n    }\n    for (var i = 0; i < js_modules.length; i++) {\n      var url = js_modules[i];\n      if (skip.indexOf(url) >= 0) {\n\tif (!window.requirejs) {\n\t  on_load();\n\t}\n\tcontinue;\n      }\n      var element = document.createElement('script');\n      element.onload = on_load;\n      element.onerror = on_error;\n      element.async = false;\n      element.src = url;\n      element.type = \"module\";\n      console.debug(\"Bokeh: injecting script tag for BokehJS library: \", url);\n      document.head.appendChild(element);\n    }\n    if (!js_urls.length && !js_modules.length) {\n      on_load()\n    }\n  };\n\n  function inject_raw_css(css) {\n    const element = document.createElement(\"style\");\n    element.appendChild(document.createTextNode(css));\n    document.body.appendChild(element);\n  }\n\n  var js_urls = [\"https://cdn.bokeh.org/bokeh/release/bokeh-2.4.3.min.js\", \"https://cdn.bokeh.org/bokeh/release/bokeh-gl-2.4.3.min.js\", \"https://cdn.bokeh.org/bokeh/release/bokeh-widgets-2.4.3.min.js\", \"https://cdn.bokeh.org/bokeh/release/bokeh-tables-2.4.3.min.js\", \"https://cdn.bokeh.org/bokeh/release/bokeh-mathjax-2.4.3.min.js\", \"https://cdn.jsdelivr.net/npm/notyf@3/notyf.min.js\", \"https://unpkg.com/@holoviz/panel@0.13.1/dist/panel.min.js\"];\n  var js_modules = [];\n  var css_urls = [\"https://cdn.jsdelivr.net/npm/notyf@3/notyf.min.css\", \"https://cdnjs.cloudflare.com/ajax/libs/font-awesome/5.15.1/css/all.min.css\", \"https://unpkg.com/@holoviz/panel@0.13.1/dist/css/debugger.css\", \"https://unpkg.com/@holoviz/panel@0.13.1/dist/css/alerts.css\", \"https://unpkg.com/@holoviz/panel@0.13.1/dist/css/card.css\", \"https://unpkg.com/@holoviz/panel@0.13.1/dist/css/widgets.css\", \"https://unpkg.com/@holoviz/panel@0.13.1/dist/css/markdown.css\", \"https://unpkg.com/@holoviz/panel@0.13.1/dist/css/json.css\", \"https://unpkg.com/@holoviz/panel@0.13.1/dist/css/loading.css\", \"https://unpkg.com/@holoviz/panel@0.13.1/dist/css/dataframe.css\"];\n  var inline_js = [    function(Bokeh) {\n      inject_raw_css(\"\\n    .bk.pn-loading.arcs:before {\\n      background-image: url(\\\"data:image/svg+xml;base64,PHN2ZyB4bWxucz0iaHR0cDovL3d3dy53My5vcmcvMjAwMC9zdmciIHhtbG5zOnhsaW5rPSJodHRwOi8vd3d3LnczLm9yZy8xOTk5L3hsaW5rIiBzdHlsZT0ibWFyZ2luOiBhdXRvOyBiYWNrZ3JvdW5kOiBub25lOyBkaXNwbGF5OiBibG9jazsgc2hhcGUtcmVuZGVyaW5nOiBhdXRvOyIgdmlld0JveD0iMCAwIDEwMCAxMDAiIHByZXNlcnZlQXNwZWN0UmF0aW89InhNaWRZTWlkIj4gIDxjaXJjbGUgY3g9IjUwIiBjeT0iNTAiIHI9IjMyIiBzdHJva2Utd2lkdGg9IjgiIHN0cm9rZT0iI2MzYzNjMyIgc3Ryb2tlLWRhc2hhcnJheT0iNTAuMjY1NDgyNDU3NDM2NjkgNTAuMjY1NDgyNDU3NDM2NjkiIGZpbGw9Im5vbmUiIHN0cm9rZS1saW5lY2FwPSJyb3VuZCI+ICAgIDxhbmltYXRlVHJhbnNmb3JtIGF0dHJpYnV0ZU5hbWU9InRyYW5zZm9ybSIgdHlwZT0icm90YXRlIiByZXBlYXRDb3VudD0iaW5kZWZpbml0ZSIgZHVyPSIxcyIga2V5VGltZXM9IjA7MSIgdmFsdWVzPSIwIDUwIDUwOzM2MCA1MCA1MCI+PC9hbmltYXRlVHJhbnNmb3JtPiAgPC9jaXJjbGU+PC9zdmc+\\\");\\n      background-size: auto calc(min(50%, 400px));\\n    }\\n    \");\n    },    function(Bokeh) {\n      Bokeh.set_log_level(\"info\");\n    },\nfunction(Bokeh) {} // ensure no trailing comma for IE\n  ];\n\n  function run_inline_js() {\n    if ((root.Bokeh !== undefined) || (force === true)) {\n      for (var i = 0; i < inline_js.length; i++) {\n        inline_js[i].call(root, root.Bokeh);\n      }} else if (Date.now() < root._bokeh_timeout) {\n      setTimeout(run_inline_js, 100);\n    } else if (!root._bokeh_failed_load) {\n      console.log(\"Bokeh: BokehJS failed to load within specified timeout.\");\n      root._bokeh_failed_load = true;\n    }\n  }\n\n  if (root._bokeh_is_loading === 0) {\n    console.debug(\"Bokeh: BokehJS loaded, going straight to plotting\");\n    run_inline_js();\n  } else {\n    load_libs(css_urls, js_urls, js_modules, function() {\n      console.debug(\"Bokeh: BokehJS plotting callback run at\", now());\n      run_inline_js();\n    });\n  }\n}(window));"
     },
     "metadata": {},
     "output_type": "display_data"
    },
    {
     "data": {
      "application/javascript": [
       "\n",
       "if ((window.PyViz === undefined) || (window.PyViz instanceof HTMLElement)) {\n",
       "  window.PyViz = {comms: {}, comm_status:{}, kernels:{}, receivers: {}, plot_index: []}\n",
       "}\n",
       "\n",
       "\n",
       "    function JupyterCommManager() {\n",
       "    }\n",
       "\n",
       "    JupyterCommManager.prototype.register_target = function(plot_id, comm_id, msg_handler) {\n",
       "      if (window.comm_manager || ((window.Jupyter !== undefined) && (Jupyter.notebook.kernel != null))) {\n",
       "        var comm_manager = window.comm_manager || Jupyter.notebook.kernel.comm_manager;\n",
       "        comm_manager.register_target(comm_id, function(comm) {\n",
       "          comm.on_msg(msg_handler);\n",
       "        });\n",
       "      } else if ((plot_id in window.PyViz.kernels) && (window.PyViz.kernels[plot_id])) {\n",
       "        window.PyViz.kernels[plot_id].registerCommTarget(comm_id, function(comm) {\n",
       "          comm.onMsg = msg_handler;\n",
       "        });\n",
       "      } else if (typeof google != 'undefined' && google.colab.kernel != null) {\n",
       "        google.colab.kernel.comms.registerTarget(comm_id, (comm) => {\n",
       "          var messages = comm.messages[Symbol.asyncIterator]();\n",
       "          function processIteratorResult(result) {\n",
       "            var message = result.value;\n",
       "            console.log(message)\n",
       "            var content = {data: message.data, comm_id};\n",
       "            var buffers = []\n",
       "            for (var buffer of message.buffers || []) {\n",
       "              buffers.push(new DataView(buffer))\n",
       "            }\n",
       "            var metadata = message.metadata || {};\n",
       "            var msg = {content, buffers, metadata}\n",
       "            msg_handler(msg);\n",
       "            return messages.next().then(processIteratorResult);\n",
       "          }\n",
       "          return messages.next().then(processIteratorResult);\n",
       "        })\n",
       "      }\n",
       "    }\n",
       "\n",
       "    JupyterCommManager.prototype.get_client_comm = function(plot_id, comm_id, msg_handler) {\n",
       "      if (comm_id in window.PyViz.comms) {\n",
       "        return window.PyViz.comms[comm_id];\n",
       "      } else if (window.comm_manager || ((window.Jupyter !== undefined) && (Jupyter.notebook.kernel != null))) {\n",
       "        var comm_manager = window.comm_manager || Jupyter.notebook.kernel.comm_manager;\n",
       "        var comm = comm_manager.new_comm(comm_id, {}, {}, {}, comm_id);\n",
       "        if (msg_handler) {\n",
       "          comm.on_msg(msg_handler);\n",
       "        }\n",
       "      } else if ((plot_id in window.PyViz.kernels) && (window.PyViz.kernels[plot_id])) {\n",
       "        var comm = window.PyViz.kernels[plot_id].connectToComm(comm_id);\n",
       "        comm.open();\n",
       "        if (msg_handler) {\n",
       "          comm.onMsg = msg_handler;\n",
       "        }\n",
       "      } else if (typeof google != 'undefined' && google.colab.kernel != null) {\n",
       "        var comm_promise = google.colab.kernel.comms.open(comm_id)\n",
       "        comm_promise.then((comm) => {\n",
       "          window.PyViz.comms[comm_id] = comm;\n",
       "          if (msg_handler) {\n",
       "            var messages = comm.messages[Symbol.asyncIterator]();\n",
       "            function processIteratorResult(result) {\n",
       "              var message = result.value;\n",
       "              var content = {data: message.data};\n",
       "              var metadata = message.metadata || {comm_id};\n",
       "              var msg = {content, metadata}\n",
       "              msg_handler(msg);\n",
       "              return messages.next().then(processIteratorResult);\n",
       "            }\n",
       "            return messages.next().then(processIteratorResult);\n",
       "          }\n",
       "        }) \n",
       "        var sendClosure = (data, metadata, buffers, disposeOnDone) => {\n",
       "          return comm_promise.then((comm) => {\n",
       "            comm.send(data, metadata, buffers, disposeOnDone);\n",
       "          });\n",
       "        };\n",
       "        var comm = {\n",
       "          send: sendClosure\n",
       "        };\n",
       "      }\n",
       "      window.PyViz.comms[comm_id] = comm;\n",
       "      return comm;\n",
       "    }\n",
       "    window.PyViz.comm_manager = new JupyterCommManager();\n",
       "    \n",
       "\n",
       "\n",
       "var JS_MIME_TYPE = 'application/javascript';\n",
       "var HTML_MIME_TYPE = 'text/html';\n",
       "var EXEC_MIME_TYPE = 'application/vnd.holoviews_exec.v0+json';\n",
       "var CLASS_NAME = 'output';\n",
       "\n",
       "/**\n",
       " * Render data to the DOM node\n",
       " */\n",
       "function render(props, node) {\n",
       "  var div = document.createElement(\"div\");\n",
       "  var script = document.createElement(\"script\");\n",
       "  node.appendChild(div);\n",
       "  node.appendChild(script);\n",
       "}\n",
       "\n",
       "/**\n",
       " * Handle when a new output is added\n",
       " */\n",
       "function handle_add_output(event, handle) {\n",
       "  var output_area = handle.output_area;\n",
       "  var output = handle.output;\n",
       "  if ((output.data == undefined) || (!output.data.hasOwnProperty(EXEC_MIME_TYPE))) {\n",
       "    return\n",
       "  }\n",
       "  var id = output.metadata[EXEC_MIME_TYPE][\"id\"];\n",
       "  var toinsert = output_area.element.find(\".\" + CLASS_NAME.split(' ')[0]);\n",
       "  if (id !== undefined) {\n",
       "    var nchildren = toinsert.length;\n",
       "    var html_node = toinsert[nchildren-1].children[0];\n",
       "    html_node.innerHTML = output.data[HTML_MIME_TYPE];\n",
       "    var scripts = [];\n",
       "    var nodelist = html_node.querySelectorAll(\"script\");\n",
       "    for (var i in nodelist) {\n",
       "      if (nodelist.hasOwnProperty(i)) {\n",
       "        scripts.push(nodelist[i])\n",
       "      }\n",
       "    }\n",
       "\n",
       "    scripts.forEach( function (oldScript) {\n",
       "      var newScript = document.createElement(\"script\");\n",
       "      var attrs = [];\n",
       "      var nodemap = oldScript.attributes;\n",
       "      for (var j in nodemap) {\n",
       "        if (nodemap.hasOwnProperty(j)) {\n",
       "          attrs.push(nodemap[j])\n",
       "        }\n",
       "      }\n",
       "      attrs.forEach(function(attr) { newScript.setAttribute(attr.name, attr.value) });\n",
       "      newScript.appendChild(document.createTextNode(oldScript.innerHTML));\n",
       "      oldScript.parentNode.replaceChild(newScript, oldScript);\n",
       "    });\n",
       "    if (JS_MIME_TYPE in output.data) {\n",
       "      toinsert[nchildren-1].children[1].textContent = output.data[JS_MIME_TYPE];\n",
       "    }\n",
       "    output_area._hv_plot_id = id;\n",
       "    if ((window.Bokeh !== undefined) && (id in Bokeh.index)) {\n",
       "      window.PyViz.plot_index[id] = Bokeh.index[id];\n",
       "    } else {\n",
       "      window.PyViz.plot_index[id] = null;\n",
       "    }\n",
       "  } else if (output.metadata[EXEC_MIME_TYPE][\"server_id\"] !== undefined) {\n",
       "    var bk_div = document.createElement(\"div\");\n",
       "    bk_div.innerHTML = output.data[HTML_MIME_TYPE];\n",
       "    var script_attrs = bk_div.children[0].attributes;\n",
       "    for (var i = 0; i < script_attrs.length; i++) {\n",
       "      toinsert[toinsert.length - 1].childNodes[1].setAttribute(script_attrs[i].name, script_attrs[i].value);\n",
       "    }\n",
       "    // store reference to server id on output_area\n",
       "    output_area._bokeh_server_id = output.metadata[EXEC_MIME_TYPE][\"server_id\"];\n",
       "  }\n",
       "}\n",
       "\n",
       "/**\n",
       " * Handle when an output is cleared or removed\n",
       " */\n",
       "function handle_clear_output(event, handle) {\n",
       "  var id = handle.cell.output_area._hv_plot_id;\n",
       "  var server_id = handle.cell.output_area._bokeh_server_id;\n",
       "  if (((id === undefined) || !(id in PyViz.plot_index)) && (server_id !== undefined)) { return; }\n",
       "  var comm = window.PyViz.comm_manager.get_client_comm(\"hv-extension-comm\", \"hv-extension-comm\", function () {});\n",
       "  if (server_id !== null) {\n",
       "    comm.send({event_type: 'server_delete', 'id': server_id});\n",
       "    return;\n",
       "  } else if (comm !== null) {\n",
       "    comm.send({event_type: 'delete', 'id': id});\n",
       "  }\n",
       "  delete PyViz.plot_index[id];\n",
       "  if ((window.Bokeh !== undefined) & (id in window.Bokeh.index)) {\n",
       "    var doc = window.Bokeh.index[id].model.document\n",
       "    doc.clear();\n",
       "    const i = window.Bokeh.documents.indexOf(doc);\n",
       "    if (i > -1) {\n",
       "      window.Bokeh.documents.splice(i, 1);\n",
       "    }\n",
       "  }\n",
       "}\n",
       "\n",
       "/**\n",
       " * Handle kernel restart event\n",
       " */\n",
       "function handle_kernel_cleanup(event, handle) {\n",
       "  delete PyViz.comms[\"hv-extension-comm\"];\n",
       "  window.PyViz.plot_index = {}\n",
       "}\n",
       "\n",
       "/**\n",
       " * Handle update_display_data messages\n",
       " */\n",
       "function handle_update_output(event, handle) {\n",
       "  handle_clear_output(event, {cell: {output_area: handle.output_area}})\n",
       "  handle_add_output(event, handle)\n",
       "}\n",
       "\n",
       "function register_renderer(events, OutputArea) {\n",
       "  function append_mime(data, metadata, element) {\n",
       "    // create a DOM node to render to\n",
       "    var toinsert = this.create_output_subarea(\n",
       "    metadata,\n",
       "    CLASS_NAME,\n",
       "    EXEC_MIME_TYPE\n",
       "    );\n",
       "    this.keyboard_manager.register_events(toinsert);\n",
       "    // Render to node\n",
       "    var props = {data: data, metadata: metadata[EXEC_MIME_TYPE]};\n",
       "    render(props, toinsert[0]);\n",
       "    element.append(toinsert);\n",
       "    return toinsert\n",
       "  }\n",
       "\n",
       "  events.on('output_added.OutputArea', handle_add_output);\n",
       "  events.on('output_updated.OutputArea', handle_update_output);\n",
       "  events.on('clear_output.CodeCell', handle_clear_output);\n",
       "  events.on('delete.Cell', handle_clear_output);\n",
       "  events.on('kernel_ready.Kernel', handle_kernel_cleanup);\n",
       "\n",
       "  OutputArea.prototype.register_mime_type(EXEC_MIME_TYPE, append_mime, {\n",
       "    safe: true,\n",
       "    index: 0\n",
       "  });\n",
       "}\n",
       "\n",
       "if (window.Jupyter !== undefined) {\n",
       "  try {\n",
       "    var events = require('base/js/events');\n",
       "    var OutputArea = require('notebook/js/outputarea').OutputArea;\n",
       "    if (OutputArea.prototype.mime_types().indexOf(EXEC_MIME_TYPE) == -1) {\n",
       "      register_renderer(events, OutputArea);\n",
       "    }\n",
       "  } catch(err) {\n",
       "  }\n",
       "}\n"
      ],
      "application/vnd.holoviews_load.v0+json": "\nif ((window.PyViz === undefined) || (window.PyViz instanceof HTMLElement)) {\n  window.PyViz = {comms: {}, comm_status:{}, kernels:{}, receivers: {}, plot_index: []}\n}\n\n\n    function JupyterCommManager() {\n    }\n\n    JupyterCommManager.prototype.register_target = function(plot_id, comm_id, msg_handler) {\n      if (window.comm_manager || ((window.Jupyter !== undefined) && (Jupyter.notebook.kernel != null))) {\n        var comm_manager = window.comm_manager || Jupyter.notebook.kernel.comm_manager;\n        comm_manager.register_target(comm_id, function(comm) {\n          comm.on_msg(msg_handler);\n        });\n      } else if ((plot_id in window.PyViz.kernels) && (window.PyViz.kernels[plot_id])) {\n        window.PyViz.kernels[plot_id].registerCommTarget(comm_id, function(comm) {\n          comm.onMsg = msg_handler;\n        });\n      } else if (typeof google != 'undefined' && google.colab.kernel != null) {\n        google.colab.kernel.comms.registerTarget(comm_id, (comm) => {\n          var messages = comm.messages[Symbol.asyncIterator]();\n          function processIteratorResult(result) {\n            var message = result.value;\n            console.log(message)\n            var content = {data: message.data, comm_id};\n            var buffers = []\n            for (var buffer of message.buffers || []) {\n              buffers.push(new DataView(buffer))\n            }\n            var metadata = message.metadata || {};\n            var msg = {content, buffers, metadata}\n            msg_handler(msg);\n            return messages.next().then(processIteratorResult);\n          }\n          return messages.next().then(processIteratorResult);\n        })\n      }\n    }\n\n    JupyterCommManager.prototype.get_client_comm = function(plot_id, comm_id, msg_handler) {\n      if (comm_id in window.PyViz.comms) {\n        return window.PyViz.comms[comm_id];\n      } else if (window.comm_manager || ((window.Jupyter !== undefined) && (Jupyter.notebook.kernel != null))) {\n        var comm_manager = window.comm_manager || Jupyter.notebook.kernel.comm_manager;\n        var comm = comm_manager.new_comm(comm_id, {}, {}, {}, comm_id);\n        if (msg_handler) {\n          comm.on_msg(msg_handler);\n        }\n      } else if ((plot_id in window.PyViz.kernels) && (window.PyViz.kernels[plot_id])) {\n        var comm = window.PyViz.kernels[plot_id].connectToComm(comm_id);\n        comm.open();\n        if (msg_handler) {\n          comm.onMsg = msg_handler;\n        }\n      } else if (typeof google != 'undefined' && google.colab.kernel != null) {\n        var comm_promise = google.colab.kernel.comms.open(comm_id)\n        comm_promise.then((comm) => {\n          window.PyViz.comms[comm_id] = comm;\n          if (msg_handler) {\n            var messages = comm.messages[Symbol.asyncIterator]();\n            function processIteratorResult(result) {\n              var message = result.value;\n              var content = {data: message.data};\n              var metadata = message.metadata || {comm_id};\n              var msg = {content, metadata}\n              msg_handler(msg);\n              return messages.next().then(processIteratorResult);\n            }\n            return messages.next().then(processIteratorResult);\n          }\n        }) \n        var sendClosure = (data, metadata, buffers, disposeOnDone) => {\n          return comm_promise.then((comm) => {\n            comm.send(data, metadata, buffers, disposeOnDone);\n          });\n        };\n        var comm = {\n          send: sendClosure\n        };\n      }\n      window.PyViz.comms[comm_id] = comm;\n      return comm;\n    }\n    window.PyViz.comm_manager = new JupyterCommManager();\n    \n\n\nvar JS_MIME_TYPE = 'application/javascript';\nvar HTML_MIME_TYPE = 'text/html';\nvar EXEC_MIME_TYPE = 'application/vnd.holoviews_exec.v0+json';\nvar CLASS_NAME = 'output';\n\n/**\n * Render data to the DOM node\n */\nfunction render(props, node) {\n  var div = document.createElement(\"div\");\n  var script = document.createElement(\"script\");\n  node.appendChild(div);\n  node.appendChild(script);\n}\n\n/**\n * Handle when a new output is added\n */\nfunction handle_add_output(event, handle) {\n  var output_area = handle.output_area;\n  var output = handle.output;\n  if ((output.data == undefined) || (!output.data.hasOwnProperty(EXEC_MIME_TYPE))) {\n    return\n  }\n  var id = output.metadata[EXEC_MIME_TYPE][\"id\"];\n  var toinsert = output_area.element.find(\".\" + CLASS_NAME.split(' ')[0]);\n  if (id !== undefined) {\n    var nchildren = toinsert.length;\n    var html_node = toinsert[nchildren-1].children[0];\n    html_node.innerHTML = output.data[HTML_MIME_TYPE];\n    var scripts = [];\n    var nodelist = html_node.querySelectorAll(\"script\");\n    for (var i in nodelist) {\n      if (nodelist.hasOwnProperty(i)) {\n        scripts.push(nodelist[i])\n      }\n    }\n\n    scripts.forEach( function (oldScript) {\n      var newScript = document.createElement(\"script\");\n      var attrs = [];\n      var nodemap = oldScript.attributes;\n      for (var j in nodemap) {\n        if (nodemap.hasOwnProperty(j)) {\n          attrs.push(nodemap[j])\n        }\n      }\n      attrs.forEach(function(attr) { newScript.setAttribute(attr.name, attr.value) });\n      newScript.appendChild(document.createTextNode(oldScript.innerHTML));\n      oldScript.parentNode.replaceChild(newScript, oldScript);\n    });\n    if (JS_MIME_TYPE in output.data) {\n      toinsert[nchildren-1].children[1].textContent = output.data[JS_MIME_TYPE];\n    }\n    output_area._hv_plot_id = id;\n    if ((window.Bokeh !== undefined) && (id in Bokeh.index)) {\n      window.PyViz.plot_index[id] = Bokeh.index[id];\n    } else {\n      window.PyViz.plot_index[id] = null;\n    }\n  } else if (output.metadata[EXEC_MIME_TYPE][\"server_id\"] !== undefined) {\n    var bk_div = document.createElement(\"div\");\n    bk_div.innerHTML = output.data[HTML_MIME_TYPE];\n    var script_attrs = bk_div.children[0].attributes;\n    for (var i = 0; i < script_attrs.length; i++) {\n      toinsert[toinsert.length - 1].childNodes[1].setAttribute(script_attrs[i].name, script_attrs[i].value);\n    }\n    // store reference to server id on output_area\n    output_area._bokeh_server_id = output.metadata[EXEC_MIME_TYPE][\"server_id\"];\n  }\n}\n\n/**\n * Handle when an output is cleared or removed\n */\nfunction handle_clear_output(event, handle) {\n  var id = handle.cell.output_area._hv_plot_id;\n  var server_id = handle.cell.output_area._bokeh_server_id;\n  if (((id === undefined) || !(id in PyViz.plot_index)) && (server_id !== undefined)) { return; }\n  var comm = window.PyViz.comm_manager.get_client_comm(\"hv-extension-comm\", \"hv-extension-comm\", function () {});\n  if (server_id !== null) {\n    comm.send({event_type: 'server_delete', 'id': server_id});\n    return;\n  } else if (comm !== null) {\n    comm.send({event_type: 'delete', 'id': id});\n  }\n  delete PyViz.plot_index[id];\n  if ((window.Bokeh !== undefined) & (id in window.Bokeh.index)) {\n    var doc = window.Bokeh.index[id].model.document\n    doc.clear();\n    const i = window.Bokeh.documents.indexOf(doc);\n    if (i > -1) {\n      window.Bokeh.documents.splice(i, 1);\n    }\n  }\n}\n\n/**\n * Handle kernel restart event\n */\nfunction handle_kernel_cleanup(event, handle) {\n  delete PyViz.comms[\"hv-extension-comm\"];\n  window.PyViz.plot_index = {}\n}\n\n/**\n * Handle update_display_data messages\n */\nfunction handle_update_output(event, handle) {\n  handle_clear_output(event, {cell: {output_area: handle.output_area}})\n  handle_add_output(event, handle)\n}\n\nfunction register_renderer(events, OutputArea) {\n  function append_mime(data, metadata, element) {\n    // create a DOM node to render to\n    var toinsert = this.create_output_subarea(\n    metadata,\n    CLASS_NAME,\n    EXEC_MIME_TYPE\n    );\n    this.keyboard_manager.register_events(toinsert);\n    // Render to node\n    var props = {data: data, metadata: metadata[EXEC_MIME_TYPE]};\n    render(props, toinsert[0]);\n    element.append(toinsert);\n    return toinsert\n  }\n\n  events.on('output_added.OutputArea', handle_add_output);\n  events.on('output_updated.OutputArea', handle_update_output);\n  events.on('clear_output.CodeCell', handle_clear_output);\n  events.on('delete.Cell', handle_clear_output);\n  events.on('kernel_ready.Kernel', handle_kernel_cleanup);\n\n  OutputArea.prototype.register_mime_type(EXEC_MIME_TYPE, append_mime, {\n    safe: true,\n    index: 0\n  });\n}\n\nif (window.Jupyter !== undefined) {\n  try {\n    var events = require('base/js/events');\n    var OutputArea = require('notebook/js/outputarea').OutputArea;\n    if (OutputArea.prototype.mime_types().indexOf(EXEC_MIME_TYPE) == -1) {\n      register_renderer(events, OutputArea);\n    }\n  } catch(err) {\n  }\n}\n"
     },
     "metadata": {},
     "output_type": "display_data"
    },
    {
     "data": {
      "text/html": [
       "<style>.bk-root, .bk-root .bk:before, .bk-root .bk:after {\n",
       "  font-family: var(--jp-ui-font-size1);\n",
       "  font-size: var(--jp-ui-font-size1);\n",
       "  color: var(--jp-ui-font-color1);\n",
       "}\n",
       "</style>"
      ]
     },
     "metadata": {},
     "output_type": "display_data"
    }
   ],
   "source": [
    "panel.extension()"
   ]
  },
  {
   "cell_type": "code",
   "execution_count": 52,
   "id": "165e6a46-40c5-4647-bc67-2ff7363f5039",
   "metadata": {},
   "outputs": [],
   "source": [
    "def plot_rotors_metrics(rotors_model,  X_dict, y_dict, selected_split, threshold,):\n",
    "    y_raw = rotors_model.predict(X_dict[selected_split])[:,0]\n",
    "    y_pred = list(map(float, y_raw > threshold)) \n",
    "    cm1 = sklearn.metrics.confusion_matrix(y_dict[selected_split], y_pred)\n",
    "    metric_dict = {\n",
    "        'hit_rate' : [cm1[1,1] / (cm1[1,0] + cm1[1,1])],\n",
    "        'false_alarm_rate' : [cm1[0,1] / (cm1[0,0] + cm1[0,1])],\n",
    "        'sedi_score': [calc_sedi(cm1)],\n",
    "    }\n",
    "    \n",
    "    fig1 = matplotlib.pyplot.Figure()\n",
    "    ax1 = fig1.add_subplot(1,1,1)\n",
    "    pandas.DataFrame.from_dict(metric_dict).transpose().plot.bar(ax=ax1)\n",
    "    ax1.set_ylim([0.0, 1.0])\n",
    "    fig1.tight_layout()\n",
    "    return fig1\n"
   ]
  },
  {
   "cell_type": "code",
   "execution_count": 53,
   "id": "35b84ab9-8c1e-4698-93ce-510f03b3946c",
   "metadata": {},
   "outputs": [
    {
     "data": {
      "image/png": "[encoded data removed]",
      "text/plain": [
       "<Figure size 432x288 with 1 Axes>"
      ]
     },
     "execution_count": 53,
     "metadata": {},
     "output_type": "execute_result"
    }
   ],
   "source": [
    "plot_rotors_metrics(\n",
    "    rotors_model=rse_rotors_model,\n",
    "    X_dict= {'train': X_train, 'val': X_val},\n",
    "    y_dict= {'train': y_train[:,0], 'val': y_val[:,0]},\n",
    "    selected_split='val',\n",
    "    threshold=0.02,\n",
    ")"
   ]
  },
  {
   "cell_type": "code",
   "execution_count": 54,
   "id": "aed3f9dc-ee61-4309-a614-e01821f02b78",
   "metadata": {},
   "outputs": [],
   "source": [
    "split_select_widget = panel.widgets.Select(options=['train', 'val'])"
   ]
  },
  {
   "cell_type": "code",
   "execution_count": 55,
   "id": "db9b0a9f-2926-46cd-979b-5870346d66f9",
   "metadata": {},
   "outputs": [],
   "source": [
    "threshold_widget = panel.widgets.slider.FloatSlider(start=0.0,end=0.2,step=0.001, value=0.01)"
   ]
  },
  {
   "cell_type": "code",
   "execution_count": 56,
   "id": "b5b457e5-0cb6-4c01-845a-ce5eca505912",
   "metadata": {},
   "outputs": [],
   "source": [
    "metric_plotter = panel.bind(\n",
    "    functools.partial(plot_rotors_metrics, \n",
    "                      rotors_model=rse_rotors_model,\n",
    "                      X_dict= {'train': X_train, 'val': X_val},\n",
    "                      y_dict= {'train': y_train[:,0], 'val': y_val[:,0]},),\n",
    "    selected_split=split_select_widget,\n",
    "    threshold=threshold_widget,    \n",
    ")"
   ]
  },
  {
   "cell_type": "code",
   "execution_count": 57,
   "id": "9eac6d68-03a4-4aab-8ade-52920a88bdc2",
   "metadata": {},
   "outputs": [],
   "source": [
    "metric_dashboard = panel.Column(panel.Row(split_select_widget, threshold_widget), metric_plotter)"
   ]
  },
  {
   "cell_type": "code",
   "execution_count": 58,
   "id": "beefa54f-2c91-478d-a02a-c5edf689ded1",
   "metadata": {},
   "outputs": [
    {
     "data": {},
     "metadata": {},
     "output_type": "display_data"
    },
    {
     "data": {
      "application/vnd.holoviews_exec.v0+json": "",
      "text/html": [
       "<div id='1002'>\n",
       "  <div class=\"bk-root\" id=\"ac7a64bc-1b48-426f-922b-2579f34ff0d7\" data-root-id=\"1002\"></div>\n",
       "</div>\n",
       "<script type=\"application/javascript\">(function(root) {\n",
       "  function embed_document(root) {\n",
       "    var docs_json = {\"4444722b-2e15-4002-b13f-88d116afdbd3\":{\"defs\":[{\"extends\":null,\"module\":null,\"name\":\"ReactiveHTML1\",\"overrides\":[],\"properties\":[]},{\"extends\":null,\"module\":null,\"name\":\"FlexBox1\",\"overrides\":[],\"properties\":[{\"default\":\"flex-start\",\"kind\":null,\"name\":\"align_content\"},{\"default\":\"flex-start\",\"kind\":null,\"name\":\"align_items\"},{\"default\":\"row\",\"kind\":null,\"name\":\"flex_direction\"},{\"default\":\"wrap\",\"kind\":null,\"name\":\"flex_wrap\"},{\"default\":\"flex-start\",\"kind\":null,\"name\":\"justify_content\"}]},{\"extends\":null,\"module\":null,\"name\":\"GridStack1\",\"overrides\":[],\"properties\":[{\"default\":\"warn\",\"kind\":null,\"name\":\"mode\"},{\"default\":null,\"kind\":null,\"name\":\"ncols\"},{\"default\":null,\"kind\":null,\"name\":\"nrows\"},{\"default\":true,\"kind\":null,\"name\":\"allow_resize\"},{\"default\":true,\"kind\":null,\"name\":\"allow_drag\"},{\"default\":[],\"kind\":null,\"name\":\"state\"}]},{\"extends\":null,\"module\":null,\"name\":\"click1\",\"overrides\":[],\"properties\":[{\"default\":\"\",\"kind\":null,\"name\":\"terminal_output\"},{\"default\":\"\",\"kind\":null,\"name\":\"debug_name\"},{\"default\":0,\"kind\":null,\"name\":\"clears\"}]},{\"extends\":null,\"module\":null,\"name\":\"NotificationAreaBase1\",\"overrides\":[],\"properties\":[{\"default\":\"bottom-right\",\"kind\":null,\"name\":\"position\"},{\"default\":0,\"kind\":null,\"name\":\"_clear\"}]},{\"extends\":null,\"module\":null,\"name\":\"NotificationArea1\",\"overrides\":[],\"properties\":[{\"default\":[],\"kind\":null,\"name\":\"notifications\"},{\"default\":\"bottom-right\",\"kind\":null,\"name\":\"position\"},{\"default\":0,\"kind\":null,\"name\":\"_clear\"},{\"default\":[{\"background\":\"#ffc107\",\"icon\":{\"className\":\"fas fa-exclamation-triangle\",\"color\":\"white\",\"tagName\":\"i\"},\"type\":\"warning\"},{\"background\":\"#007bff\",\"icon\":{\"className\":\"fas fa-info-circle\",\"color\":\"white\",\"tagName\":\"i\"},\"type\":\"info\"}],\"kind\":null,\"name\":\"types\"}]},{\"extends\":null,\"module\":null,\"name\":\"Notification\",\"overrides\":[],\"properties\":[{\"default\":null,\"kind\":null,\"name\":\"background\"},{\"default\":3000,\"kind\":null,\"name\":\"duration\"},{\"default\":null,\"kind\":null,\"name\":\"icon\"},{\"default\":\"\",\"kind\":null,\"name\":\"message\"},{\"default\":null,\"kind\":null,\"name\":\"notification_type\"},{\"default\":false,\"kind\":null,\"name\":\"_destroyed\"}]},{\"extends\":null,\"module\":null,\"name\":\"TemplateActions1\",\"overrides\":[],\"properties\":[{\"default\":0,\"kind\":null,\"name\":\"open_modal\"},{\"default\":0,\"kind\":null,\"name\":\"close_modal\"}]},{\"extends\":null,\"module\":null,\"name\":\"MaterialTemplateActions1\",\"overrides\":[],\"properties\":[{\"default\":0,\"kind\":null,\"name\":\"open_modal\"},{\"default\":0,\"kind\":null,\"name\":\"close_modal\"}]}],\"roots\":{\"references\":[{\"attributes\":{\"children\":[{\"id\":\"1007\"}],\"margin\":[0,0,0,0],\"name\":\"Row00108\"},\"id\":\"1006\",\"type\":\"Row\"},{\"attributes\":{\"children\":[{\"id\":\"1003\"},{\"id\":\"1006\"}],\"margin\":[0,0,0,0],\"name\":\"Column00111\"},\"id\":\"1002\",\"type\":\"Column\"},{\"attributes\":{\"children\":[{\"id\":\"1004\"},{\"id\":\"1005\"}],\"margin\":[0,0,0,0],\"name\":\"Row00103\"},\"id\":\"1003\",\"type\":\"Row\"},{\"attributes\":{\"margin\":[5,10,5,10],\"options\":[\"train\",\"val\"],\"value\":\"train\"},\"id\":\"1004\",\"type\":\"panel.models.widgets.CustomSelect\"},{\"attributes\":{\"end\":0.2,\"margin\":[5,10,5,10],\"start\":0.0,\"step\":0.001,\"value\":0.01},\"id\":\"1005\",\"type\":\"Slider\"},{\"attributes\":{\"client_comm_id\":\"c31050e0821744eb819f816efae30e51\",\"comm_id\":\"2cbcb5b1c8e34bb6b30014833d36ec69\",\"plot_id\":\"1002\"},\"id\":\"1008\",\"type\":\"panel.models.comm_manager.CommManager\"},{\"attributes\":{\"reload\":false},\"id\":\"1009\",\"type\":\"panel.models.location.Location\"},{\"attributes\":{\"height\":576,\"margin\":[5,5,5,5],\"name\":\"ParamFunction00104\",\"text\":\"&lt;img src=&quot;data:image/png;base64,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&quot; width=&quot;864px&quot; height=&quot;576px&quot; alt=&quot;&quot;&gt;&lt;/img&gt;\",\"width\":864},\"id\":\"1007\",\"type\":\"panel.models.markup.HTML\"}],\"root_ids\":[\"1002\",\"1008\",\"1009\"]},\"title\":\"Bokeh Application\",\"version\":\"2.4.3\"}};\n",
       "    var render_items = [{\"docid\":\"4444722b-2e15-4002-b13f-88d116afdbd3\",\"root_ids\":[\"1002\"],\"roots\":{\"1002\":\"ac7a64bc-1b48-426f-922b-2579f34ff0d7\"}}];\n",
       "    root.Bokeh.embed.embed_items_notebook(docs_json, render_items);\n",
       "  }\n",
       "  if (root.Bokeh !== undefined && root.Bokeh.Panel !== undefined) {\n",
       "    embed_document(root);\n",
       "  } else {\n",
       "    var attempts = 0;\n",
       "    var timer = setInterval(function(root) {\n",
       "      if (root.Bokeh !== undefined && root.Bokeh.Panel !== undefined) {\n",
       "        clearInterval(timer);\n",
       "        embed_document(root);\n",
       "      } else if (document.readyState == \"complete\") {\n",
       "        attempts++;\n",
       "        if (attempts > 200) {\n",
       "          clearInterval(timer);\n",
       "          console.log(\"Bokeh: ERROR: Unable to run BokehJS code because BokehJS library is missing\");\n",
       "        }\n",
       "      }\n",
       "    }, 25, root)\n",
       "  }\n",
       "})(window);</script>"
      ],
      "text/plain": [
       "Column\n",
       "    [0] Row\n",
       "        [0] Select(options=['train', 'val'], value='train')\n",
       "        [1] FloatSlider(end=0.2, step=0.001, value=0.01)\n",
       "    [1] ParamFunction(function)"
      ]
     },
     "execution_count": 58,
     "metadata": {
      "application/vnd.holoviews_exec.v0+json": {
       "id": "1002"
      }
     },
     "output_type": "execute_result"
    }
   ],
   "source": [
    "metric_dashboard.servable()"
   ]
  },
  {
   "cell_type": "markdown",
   "id": "bbd99e5a-97ed-4678-8708-59986c829576",
   "metadata": {},
   "source": [
    "Our very basic dashboard is:\n",
    "* loading data from a catalog\n",
    "* loading a pre-trained model from catalog of pretrained models\n",
    "* display plots  created on demand through an interactive dashboard.\n",
    "\n",
    "Although this seems very simple (well, it is), this is a very scalable approach. We can easily make this better by\n",
    "* Using a larger dataset.\n",
    "* scaling up the calculation required through a workflow engine (e..g. dask, ray)\n",
    "* run this on the cloud\n",
    "* use more complicated/interesting plots\n",
    "\n"
   ]
  },
  {
   "cell_type": "markdown",
   "id": "ab1a922e-1b0f-42a2-af94-098dcca0903b",
   "metadata": {},
   "source": [
    "# Example - Explainable AI\n",
    "\n",
    "Lastly we'll briefly touch on an important emerging part of machine learning called interpretability or explainability or explainable AI (XAI). This aims to open up the \"black box\" of the machine learning algorithms and try to understand how predictions are made and what they mean. Often this reolves in understanding the contribution or importance of a particular feature or data point in the training set. In many ways this is calculated and displayed and stored in the same way as the performance metrics displayed above, so from a workflow or engineering perspective it is perhaps not that noteworthy. It is an increasingly important and impactful part of a machine learning pipeline and researchers are generally now expected to include some aspect of XAI in any publications for research depending on machine learning, so it is important for RSEs to be aware of this important class of tools which they will likely have to support in ML projects, including seamless scaling up on XAI computation and being able to do these calculations in a reliable, reproducible way. \n",
    "\n",
    "Common tools\n",
    "* [scikit learn permutation featue importance](https://scikit-learn.org/stable/modules/permutation_importance.html)\n",
    "* [SHAP](https://shap.readthedocs.io/en/latest/index.html)\n",
    "* [OmniXAI](https://github.com/salesforce/OmniXAI)\n",
    "\n"
   ]
  },
  {
   "cell_type": "code",
   "execution_count": null,
   "id": "03d1dcd2-80ca-486f-8c5e-2e4545063d78",
   "metadata": {},
   "outputs": [],
   "source": [
    "X_val.shape"
   ]
  },
  {
   "cell_type": "code",
   "execution_count": null,
   "id": "c9c1f7e2-f8fd-4792-909b-c8485550bb7c",
   "metadata": {},
   "outputs": [],
   "source": [
    "import copy"
   ]
  },
  {
   "cell_type": "code",
   "execution_count": null,
   "id": "dbd1877f-a1df-4cc5-81d8-a6c7198e330b",
   "metadata": {},
   "outputs": [],
   "source": [
    "recall_baseline = sklearn.metrics.recall_score(y_val[:,0] , reg_model.predict(X_val)[:,0] > 1e-2)"
   ]
  },
  {
   "cell_type": "code",
   "execution_count": null,
   "id": "ca985f81-f312-4dad-862d-ed36b73ccc3d",
   "metadata": {},
   "outputs": [],
   "source": [
    "def calc_pfi_metric(rotors_reg_model_name, X_val, y_val, ix1, ix2):\n",
    "    reg_model = mlflow.pyfunc.load_model(mlflow_client.get_registered_model(rotors_reg_model_name).latest_versions[0].source)\n",
    "    pfi_X = copy.deepcopy(X_val)\n",
    "    pfi_X[:,ix1] = X_val[:,ix2]\n",
    "    pfi_X[:,ix2] = X_val[:,ix1]\n",
    "    recall_accum = sklearn.metrics.recall_score(y_val[:,0] , reg_model.predict(pfi_X)[:,0] > 1e-2)\n",
    "    return recall_accum\n"
   ]
  },
  {
   "cell_type": "code",
   "execution_count": null,
   "id": "ae91ffef-120a-4690-bdf7-59b498766306",
   "metadata": {},
   "outputs": [],
   "source": [
    "import random"
   ]
  },
  {
   "cell_type": "code",
   "execution_count": null,
   "id": "74214c46-c4f6-4249-88f1-4bc1ca1d7dbd",
   "metadata": {},
   "outputs": [],
   "source": [
    "import warnings\n",
    "warnings.filterwarnings(\"ignore\")"
   ]
  },
  {
   "cell_type": "code",
   "execution_count": null,
   "id": "51317ba1-2cbd-44e2-bad2-87957a98950d",
   "metadata": {},
   "outputs": [],
   "source": [
    "%%time\n",
    "c = numpy.zeros(X_val.shape[1])\n",
    "for ix1 in range(X_val.shape[1]):\n",
    "    print(ix1)\n",
    "    recall_diffs = sum([calc_pfi_metric(rotors_reg_model_name, \n",
    "                                        X_val, \n",
    "                                        y_val, \n",
    "                                        ix1, \n",
    "                                        random.randint(0,87)) - recall_baseline \n",
    "                        for i2 in range(3)])\n",
    "    recall_average_changes[ix1] =  recall_diffs / 3.0\n",
    "    "
   ]
  },
  {
   "cell_type": "code",
   "execution_count": null,
   "id": "7e246280-a794-4f67-a996-f898a83fa4f4",
   "metadata": {},
   "outputs": [],
   "source": [
    "pandas.Series(recall_average_changes).plot.bar(figsize=(16,10))"
   ]
  },
  {
   "cell_type": "markdown",
   "id": "ea23697e-c0b7-45c2-8cba-fb73e38e24ea",
   "metadata": {},
   "source": [
    "## Further reading\n",
    "\n",
    "* [Explainable AI - Towards Data Science](https://towardsdatascience.com/what-is-explainable-ai-xai-afc56938d513)"
   ]
  },
  {
   "cell_type": "markdown",
   "id": "d6f9d47a-68f5-41d4-b779-080a63ede546",
   "metadata": {},
   "source": [
    "### Reference\n",
    "\n",
    "* [Holoviz](https://holoviz.org/) \n",
    "* [ML Flow Models](https://www.mlflow.org/docs/latest/models.html)\n",
    "* [scikit learn model evaluation](https://scikit-learn.org/stable/modules/model_evaluation.html)\n",
    "* [OmniXAI](https://github.com/salesforce/OmniXAI)"
   ]
  }
 ],
 "metadata": {
  "kernelspec": {
   "display_name": "Python 3 (ipykernel)",
   "language": "python",
   "name": "python3"
  },
  "language_info": {
   "codemirror_mode": {
    "name": "ipython",
    "version": 3
   },
   "file_extension": ".py",
   "mimetype": "text/x-python",
   "name": "python",
   "nbconvert_exporter": "python",
   "pygments_lexer": "ipython3",
   "version": "3.8.13"
  }
 },
 "nbformat": 4,
 "nbformat_minor": 5
}
