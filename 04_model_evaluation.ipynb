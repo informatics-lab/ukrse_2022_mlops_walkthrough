{
 "cells": [
  {
   "cell_type": "markdown",
   "id": "79a8d9c7-2a11-42ec-ba7f-0bdc208484d8",
   "metadata": {},
   "source": [
    "# MLOps Walkthrough - Model Evaluation\n",
    "\n",
    "key principles / tasks supported by RSEs\n",
    "* reusable components - making model results available to other researchers\n",
    "* running at scale - serving many results\n",
    "* interactive exploration of results (predictions and XAI)\n",
    "\n"
   ]
  },
  {
   "cell_type": "code",
   "execution_count": null,
   "id": "4a5fc1e3-2937-491a-9c53-230dcfbe753d",
   "metadata": {},
   "outputs": [],
   "source": []
  },
  {
   "cell_type": "markdown",
   "id": "eebf44a4-75a5-40a1-9847-698c9be7dba7",
   "metadata": {},
   "source": [
    "## Example Load in trained model and do inference\n",
    "\n",
    "use mlflow for iinference"
   ]
  },
  {
   "cell_type": "code",
   "execution_count": null,
   "id": "4e691dd7-9422-41b2-935e-dc888e3aff64",
   "metadata": {},
   "outputs": [],
   "source": []
  },
  {
   "cell_type": "code",
   "execution_count": null,
   "id": "135f46c4-e8b2-4d59-b3bb-147e785fb78c",
   "metadata": {},
   "outputs": [],
   "source": []
  },
  {
   "cell_type": "code",
   "execution_count": null,
   "id": "92e35c21-6209-429a-816b-c7c47dc39417",
   "metadata": {},
   "outputs": [],
   "source": []
  },
  {
   "cell_type": "markdown",
   "id": "ab1a922e-1b0f-42a2-af94-098dcca0903b",
   "metadata": {},
   "source": [
    "# Example - calculate feature importance and vosualise results"
   ]
  },
  {
   "cell_type": "code",
   "execution_count": null,
   "id": "de5c9dd6-a158-4b35-94a3-5e18f5a63ff8",
   "metadata": {},
   "outputs": [],
   "source": []
  },
  {
   "cell_type": "code",
   "execution_count": null,
   "id": "b5b457e5-0cb6-4c01-845a-ce5eca505912",
   "metadata": {},
   "outputs": [],
   "source": []
  },
  {
   "cell_type": "markdown",
   "id": "fb49be50-20c5-464d-b205-d056146a54b9",
   "metadata": {},
   "source": [
    "### Example - Running a cluster with ray serve to serve many results"
   ]
  },
  {
   "cell_type": "code",
   "execution_count": null,
   "id": "beefa54f-2c91-478d-a02a-c5edf689ded1",
   "metadata": {},
   "outputs": [],
   "source": []
  },
  {
   "cell_type": "code",
   "execution_count": null,
   "id": "d77655bf-1761-465c-b902-01dc4f3dcaad",
   "metadata": {},
   "outputs": [],
   "source": []
  },
  {
   "cell_type": "code",
   "execution_count": null,
   "id": "5bbc538d-71b2-4667-aedf-d07953855563",
   "metadata": {},
   "outputs": [],
   "source": []
  },
  {
   "cell_type": "markdown",
   "id": "eb70f193-2d08-42b7-be5e-96449d9cb3a6",
   "metadata": {},
   "source": [
    "### Example - create a dashboard with holoviz that gets inference results from a ray serve or mlflow serve?"
   ]
  },
  {
   "cell_type": "code",
   "execution_count": null,
   "id": "d22f8ae8-5400-4a38-be11-09799c368752",
   "metadata": {},
   "outputs": [],
   "source": []
  },
  {
   "cell_type": "code",
   "execution_count": null,
   "id": "887114ac-0fdd-4efa-9a29-12d16db5f34b",
   "metadata": {},
   "outputs": [],
   "source": []
  },
  {
   "cell_type": "code",
   "execution_count": null,
   "id": "594dea56-deb0-4ee4-8932-65b77f62ed89",
   "metadata": {},
   "outputs": [],
   "source": []
  },
  {
   "cell_type": "code",
   "execution_count": null,
   "id": "fc53607f-9c0e-4237-8312-b1290514697c",
   "metadata": {},
   "outputs": [],
   "source": []
  },
  {
   "cell_type": "code",
   "execution_count": null,
   "id": "9298e641-8804-4752-9a87-73d18a8c2007",
   "metadata": {},
   "outputs": [],
   "source": []
  },
  {
   "cell_type": "code",
   "execution_count": null,
   "id": "80d56c43-87cb-4b0d-a640-f534f43b4b01",
   "metadata": {},
   "outputs": [],
   "source": []
  },
  {
   "cell_type": "code",
   "execution_count": null,
   "id": "e16bd4da-d6be-4275-8199-38d17d63127c",
   "metadata": {},
   "outputs": [],
   "source": []
  },
  {
   "cell_type": "code",
   "execution_count": null,
   "id": "cc34a617-cf5c-4623-b750-9e699d79bb06",
   "metadata": {},
   "outputs": [],
   "source": []
  },
  {
   "cell_type": "markdown",
   "id": "d6f9d47a-68f5-41d4-b779-080a63ede546",
   "metadata": {},
   "source": [
    "### Reference\n",
    "\n",
    "* [Holoviz](https://holoviz.org/) \n",
    "* SHAP\n",
    "* "
   ]
  },
  {
   "cell_type": "code",
   "execution_count": null,
   "id": "35f52c6f-28a2-4caf-82c2-53848dbd3a59",
   "metadata": {},
   "outputs": [],
   "source": []
  }
 ],
 "metadata": {
  "kernelspec": {
   "display_name": "Python 3 (ipykernel)",
   "language": "python",
   "name": "python3"
  },
  "language_info": {
   "codemirror_mode": {
    "name": "ipython",
    "version": 3
   },
   "file_extension": ".py",
   "mimetype": "text/x-python",
   "name": "python",
   "nbconvert_exporter": "python",
   "pygments_lexer": "ipython3",
   "version": "3.8.13"
  }
 },
 "nbformat": 4,
 "nbformat_minor": 5
}
