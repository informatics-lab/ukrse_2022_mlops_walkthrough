{
 "cells": [
  {
   "cell_type": "markdown",
   "id": "c1231605-17ec-49e6-8ba5-af51d54a8c15",
   "metadata": {},
   "source": [
    "# MLOps Walkthrough - Model Development\n"
   ]
  },
  {
   "cell_type": "markdown",
   "id": "1198c537-2a51-484a-93cd-e42fc3107adb",
   "metadata": {},
   "source": [
    "## How to train your ~~dragon🐉~~ machine learning model 🤖 (reproducibly, efficiently at scale)"
   ]
  },
  {
   "cell_type": "markdown",
   "id": "4e9cf29b-459d-41f9-a666-12e05ae8f183",
   "metadata": {
    "jp-MarkdownHeadingCollapsed": true,
    "tags": []
   },
   "source": [
    "### Key Principles\n",
    "* reusable components\n",
    "* running at scale\n",
    "* keeping track of experiements for reporoducability\n"
   ]
  },
  {
   "cell_type": "markdown",
   "id": "a9874d17-7d00-44c5-ac13-96ebe1800029",
   "metadata": {},
   "source": [
    "### Key Tasks for RSEs\n",
    "* Setting up infrastrcuture for training models\n",
    "* Facilitating running code on ML targeted platforms e.g. GPU, TPU etc.\n",
    "* Support good practices for ML development e.g. experiment tracking\n",
    "* Applying FAIR principles to all ML assets (data, code, trained models)\n",
    "* applying good code management practices to ML code\n",
    "* setting uop test suites for ML pipelines\n"
   ]
  },
  {
   "cell_type": "markdown",
   "id": "9735e575-ce92-4c38-b6d0-555f270a1c8a",
   "metadata": {},
   "source": [
    "### Key Terms\n",
    "* Experiment tracking\n",
    "* machine learning pipeline\n",
    "* train/test split\n",
    "* training\n",
    "* model architecture\n",
    "* hyper parameters\n",
    "* hyper parameter tuning"
   ]
  },
  {
   "cell_type": "markdown",
   "id": "3986fd2d-bfdb-44c6-a15b-54e7b05c338b",
   "metadata": {},
   "source": [
    "### Key Tools\n",
    "* ML frameworks (scikit-learn, tensorflow, pytorch)\n",
    "* Workflow tools (ray)\n",
    "* Experiment tracking (mlflow)"
   ]
  },
  {
   "cell_type": "markdown",
   "id": "45ec43b8-57c5-46fc-9ab4-d367015734a9",
   "metadata": {},
   "source": [
    "### Running this notebook\n",
    "This notebook should run from a conda environment created with the [requirements_model_development.yml file](requirements_model_development.yml). See the readme file for info on how to set up a conda environment for using this notebook."
   ]
  },
  {
   "cell_type": "markdown",
   "id": "e50973a5-db15-41ec-bf11-0617c35d3008",
   "metadata": {},
   "source": [
    "## Example problem - Predicting wind rotors\n",
    "\n",
    "brief intro - refer to data prep notebook\n",
    "what are we doing in this notebook\n"
   ]
  },
  {
   "cell_type": "code",
   "execution_count": null,
   "id": "29cb7735-86cb-4004-8cb0-bc45d4f1aca2",
   "metadata": {},
   "outputs": [],
   "source": []
  },
  {
   "cell_type": "code",
   "execution_count": 1,
   "id": "95a01caf-2fd1-4509-8ee0-5819b391767a",
   "metadata": {},
   "outputs": [],
   "source": [
    "import warnings\n",
    "warnings.filterwarnings('ignore')"
   ]
  },
  {
   "cell_type": "code",
   "execution_count": 2,
   "id": "f8319b23-ecaf-4acf-9919-9e1b4b745ac4",
   "metadata": {},
   "outputs": [],
   "source": [
    "import pathlib\n",
    "import datetime\n",
    "import os\n",
    "import functools\n",
    "import math"
   ]
  },
  {
   "cell_type": "code",
   "execution_count": 3,
   "id": "fd45036d-70ac-4569-96a0-1772efca8ed2",
   "metadata": {},
   "outputs": [],
   "source": [
    "import matplotlib\n",
    "%matplotlib inline"
   ]
  },
  {
   "cell_type": "code",
   "execution_count": 4,
   "id": "8ccbe28e-3dfd-4092-a138-17fc1696a8b5",
   "metadata": {},
   "outputs": [],
   "source": [
    "import numpy\n",
    "import pandas\n",
    "import dask"
   ]
  },
  {
   "cell_type": "code",
   "execution_count": 5,
   "id": "650cc24c-ded1-40b2-a0cb-7641ea5b4f5f",
   "metadata": {},
   "outputs": [],
   "source": [
    "import sklearn\n",
    "import sklearn.preprocessing\n",
    "import sklearn.model_selection"
   ]
  },
  {
   "cell_type": "code",
   "execution_count": 6,
   "id": "cdbe869b-e80e-407b-b8d4-a06983bbf8cf",
   "metadata": {},
   "outputs": [],
   "source": [
    "import tensorflow\n",
    "\n",
    "import tensorflow.keras\n",
    "import tensorflow.keras.layers\n",
    "import tensorflow.keras.models\n",
    "import tensorflow.keras.optimizers\n",
    "import tensorflow.keras.metrics\n",
    "import tensorflow.keras.layers\n",
    "import tensorflow.keras.constraints"
   ]
  },
  {
   "cell_type": "code",
   "execution_count": 7,
   "id": "b524f2f1-23f9-49c4-8ce1-2efc9c428dde",
   "metadata": {},
   "outputs": [],
   "source": [
    "import tensorboard"
   ]
  },
  {
   "cell_type": "code",
   "execution_count": 8,
   "id": "a3e5f0b6-3366-4fbd-8fda-49eaa08ff142",
   "metadata": {},
   "outputs": [],
   "source": [
    "# Load the TensorBoard notebook extension\n",
    "%load_ext tensorboard"
   ]
  },
  {
   "cell_type": "code",
   "execution_count": 9,
   "id": "d4dc663b-930b-4d87-b499-a5ec9a7abb3d",
   "metadata": {},
   "outputs": [
    {
     "name": "stderr",
     "output_type": "stream",
     "text": [
      "2022/08/17 18:57:31 WARNING mlflow.utils.autologging_utils: You are using an unsupported version of tensorflow. If you encounter errors during autologging, try upgrading / downgrading tensorflow to a supported version, or try upgrading MLflow.\n"
     ]
    }
   ],
   "source": [
    "import mlflow\n",
    "mlflow.tensorflow.autolog()"
   ]
  },
  {
   "cell_type": "code",
   "execution_count": 10,
   "id": "e49eccb8-404f-4f7b-ae35-9eca57818712",
   "metadata": {},
   "outputs": [],
   "source": [
    "import intake"
   ]
  },
  {
   "cell_type": "code",
   "execution_count": 11,
   "id": "a0b63f8f-4259-49ad-8a61-eb141b663dd6",
   "metadata": {},
   "outputs": [],
   "source": [
    "mlflow_dash_port = 5001\n",
    "tensorboard_dash_port = 5002\n",
    "ray_dash_port = 5003"
   ]
  },
  {
   "cell_type": "markdown",
   "id": "ef132d5b-aaac-4336-b1ab-ac8a6108ba95",
   "metadata": {},
   "source": [
    "### Load the data"
   ]
  },
  {
   "cell_type": "code",
   "execution_count": 12,
   "id": "68a680df-9452-4a0f-96a9-64c326ffafdc",
   "metadata": {},
   "outputs": [
    {
     "name": "stdout",
     "output_type": "stream",
     "text": [
      "using default path\n"
     ]
    },
    {
     "data": {
      "text/plain": [
       "PosixPath('/Users/stephen.haddad/data/ukrse2022')"
      ]
     },
     "execution_count": 12,
     "metadata": {},
     "output_type": "execute_result"
    }
   ],
   "source": [
    "try:\n",
    "    rse_root_data_dir = pathlib.Path(os.environ['RSE22_ROOT_DATA_DIR'])\n",
    "    print('reading from environment variable')\n",
    "except KeyError as ke1:\n",
    "    rse_root_data_dir = pathlib.Path(os.environ['HOME'])  / 'data' / 'ukrse2022'\n",
    "    print('using default path')\n",
    "rse_root_data_dir"
   ]
  },
  {
   "cell_type": "code",
   "execution_count": 13,
   "id": "d6f646b1-d07d-42cd-9045-aac9833a7bf7",
   "metadata": {},
   "outputs": [
    {
     "data": {
      "application/yaml": "rotors_catalog:\n  args:\n    path: /Users/stephen.haddad/data/ukrse2022/rotors_catalog.yml\n  description: ''\n  driver: intake.catalog.local.YAMLFileCatalog\n  metadata: {}\n",
      "text/plain": [
       "rotors_catalog:\n",
       "  args:\n",
       "    path: /Users/stephen.haddad/data/ukrse2022/rotors_catalog.yml\n",
       "  description: ''\n",
       "  driver: intake.catalog.local.YAMLFileCatalog\n",
       "  metadata: {}\n"
      ]
     },
     "metadata": {
      "application/json": {
       "root": "rotors_catalog"
      }
     },
     "output_type": "display_data"
    }
   ],
   "source": [
    "rotors_catalog = intake.open_catalog(rse_root_data_dir / 'rotors_catalog.yml')\n",
    "rotors_catalog "
   ]
  },
  {
   "cell_type": "code",
   "execution_count": 14,
   "id": "7fb98706-50ab-4c63-85fe-80571bbe66ba",
   "metadata": {},
   "outputs": [
    {
     "data": {
      "text/plain": [
       "['rotors', 'rotors_preprocessed']"
      ]
     },
     "execution_count": 14,
     "metadata": {},
     "output_type": "execute_result"
    }
   ],
   "source": [
    "list(rotors_catalog)"
   ]
  },
  {
   "cell_type": "markdown",
   "id": "08f4f23f-455e-4638-9fd3-75e83d7c6fab",
   "metadata": {},
   "source": [
    "We see that our catalog contains preprocessed data ready to use in our machine learning development pipeline."
   ]
  },
  {
   "cell_type": "code",
   "execution_count": 15,
   "id": "f23aba47-9061-487a-bc64-1358abc0ee63",
   "metadata": {},
   "outputs": [],
   "source": [
    "rotors_df = rotors_catalog['rotors_preprocessed'].read()"
   ]
  },
  {
   "cell_type": "code",
   "execution_count": 16,
   "id": "4c68273f-ce70-4346-8af0-c119905029ec",
   "metadata": {},
   "outputs": [
    {
     "data": {
      "text/html": [
       "<div>\n",
       "<style scoped>\n",
       "    .dataframe tbody tr th:only-of-type {\n",
       "        vertical-align: middle;\n",
       "    }\n",
       "\n",
       "    .dataframe tbody tr th {\n",
       "        vertical-align: top;\n",
       "    }\n",
       "\n",
       "    .dataframe thead th {\n",
       "        text-align: right;\n",
       "    }\n",
       "</style>\n",
       "<table border=\"1\" class=\"dataframe\">\n",
       "  <thead>\n",
       "    <tr style=\"text-align: right;\">\n",
       "      <th></th>\n",
       "      <th>Unnamed: 0</th>\n",
       "      <th>Unnamed: 0.1</th>\n",
       "      <th>air_temp_obs</th>\n",
       "      <th>dewpoint_obs</th>\n",
       "      <th>wind_direction_obs</th>\n",
       "      <th>wind_speed_obs</th>\n",
       "      <th>wind_gust_obs</th>\n",
       "      <th>air_temp_1</th>\n",
       "      <th>air_temp_2</th>\n",
       "      <th>air_temp_3</th>\n",
       "      <th>...</th>\n",
       "      <th>v_wind_18</th>\n",
       "      <th>u_wind_19</th>\n",
       "      <th>v_wind_19</th>\n",
       "      <th>u_wind_20</th>\n",
       "      <th>v_wind_20</th>\n",
       "      <th>u_wind_21</th>\n",
       "      <th>v_wind_21</th>\n",
       "      <th>u_wind_22</th>\n",
       "      <th>v_wind_22</th>\n",
       "      <th>time</th>\n",
       "    </tr>\n",
       "  </thead>\n",
       "  <tbody>\n",
       "    <tr>\n",
       "      <th>0</th>\n",
       "      <td>1</td>\n",
       "      <td>1</td>\n",
       "      <td>283.9</td>\n",
       "      <td>280.7</td>\n",
       "      <td>110.0</td>\n",
       "      <td>4.1</td>\n",
       "      <td>-9999999.0</td>\n",
       "      <td>284.000</td>\n",
       "      <td>283.625</td>\n",
       "      <td>283.250</td>\n",
       "      <td>...</td>\n",
       "      <td>5.756768</td>\n",
       "      <td>-1.953409</td>\n",
       "      <td>5.673111</td>\n",
       "      <td>-2.674064</td>\n",
       "      <td>5.482644</td>\n",
       "      <td>-3.000000e+00</td>\n",
       "      <td>5.196152</td>\n",
       "      <td>-2.987221</td>\n",
       "      <td>4.971570</td>\n",
       "      <td>2015-01-01 00:00:00</td>\n",
       "    </tr>\n",
       "    <tr>\n",
       "      <th>1</th>\n",
       "      <td>2</td>\n",
       "      <td>2</td>\n",
       "      <td>280.7</td>\n",
       "      <td>279.7</td>\n",
       "      <td>90.0</td>\n",
       "      <td>7.7</td>\n",
       "      <td>-9999999.0</td>\n",
       "      <td>281.500</td>\n",
       "      <td>281.250</td>\n",
       "      <td>280.750</td>\n",
       "      <td>...</td>\n",
       "      <td>6.502872</td>\n",
       "      <td>-1.460878</td>\n",
       "      <td>5.094687</td>\n",
       "      <td>-0.790064</td>\n",
       "      <td>3.716961</td>\n",
       "      <td>-7.837740e-16</td>\n",
       "      <td>3.200000</td>\n",
       "      <td>0.727691</td>\n",
       "      <td>3.423517</td>\n",
       "      <td>2015-01-01 03:00:00</td>\n",
       "    </tr>\n",
       "    <tr>\n",
       "      <th>2</th>\n",
       "      <td>3</td>\n",
       "      <td>3</td>\n",
       "      <td>279.8</td>\n",
       "      <td>278.1</td>\n",
       "      <td>100.0</td>\n",
       "      <td>7.7</td>\n",
       "      <td>-9999999.0</td>\n",
       "      <td>279.875</td>\n",
       "      <td>279.625</td>\n",
       "      <td>279.125</td>\n",
       "      <td>...</td>\n",
       "      <td>5.481273</td>\n",
       "      <td>-1.423505</td>\n",
       "      <td>5.312592</td>\n",
       "      <td>-0.174497</td>\n",
       "      <td>4.996954</td>\n",
       "      <td>7.293223e-01</td>\n",
       "      <td>4.136193</td>\n",
       "      <td>2.462646</td>\n",
       "      <td>3.152043</td>\n",
       "      <td>2015-01-01 06:00:00</td>\n",
       "    </tr>\n",
       "    <tr>\n",
       "      <th>3</th>\n",
       "      <td>4</td>\n",
       "      <td>4</td>\n",
       "      <td>279.9</td>\n",
       "      <td>277.0</td>\n",
       "      <td>120.0</td>\n",
       "      <td>7.2</td>\n",
       "      <td>-9999999.0</td>\n",
       "      <td>279.625</td>\n",
       "      <td>279.250</td>\n",
       "      <td>278.875</td>\n",
       "      <td>...</td>\n",
       "      <td>2.475770</td>\n",
       "      <td>-1.311123</td>\n",
       "      <td>3.245143</td>\n",
       "      <td>-0.407661</td>\n",
       "      <td>3.878635</td>\n",
       "      <td>6.883116e-01</td>\n",
       "      <td>4.345829</td>\n",
       "      <td>1.723190</td>\n",
       "      <td>4.265046</td>\n",
       "      <td>2015-01-01 09:00:00</td>\n",
       "    </tr>\n",
       "    <tr>\n",
       "      <th>4</th>\n",
       "      <td>5</td>\n",
       "      <td>5</td>\n",
       "      <td>279.9</td>\n",
       "      <td>277.4</td>\n",
       "      <td>120.0</td>\n",
       "      <td>8.7</td>\n",
       "      <td>-9999999.0</td>\n",
       "      <td>279.250</td>\n",
       "      <td>278.875</td>\n",
       "      <td>278.375</td>\n",
       "      <td>...</td>\n",
       "      <td>-0.775695</td>\n",
       "      <td>-1.997259</td>\n",
       "      <td>0.104672</td>\n",
       "      <td>-1.928942</td>\n",
       "      <td>1.252670</td>\n",
       "      <td>-1.287595e+00</td>\n",
       "      <td>2.142918</td>\n",
       "      <td>-0.899056</td>\n",
       "      <td>2.225241</td>\n",
       "      <td>2015-01-01 12:00:00</td>\n",
       "    </tr>\n",
       "    <tr>\n",
       "      <th>...</th>\n",
       "      <td>...</td>\n",
       "      <td>...</td>\n",
       "      <td>...</td>\n",
       "      <td>...</td>\n",
       "      <td>...</td>\n",
       "      <td>...</td>\n",
       "      <td>...</td>\n",
       "      <td>...</td>\n",
       "      <td>...</td>\n",
       "      <td>...</td>\n",
       "      <td>...</td>\n",
       "      <td>...</td>\n",
       "      <td>...</td>\n",
       "      <td>...</td>\n",
       "      <td>...</td>\n",
       "      <td>...</td>\n",
       "      <td>...</td>\n",
       "      <td>...</td>\n",
       "      <td>...</td>\n",
       "      <td>...</td>\n",
       "      <td>...</td>\n",
       "    </tr>\n",
       "    <tr>\n",
       "      <th>17481</th>\n",
       "      <td>20101</td>\n",
       "      <td>20101</td>\n",
       "      <td>276.7</td>\n",
       "      <td>275.5</td>\n",
       "      <td>270.0</td>\n",
       "      <td>3.6</td>\n",
       "      <td>-9999999.0</td>\n",
       "      <td>277.875</td>\n",
       "      <td>277.750</td>\n",
       "      <td>277.625</td>\n",
       "      <td>...</td>\n",
       "      <td>-8.555992</td>\n",
       "      <td>-8.047581</td>\n",
       "      <td>-8.629974</td>\n",
       "      <td>-7.479073</td>\n",
       "      <td>-8.603689</td>\n",
       "      <td>-7.111320e+00</td>\n",
       "      <td>-8.781749</td>\n",
       "      <td>-6.538771</td>\n",
       "      <td>-9.338333</td>\n",
       "      <td>2020-12-31 06:00:00</td>\n",
       "    </tr>\n",
       "    <tr>\n",
       "      <th>17482</th>\n",
       "      <td>20102</td>\n",
       "      <td>20102</td>\n",
       "      <td>277.9</td>\n",
       "      <td>276.9</td>\n",
       "      <td>270.0</td>\n",
       "      <td>3.1</td>\n",
       "      <td>-9999999.0</td>\n",
       "      <td>277.875</td>\n",
       "      <td>277.625</td>\n",
       "      <td>277.875</td>\n",
       "      <td>...</td>\n",
       "      <td>-6.956383</td>\n",
       "      <td>-8.273280</td>\n",
       "      <td>-6.942106</td>\n",
       "      <td>-8.886116</td>\n",
       "      <td>-7.456336</td>\n",
       "      <td>-8.995651e+00</td>\n",
       "      <td>-8.388580</td>\n",
       "      <td>-8.029567</td>\n",
       "      <td>-8.917738</td>\n",
       "      <td>2020-12-31 09:00:00</td>\n",
       "    </tr>\n",
       "    <tr>\n",
       "      <th>17483</th>\n",
       "      <td>20103</td>\n",
       "      <td>20103</td>\n",
       "      <td>283.5</td>\n",
       "      <td>277.1</td>\n",
       "      <td>220.0</td>\n",
       "      <td>3.6</td>\n",
       "      <td>-9999999.0</td>\n",
       "      <td>281.125</td>\n",
       "      <td>280.625</td>\n",
       "      <td>280.125</td>\n",
       "      <td>...</td>\n",
       "      <td>-8.332875</td>\n",
       "      <td>-7.326372</td>\n",
       "      <td>-9.377328</td>\n",
       "      <td>-8.397556</td>\n",
       "      <td>-9.660283</td>\n",
       "      <td>-7.962654e+00</td>\n",
       "      <td>-8.843423</td>\n",
       "      <td>-7.495332</td>\n",
       "      <td>-7.495332</td>\n",
       "      <td>2020-12-31 12:00:00</td>\n",
       "    </tr>\n",
       "    <tr>\n",
       "      <th>17484</th>\n",
       "      <td>20104</td>\n",
       "      <td>20104</td>\n",
       "      <td>286.1</td>\n",
       "      <td>276.9</td>\n",
       "      <td>250.0</td>\n",
       "      <td>3.6</td>\n",
       "      <td>-9999999.0</td>\n",
       "      <td>284.625</td>\n",
       "      <td>284.125</td>\n",
       "      <td>283.625</td>\n",
       "      <td>...</td>\n",
       "      <td>-6.646804</td>\n",
       "      <td>-5.294689</td>\n",
       "      <td>-6.776892</td>\n",
       "      <td>-4.398330</td>\n",
       "      <td>-7.038799</td>\n",
       "      <td>-5.356255e+00</td>\n",
       "      <td>-6.855694</td>\n",
       "      <td>-7.265332</td>\n",
       "      <td>-7.016050</td>\n",
       "      <td>2020-12-31 15:00:00</td>\n",
       "    </tr>\n",
       "    <tr>\n",
       "      <th>17485</th>\n",
       "      <td>20105</td>\n",
       "      <td>20105</td>\n",
       "      <td>285.1</td>\n",
       "      <td>279.3</td>\n",
       "      <td>300.0</td>\n",
       "      <td>6.2</td>\n",
       "      <td>-9999999.0</td>\n",
       "      <td>284.250</td>\n",
       "      <td>284.000</td>\n",
       "      <td>283.750</td>\n",
       "      <td>...</td>\n",
       "      <td>-2.514397</td>\n",
       "      <td>-8.921121</td>\n",
       "      <td>-4.945058</td>\n",
       "      <td>-8.704895</td>\n",
       "      <td>-5.871525</td>\n",
       "      <td>-8.274113e+00</td>\n",
       "      <td>-6.464445</td>\n",
       "      <td>-8.264297</td>\n",
       "      <td>-7.706581</td>\n",
       "      <td>2021-01-01 00:00:00</td>\n",
       "    </tr>\n",
       "  </tbody>\n",
       "</table>\n",
       "<p>17486 rows × 141 columns</p>\n",
       "</div>"
      ],
      "text/plain": [
       "       Unnamed: 0  Unnamed: 0.1  air_temp_obs  dewpoint_obs  \\\n",
       "0               1             1         283.9         280.7   \n",
       "1               2             2         280.7         279.7   \n",
       "2               3             3         279.8         278.1   \n",
       "3               4             4         279.9         277.0   \n",
       "4               5             5         279.9         277.4   \n",
       "...           ...           ...           ...           ...   \n",
       "17481       20101         20101         276.7         275.5   \n",
       "17482       20102         20102         277.9         276.9   \n",
       "17483       20103         20103         283.5         277.1   \n",
       "17484       20104         20104         286.1         276.9   \n",
       "17485       20105         20105         285.1         279.3   \n",
       "\n",
       "       wind_direction_obs  wind_speed_obs  wind_gust_obs  air_temp_1  \\\n",
       "0                   110.0             4.1     -9999999.0     284.000   \n",
       "1                    90.0             7.7     -9999999.0     281.500   \n",
       "2                   100.0             7.7     -9999999.0     279.875   \n",
       "3                   120.0             7.2     -9999999.0     279.625   \n",
       "4                   120.0             8.7     -9999999.0     279.250   \n",
       "...                   ...             ...            ...         ...   \n",
       "17481               270.0             3.6     -9999999.0     277.875   \n",
       "17482               270.0             3.1     -9999999.0     277.875   \n",
       "17483               220.0             3.6     -9999999.0     281.125   \n",
       "17484               250.0             3.6     -9999999.0     284.625   \n",
       "17485               300.0             6.2     -9999999.0     284.250   \n",
       "\n",
       "       air_temp_2  air_temp_3  ...  v_wind_18  u_wind_19  v_wind_19  \\\n",
       "0         283.625     283.250  ...   5.756768  -1.953409   5.673111   \n",
       "1         281.250     280.750  ...   6.502872  -1.460878   5.094687   \n",
       "2         279.625     279.125  ...   5.481273  -1.423505   5.312592   \n",
       "3         279.250     278.875  ...   2.475770  -1.311123   3.245143   \n",
       "4         278.875     278.375  ...  -0.775695  -1.997259   0.104672   \n",
       "...           ...         ...  ...        ...        ...        ...   \n",
       "17481     277.750     277.625  ...  -8.555992  -8.047581  -8.629974   \n",
       "17482     277.625     277.875  ...  -6.956383  -8.273280  -6.942106   \n",
       "17483     280.625     280.125  ...  -8.332875  -7.326372  -9.377328   \n",
       "17484     284.125     283.625  ...  -6.646804  -5.294689  -6.776892   \n",
       "17485     284.000     283.750  ...  -2.514397  -8.921121  -4.945058   \n",
       "\n",
       "       u_wind_20  v_wind_20     u_wind_21  v_wind_21  u_wind_22  v_wind_22  \\\n",
       "0      -2.674064   5.482644 -3.000000e+00   5.196152  -2.987221   4.971570   \n",
       "1      -0.790064   3.716961 -7.837740e-16   3.200000   0.727691   3.423517   \n",
       "2      -0.174497   4.996954  7.293223e-01   4.136193   2.462646   3.152043   \n",
       "3      -0.407661   3.878635  6.883116e-01   4.345829   1.723190   4.265046   \n",
       "4      -1.928942   1.252670 -1.287595e+00   2.142918  -0.899056   2.225241   \n",
       "...          ...        ...           ...        ...        ...        ...   \n",
       "17481  -7.479073  -8.603689 -7.111320e+00  -8.781749  -6.538771  -9.338333   \n",
       "17482  -8.886116  -7.456336 -8.995651e+00  -8.388580  -8.029567  -8.917738   \n",
       "17483  -8.397556  -9.660283 -7.962654e+00  -8.843423  -7.495332  -7.495332   \n",
       "17484  -4.398330  -7.038799 -5.356255e+00  -6.855694  -7.265332  -7.016050   \n",
       "17485  -8.704895  -5.871525 -8.274113e+00  -6.464445  -8.264297  -7.706581   \n",
       "\n",
       "                      time  \n",
       "0      2015-01-01 00:00:00  \n",
       "1      2015-01-01 03:00:00  \n",
       "2      2015-01-01 06:00:00  \n",
       "3      2015-01-01 09:00:00  \n",
       "4      2015-01-01 12:00:00  \n",
       "...                    ...  \n",
       "17481  2020-12-31 06:00:00  \n",
       "17482  2020-12-31 09:00:00  \n",
       "17483  2020-12-31 12:00:00  \n",
       "17484  2020-12-31 15:00:00  \n",
       "17485  2021-01-01 00:00:00  \n",
       "\n",
       "[17486 rows x 141 columns]"
      ]
     },
     "execution_count": 16,
     "metadata": {},
     "output_type": "execute_result"
    }
   ],
   "source": [
    "rotors_df"
   ]
  },
  {
   "cell_type": "code",
   "execution_count": 17,
   "id": "40da202c-518e-49eb-ab2e-7b0066dfa43c",
   "metadata": {},
   "outputs": [
    {
     "data": {
      "text/plain": [
       "['Unnamed: 0',\n",
       " 'Unnamed: 0.1',\n",
       " 'air_temp_obs',\n",
       " 'dewpoint_obs',\n",
       " 'wind_direction_obs',\n",
       " 'wind_speed_obs',\n",
       " 'wind_gust_obs',\n",
       " 'air_temp_1',\n",
       " 'air_temp_2',\n",
       " 'air_temp_3',\n",
       " 'air_temp_4',\n",
       " 'air_temp_5',\n",
       " 'air_temp_6',\n",
       " 'air_temp_7',\n",
       " 'air_temp_8',\n",
       " 'air_temp_9',\n",
       " 'air_temp_10',\n",
       " 'air_temp_11',\n",
       " 'air_temp_12',\n",
       " 'air_temp_13',\n",
       " 'air_temp_14',\n",
       " 'air_temp_15',\n",
       " 'air_temp_16',\n",
       " 'air_temp_17',\n",
       " 'air_temp_18',\n",
       " 'air_temp_19',\n",
       " 'air_temp_20',\n",
       " 'air_temp_21',\n",
       " 'air_temp_22',\n",
       " 'sh_1',\n",
       " 'sh_2',\n",
       " 'sh_3',\n",
       " 'sh_4',\n",
       " 'sh_5',\n",
       " 'sh_6',\n",
       " 'sh_7',\n",
       " 'sh_8',\n",
       " 'sh_9',\n",
       " 'sh_10',\n",
       " 'sh_11',\n",
       " 'sh_12',\n",
       " 'sh_13',\n",
       " 'sh_14',\n",
       " 'sh_15',\n",
       " 'sh_16',\n",
       " 'sh_17',\n",
       " 'sh_18',\n",
       " 'sh_19',\n",
       " 'sh_20',\n",
       " 'sh_21',\n",
       " 'sh_22',\n",
       " 'winddir_1',\n",
       " 'windspd_1',\n",
       " 'winddir_2',\n",
       " 'windspd_2',\n",
       " 'winddir_3',\n",
       " 'windspd_3',\n",
       " 'winddir_4',\n",
       " 'windspd_4',\n",
       " 'winddir_5',\n",
       " 'windspd_5',\n",
       " 'winddir_6',\n",
       " 'windspd_6',\n",
       " 'winddir_7',\n",
       " 'windspd_7',\n",
       " 'winddir_8',\n",
       " 'windspd_8',\n",
       " 'winddir_9',\n",
       " 'windspd_9',\n",
       " 'winddir_10',\n",
       " 'windspd_10',\n",
       " 'winddir_11',\n",
       " 'windspd_11',\n",
       " 'winddir_12',\n",
       " 'windspd_12',\n",
       " 'winddir_13',\n",
       " 'windspd_13',\n",
       " 'winddir_14',\n",
       " 'windspd_14',\n",
       " 'winddir_15',\n",
       " 'windspd_15',\n",
       " 'winddir_16',\n",
       " 'windspd_16',\n",
       " 'winddir_17',\n",
       " 'windspd_17',\n",
       " 'winddir_18',\n",
       " 'windspd_18',\n",
       " 'winddir_19',\n",
       " 'windspd_19',\n",
       " 'winddir_20',\n",
       " 'windspd_20',\n",
       " 'winddir_21',\n",
       " 'windspd_21',\n",
       " 'winddir_22',\n",
       " 'windspd_22',\n",
       " 'rotors_present',\n",
       " 'u_wind_1',\n",
       " 'v_wind_1',\n",
       " 'u_wind_2',\n",
       " 'v_wind_2',\n",
       " 'u_wind_3',\n",
       " 'v_wind_3',\n",
       " 'u_wind_4',\n",
       " 'v_wind_4',\n",
       " 'u_wind_5',\n",
       " 'v_wind_5',\n",
       " 'u_wind_6',\n",
       " 'v_wind_6',\n",
       " 'u_wind_7',\n",
       " 'v_wind_7',\n",
       " 'u_wind_8',\n",
       " 'v_wind_8',\n",
       " 'u_wind_9',\n",
       " 'v_wind_9',\n",
       " 'u_wind_10',\n",
       " 'v_wind_10',\n",
       " 'u_wind_11',\n",
       " 'v_wind_11',\n",
       " 'u_wind_12',\n",
       " 'v_wind_12',\n",
       " 'u_wind_13',\n",
       " 'v_wind_13',\n",
       " 'u_wind_14',\n",
       " 'v_wind_14',\n",
       " 'u_wind_15',\n",
       " 'v_wind_15',\n",
       " 'u_wind_16',\n",
       " 'v_wind_16',\n",
       " 'u_wind_17',\n",
       " 'v_wind_17',\n",
       " 'u_wind_18',\n",
       " 'v_wind_18',\n",
       " 'u_wind_19',\n",
       " 'v_wind_19',\n",
       " 'u_wind_20',\n",
       " 'v_wind_20',\n",
       " 'u_wind_21',\n",
       " 'v_wind_21',\n",
       " 'u_wind_22',\n",
       " 'v_wind_22',\n",
       " 'time']"
      ]
     },
     "execution_count": 17,
     "metadata": {},
     "output_type": "execute_result"
    }
   ],
   "source": [
    "list(rotors_df.columns)"
   ]
  },
  {
   "cell_type": "code",
   "execution_count": 18,
   "id": "e164a8b4-fb1c-4c08-b3bd-919e0f545228",
   "metadata": {},
   "outputs": [],
   "source": [
    "# one small bit of cleaning: ensuring the correct datetime type for our time feature\n",
    "rotors_df['time'] = pandas.to_datetime(rotors_df['time'])"
   ]
  },
  {
   "cell_type": "code",
   "execution_count": 19,
   "id": "cb6cd664-d0c1-4e22-9e09-2808ebeddead",
   "metadata": {},
   "outputs": [],
   "source": [
    "\n",
    "temp_feature_names = [f'air_temp_{i1}' for i1 in range(1,23)]\n",
    "humidity_feature_names = [f'sh_{i1}' for i1 in range(1,23)]\n",
    "wind_direction_feature_names = [f'winddir_{i1}' for i1 in range(1,23)]\n",
    "wind_speed_feature_names = [f'windspd_{i1}' for i1 in range(1,23)]\n",
    "u_wind_feature_names = [f'u_wind_{i1}' for i1 in range(1,23)]\n",
    "v_wind_feature_names = [f'v_wind_{i1}' for i1 in range(1,23)]\n",
    "target_feature_name = 'rotors_present'"
   ]
  },
  {
   "cell_type": "markdown",
   "id": "b7de9bdc-8f6b-4264-923d-bfbe645503b5",
   "metadata": {},
   "source": [
    "### Train/test split\n",
    "\n",
    "Split based on year to avoid correlations between train and test sets."
   ]
  },
  {
   "cell_type": "code",
   "execution_count": 20,
   "id": "ea031e48-ad63-49bd-ae5e-247f2faa0d1f",
   "metadata": {},
   "outputs": [],
   "source": [
    "train_df = rotors_df[rotors_df['time'] < datetime.datetime(2020,1,1,0,0)]\n",
    "val_df = rotors_df[rotors_df['time'] > datetime.datetime(2020,1,1,0,0)]"
   ]
  },
  {
   "cell_type": "code",
   "execution_count": 21,
   "id": "80a795db-7530-4172-90eb-40f752d97b48",
   "metadata": {},
   "outputs": [],
   "source": [
    "input_feature_names = temp_feature_names + humidity_feature_names + u_wind_feature_names + v_wind_feature_names"
   ]
  },
  {
   "cell_type": "code",
   "execution_count": 22,
   "id": "86f5daf4-bacf-4485-aa1a-0269414e20e3",
   "metadata": {},
   "outputs": [],
   "source": [
    "preproc_dict = {}\n",
    "for if1 in input_feature_names:\n",
    "    scaler1 = sklearn.preprocessing.StandardScaler()\n",
    "    scaler1.fit(train_df[[if1]])\n",
    "    preproc_dict[if1] = scaler1"
   ]
  },
  {
   "cell_type": "code",
   "execution_count": 23,
   "id": "0493be9a-8cba-45de-a292-19ca89c9642b",
   "metadata": {},
   "outputs": [
    {
     "data": {
      "text/plain": [
       "LabelEncoder()"
      ]
     },
     "execution_count": 23,
     "metadata": {},
     "output_type": "execute_result"
    }
   ],
   "source": [
    "target_encoder = sklearn.preprocessing.LabelEncoder()\n",
    "target_encoder.fit(train_df[[target_feature_name]])"
   ]
  },
  {
   "cell_type": "code",
   "execution_count": 24,
   "id": "76262906-8df9-426c-98aa-2838eaa4aac9",
   "metadata": {},
   "outputs": [],
   "source": [
    "def preproc_input(data_subset, pp_dict):\n",
    "    return numpy.concatenate([scaler1.transform(data_subset[[if1]]) for if1,scaler1 in pp_dict.items()],axis=1)\n",
    "\n",
    "def preproc_target(data_subset, enc1):\n",
    "     return enc1.transform(data_subset[[target_feature_name]])"
   ]
  },
  {
   "cell_type": "code",
   "execution_count": 25,
   "id": "b30332d1-3955-49d6-94a2-82af6642ec75",
   "metadata": {},
   "outputs": [],
   "source": [
    "X_train = preproc_input(train_df, preproc_dict)\n",
    "y_train = numpy.concatenate(\n",
    "    [preproc_target(train_df, target_encoder).reshape((-1,1)),\n",
    "    1.0 - (preproc_target(train_df, target_encoder).reshape((-1,1))),],\n",
    "    axis=1\n",
    ")"
   ]
  },
  {
   "cell_type": "code",
   "execution_count": 26,
   "id": "a2064537-abc2-4d19-b2a1-dc0516fbc6c1",
   "metadata": {},
   "outputs": [],
   "source": [
    "X_val = preproc_input(val_df, preproc_dict)\n",
    "y_val = numpy.concatenate(\n",
    "    [preproc_target(val_df, target_encoder).reshape((-1,1)),\n",
    "    1.0 - (preproc_target(val_df, target_encoder).reshape((-1,1))),],\n",
    "    axis=1\n",
    ")"
   ]
  },
  {
   "cell_type": "markdown",
   "id": "5a262a54-9489-480e-947f-544627129cbb",
   "metadata": {},
   "source": [
    "### Set up experiment tracking - ML Flow"
   ]
  },
  {
   "cell_type": "code",
   "execution_count": 27,
   "id": "5b3ea948-abfb-4954-8d39-dc24c818ecc3",
   "metadata": {},
   "outputs": [],
   "source": [
    "rse_rotors_experiment_name = 'rse_mlops_demo_rotors'"
   ]
  },
  {
   "cell_type": "code",
   "execution_count": 28,
   "id": "973d8e79-f46a-4008-a3a1-97589a93524b",
   "metadata": {},
   "outputs": [],
   "source": [
    "timestamp_template = '{dt.year:04d}{dt.month:02d}{dt.day:02d}T{dt.hour:02d}{dt.minute:02d}{dt.second:02d}'"
   ]
  },
  {
   "cell_type": "code",
   "execution_count": 29,
   "id": "054dfce5-65ea-41f2-9772-eab4dcda050c",
   "metadata": {},
   "outputs": [],
   "source": [
    "rse_run_name_template = 'rse_rotors_{network_name}_' + timestamp_template"
   ]
  },
  {
   "cell_type": "code",
   "execution_count": 30,
   "id": "93d5e3f4-f6c6-4d9b-b7b8-dccfb861ed04",
   "metadata": {},
   "outputs": [
    {
     "data": {
      "text/plain": [
       "'http://127.0.0.1:5001'"
      ]
     },
     "execution_count": 30,
     "metadata": {},
     "output_type": "execute_result"
    }
   ],
   "source": [
    "mlflow_server_address = '127.0.0.1'\n",
    "mlflow_server_port = mlflow_dash_port\n",
    "mlflow_server_uri = f'http://{mlflow_server_address}:{mlflow_server_port:d}'\n",
    "mlflow_server_uri"
   ]
  },
  {
   "cell_type": "code",
   "execution_count": 31,
   "id": "bb06a066-4875-42b6-9efa-9f7d6e32336c",
   "metadata": {},
   "outputs": [],
   "source": [
    "mlflow.set_tracking_uri(mlflow_server_uri)"
   ]
  },
  {
   "cell_type": "code",
   "execution_count": 32,
   "id": "449510d2-c0b6-413d-83a3-4c0aa8faccd8",
   "metadata": {},
   "outputs": [
    {
     "name": "stdout",
     "output_type": "stream",
     "text": [
      "creating experiment\n"
     ]
    },
    {
     "data": {
      "text/plain": [
       "<Experiment: artifact_location='/Users/stephen.haddad/data/ukrse2022/artifacts/1', experiment_id='1', lifecycle_stage='active', name='rse_mlops_demo_rotors', tags={}>"
      ]
     },
     "execution_count": 32,
     "metadata": {},
     "output_type": "execute_result"
    }
   ],
   "source": [
    "try: \n",
    "    print('creating experiment')\n",
    "    rse_rotors_exp_id = mlflow.create_experiment(rse_rotors_experiment_name)\n",
    "    rse_rotors_exp = mlflow.get_experiment(rse_rotors_exp_id)\n",
    "except mlflow.exceptions.RestException:\n",
    "    rse_rotors_exp = mlflow.get_experiment_by_name(rse_rotors_experiment_name)\n",
    "rse_rotors_exp\n",
    "\n"
   ]
  },
  {
   "cell_type": "markdown",
   "id": "60e3a9f7-bd95-4d69-b380-a2c4122c2f97",
   "metadata": {},
   "source": [
    "### Set up model architecture hyperparameters"
   ]
  },
  {
   "cell_type": "code",
   "execution_count": 33,
   "id": "1e8169a5-f82b-48ab-9011-8e8a535f3248",
   "metadata": {},
   "outputs": [],
   "source": [
    "def build_ffnn_model(hyperparameters, input_shape):\n",
    "    \"\"\"\n",
    "    Build a feed forward neural network model in tensorflow for predicting the occurence of turbulent orographically driven wind gusts called Rotors.\n",
    "    \"\"\"\n",
    "    model = tensorflow.keras.models.Sequential()\n",
    "    model.add(tensorflow.keras.layers.Dropout(hyperparameters['drop_out_rate'], \n",
    "                                              input_shape=input_shape))\n",
    "    for i in numpy.arange(0,hyperparameters['n_layers']):\n",
    "        model.add(tensorflow.keras.layers.Dense(hyperparameters['n_nodes'], \n",
    "                                                activation=hyperparameters['activation'], \n",
    "                                                kernel_constraint=tensorflow.keras.constraints.max_norm(3)))\n",
    "        model.add(tensorflow.keras.layers.Dropout(hyperparameters['drop_out_rate']))\n",
    "    model.add(tensorflow.keras.layers.Dense(2, activation='softmax'))             # This is the output layer\n",
    "    return model\n"
   ]
  },
  {
   "cell_type": "code",
   "execution_count": 34,
   "id": "9a40187a-e968-4b01-bd16-5a387d58a318",
   "metadata": {},
   "outputs": [],
   "source": [
    "nx = X_train.shape[1]\n",
    "input_shape = (nx,)"
   ]
  },
  {
   "cell_type": "code",
   "execution_count": 35,
   "id": "a448fc6d-7605-426f-8750-2ada22900ea9",
   "metadata": {},
   "outputs": [],
   "source": [
    "hyperparameters_dict = {\n",
    "    'initial_learning_rate': 1.0e-4,\n",
    "    'drop_out_rate': 0.2,\n",
    "    'n_epochs': 100,\n",
    "    'batch_size': 1000,\n",
    "    'n_nodes': 1000,\n",
    "    'n_layers': 4,\n",
    "    'activation': 'relu',\n",
    "    'loss': 'mse'\n",
    "}"
   ]
  },
  {
   "cell_type": "markdown",
   "id": "a7b8ad01-ed3a-45d0-a29a-582582a32f11",
   "metadata": {},
   "source": [
    "### Train model and setup monitoring\n",
    "\n",
    "Tools:\n",
    "* tensorboard\n",
    "* tensorflow\n",
    "* mlflow\n"
   ]
  },
  {
   "cell_type": "code",
   "execution_count": 36,
   "id": "07a74806-91be-4d71-97b9-42684f279fb4",
   "metadata": {},
   "outputs": [
    {
     "data": {
      "text/plain": [
       "PosixPath('/Users/stephen.haddad/data/ukrse2022/log_tensorboard')"
      ]
     },
     "execution_count": 36,
     "metadata": {},
     "output_type": "execute_result"
    }
   ],
   "source": [
    "log_dir_tensorboard = rse_root_data_dir / 'log_tensorboard' \n",
    "if not log_dir_tensorboard.is_dir():\n",
    "    log_dir_tensorboard.mkdir()\n",
    "    print(f'created tensorboard log directory {log_dir_tensorboard}')    \n",
    "log_dir_tensorboard"
   ]
  },
  {
   "cell_type": "code",
   "execution_count": 37,
   "id": "61371d9c-1e0e-4f69-8ccc-ab164edb5620",
   "metadata": {},
   "outputs": [],
   "source": [
    "tensorboard_callback = tensorflow.keras.callbacks.TensorBoard(log_dir=log_dir_tensorboard, \n",
    "                                                              histogram_freq=1)"
   ]
  },
  {
   "cell_type": "code",
   "execution_count": 38,
   "id": "250970b6-eb9c-4153-a55d-0e43162465b7",
   "metadata": {},
   "outputs": [
    {
     "data": {
      "text/plain": [
       "PosixPath('/Users/stephen.haddad/data/ukrse2022/log_tensorboard')"
      ]
     },
     "execution_count": 38,
     "metadata": {},
     "output_type": "execute_result"
    }
   ],
   "source": [
    "log_dir_tensorboard"
   ]
  },
  {
   "cell_type": "code",
   "execution_count": 39,
   "id": "bba04066-0ee9-41c2-a959-0371ca99267e",
   "metadata": {},
   "outputs": [
    {
     "data": {
      "text/html": [
       "\n",
       "      <iframe id=\"tensorboard-frame-1f072d0d25a1fd99\" width=\"100%\" height=\"800\" frameborder=\"0\">\n",
       "      </iframe>\n",
       "      <script>\n",
       "        (function() {\n",
       "          const frame = document.getElementById(\"tensorboard-frame-1f072d0d25a1fd99\");\n",
       "          const url = new URL(\"/\", window.location);\n",
       "          const port = 6006;\n",
       "          if (port) {\n",
       "            url.port = port;\n",
       "          }\n",
       "          frame.src = url;\n",
       "        })();\n",
       "      </script>\n",
       "    "
      ],
      "text/plain": [
       "<IPython.core.display.HTML object>"
      ]
     },
     "metadata": {},
     "output_type": "display_data"
    }
   ],
   "source": [
    "%tensorboard --logdir /Users/stephen.haddad/data/ukrse2022/log_tensorboard"
   ]
  },
  {
   "cell_type": "code",
   "execution_count": 40,
   "id": "446885b6-ced8-4d6b-98c5-b92f43d417f2",
   "metadata": {
    "tags": []
   },
   "outputs": [
    {
     "name": "stdout",
     "output_type": "stream",
     "text": [
      "CPU times: user 3 µs, sys: 1 µs, total: 4 µs\n",
      "Wall time: 7.87 µs\n"
     ]
    },
    {
     "name": "stderr",
     "output_type": "stream",
     "text": [
      "2022-08-17 19:08:52.222486: I tensorflow/core/platform/cpu_feature_guard.cc:151] This TensorFlow binary is optimized with oneAPI Deep Neural Network Library (oneDNN) to use the following CPU instructions in performance-critical operations:  SSE4.1 SSE4.2 AVX AVX2 AVX512F FMA\n",
      "To enable them in other operations, rebuild TensorFlow with the appropriate compiler flags.\n",
      "2022-08-17 19:12:25.175249: W tensorflow/python/util/util.cc:368] Sets are not currently considered sequences, but this may change in the future, so consider avoiding using them.\n"
     ]
    },
    {
     "name": "stdout",
     "output_type": "stream",
     "text": [
      "INFO:tensorflow:Assets written to: /var/folders/w0/2x361bn95wj7lfgl33vksx1w0000gn/T/tmpl9fy9nkn/model/data/model/assets\n"
     ]
    }
   ],
   "source": [
    "%time \n",
    "current_run_name = rse_run_name_template.format(network_name='ffnn',\n",
    "                                                dt=datetime.datetime.now()\n",
    "                                               )\n",
    "with mlflow.start_run(experiment_id=rse_rotors_exp.experiment_id, run_name=current_run_name) as current_run:\n",
    "    rotors_ffnn_model = build_ffnn_model(hyperparameters=hyperparameters_dict,\n",
    "                                     input_shape=input_shape,\n",
    "                                    )\n",
    "    rotors_ffnn_optimizer = tensorflow.optimizers.Adam(\n",
    "        learning_rate=hyperparameters_dict['initial_learning_rate'])  \n",
    "    \n",
    "    rotors_ffnn_model.compile(optimizer=rotors_ffnn_optimizer, \n",
    "                          loss=hyperparameters_dict['loss'], \n",
    "                          metrics=[tensorflow.keras.metrics.RootMeanSquaredError()])\n",
    "    \n",
    "    history=rotors_ffnn_model.fit(\n",
    "        X_train, \n",
    "        y_train, \n",
    "        validation_data=(X_val, \n",
    "                          y_val), \n",
    "        epochs=hyperparameters_dict['n_epochs'], \n",
    "        batch_size=hyperparameters_dict['batch_size'], \n",
    "        shuffle=True,\n",
    "        verbose=0,\n",
    "        callbacks=[tensorboard_callback],\n",
    "    )    \n",
    "    "
   ]
  },
  {
   "cell_type": "code",
   "execution_count": 44,
   "id": "13ecc5e3-253f-4649-9a05-83edcdf81c01",
   "metadata": {},
   "outputs": [
    {
     "data": {
      "text/plain": [
       "<Experiment: artifact_location='/Users/stephen.haddad/data/ukrse2022/artifacts/1', experiment_id='1', lifecycle_stage='active', name='rse_mlops_demo_rotors', tags={}>"
      ]
     },
     "execution_count": 44,
     "metadata": {},
     "output_type": "execute_result"
    }
   ],
   "source": [
    "rse_rotors_exp"
   ]
  },
  {
   "cell_type": "markdown",
   "id": "7ed7bb2b-94f6-4058-8094-052734c8f96f",
   "metadata": {},
   "source": [
    "#  Example do hyperparameteer tuning in ray\n",
    "\n",
    "https://docs.ray.io/en/latest/tune/examples/tune_mnist_keras.html#tune-mnist-keras\n"
   ]
  },
  {
   "cell_type": "code",
   "execution_count": null,
   "id": "417f07c8-1659-4829-8fd9-b14d0f911c8a",
   "metadata": {},
   "outputs": [],
   "source": [
    "import ray\n",
    "import ray.tune\n",
    "import ray.tune.schedulers \n",
    "import ray.tune.integration.keras"
   ]
  },
  {
   "cell_type": "code",
   "execution_count": null,
   "id": "9bc1a204-96ba-4ab7-8c22-555e14308dc3",
   "metadata": {},
   "outputs": [],
   "source": [
    "import rotors_hpt"
   ]
  },
  {
   "cell_type": "code",
   "execution_count": null,
   "id": "a10a0ea7-2795-4377-a343-b17e434f4c15",
   "metadata": {},
   "outputs": [],
   "source": [
    "import importlib"
   ]
  },
  {
   "cell_type": "code",
   "execution_count": null,
   "id": "d100560d-da11-4cf5-8921-9a28258dd0aa",
   "metadata": {},
   "outputs": [],
   "source": [
    "importlib.reload(rotors_hpt)"
   ]
  },
  {
   "cell_type": "code",
   "execution_count": null,
   "id": "59deddd6-9c2f-4a84-9c5c-6e9fe1b9938c",
   "metadata": {},
   "outputs": [],
   "source": [
    "num_training_terations=20"
   ]
  },
  {
   "cell_type": "code",
   "execution_count": null,
   "id": "b8a404e5-1ffc-4618-a4ec-6e97f528aaa2",
   "metadata": {},
   "outputs": [],
   "source": [
    "ray.init(num_cpus=4, dashboard_port=ray_dash_port, dashboard_host='127.0.0.1')\n"
   ]
  },
  {
   "cell_type": "code",
   "execution_count": null,
   "id": "5b084af9-de34-4012-b87b-0e2d5865fc8d",
   "metadata": {},
   "outputs": [],
   "source": [
    "# rse_rotors_sched = \n",
    "# set up local ray cluster"
   ]
  },
  {
   "cell_type": "code",
   "execution_count": null,
   "id": "c1288fd5-6825-49e2-937d-f3804f7c702f",
   "metadata": {},
   "outputs": [],
   "source": [
    "rotors_hpt_config = {\n",
    "    'initial_learning_rate': ray.tune.uniform(1e-5,1e-3),\n",
    "    'n_nodes': ray.tune.randint(100,500),\n",
    "    'n_layers': ray.tune.randint(2,6)\n",
    "}"
   ]
  },
  {
   "cell_type": "code",
   "execution_count": null,
   "id": "0161cc4d-91ba-4c6f-9c19-32480010a80e",
   "metadata": {},
   "outputs": [],
   "source": [
    "rotors_hpt_analysis = ray.tune.run(\n",
    "    rotors_hpt.run_ml_pipeline,\n",
    "    name=\"rse_rotors_hpt\",\n",
    "    scheduler=ray.tune.schedulers.AsyncHyperBandScheduler(\n",
    "        time_attr=\"training_iteration\", \n",
    "        max_t=400, \n",
    "        grace_period=20,\n",
    "    ),\n",
    "    metric=\"root_mean_squared_error\",\n",
    "    mode=\"max\",\n",
    "    stop={\"root_mean_squared_error\": 0.99, \n",
    "          \"training_iteration\": num_training_terations},\n",
    "    num_samples=10,\n",
    "    resources_per_trial={\"cpu\": 2,\n",
    "                         \"gpu\": 0},\n",
    "    config=rotors_hpt_config,\n",
    "    progress_reporter=ray.tune.JupyterNotebookReporter(overwrite=True),\n",
    "    )"
   ]
  },
  {
   "cell_type": "code",
   "execution_count": null,
   "id": "74da2f2d-7a82-49c3-8a7e-f1fb97ed9d2e",
   "metadata": {},
   "outputs": [],
   "source": [
    "rotors_hpt_analysis."
   ]
  },
  {
   "cell_type": "markdown",
   "id": "424b6755-5eef-473d-85f7-8f39bcc0fda6",
   "metadata": {},
   "source": [
    "# Example save the model \n",
    "\n",
    "* use ONNX\n",
    "* Use MLFlow\n"
   ]
  },
  {
   "cell_type": "code",
   "execution_count": null,
   "id": "035fc5a7-b491-4bae-8ac8-c6b1b0ea9ee6",
   "metadata": {},
   "outputs": [],
   "source": [
    "# save model in ml flow"
   ]
  },
  {
   "cell_type": "code",
   "execution_count": null,
   "id": "74bb4e40-1469-47ba-b639-1f901261e116",
   "metadata": {},
   "outputs": [],
   "source": [
    "# stretch goal - save model in ONNX?"
   ]
  },
  {
   "cell_type": "code",
   "execution_count": null,
   "id": "99a886b1-801b-42ca-b7be-1ec7ee0b1ba7",
   "metadata": {},
   "outputs": [],
   "source": []
  },
  {
   "cell_type": "code",
   "execution_count": null,
   "id": "523c4214-0408-4821-a77d-84c51a0c0f41",
   "metadata": {},
   "outputs": [],
   "source": []
  },
  {
   "cell_type": "code",
   "execution_count": null,
   "id": "b9a340d0-6c4d-46a5-8b34-ce8f009d2317",
   "metadata": {},
   "outputs": [],
   "source": []
  },
  {
   "cell_type": "code",
   "execution_count": null,
   "id": "cded42eb-b072-4af3-8712-3ed478cbd1ab",
   "metadata": {},
   "outputs": [],
   "source": []
  },
  {
   "cell_type": "code",
   "execution_count": null,
   "id": "639735d0-58fc-4c2a-968d-e48005a101a8",
   "metadata": {},
   "outputs": [],
   "source": []
  },
  {
   "cell_type": "code",
   "execution_count": null,
   "id": "ea6830c5-eeae-400c-bde8-50e78066d2f0",
   "metadata": {},
   "outputs": [],
   "source": []
  },
  {
   "cell_type": "code",
   "execution_count": null,
   "id": "5d0fb9f1-71b9-4acd-8f7b-c6b1bb78d26f",
   "metadata": {},
   "outputs": [],
   "source": []
  },
  {
   "cell_type": "code",
   "execution_count": null,
   "id": "4452ec06-e014-454f-9115-0258b27209e1",
   "metadata": {},
   "outputs": [],
   "source": []
  },
  {
   "cell_type": "code",
   "execution_count": null,
   "id": "7aa84480-9b92-4a78-adf6-91fd0db7b438",
   "metadata": {},
   "outputs": [],
   "source": []
  },
  {
   "cell_type": "code",
   "execution_count": null,
   "id": "cd4552ee-a03a-4ee9-8e9c-6fe103e9fb9d",
   "metadata": {},
   "outputs": [],
   "source": []
  },
  {
   "cell_type": "code",
   "execution_count": null,
   "id": "f7dbc5fd-4974-4dc5-91ff-88d3023f3304",
   "metadata": {},
   "outputs": [],
   "source": []
  },
  {
   "cell_type": "code",
   "execution_count": null,
   "id": "e3f8838f-74c5-4c96-9132-dcd3dd66c99c",
   "metadata": {},
   "outputs": [],
   "source": []
  },
  {
   "cell_type": "code",
   "execution_count": null,
   "id": "9e2ec9e8-584a-45e5-a85b-42400512161f",
   "metadata": {},
   "outputs": [],
   "source": []
  },
  {
   "cell_type": "code",
   "execution_count": null,
   "id": "57cdd72d-1ac6-4b6e-88a0-d670a185b373",
   "metadata": {},
   "outputs": [],
   "source": []
  },
  {
   "cell_type": "code",
   "execution_count": null,
   "id": "e92a5183-52ff-44b5-80a1-96f9db88e4f2",
   "metadata": {},
   "outputs": [],
   "source": []
  },
  {
   "cell_type": "markdown",
   "id": "8e276609-6641-4d20-a5c8-3be339f6a26a",
   "metadata": {},
   "source": [
    "### Next Steps / Further Reading"
   ]
  },
  {
   "cell_type": "markdown",
   "id": "f4dc446a-15c6-43e3-a556-2d191f18e432",
   "metadata": {},
   "source": [
    "### References\n",
    "* mlflow\n",
    "* scikit-learn\n",
    "* tensorflow\n",
    "* tensorboard"
   ]
  },
  {
   "cell_type": "markdown",
   "id": "9ed2ef0b-1bd3-4c19-b180-50c339c5eb07",
   "metadata": {},
   "source": []
  }
 ],
 "metadata": {
  "kernelspec": {
   "display_name": "Python 3 (ipykernel)",
   "language": "python",
   "name": "python3"
  },
  "language_info": {
   "codemirror_mode": {
    "name": "ipython",
    "version": 3
   },
   "file_extension": ".py",
   "mimetype": "text/x-python",
   "name": "python",
   "nbconvert_exporter": "python",
   "pygments_lexer": "ipython3",
   "version": "3.8.13"
  }
 },
 "nbformat": 4,
 "nbformat_minor": 5
}
