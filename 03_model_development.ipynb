{
 "cells": [
  {
   "cell_type": "markdown",
   "id": "d10d92d2-c199-482f-9d92-039d2cb5dbe9",
   "metadata": {},
   "source": [
    "# MLOps Walkthrough - Model Development\n",
    "\n",
    "\n",
    "key principles / tasks supported by RSEs\n",
    "* reusable components\n",
    "* running at scale\n",
    "* keeping track of experiements for reporoducability\n",
    "\n"
   ]
  },
  {
   "cell_type": "markdown",
   "id": "0a5f80f6-add9-443a-8164-21b3e97b75ba",
   "metadata": {},
   "source": [
    "Scikit learn pipeline"
   ]
  },
  {
   "cell_type": "code",
   "execution_count": null,
   "id": "791871b3-f8ce-4406-a5a3-c67f6f54f6c3",
   "metadata": {},
   "outputs": [],
   "source": [
    "# Example - basic ML pipeline with experiment tracking in ML flow"
   ]
  },
  {
   "cell_type": "code",
   "execution_count": null,
   "id": "082e6e0b-b374-45b1-b9b6-fb64db1fde5a",
   "metadata": {},
   "outputs": [],
   "source": []
  },
  {
   "cell_type": "markdown",
   "id": "7ed7bb2b-94f6-4058-8094-052734c8f96f",
   "metadata": {},
   "source": [
    "#  Example do hyperparameteer tuining in ray"
   ]
  },
  {
   "cell_type": "code",
   "execution_count": null,
   "id": "d0bdda1c-6765-4e68-98e3-36c8ee48acc0",
   "metadata": {},
   "outputs": [],
   "source": []
  },
  {
   "cell_type": "code",
   "execution_count": null,
   "id": "cd3e0e57-90af-4791-81c1-252c0f882092",
   "metadata": {},
   "outputs": [],
   "source": []
  },
  {
   "cell_type": "code",
   "execution_count": null,
   "id": "ac66d4d7-8862-43ec-9df0-073207622dcb",
   "metadata": {},
   "outputs": [],
   "source": []
  },
  {
   "cell_type": "markdown",
   "id": "424b6755-5eef-473d-85f7-8f39bcc0fda6",
   "metadata": {},
   "source": [
    "# Example save the model \n",
    "\n",
    "* use ONNX\n",
    "* Use MLFlow\n"
   ]
  },
  {
   "cell_type": "code",
   "execution_count": null,
   "id": "035fc5a7-b491-4bae-8ac8-c6b1b0ea9ee6",
   "metadata": {},
   "outputs": [],
   "source": []
  },
  {
   "cell_type": "code",
   "execution_count": null,
   "id": "74bb4e40-1469-47ba-b639-1f901261e116",
   "metadata": {},
   "outputs": [],
   "source": []
  },
  {
   "cell_type": "code",
   "execution_count": null,
   "id": "99a886b1-801b-42ca-b7be-1ec7ee0b1ba7",
   "metadata": {},
   "outputs": [],
   "source": []
  },
  {
   "cell_type": "code",
   "execution_count": null,
   "id": "523c4214-0408-4821-a77d-84c51a0c0f41",
   "metadata": {},
   "outputs": [],
   "source": []
  },
  {
   "cell_type": "code",
   "execution_count": null,
   "id": "b9a340d0-6c4d-46a5-8b34-ce8f009d2317",
   "metadata": {},
   "outputs": [],
   "source": []
  },
  {
   "cell_type": "code",
   "execution_count": null,
   "id": "cded42eb-b072-4af3-8712-3ed478cbd1ab",
   "metadata": {},
   "outputs": [],
   "source": []
  },
  {
   "cell_type": "code",
   "execution_count": null,
   "id": "639735d0-58fc-4c2a-968d-e48005a101a8",
   "metadata": {},
   "outputs": [],
   "source": []
  },
  {
   "cell_type": "code",
   "execution_count": null,
   "id": "ea6830c5-eeae-400c-bde8-50e78066d2f0",
   "metadata": {},
   "outputs": [],
   "source": []
  },
  {
   "cell_type": "code",
   "execution_count": null,
   "id": "5d0fb9f1-71b9-4acd-8f7b-c6b1bb78d26f",
   "metadata": {},
   "outputs": [],
   "source": []
  },
  {
   "cell_type": "code",
   "execution_count": null,
   "id": "4452ec06-e014-454f-9115-0258b27209e1",
   "metadata": {},
   "outputs": [],
   "source": []
  },
  {
   "cell_type": "code",
   "execution_count": null,
   "id": "7aa84480-9b92-4a78-adf6-91fd0db7b438",
   "metadata": {},
   "outputs": [],
   "source": []
  },
  {
   "cell_type": "code",
   "execution_count": null,
   "id": "cd4552ee-a03a-4ee9-8e9c-6fe103e9fb9d",
   "metadata": {},
   "outputs": [],
   "source": []
  },
  {
   "cell_type": "code",
   "execution_count": null,
   "id": "f7dbc5fd-4974-4dc5-91ff-88d3023f3304",
   "metadata": {},
   "outputs": [],
   "source": []
  },
  {
   "cell_type": "code",
   "execution_count": null,
   "id": "e3f8838f-74c5-4c96-9132-dcd3dd66c99c",
   "metadata": {},
   "outputs": [],
   "source": []
  },
  {
   "cell_type": "code",
   "execution_count": null,
   "id": "9e2ec9e8-584a-45e5-a85b-42400512161f",
   "metadata": {},
   "outputs": [],
   "source": []
  },
  {
   "cell_type": "code",
   "execution_count": null,
   "id": "57cdd72d-1ac6-4b6e-88a0-d670a185b373",
   "metadata": {},
   "outputs": [],
   "source": []
  },
  {
   "cell_type": "code",
   "execution_count": null,
   "id": "e92a5183-52ff-44b5-80a1-96f9db88e4f2",
   "metadata": {},
   "outputs": [],
   "source": []
  },
  {
   "cell_type": "markdown",
   "id": "8e276609-6641-4d20-a5c8-3be339f6a26a",
   "metadata": {},
   "source": [
    "### Next Steps / Further Reading"
   ]
  },
  {
   "cell_type": "markdown",
   "id": "f4dc446a-15c6-43e3-a556-2d191f18e432",
   "metadata": {},
   "source": [
    "### References\n",
    "* mlflow\n",
    "* scikit-learn\n",
    "* tensorflow\n",
    "* tensorboard"
   ]
  },
  {
   "cell_type": "markdown",
   "id": "9ed2ef0b-1bd3-4c19-b180-50c339c5eb07",
   "metadata": {},
   "source": []
  }
 ],
 "metadata": {
  "kernelspec": {
   "display_name": "Python 3 (ipykernel)",
   "language": "python",
   "name": "python3"
  },
  "language_info": {
   "codemirror_mode": {
    "name": "ipython",
    "version": 3
   },
   "file_extension": ".py",
   "mimetype": "text/x-python",
   "name": "python",
   "nbconvert_exporter": "python",
   "pygments_lexer": "ipython3",
   "version": "3.8.13"
  }
 },
 "nbformat": 4,
 "nbformat_minor": 5
}
