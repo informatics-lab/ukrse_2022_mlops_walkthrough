{
 "cells": [
  {
   "cell_type": "markdown",
   "id": "c1231605-17ec-49e6-8ba5-af51d54a8c15",
   "metadata": {},
   "source": [
    "# MLOps Walkthrough - Model Development\n",
    "\n",
    "In the first notebook, we looked at setting up a data pipeline to preprocess our data ready to use with a machine learning pipeline where we create and train machine learning models to do some prediction for our example problem. In this notebook we will look at the key pricniples and tools from the point of a Research Software Engineer for building such a machine learning model training piepline. The key idea is that machine learning model are assets to be tracked and shared like code and data. Users of the models need to know all the details on how they were trained, including the input data, the architecture of the model, the hyperparameters used and many other details so that the results can be understood and trusted. This is just the same as RSEs routinely do for code, so in many ways much of what is in this notebook is not new in principle, but may be implemented slightly differenlty at times to handle different aspects of ML models."
   ]
  },
  {
   "cell_type": "markdown",
   "id": "1198c537-2a51-484a-93cd-e42fc3107adb",
   "metadata": {},
   "source": [
    "## How to train your ~~dragon🐉~~ machine learning model 🤖 (reproducibly, efficiently, at scale)\n",
    "Training a machine learning model is easy, at least as of 2022 when there are many libraries and tools available and a lot of good documentation and tutorials to help researchers get started in applying machine learning to their problem if they've not done it before. So in general training a small machine learning model is not something that requires special RSE support. As with many research tasks, the challenges appear when you try to take your toy example trained on a small initial dataset and try to scale it up to a large complex real world dataset. Suddenly the technical infrastrcuture demands of machine learning at scale become apparent and this where the expertise of a RSE becomes valuable in setting up the tools and infrastructure to easily scale up the compute to match demands of the research. \n",
    "\n",
    "In addition in a research context one is not training a single large model with well defined parameters, all the elements of the pipeline are part of the research. Researchers will likely want to many experiments training different models with slightly altered inputs and hyperaparameters. The amount of data and other assets produced by such ML experiments can quickly become overwhelming. *Experiment tracker* software is vital, especially in a research context, to manage and compare the results of different machine learning experiments and select the best results.\n",
    "\n",
    "It is also important in larger models to be be able to track the performance of models whiles they are training to see whether progress in imroving performance with respect to key metrics is being made by continuing training or whether improvements have stalled. Training dashboard tools are useful for researchers to be able to check on the status of models during what can be quite a lon training process.\n",
    "\n",
    "The steps for this part of the project are typically as follows:\n",
    "* *create train/validate/test splits* - a key paractice in train ML models is to only train with a portion of the data, and hold back smaller portions of the data for for evaluating model performance both during the development cycle (validate or dev split), and right at the end of the project to check the final solution generalises to unseen data (test split)\n",
    "* *prepare the data* - Although most of the work  will likely have been done duringthe data prep part of the project, there is likely at least a small amount of \"last mile\" preparation to prepare the data for use with the particular ML framework and architecture being used. In particular normalising the data\n",
    "* *build the model architecture* - \n",
    "  * *log hyper parameters* - \n",
    "* *train the model*\n",
    "  * *monitor training* - \n",
    "  * *log training metrics* - \n",
    "* *save the the trained model*  - \n",
    "  * *log trained model with experiment manager* \n",
    "\n",
    "A key part of model development is finding the correct *hyperparameters* for the model. Hyperparameters are the configuration elements of the model that are not determined by training the model. Those elements that are calculated, for example the werights and coefficients of a neural network, are called parameters. Those that are not, for example the number of hidden layers are learning rate for a neural network, are called hyperparameters. Hyperparameters are usually found by trial and error for specific problems. An addditional training loop to find the best hyperparameters is sually employed and this is called hyperparameter tuning. This is an inherently parallel process which inviolves training many models independentally.\n",
    "\n",
    "\n"
   ]
  },
  {
   "cell_type": "markdown",
   "id": "4e9cf29b-459d-41f9-a666-12e05ae8f183",
   "metadata": {
    "jp-MarkdownHeadingCollapsed": true,
    "tags": []
   },
   "source": [
    "### Key Principles\n",
    "* reusable components - ensure the elements of training infrastrcuture are easy to reuse/adapt for different models and projects\n",
    "* running at scale - ensure researchers can select the size of training dataset and the size/complexity  of the model architectu\n",
    "* reproducible experiments - providing tools to systematically record the inputs, configurations and outputs of model training run to keep track of experiements for reproducability.\n"
   ]
  },
  {
   "cell_type": "markdown",
   "id": "a9874d17-7d00-44c5-ac13-96ebe1800029",
   "metadata": {},
   "source": [
    "### Key Tasks for RSEs\n",
    "* Setting up infrastrcuture for training models\n",
    "* Facilitating running code on ML targeted platforms e.g. GPU, TPU etc.\n",
    "* Support good practices for ML development e.g. experiment tracking\n",
    "* Applying FAIR principles to all ML assets (data, code, trained models)\n",
    "* applying good code management practices to ML code\n",
    "* setting uop test suites for ML pipelines\n"
   ]
  },
  {
   "cell_type": "markdown",
   "id": "9735e575-ce92-4c38-b6d0-555f270a1c8a",
   "metadata": {},
   "source": [
    "### Key Terms\n",
    "* Experiment tracking\n",
    "* machine learning pipeline\n",
    "* train/test split\n",
    "* training\n",
    "* model architecture\n",
    "* hyper parameters\n",
    "* hyper parameter tuning"
   ]
  },
  {
   "cell_type": "markdown",
   "id": "3986fd2d-bfdb-44c6-a15b-54e7b05c338b",
   "metadata": {},
   "source": [
    "### Key Tools\n",
    "* ML frameworks (scikit-learn, tensorflow, pytorch)\n",
    "* Workflow tools (ray)\n",
    "* Experiment tracking (mlflow)"
   ]
  },
  {
   "cell_type": "markdown",
   "id": "45ec43b8-57c5-46fc-9ab4-d367015734a9",
   "metadata": {},
   "source": [
    "### Running this notebook\n",
    "This notebook should run from a conda environment created with the [requirements_model_development.yml file](requirements_model_development.yml). See the readme file for info on how to set up a conda environment for using this notebook."
   ]
  },
  {
   "cell_type": "markdown",
   "id": "e50973a5-db15-41ec-bf11-0617c35d3008",
   "metadata": {},
   "source": [
    "## Example problem - Predicting wind rotors\n",
    "\n",
    "brief intro - refer to data prep notebook\n",
    "what are we doing in this notebook\n"
   ]
  },
  {
   "cell_type": "code",
   "execution_count": 1,
   "id": "95a01caf-2fd1-4509-8ee0-5819b391767a",
   "metadata": {},
   "outputs": [],
   "source": [
    "import warnings\n",
    "warnings.filterwarnings('ignore')"
   ]
  },
  {
   "cell_type": "code",
   "execution_count": 2,
   "id": "f8319b23-ecaf-4acf-9919-9e1b4b745ac4",
   "metadata": {},
   "outputs": [],
   "source": [
    "import pathlib\n",
    "import datetime\n",
    "import os\n",
    "import functools\n",
    "import math"
   ]
  },
  {
   "cell_type": "code",
   "execution_count": 3,
   "id": "fd45036d-70ac-4569-96a0-1772efca8ed2",
   "metadata": {},
   "outputs": [],
   "source": [
    "import matplotlib\n",
    "%matplotlib inline"
   ]
  },
  {
   "cell_type": "code",
   "execution_count": 4,
   "id": "8ccbe28e-3dfd-4092-a138-17fc1696a8b5",
   "metadata": {},
   "outputs": [],
   "source": [
    "import numpy\n",
    "import pandas\n",
    "import dask"
   ]
  },
  {
   "cell_type": "code",
   "execution_count": 5,
   "id": "650cc24c-ded1-40b2-a0cb-7641ea5b4f5f",
   "metadata": {},
   "outputs": [],
   "source": [
    "import sklearn\n",
    "import sklearn.preprocessing\n",
    "import sklearn.model_selection"
   ]
  },
  {
   "cell_type": "code",
   "execution_count": 6,
   "id": "cdbe869b-e80e-407b-b8d4-a06983bbf8cf",
   "metadata": {},
   "outputs": [],
   "source": [
    "import tensorflow\n",
    "\n",
    "import tensorflow.keras\n",
    "import tensorflow.keras.layers\n",
    "import tensorflow.keras.models\n",
    "import tensorflow.keras.optimizers\n",
    "import tensorflow.keras.metrics\n",
    "import tensorflow.keras.layers\n",
    "import tensorflow.keras.constraints"
   ]
  },
  {
   "cell_type": "code",
   "execution_count": 7,
   "id": "b524f2f1-23f9-49c4-8ce1-2efc9c428dde",
   "metadata": {},
   "outputs": [],
   "source": [
    "import tensorboard"
   ]
  },
  {
   "cell_type": "code",
   "execution_count": 8,
   "id": "a3e5f0b6-3366-4fbd-8fda-49eaa08ff142",
   "metadata": {},
   "outputs": [],
   "source": [
    "# Load the TensorBoard notebook extension\n",
    "%load_ext tensorboard"
   ]
  },
  {
   "cell_type": "code",
   "execution_count": 9,
   "id": "d4dc663b-930b-4d87-b499-a5ec9a7abb3d",
   "metadata": {},
   "outputs": [
    {
     "name": "stderr",
     "output_type": "stream",
     "text": [
      "2022/09/02 11:50:43 WARNING mlflow.utils.autologging_utils: You are using an unsupported version of tensorflow. If you encounter errors during autologging, try upgrading / downgrading tensorflow to a supported version, or try upgrading MLflow.\n"
     ]
    }
   ],
   "source": [
    "import mlflow\n",
    "mlflow.tensorflow.autolog()"
   ]
  },
  {
   "cell_type": "code",
   "execution_count": 10,
   "id": "e49eccb8-404f-4f7b-ae35-9eca57818712",
   "metadata": {},
   "outputs": [],
   "source": [
    "import intake"
   ]
  },
  {
   "cell_type": "code",
   "execution_count": 11,
   "id": "a0b63f8f-4259-49ad-8a61-eb141b663dd6",
   "metadata": {},
   "outputs": [],
   "source": [
    "mlflow_dash_port = 5001\n",
    "tensorboard_dash_port = 5002\n",
    "ray_dash_port = 5003"
   ]
  },
  {
   "cell_type": "markdown",
   "id": "ef132d5b-aaac-4336-b1ab-ac8a6108ba95",
   "metadata": {},
   "source": [
    "### Load the data\n",
    "\n",
    "load the preprocessed data from the catalog\n",
    "catalogs allow separation of tasks and responsibilities within a project and team"
   ]
  },
  {
   "cell_type": "code",
   "execution_count": 12,
   "id": "68a680df-9452-4a0f-96a9-64c326ffafdc",
   "metadata": {},
   "outputs": [
    {
     "name": "stdout",
     "output_type": "stream",
     "text": [
      "using default path\n"
     ]
    },
    {
     "data": {
      "text/plain": [
       "PosixPath('/Users/stephen.haddad/data/ukrse2022')"
      ]
     },
     "execution_count": 12,
     "metadata": {},
     "output_type": "execute_result"
    }
   ],
   "source": [
    "try:\n",
    "    rse_root_data_dir = pathlib.Path(os.environ['RSE22_ROOT_DATA_DIR'])\n",
    "    print('reading from environment variable')\n",
    "except KeyError as ke1:\n",
    "    rse_root_data_dir = pathlib.Path(os.environ['HOME'])  / 'data' / 'ukrse2022'\n",
    "    print('using default path')\n",
    "rse_root_data_dir"
   ]
  },
  {
   "cell_type": "code",
   "execution_count": 13,
   "id": "d6f646b1-d07d-42cd-9045-aac9833a7bf7",
   "metadata": {},
   "outputs": [
    {
     "data": {
      "application/yaml": "rotors_catalog:\n  args:\n    path: /Users/stephen.haddad/data/ukrse2022/rotors_catalog.yml\n  description: ''\n  driver: intake.catalog.local.YAMLFileCatalog\n  metadata: {}\n",
      "text/plain": [
       "rotors_catalog:\n",
       "  args:\n",
       "    path: /Users/stephen.haddad/data/ukrse2022/rotors_catalog.yml\n",
       "  description: ''\n",
       "  driver: intake.catalog.local.YAMLFileCatalog\n",
       "  metadata: {}\n"
      ]
     },
     "metadata": {
      "application/json": {
       "root": "rotors_catalog"
      }
     },
     "output_type": "display_data"
    }
   ],
   "source": [
    "rotors_catalog = intake.open_catalog(rse_root_data_dir / 'rotors_catalog.yml')\n",
    "rotors_catalog "
   ]
  },
  {
   "cell_type": "code",
   "execution_count": 14,
   "id": "7fb98706-50ab-4c63-85fe-80571bbe66ba",
   "metadata": {},
   "outputs": [
    {
     "data": {
      "text/plain": [
       "['rotors', 'rotors_preprocessed']"
      ]
     },
     "execution_count": 14,
     "metadata": {},
     "output_type": "execute_result"
    }
   ],
   "source": [
    "list(rotors_catalog)"
   ]
  },
  {
   "cell_type": "markdown",
   "id": "08f4f23f-455e-4638-9fd3-75e83d7c6fab",
   "metadata": {},
   "source": [
    "We see that our catalog contains preprocessed data ready to use in our machine learning development pipeline."
   ]
  },
  {
   "cell_type": "code",
   "execution_count": 15,
   "id": "f23aba47-9061-487a-bc64-1358abc0ee63",
   "metadata": {},
   "outputs": [],
   "source": [
    "rotors_df = rotors_catalog['rotors_preprocessed'].read()"
   ]
  },
  {
   "cell_type": "code",
   "execution_count": 16,
   "id": "4c68273f-ce70-4346-8af0-c119905029ec",
   "metadata": {},
   "outputs": [
    {
     "data": {
      "text/html": [
       "<div>\n",
       "<style scoped>\n",
       "    .dataframe tbody tr th:only-of-type {\n",
       "        vertical-align: middle;\n",
       "    }\n",
       "\n",
       "    .dataframe tbody tr th {\n",
       "        vertical-align: top;\n",
       "    }\n",
       "\n",
       "    .dataframe thead th {\n",
       "        text-align: right;\n",
       "    }\n",
       "</style>\n",
       "<table border=\"1\" class=\"dataframe\">\n",
       "  <thead>\n",
       "    <tr style=\"text-align: right;\">\n",
       "      <th></th>\n",
       "      <th>Unnamed: 0</th>\n",
       "      <th>Unnamed: 0.1</th>\n",
       "      <th>air_temp_obs</th>\n",
       "      <th>dewpoint_obs</th>\n",
       "      <th>wind_direction_obs</th>\n",
       "      <th>wind_speed_obs</th>\n",
       "      <th>wind_gust_obs</th>\n",
       "      <th>air_temp_1</th>\n",
       "      <th>air_temp_2</th>\n",
       "      <th>air_temp_3</th>\n",
       "      <th>...</th>\n",
       "      <th>v_wind_18</th>\n",
       "      <th>u_wind_19</th>\n",
       "      <th>v_wind_19</th>\n",
       "      <th>u_wind_20</th>\n",
       "      <th>v_wind_20</th>\n",
       "      <th>u_wind_21</th>\n",
       "      <th>v_wind_21</th>\n",
       "      <th>u_wind_22</th>\n",
       "      <th>v_wind_22</th>\n",
       "      <th>time</th>\n",
       "    </tr>\n",
       "  </thead>\n",
       "  <tbody>\n",
       "    <tr>\n",
       "      <th>0</th>\n",
       "      <td>1</td>\n",
       "      <td>1</td>\n",
       "      <td>283.9</td>\n",
       "      <td>280.7</td>\n",
       "      <td>110.0</td>\n",
       "      <td>4.1</td>\n",
       "      <td>-9999999.0</td>\n",
       "      <td>284.000</td>\n",
       "      <td>283.625</td>\n",
       "      <td>283.250</td>\n",
       "      <td>...</td>\n",
       "      <td>5.756768</td>\n",
       "      <td>-1.953409</td>\n",
       "      <td>5.673111</td>\n",
       "      <td>-2.674064</td>\n",
       "      <td>5.482644</td>\n",
       "      <td>-3.000000e+00</td>\n",
       "      <td>5.196152</td>\n",
       "      <td>-2.987221</td>\n",
       "      <td>4.971570</td>\n",
       "      <td>2015-01-01 00:00:00</td>\n",
       "    </tr>\n",
       "    <tr>\n",
       "      <th>1</th>\n",
       "      <td>2</td>\n",
       "      <td>2</td>\n",
       "      <td>280.7</td>\n",
       "      <td>279.7</td>\n",
       "      <td>90.0</td>\n",
       "      <td>7.7</td>\n",
       "      <td>-9999999.0</td>\n",
       "      <td>281.500</td>\n",
       "      <td>281.250</td>\n",
       "      <td>280.750</td>\n",
       "      <td>...</td>\n",
       "      <td>6.502872</td>\n",
       "      <td>-1.460878</td>\n",
       "      <td>5.094687</td>\n",
       "      <td>-0.790064</td>\n",
       "      <td>3.716961</td>\n",
       "      <td>-7.837740e-16</td>\n",
       "      <td>3.200000</td>\n",
       "      <td>0.727691</td>\n",
       "      <td>3.423517</td>\n",
       "      <td>2015-01-01 03:00:00</td>\n",
       "    </tr>\n",
       "    <tr>\n",
       "      <th>2</th>\n",
       "      <td>3</td>\n",
       "      <td>3</td>\n",
       "      <td>279.8</td>\n",
       "      <td>278.1</td>\n",
       "      <td>100.0</td>\n",
       "      <td>7.7</td>\n",
       "      <td>-9999999.0</td>\n",
       "      <td>279.875</td>\n",
       "      <td>279.625</td>\n",
       "      <td>279.125</td>\n",
       "      <td>...</td>\n",
       "      <td>5.481273</td>\n",
       "      <td>-1.423505</td>\n",
       "      <td>5.312592</td>\n",
       "      <td>-0.174497</td>\n",
       "      <td>4.996954</td>\n",
       "      <td>7.293223e-01</td>\n",
       "      <td>4.136193</td>\n",
       "      <td>2.462646</td>\n",
       "      <td>3.152043</td>\n",
       "      <td>2015-01-01 06:00:00</td>\n",
       "    </tr>\n",
       "    <tr>\n",
       "      <th>3</th>\n",
       "      <td>4</td>\n",
       "      <td>4</td>\n",
       "      <td>279.9</td>\n",
       "      <td>277.0</td>\n",
       "      <td>120.0</td>\n",
       "      <td>7.2</td>\n",
       "      <td>-9999999.0</td>\n",
       "      <td>279.625</td>\n",
       "      <td>279.250</td>\n",
       "      <td>278.875</td>\n",
       "      <td>...</td>\n",
       "      <td>2.475770</td>\n",
       "      <td>-1.311123</td>\n",
       "      <td>3.245143</td>\n",
       "      <td>-0.407661</td>\n",
       "      <td>3.878635</td>\n",
       "      <td>6.883116e-01</td>\n",
       "      <td>4.345829</td>\n",
       "      <td>1.723190</td>\n",
       "      <td>4.265046</td>\n",
       "      <td>2015-01-01 09:00:00</td>\n",
       "    </tr>\n",
       "    <tr>\n",
       "      <th>4</th>\n",
       "      <td>5</td>\n",
       "      <td>5</td>\n",
       "      <td>279.9</td>\n",
       "      <td>277.4</td>\n",
       "      <td>120.0</td>\n",
       "      <td>8.7</td>\n",
       "      <td>-9999999.0</td>\n",
       "      <td>279.250</td>\n",
       "      <td>278.875</td>\n",
       "      <td>278.375</td>\n",
       "      <td>...</td>\n",
       "      <td>-0.775695</td>\n",
       "      <td>-1.997259</td>\n",
       "      <td>0.104672</td>\n",
       "      <td>-1.928942</td>\n",
       "      <td>1.252670</td>\n",
       "      <td>-1.287595e+00</td>\n",
       "      <td>2.142918</td>\n",
       "      <td>-0.899056</td>\n",
       "      <td>2.225241</td>\n",
       "      <td>2015-01-01 12:00:00</td>\n",
       "    </tr>\n",
       "    <tr>\n",
       "      <th>...</th>\n",
       "      <td>...</td>\n",
       "      <td>...</td>\n",
       "      <td>...</td>\n",
       "      <td>...</td>\n",
       "      <td>...</td>\n",
       "      <td>...</td>\n",
       "      <td>...</td>\n",
       "      <td>...</td>\n",
       "      <td>...</td>\n",
       "      <td>...</td>\n",
       "      <td>...</td>\n",
       "      <td>...</td>\n",
       "      <td>...</td>\n",
       "      <td>...</td>\n",
       "      <td>...</td>\n",
       "      <td>...</td>\n",
       "      <td>...</td>\n",
       "      <td>...</td>\n",
       "      <td>...</td>\n",
       "      <td>...</td>\n",
       "      <td>...</td>\n",
       "    </tr>\n",
       "    <tr>\n",
       "      <th>17481</th>\n",
       "      <td>20101</td>\n",
       "      <td>20101</td>\n",
       "      <td>276.7</td>\n",
       "      <td>275.5</td>\n",
       "      <td>270.0</td>\n",
       "      <td>3.6</td>\n",
       "      <td>-9999999.0</td>\n",
       "      <td>277.875</td>\n",
       "      <td>277.750</td>\n",
       "      <td>277.625</td>\n",
       "      <td>...</td>\n",
       "      <td>-8.555992</td>\n",
       "      <td>-8.047581</td>\n",
       "      <td>-8.629974</td>\n",
       "      <td>-7.479073</td>\n",
       "      <td>-8.603689</td>\n",
       "      <td>-7.111320e+00</td>\n",
       "      <td>-8.781749</td>\n",
       "      <td>-6.538771</td>\n",
       "      <td>-9.338333</td>\n",
       "      <td>2020-12-31 06:00:00</td>\n",
       "    </tr>\n",
       "    <tr>\n",
       "      <th>17482</th>\n",
       "      <td>20102</td>\n",
       "      <td>20102</td>\n",
       "      <td>277.9</td>\n",
       "      <td>276.9</td>\n",
       "      <td>270.0</td>\n",
       "      <td>3.1</td>\n",
       "      <td>-9999999.0</td>\n",
       "      <td>277.875</td>\n",
       "      <td>277.625</td>\n",
       "      <td>277.875</td>\n",
       "      <td>...</td>\n",
       "      <td>-6.956383</td>\n",
       "      <td>-8.273280</td>\n",
       "      <td>-6.942106</td>\n",
       "      <td>-8.886116</td>\n",
       "      <td>-7.456336</td>\n",
       "      <td>-8.995651e+00</td>\n",
       "      <td>-8.388580</td>\n",
       "      <td>-8.029567</td>\n",
       "      <td>-8.917738</td>\n",
       "      <td>2020-12-31 09:00:00</td>\n",
       "    </tr>\n",
       "    <tr>\n",
       "      <th>17483</th>\n",
       "      <td>20103</td>\n",
       "      <td>20103</td>\n",
       "      <td>283.5</td>\n",
       "      <td>277.1</td>\n",
       "      <td>220.0</td>\n",
       "      <td>3.6</td>\n",
       "      <td>-9999999.0</td>\n",
       "      <td>281.125</td>\n",
       "      <td>280.625</td>\n",
       "      <td>280.125</td>\n",
       "      <td>...</td>\n",
       "      <td>-8.332875</td>\n",
       "      <td>-7.326372</td>\n",
       "      <td>-9.377328</td>\n",
       "      <td>-8.397556</td>\n",
       "      <td>-9.660283</td>\n",
       "      <td>-7.962654e+00</td>\n",
       "      <td>-8.843423</td>\n",
       "      <td>-7.495332</td>\n",
       "      <td>-7.495332</td>\n",
       "      <td>2020-12-31 12:00:00</td>\n",
       "    </tr>\n",
       "    <tr>\n",
       "      <th>17484</th>\n",
       "      <td>20104</td>\n",
       "      <td>20104</td>\n",
       "      <td>286.1</td>\n",
       "      <td>276.9</td>\n",
       "      <td>250.0</td>\n",
       "      <td>3.6</td>\n",
       "      <td>-9999999.0</td>\n",
       "      <td>284.625</td>\n",
       "      <td>284.125</td>\n",
       "      <td>283.625</td>\n",
       "      <td>...</td>\n",
       "      <td>-6.646804</td>\n",
       "      <td>-5.294689</td>\n",
       "      <td>-6.776892</td>\n",
       "      <td>-4.398330</td>\n",
       "      <td>-7.038799</td>\n",
       "      <td>-5.356255e+00</td>\n",
       "      <td>-6.855694</td>\n",
       "      <td>-7.265332</td>\n",
       "      <td>-7.016050</td>\n",
       "      <td>2020-12-31 15:00:00</td>\n",
       "    </tr>\n",
       "    <tr>\n",
       "      <th>17485</th>\n",
       "      <td>20105</td>\n",
       "      <td>20105</td>\n",
       "      <td>285.1</td>\n",
       "      <td>279.3</td>\n",
       "      <td>300.0</td>\n",
       "      <td>6.2</td>\n",
       "      <td>-9999999.0</td>\n",
       "      <td>284.250</td>\n",
       "      <td>284.000</td>\n",
       "      <td>283.750</td>\n",
       "      <td>...</td>\n",
       "      <td>-2.514397</td>\n",
       "      <td>-8.921121</td>\n",
       "      <td>-4.945058</td>\n",
       "      <td>-8.704895</td>\n",
       "      <td>-5.871525</td>\n",
       "      <td>-8.274113e+00</td>\n",
       "      <td>-6.464445</td>\n",
       "      <td>-8.264297</td>\n",
       "      <td>-7.706581</td>\n",
       "      <td>2021-01-01 00:00:00</td>\n",
       "    </tr>\n",
       "  </tbody>\n",
       "</table>\n",
       "<p>17486 rows × 141 columns</p>\n",
       "</div>"
      ],
      "text/plain": [
       "       Unnamed: 0  Unnamed: 0.1  air_temp_obs  dewpoint_obs  \\\n",
       "0               1             1         283.9         280.7   \n",
       "1               2             2         280.7         279.7   \n",
       "2               3             3         279.8         278.1   \n",
       "3               4             4         279.9         277.0   \n",
       "4               5             5         279.9         277.4   \n",
       "...           ...           ...           ...           ...   \n",
       "17481       20101         20101         276.7         275.5   \n",
       "17482       20102         20102         277.9         276.9   \n",
       "17483       20103         20103         283.5         277.1   \n",
       "17484       20104         20104         286.1         276.9   \n",
       "17485       20105         20105         285.1         279.3   \n",
       "\n",
       "       wind_direction_obs  wind_speed_obs  wind_gust_obs  air_temp_1  \\\n",
       "0                   110.0             4.1     -9999999.0     284.000   \n",
       "1                    90.0             7.7     -9999999.0     281.500   \n",
       "2                   100.0             7.7     -9999999.0     279.875   \n",
       "3                   120.0             7.2     -9999999.0     279.625   \n",
       "4                   120.0             8.7     -9999999.0     279.250   \n",
       "...                   ...             ...            ...         ...   \n",
       "17481               270.0             3.6     -9999999.0     277.875   \n",
       "17482               270.0             3.1     -9999999.0     277.875   \n",
       "17483               220.0             3.6     -9999999.0     281.125   \n",
       "17484               250.0             3.6     -9999999.0     284.625   \n",
       "17485               300.0             6.2     -9999999.0     284.250   \n",
       "\n",
       "       air_temp_2  air_temp_3  ...  v_wind_18  u_wind_19  v_wind_19  \\\n",
       "0         283.625     283.250  ...   5.756768  -1.953409   5.673111   \n",
       "1         281.250     280.750  ...   6.502872  -1.460878   5.094687   \n",
       "2         279.625     279.125  ...   5.481273  -1.423505   5.312592   \n",
       "3         279.250     278.875  ...   2.475770  -1.311123   3.245143   \n",
       "4         278.875     278.375  ...  -0.775695  -1.997259   0.104672   \n",
       "...           ...         ...  ...        ...        ...        ...   \n",
       "17481     277.750     277.625  ...  -8.555992  -8.047581  -8.629974   \n",
       "17482     277.625     277.875  ...  -6.956383  -8.273280  -6.942106   \n",
       "17483     280.625     280.125  ...  -8.332875  -7.326372  -9.377328   \n",
       "17484     284.125     283.625  ...  -6.646804  -5.294689  -6.776892   \n",
       "17485     284.000     283.750  ...  -2.514397  -8.921121  -4.945058   \n",
       "\n",
       "       u_wind_20  v_wind_20     u_wind_21  v_wind_21  u_wind_22  v_wind_22  \\\n",
       "0      -2.674064   5.482644 -3.000000e+00   5.196152  -2.987221   4.971570   \n",
       "1      -0.790064   3.716961 -7.837740e-16   3.200000   0.727691   3.423517   \n",
       "2      -0.174497   4.996954  7.293223e-01   4.136193   2.462646   3.152043   \n",
       "3      -0.407661   3.878635  6.883116e-01   4.345829   1.723190   4.265046   \n",
       "4      -1.928942   1.252670 -1.287595e+00   2.142918  -0.899056   2.225241   \n",
       "...          ...        ...           ...        ...        ...        ...   \n",
       "17481  -7.479073  -8.603689 -7.111320e+00  -8.781749  -6.538771  -9.338333   \n",
       "17482  -8.886116  -7.456336 -8.995651e+00  -8.388580  -8.029567  -8.917738   \n",
       "17483  -8.397556  -9.660283 -7.962654e+00  -8.843423  -7.495332  -7.495332   \n",
       "17484  -4.398330  -7.038799 -5.356255e+00  -6.855694  -7.265332  -7.016050   \n",
       "17485  -8.704895  -5.871525 -8.274113e+00  -6.464445  -8.264297  -7.706581   \n",
       "\n",
       "                      time  \n",
       "0      2015-01-01 00:00:00  \n",
       "1      2015-01-01 03:00:00  \n",
       "2      2015-01-01 06:00:00  \n",
       "3      2015-01-01 09:00:00  \n",
       "4      2015-01-01 12:00:00  \n",
       "...                    ...  \n",
       "17481  2020-12-31 06:00:00  \n",
       "17482  2020-12-31 09:00:00  \n",
       "17483  2020-12-31 12:00:00  \n",
       "17484  2020-12-31 15:00:00  \n",
       "17485  2021-01-01 00:00:00  \n",
       "\n",
       "[17486 rows x 141 columns]"
      ]
     },
     "execution_count": 16,
     "metadata": {},
     "output_type": "execute_result"
    }
   ],
   "source": [
    "rotors_df"
   ]
  },
  {
   "cell_type": "code",
   "execution_count": 17,
   "id": "40da202c-518e-49eb-ab2e-7b0066dfa43c",
   "metadata": {},
   "outputs": [
    {
     "data": {
      "text/plain": [
       "['Unnamed: 0',\n",
       " 'Unnamed: 0.1',\n",
       " 'air_temp_obs',\n",
       " 'dewpoint_obs',\n",
       " 'wind_direction_obs',\n",
       " 'wind_speed_obs',\n",
       " 'wind_gust_obs',\n",
       " 'air_temp_1',\n",
       " 'air_temp_2',\n",
       " 'air_temp_3',\n",
       " 'air_temp_4',\n",
       " 'air_temp_5',\n",
       " 'air_temp_6',\n",
       " 'air_temp_7',\n",
       " 'air_temp_8',\n",
       " 'air_temp_9',\n",
       " 'air_temp_10',\n",
       " 'air_temp_11',\n",
       " 'air_temp_12',\n",
       " 'air_temp_13',\n",
       " 'air_temp_14',\n",
       " 'air_temp_15',\n",
       " 'air_temp_16',\n",
       " 'air_temp_17',\n",
       " 'air_temp_18',\n",
       " 'air_temp_19',\n",
       " 'air_temp_20',\n",
       " 'air_temp_21',\n",
       " 'air_temp_22',\n",
       " 'sh_1',\n",
       " 'sh_2',\n",
       " 'sh_3',\n",
       " 'sh_4',\n",
       " 'sh_5',\n",
       " 'sh_6',\n",
       " 'sh_7',\n",
       " 'sh_8',\n",
       " 'sh_9',\n",
       " 'sh_10',\n",
       " 'sh_11',\n",
       " 'sh_12',\n",
       " 'sh_13',\n",
       " 'sh_14',\n",
       " 'sh_15',\n",
       " 'sh_16',\n",
       " 'sh_17',\n",
       " 'sh_18',\n",
       " 'sh_19',\n",
       " 'sh_20',\n",
       " 'sh_21',\n",
       " 'sh_22',\n",
       " 'winddir_1',\n",
       " 'windspd_1',\n",
       " 'winddir_2',\n",
       " 'windspd_2',\n",
       " 'winddir_3',\n",
       " 'windspd_3',\n",
       " 'winddir_4',\n",
       " 'windspd_4',\n",
       " 'winddir_5',\n",
       " 'windspd_5',\n",
       " 'winddir_6',\n",
       " 'windspd_6',\n",
       " 'winddir_7',\n",
       " 'windspd_7',\n",
       " 'winddir_8',\n",
       " 'windspd_8',\n",
       " 'winddir_9',\n",
       " 'windspd_9',\n",
       " 'winddir_10',\n",
       " 'windspd_10',\n",
       " 'winddir_11',\n",
       " 'windspd_11',\n",
       " 'winddir_12',\n",
       " 'windspd_12',\n",
       " 'winddir_13',\n",
       " 'windspd_13',\n",
       " 'winddir_14',\n",
       " 'windspd_14',\n",
       " 'winddir_15',\n",
       " 'windspd_15',\n",
       " 'winddir_16',\n",
       " 'windspd_16',\n",
       " 'winddir_17',\n",
       " 'windspd_17',\n",
       " 'winddir_18',\n",
       " 'windspd_18',\n",
       " 'winddir_19',\n",
       " 'windspd_19',\n",
       " 'winddir_20',\n",
       " 'windspd_20',\n",
       " 'winddir_21',\n",
       " 'windspd_21',\n",
       " 'winddir_22',\n",
       " 'windspd_22',\n",
       " 'rotors_present',\n",
       " 'u_wind_1',\n",
       " 'v_wind_1',\n",
       " 'u_wind_2',\n",
       " 'v_wind_2',\n",
       " 'u_wind_3',\n",
       " 'v_wind_3',\n",
       " 'u_wind_4',\n",
       " 'v_wind_4',\n",
       " 'u_wind_5',\n",
       " 'v_wind_5',\n",
       " 'u_wind_6',\n",
       " 'v_wind_6',\n",
       " 'u_wind_7',\n",
       " 'v_wind_7',\n",
       " 'u_wind_8',\n",
       " 'v_wind_8',\n",
       " 'u_wind_9',\n",
       " 'v_wind_9',\n",
       " 'u_wind_10',\n",
       " 'v_wind_10',\n",
       " 'u_wind_11',\n",
       " 'v_wind_11',\n",
       " 'u_wind_12',\n",
       " 'v_wind_12',\n",
       " 'u_wind_13',\n",
       " 'v_wind_13',\n",
       " 'u_wind_14',\n",
       " 'v_wind_14',\n",
       " 'u_wind_15',\n",
       " 'v_wind_15',\n",
       " 'u_wind_16',\n",
       " 'v_wind_16',\n",
       " 'u_wind_17',\n",
       " 'v_wind_17',\n",
       " 'u_wind_18',\n",
       " 'v_wind_18',\n",
       " 'u_wind_19',\n",
       " 'v_wind_19',\n",
       " 'u_wind_20',\n",
       " 'v_wind_20',\n",
       " 'u_wind_21',\n",
       " 'v_wind_21',\n",
       " 'u_wind_22',\n",
       " 'v_wind_22',\n",
       " 'time']"
      ]
     },
     "execution_count": 17,
     "metadata": {},
     "output_type": "execute_result"
    }
   ],
   "source": [
    "list(rotors_df.columns)"
   ]
  },
  {
   "cell_type": "code",
   "execution_count": 18,
   "id": "e164a8b4-fb1c-4c08-b3bd-919e0f545228",
   "metadata": {},
   "outputs": [],
   "source": [
    "# one small bit of cleaning: ensuring the correct datetime type for our time feature\n",
    "rotors_df['time'] = pandas.to_datetime(rotors_df['time'])"
   ]
  },
  {
   "cell_type": "code",
   "execution_count": 19,
   "id": "cb6cd664-d0c1-4e22-9e09-2808ebeddead",
   "metadata": {},
   "outputs": [],
   "source": [
    "\n",
    "temp_feature_names = [f'air_temp_{i1}' for i1 in range(1,23)]\n",
    "humidity_feature_names = [f'sh_{i1}' for i1 in range(1,23)]\n",
    "wind_direction_feature_names = [f'winddir_{i1}' for i1 in range(1,23)]\n",
    "wind_speed_feature_names = [f'windspd_{i1}' for i1 in range(1,23)]\n",
    "u_wind_feature_names = [f'u_wind_{i1}' for i1 in range(1,23)]\n",
    "v_wind_feature_names = [f'v_wind_{i1}' for i1 in range(1,23)]\n",
    "target_feature_name = 'rotors_present'"
   ]
  },
  {
   "cell_type": "markdown",
   "id": "b7de9bdc-8f6b-4264-923d-bfbe645503b5",
   "metadata": {},
   "source": [
    "### Train/test split\n",
    "\n",
    "Split based on year to avoid correlations between train and test sets."
   ]
  },
  {
   "cell_type": "code",
   "execution_count": 20,
   "id": "ea031e48-ad63-49bd-ae5e-247f2faa0d1f",
   "metadata": {},
   "outputs": [],
   "source": [
    "train_df = rotors_df[rotors_df['time'] < datetime.datetime(2020,1,1,0,0)]\n",
    "val_df = rotors_df[rotors_df['time'] > datetime.datetime(2020,1,1,0,0)]"
   ]
  },
  {
   "cell_type": "code",
   "execution_count": 21,
   "id": "80a795db-7530-4172-90eb-40f752d97b48",
   "metadata": {},
   "outputs": [],
   "source": [
    "input_feature_names = temp_feature_names + humidity_feature_names + u_wind_feature_names + v_wind_feature_names"
   ]
  },
  {
   "cell_type": "code",
   "execution_count": 22,
   "id": "86f5daf4-bacf-4485-aa1a-0269414e20e3",
   "metadata": {},
   "outputs": [],
   "source": [
    "preproc_dict = {}\n",
    "for if1 in input_feature_names:\n",
    "    scaler1 = sklearn.preprocessing.StandardScaler()\n",
    "    scaler1.fit(train_df[[if1]])\n",
    "    preproc_dict[if1] = scaler1"
   ]
  },
  {
   "cell_type": "code",
   "execution_count": 23,
   "id": "0493be9a-8cba-45de-a292-19ca89c9642b",
   "metadata": {},
   "outputs": [
    {
     "data": {
      "text/plain": [
       "LabelEncoder()"
      ]
     },
     "execution_count": 23,
     "metadata": {},
     "output_type": "execute_result"
    }
   ],
   "source": [
    "target_encoder = sklearn.preprocessing.LabelEncoder()\n",
    "target_encoder.fit(train_df[[target_feature_name]])"
   ]
  },
  {
   "cell_type": "code",
   "execution_count": 24,
   "id": "76262906-8df9-426c-98aa-2838eaa4aac9",
   "metadata": {},
   "outputs": [],
   "source": [
    "def preproc_input(data_subset, pp_dict):\n",
    "    return numpy.concatenate([scaler1.transform(data_subset[[if1]]) for if1,scaler1 in pp_dict.items()],axis=1)\n",
    "\n",
    "def preproc_target(data_subset, enc1):\n",
    "     return enc1.transform(data_subset[[target_feature_name]])"
   ]
  },
  {
   "cell_type": "code",
   "execution_count": 25,
   "id": "b30332d1-3955-49d6-94a2-82af6642ec75",
   "metadata": {},
   "outputs": [],
   "source": [
    "X_train = preproc_input(train_df, preproc_dict)\n",
    "y_train = numpy.concatenate(\n",
    "    [preproc_target(train_df, target_encoder).reshape((-1,1)),\n",
    "    1.0 - (preproc_target(train_df, target_encoder).reshape((-1,1))),],\n",
    "    axis=1\n",
    ")"
   ]
  },
  {
   "cell_type": "code",
   "execution_count": 26,
   "id": "a2064537-abc2-4d19-b2a1-dc0516fbc6c1",
   "metadata": {},
   "outputs": [],
   "source": [
    "X_val = preproc_input(val_df, preproc_dict)\n",
    "y_val = numpy.concatenate(\n",
    "    [preproc_target(val_df, target_encoder).reshape((-1,1)),\n",
    "    1.0 - (preproc_target(val_df, target_encoder).reshape((-1,1))),],\n",
    "    axis=1\n",
    ")"
   ]
  },
  {
   "cell_type": "markdown",
   "id": "5a262a54-9489-480e-947f-544627129cbb",
   "metadata": {},
   "source": [
    "### Set up experiment tracking - ML Flow\n",
    "What is an experiment vs a run \n",
    "\n",
    "https://www.mlflow.org/docs/latest/concepts.html"
   ]
  },
  {
   "cell_type": "code",
   "execution_count": 27,
   "id": "5b3ea948-abfb-4954-8d39-dc24c818ecc3",
   "metadata": {},
   "outputs": [],
   "source": [
    "rse_rotors_experiment_name = 'rse_mlops_demo_rotors'"
   ]
  },
  {
   "cell_type": "code",
   "execution_count": 28,
   "id": "973d8e79-f46a-4008-a3a1-97589a93524b",
   "metadata": {},
   "outputs": [],
   "source": [
    "timestamp_template = '{dt.year:04d}{dt.month:02d}{dt.day:02d}T{dt.hour:02d}{dt.minute:02d}{dt.second:02d}'"
   ]
  },
  {
   "cell_type": "code",
   "execution_count": 29,
   "id": "054dfce5-65ea-41f2-9772-eab4dcda050c",
   "metadata": {},
   "outputs": [],
   "source": [
    "rse_run_name_template = 'rse_rotors_{network_name}_' + timestamp_template"
   ]
  },
  {
   "cell_type": "code",
   "execution_count": 30,
   "id": "93d5e3f4-f6c6-4d9b-b7b8-dccfb861ed04",
   "metadata": {},
   "outputs": [
    {
     "data": {
      "text/plain": [
       "'http://127.0.0.1:5001'"
      ]
     },
     "execution_count": 30,
     "metadata": {},
     "output_type": "execute_result"
    }
   ],
   "source": [
    "mlflow_server_address = '127.0.0.1'\n",
    "mlflow_server_port = mlflow_dash_port\n",
    "mlflow_server_uri = f'http://{mlflow_server_address}:{mlflow_server_port:d}'\n",
    "mlflow_server_uri"
   ]
  },
  {
   "cell_type": "code",
   "execution_count": 31,
   "id": "bb06a066-4875-42b6-9efa-9f7d6e32336c",
   "metadata": {},
   "outputs": [],
   "source": [
    "mlflow.set_tracking_uri(mlflow_server_uri)"
   ]
  },
  {
   "cell_type": "code",
   "execution_count": 32,
   "id": "449510d2-c0b6-413d-83a3-4c0aa8faccd8",
   "metadata": {},
   "outputs": [
    {
     "name": "stdout",
     "output_type": "stream",
     "text": [
      "creating experiment\n"
     ]
    },
    {
     "data": {
      "text/plain": [
       "<Experiment: artifact_location='/Users/stephen.haddad/data/ukrse2022/artifacts/1', experiment_id='1', lifecycle_stage='active', name='rse_mlops_demo_rotors', tags={}>"
      ]
     },
     "execution_count": 32,
     "metadata": {},
     "output_type": "execute_result"
    }
   ],
   "source": [
    "try: \n",
    "    print('creating experiment')\n",
    "    rse_rotors_exp_id = mlflow.create_experiment(rse_rotors_experiment_name)\n",
    "    rse_rotors_exp = mlflow.get_experiment(rse_rotors_exp_id)\n",
    "except mlflow.exceptions.RestException:\n",
    "    rse_rotors_exp = mlflow.get_experiment_by_name(rse_rotors_experiment_name)\n",
    "rse_rotors_exp\n",
    "\n"
   ]
  },
  {
   "cell_type": "markdown",
   "id": "60e3a9f7-bd95-4d69-b380-a2c4122c2f97",
   "metadata": {},
   "source": [
    "### Set up model architecture hyperparameters"
   ]
  },
  {
   "cell_type": "code",
   "execution_count": 33,
   "id": "1e8169a5-f82b-48ab-9011-8e8a535f3248",
   "metadata": {},
   "outputs": [],
   "source": [
    "def build_ffnn_model(hyperparameters, input_shape):\n",
    "    \"\"\"\n",
    "    Build a feed forward neural network model in tensorflow for predicting the occurence of turbulent orographically driven wind gusts called Rotors.\n",
    "    \"\"\"\n",
    "    model = tensorflow.keras.models.Sequential()\n",
    "    model.add(tensorflow.keras.layers.Dropout(hyperparameters['drop_out_rate'], \n",
    "                                              input_shape=input_shape))\n",
    "    for i in numpy.arange(0,hyperparameters['n_layers']):\n",
    "        model.add(tensorflow.keras.layers.Dense(hyperparameters['n_nodes'], \n",
    "                                                activation=hyperparameters['activation'], \n",
    "                                                kernel_constraint=tensorflow.keras.constraints.max_norm(3)))\n",
    "        model.add(tensorflow.keras.layers.Dropout(hyperparameters['drop_out_rate']))\n",
    "    model.add(tensorflow.keras.layers.Dense(2, activation='softmax'))             # This is the output layer\n",
    "    return model\n"
   ]
  },
  {
   "cell_type": "code",
   "execution_count": 34,
   "id": "9a40187a-e968-4b01-bd16-5a387d58a318",
   "metadata": {},
   "outputs": [],
   "source": [
    "nx = X_train.shape[1]\n",
    "input_shape = (nx,)"
   ]
  },
  {
   "cell_type": "code",
   "execution_count": 35,
   "id": "a448fc6d-7605-426f-8750-2ada22900ea9",
   "metadata": {},
   "outputs": [],
   "source": [
    "hyperparameters_dict = {\n",
    "    'initial_learning_rate': 1.0e-4,\n",
    "    'drop_out_rate': 0.2,\n",
    "    'n_epochs': 100,\n",
    "    'batch_size': 1000,\n",
    "    'n_nodes': 1000,\n",
    "    'n_layers': 4,\n",
    "    'activation': 'relu',\n",
    "    'loss': 'mse'\n",
    "}"
   ]
  },
  {
   "cell_type": "markdown",
   "id": "a7b8ad01-ed3a-45d0-a29a-582582a32f11",
   "metadata": {},
   "source": [
    "### Train model and setup monitoring\n",
    "\n",
    "Tools:\n",
    "* tensorboard\n",
    "* tensorflow\n",
    "* mlflow\n"
   ]
  },
  {
   "cell_type": "code",
   "execution_count": 36,
   "id": "07a74806-91be-4d71-97b9-42684f279fb4",
   "metadata": {},
   "outputs": [
    {
     "data": {
      "text/plain": [
       "PosixPath('/Users/stephen.haddad/data/ukrse2022/log_tensorboard')"
      ]
     },
     "execution_count": 36,
     "metadata": {},
     "output_type": "execute_result"
    }
   ],
   "source": [
    "log_dir_tensorboard = rse_root_data_dir / 'log_tensorboard' \n",
    "if not log_dir_tensorboard.is_dir():\n",
    "    log_dir_tensorboard.mkdir()\n",
    "    print(f'created tensorboard log directory {log_dir_tensorboard}')    \n",
    "log_dir_tensorboard"
   ]
  },
  {
   "cell_type": "code",
   "execution_count": 37,
   "id": "61371d9c-1e0e-4f69-8ccc-ab164edb5620",
   "metadata": {},
   "outputs": [],
   "source": [
    "tensorboard_callback = tensorflow.keras.callbacks.TensorBoard(log_dir=log_dir_tensorboard, \n",
    "                                                              histogram_freq=1)"
   ]
  },
  {
   "cell_type": "code",
   "execution_count": 38,
   "id": "250970b6-eb9c-4153-a55d-0e43162465b7",
   "metadata": {},
   "outputs": [
    {
     "data": {
      "text/plain": [
       "PosixPath('/Users/stephen.haddad/data/ukrse2022/log_tensorboard')"
      ]
     },
     "execution_count": 38,
     "metadata": {},
     "output_type": "execute_result"
    }
   ],
   "source": [
    "log_dir_tensorboard"
   ]
  },
  {
   "cell_type": "code",
   "execution_count": 39,
   "id": "bba04066-0ee9-41c2-a959-0371ca99267e",
   "metadata": {},
   "outputs": [
    {
     "data": {
      "text/html": [
       "\n",
       "      <iframe id=\"tensorboard-frame-35c9147f186c5631\" width=\"100%\" height=\"800\" frameborder=\"0\">\n",
       "      </iframe>\n",
       "      <script>\n",
       "        (function() {\n",
       "          const frame = document.getElementById(\"tensorboard-frame-35c9147f186c5631\");\n",
       "          const url = new URL(\"/\", window.location);\n",
       "          const port = 6006;\n",
       "          if (port) {\n",
       "            url.port = port;\n",
       "          }\n",
       "          frame.src = url;\n",
       "        })();\n",
       "      </script>\n",
       "    "
      ],
      "text/plain": [
       "<IPython.core.display.HTML object>"
      ]
     },
     "metadata": {},
     "output_type": "display_data"
    }
   ],
   "source": [
    "%tensorboard --logdir /Users/stephen.haddad/data/ukrse2022/log_tensorboard"
   ]
  },
  {
   "cell_type": "code",
   "execution_count": 40,
   "id": "446885b6-ced8-4d6b-98c5-b92f43d417f2",
   "metadata": {
    "tags": []
   },
   "outputs": [
    {
     "name": "stdout",
     "output_type": "stream",
     "text": [
      "CPU times: user 3 µs, sys: 1e+03 ns, total: 4 µs\n",
      "Wall time: 6.91 µs\n"
     ]
    },
    {
     "name": "stderr",
     "output_type": "stream",
     "text": [
      "2022-09-02 11:50:50.017514: I tensorflow/core/platform/cpu_feature_guard.cc:151] This TensorFlow binary is optimized with oneAPI Deep Neural Network Library (oneDNN) to use the following CPU instructions in performance-critical operations:  SSE4.1 SSE4.2 AVX AVX2 AVX512F FMA\n",
      "To enable them in other operations, rebuild TensorFlow with the appropriate compiler flags.\n",
      "2022-09-02 11:53:48.183242: W tensorflow/python/util/util.cc:368] Sets are not currently considered sequences, but this may change in the future, so consider avoiding using them.\n"
     ]
    },
    {
     "name": "stdout",
     "output_type": "stream",
     "text": [
      "INFO:tensorflow:Assets written to: /var/folders/w0/2x361bn95wj7lfgl33vksx1w0000gn/T/tmpyjvz9l_j/model/data/model/assets\n"
     ]
    }
   ],
   "source": [
    "%time \n",
    "current_run_name = rse_run_name_template.format(network_name='ffnn',\n",
    "                                                dt=datetime.datetime.now()\n",
    "                                               )\n",
    "with mlflow.start_run(experiment_id=rse_rotors_exp.experiment_id, run_name=current_run_name) as current_run:\n",
    "    rotors_ffnn_model = build_ffnn_model(hyperparameters=hyperparameters_dict,\n",
    "                                     input_shape=input_shape,\n",
    "                                    )\n",
    "    rotors_ffnn_optimizer = tensorflow.optimizers.Adam(\n",
    "        learning_rate=hyperparameters_dict['initial_learning_rate'])  \n",
    "    \n",
    "    rotors_ffnn_model.compile(optimizer=rotors_ffnn_optimizer, \n",
    "                          loss=hyperparameters_dict['loss'], \n",
    "                          metrics=[tensorflow.keras.metrics.RootMeanSquaredError()])\n",
    "    \n",
    "    history=rotors_ffnn_model.fit(\n",
    "        X_train, \n",
    "        y_train, \n",
    "        validation_data=(X_val, \n",
    "                          y_val), \n",
    "        epochs=hyperparameters_dict['n_epochs'], \n",
    "        batch_size=hyperparameters_dict['batch_size'], \n",
    "        shuffle=True,\n",
    "        verbose=0,\n",
    "        callbacks=[tensorboard_callback],\n",
    "    )    \n",
    "    "
   ]
  },
  {
   "cell_type": "code",
   "execution_count": 41,
   "id": "13ecc5e3-253f-4649-9a05-83edcdf81c01",
   "metadata": {},
   "outputs": [
    {
     "data": {
      "text/plain": [
       "<Experiment: artifact_location='/Users/stephen.haddad/data/ukrse2022/artifacts/1', experiment_id='1', lifecycle_stage='active', name='rse_mlops_demo_rotors', tags={}>"
      ]
     },
     "execution_count": 41,
     "metadata": {},
     "output_type": "execute_result"
    }
   ],
   "source": [
    "rse_rotors_exp"
   ]
  },
  {
   "cell_type": "markdown",
   "id": "7ed7bb2b-94f6-4058-8094-052734c8f96f",
   "metadata": {},
   "source": [
    "##  Example - Hyperparameter tuning in ray\n",
    "\n",
    "As explained in the introduction to this notebook, the processing of training a machine learning algorithm calculate the *parameters* of the model. There are addtional config values not calculated by the training process that are determined by the data scientist doing the training which are called hyperparameters. The values of these hyperparameters are typically problem dependant and so change from problem to problem, even within a project. While over time one may develop an intuition for what hyperparameter values are suitable in a particular context, typically these values are determined in an outer training loop, called hyperparameter tuning.\n",
    "\n",
    "In hyperparameter tuning, many models are trained, each with different hyperparameters. Commons ways to select candidate hyperparameter combinations are through a grid search through the n-dimensional hyperparameter space, or specifying possible hyperparameter values as independent distributions that are randomly sampled n times for n trials. Typically the hyperparameters for the trained model that scores best on the particular metric of choice will be chosen for the particular problem from then on.\n",
    "\n",
    "As each of these trials is completely independent, its an easy workflow (conceptually at least) to execute in parallel. One can actually do this entirely manually by just setting up many different training runs with different hyperparameter runs. There are many ways to make mistakes in gathering and selecting the best results and saving output for evidence, as well as easily scaling up to run these trials in parallel etc. It is best to use existing tools to facilitate scaling and reproducability.\n",
    "\n",
    "In this example, we are now going to do hyperparameter tuning using the *Ray* library, which is a python library for facilitating parallel, distributed computing. In this example we are just going to run on a local cluster to make thing easier for this tutorial, but ray provides facilities to easily set up a cliuster of ray worker on a linux cluster or a cloud VM  or a kubernetes cluster or almost any distributed computing platform.\n",
    "\n",
    "Facilitating such use of tools and compute resources is where RSEs add value to a project so that research requirements determine technical implementation, not the other way around, and ensuring the best trained ML model is used to produce the best research outputs.\n",
    "\n",
    "Ray docs:\n",
    "* [ray tune docs](https://docs.ray.io/en/latest/tune/index.html)\n",
    "* []https://docs.ray.io/en/latest/tune/examples/tune_mnist_keras.html#tune-mnist-keras\n"
   ]
  },
  {
   "cell_type": "code",
   "execution_count": 42,
   "id": "9bc1a204-96ba-4ab7-8c22-555e14308dc3",
   "metadata": {},
   "outputs": [],
   "source": [
    "import rotors_hpt"
   ]
  },
  {
   "cell_type": "code",
   "execution_count": 43,
   "id": "417f07c8-1659-4829-8fd9-b14d0f911c8a",
   "metadata": {},
   "outputs": [],
   "source": [
    "import ray\n",
    "import ray.tune\n",
    "import ray.tune.schedulers \n",
    "import ray.tune.integration.keras"
   ]
  },
  {
   "cell_type": "code",
   "execution_count": 44,
   "id": "59deddd6-9c2f-4a84-9c5c-6e9fe1b9938c",
   "metadata": {},
   "outputs": [],
   "source": [
    "num_training_terations=20"
   ]
  },
  {
   "cell_type": "markdown",
   "id": "4d2dd815-837c-432f-83c4-749393fa49fe",
   "metadata": {},
   "source": [
    "Here we initialise ray (this should only be called once), so that we can view the ray dashboard to monitor progress on the specifed URL `http://127.0.0.1:5003`."
   ]
  },
  {
   "cell_type": "code",
   "execution_count": 45,
   "id": "b8a404e5-1ffc-4618-a4ec-6e97f528aaa2",
   "metadata": {},
   "outputs": [
    {
     "data": {
      "text/plain": [
       "RayContext(dashboard_url='', python_version='3.8.13', ray_version='1.13.0', ray_commit='e4ce38d001dbbe09cd21c497fedd03d692b2be3e', address_info={'node_ip_address': '127.0.0.1', 'raylet_ip_address': '127.0.0.1', 'redis_address': None, 'object_store_address': '/tmp/ray/session_2022-09-02_11-53-54_362644_9954/sockets/plasma_store', 'raylet_socket_name': '/tmp/ray/session_2022-09-02_11-53-54_362644_9954/sockets/raylet', 'webui_url': '', 'session_dir': '/tmp/ray/session_2022-09-02_11-53-54_362644_9954', 'metrics_export_port': 61913, 'gcs_address': '127.0.0.1:61846', 'address': '127.0.0.1:61846', 'node_id': '16340e3d257b2916205421ea82b677185e1eb8699c77067ef59e0d72'})"
      ]
     },
     "execution_count": 45,
     "metadata": {},
     "output_type": "execute_result"
    }
   ],
   "source": [
    "ray.init(num_cpus=4, dashboard_port=ray_dash_port, dashboard_host='127.0.0.1')\n"
   ]
  },
  {
   "cell_type": "markdown",
   "id": "299ae45a-9d36-49af-a8dc-1ca00a504738",
   "metadata": {},
   "source": [
    "Now we specify distributions of for the hyperparameters we want to tune."
   ]
  },
  {
   "cell_type": "code",
   "execution_count": 46,
   "id": "c1288fd5-6825-49e2-937d-f3804f7c702f",
   "metadata": {},
   "outputs": [],
   "source": [
    "rotors_hpt_config = {\n",
    "    'initial_learning_rate': ray.tune.uniform(1e-5,1e-3),\n",
    "    'n_nodes': ray.tune.randint(100,500),\n",
    "    'n_layers': ray.tune.randint(2,6)\n",
    "}"
   ]
  },
  {
   "cell_type": "markdown",
   "id": "38b99fb8-1005-43db-b36d-462cbb3743b9",
   "metadata": {},
   "source": [
    "We then set up a hyperparameter job that will execute on our local ray cluster."
   ]
  },
  {
   "cell_type": "code",
   "execution_count": 47,
   "id": "0161cc4d-91ba-4c6f-9c19-32480010a80e",
   "metadata": {},
   "outputs": [
    {
     "data": {
      "text/html": [
       "== Status ==<br>Current time: 2022-09-02 11:56:00 (running for 00:02:01.94)<br>Memory usage on this node: 9.5/16.0 GiB<br>Using AsyncHyperBand: num_stopped=0\n",
       "Bracket: Iter 320.000: None | Iter 80.000: None | Iter 20.000: 0.1481497883796692<br>Resources requested: 0/4 CPUs, 0/0 GPUs, 0.0/4.87 GiB heap, 0.0/2.0 GiB objects<br>Current best trial: 8c286_00004 with root_mean_squared_error=0.14818879961967468 and parameters={'initial_learning_rate': 0.0009346367481620676, 'n_nodes': 380, 'n_layers': 3}<br>Result logdir: /Users/stephen.haddad/ray_results/rse_rotors_hpt<br>Number of trials: 10/10 (10 TERMINATED)<br><table>\n",
       "<thead>\n",
       "<tr><th>Trial name                 </th><th>status    </th><th>loc            </th><th style=\"text-align: right;\">  initial_learning_rate</th><th style=\"text-align: right;\">  n_layers</th><th style=\"text-align: right;\">  n_nodes</th><th style=\"text-align: right;\">  iter</th><th style=\"text-align: right;\">  total time (s)</th><th style=\"text-align: right;\">  root_mean_squared_error</th></tr>\n",
       "</thead>\n",
       "<tbody>\n",
       "<tr><td>run_ml_pipeline_8c286_00000</td><td>TERMINATED</td><td>127.0.0.1:10094</td><td style=\"text-align: right;\">            0.000146297</td><td style=\"text-align: right;\">         2</td><td style=\"text-align: right;\">      474</td><td style=\"text-align: right;\">    20</td><td style=\"text-align: right;\">         22.4654</td><td style=\"text-align: right;\">                 0.145108</td></tr>\n",
       "<tr><td>run_ml_pipeline_8c286_00001</td><td>TERMINATED</td><td>127.0.0.1:10097</td><td style=\"text-align: right;\">            0.000673807</td><td style=\"text-align: right;\">         3</td><td style=\"text-align: right;\">      479</td><td style=\"text-align: right;\">    20</td><td style=\"text-align: right;\">         26.7092</td><td style=\"text-align: right;\">                 0.148188</td></tr>\n",
       "<tr><td>run_ml_pipeline_8c286_00002</td><td>TERMINATED</td><td>127.0.0.1:10094</td><td style=\"text-align: right;\">            0.000993082</td><td style=\"text-align: right;\">         2</td><td style=\"text-align: right;\">      115</td><td style=\"text-align: right;\">    20</td><td style=\"text-align: right;\">         22.8935</td><td style=\"text-align: right;\">                 0.139948</td></tr>\n",
       "<tr><td>run_ml_pipeline_8c286_00003</td><td>TERMINATED</td><td>127.0.0.1:10097</td><td style=\"text-align: right;\">            0.000650049</td><td style=\"text-align: right;\">         3</td><td style=\"text-align: right;\">      129</td><td style=\"text-align: right;\">    20</td><td style=\"text-align: right;\">         20.7422</td><td style=\"text-align: right;\">                 0.142927</td></tr>\n",
       "<tr><td>run_ml_pipeline_8c286_00004</td><td>TERMINATED</td><td>127.0.0.1:10094</td><td style=\"text-align: right;\">            0.000934637</td><td style=\"text-align: right;\">         3</td><td style=\"text-align: right;\">      380</td><td style=\"text-align: right;\">    20</td><td style=\"text-align: right;\">         23.7122</td><td style=\"text-align: right;\">                 0.148189</td></tr>\n",
       "<tr><td>run_ml_pipeline_8c286_00005</td><td>TERMINATED</td><td>127.0.0.1:10097</td><td style=\"text-align: right;\">            0.000699673</td><td style=\"text-align: right;\">         2</td><td style=\"text-align: right;\">      235</td><td style=\"text-align: right;\">    20</td><td style=\"text-align: right;\">         21.8068</td><td style=\"text-align: right;\">                 0.147493</td></tr>\n",
       "<tr><td>run_ml_pipeline_8c286_00006</td><td>TERMINATED</td><td>127.0.0.1:10094</td><td style=\"text-align: right;\">            0.00051609 </td><td style=\"text-align: right;\">         5</td><td style=\"text-align: right;\">      234</td><td style=\"text-align: right;\">    20</td><td style=\"text-align: right;\">         23.5405</td><td style=\"text-align: right;\">                 0.148186</td></tr>\n",
       "<tr><td>run_ml_pipeline_8c286_00007</td><td>TERMINATED</td><td>127.0.0.1:10097</td><td style=\"text-align: right;\">            0.000456528</td><td style=\"text-align: right;\">         5</td><td style=\"text-align: right;\">      139</td><td style=\"text-align: right;\">    20</td><td style=\"text-align: right;\">         23.1664</td><td style=\"text-align: right;\">                 0.14426 </td></tr>\n",
       "<tr><td>run_ml_pipeline_8c286_00008</td><td>TERMINATED</td><td>127.0.0.1:10094</td><td style=\"text-align: right;\">            0.000210488</td><td style=\"text-align: right;\">         2</td><td style=\"text-align: right;\">      276</td><td style=\"text-align: right;\">    20</td><td style=\"text-align: right;\">         21.5508</td><td style=\"text-align: right;\">                 0.148041</td></tr>\n",
       "<tr><td>run_ml_pipeline_8c286_00009</td><td>TERMINATED</td><td>127.0.0.1:10097</td><td style=\"text-align: right;\">            0.000578361</td><td style=\"text-align: right;\">         2</td><td style=\"text-align: right;\">      305</td><td style=\"text-align: right;\">    20</td><td style=\"text-align: right;\">         20.989 </td><td style=\"text-align: right;\">                 0.148031</td></tr>\n",
       "</tbody>\n",
       "</table><br><br>"
      ],
      "text/plain": [
       "<IPython.core.display.HTML object>"
      ]
     },
     "metadata": {},
     "output_type": "display_data"
    },
    {
     "name": "stderr",
     "output_type": "stream",
     "text": [
      "2022-09-02 11:56:00,839\tINFO tune.py:747 -- Total run time: 122.10 seconds (121.93 seconds for the tuning loop).\n"
     ]
    }
   ],
   "source": [
    "rotors_hpt_analysis = ray.tune.run(\n",
    "    rotors_hpt.run_ml_pipeline,\n",
    "    name=\"rse_rotors_hpt\",\n",
    "    scheduler=ray.tune.schedulers.AsyncHyperBandScheduler(\n",
    "        time_attr=\"training_iteration\", \n",
    "        max_t=400, \n",
    "        grace_period=20,\n",
    "    ),\n",
    "    metric=\"root_mean_squared_error\",\n",
    "    mode=\"max\",\n",
    "    stop={\"root_mean_squared_error\": 0.99, \n",
    "          \"training_iteration\": num_training_terations},\n",
    "    num_samples=10,\n",
    "    resources_per_trial={\"cpu\": 2,\n",
    "                         \"gpu\": 0},\n",
    "    config=rotors_hpt_config,\n",
    "    progress_reporter=ray.tune.JupyterNotebookReporter(overwrite=True),\n",
    "    )"
   ]
  },
  {
   "cell_type": "markdown",
   "id": "1609aa66-09c7-4cdc-8644-8513d07cb814",
   "metadata": {},
   "source": [
    "Once the job has run, we can then interrogate the results and find the best hyperparameters found from our search. In this case we've done quite a sdmall search so we might not have found the best values, as this is more illustrative of how to do it."
   ]
  },
  {
   "cell_type": "code",
   "execution_count": 48,
   "id": "09f5a15c-ae7d-4b48-8a3d-c01232411fb3",
   "metadata": {},
   "outputs": [
    {
     "name": "stdout",
     "output_type": "stream",
     "text": [
      "8c286_00000 - 0.1451084166765213\n",
      "8c286_00001 - 0.1481884866952896\n",
      "8c286_00002 - 0.13994833827018738\n",
      "8c286_00003 - 0.1429273784160614\n",
      "8c286_00004 - 0.14818879961967468\n",
      "8c286_00005 - 0.14749304950237274\n",
      "8c286_00006 - 0.14818613231182098\n",
      "8c286_00007 - 0.144259974360466\n",
      "8c286_00008 - 0.1480407565832138\n",
      "8c286_00009 - 0.14803124964237213\n"
     ]
    }
   ],
   "source": [
    "print('\\n'.join([f'{k1} - {v1[\"root_mean_squared_error\"]}' for k1,v1 in rotors_hpt_analysis.results.items()]))"
   ]
  },
  {
   "cell_type": "code",
   "execution_count": 49,
   "id": "74da2f2d-7a82-49c3-8a7e-f1fb97ed9d2e",
   "metadata": {},
   "outputs": [
    {
     "data": {
      "text/plain": [
       "{'initial_learning_rate': 0.0009346367481620676, 'n_nodes': 380, 'n_layers': 3}"
      ]
     },
     "execution_count": 49,
     "metadata": {},
     "output_type": "execute_result"
    }
   ],
   "source": [
    "rotors_hpt_analysis.best_config"
   ]
  },
  {
   "cell_type": "code",
   "execution_count": 50,
   "id": "7bfd2afc-50a3-4a54-b675-cb0672f3580d",
   "metadata": {},
   "outputs": [
    {
     "data": {
      "text/plain": [
       "run_ml_pipeline_8c286_00004"
      ]
     },
     "execution_count": 50,
     "metadata": {},
     "output_type": "execute_result"
    }
   ],
   "source": [
    "rotors_hpt_analysis.best_trial"
   ]
  },
  {
   "cell_type": "code",
   "execution_count": 51,
   "id": "039815cb-a76e-4a53-a668-bf8eeddbc292",
   "metadata": {},
   "outputs": [
    {
     "data": {
      "text/plain": [
       "{'root_mean_squared_error': 0.14818879961967468,\n",
       " 'time_this_iter_s': 0.25099873542785645,\n",
       " 'done': True,\n",
       " 'timesteps_total': None,\n",
       " 'episodes_total': None,\n",
       " 'training_iteration': 20,\n",
       " 'trial_id': '8c286_00004',\n",
       " 'experiment_id': 'f2c7b77c247b4efa80f1309e442788b3',\n",
       " 'date': '2022-09-02_11-55-12',\n",
       " 'timestamp': 1662116112,\n",
       " 'time_total_s': 23.712169885635376,\n",
       " 'pid': 10094,\n",
       " 'hostname': 'Stephens-MBP',\n",
       " 'node_ip': '127.0.0.1',\n",
       " 'config': {'initial_learning_rate': 0.0009346367481620676,\n",
       "  'n_nodes': 380,\n",
       "  'n_layers': 3},\n",
       " 'time_since_restore': 23.712169885635376,\n",
       " 'timesteps_since_restore': 0,\n",
       " 'iterations_since_restore': 20,\n",
       " 'warmup_time': 0.0039730072021484375,\n",
       " 'experiment_tag': '4_initial_learning_rate=0.0009,n_layers=3,n_nodes=380'}"
      ]
     },
     "execution_count": 51,
     "metadata": {},
     "output_type": "execute_result"
    }
   ],
   "source": [
    "rotors_hpt_analysis.best_result"
   ]
  },
  {
   "cell_type": "markdown",
   "id": "424b6755-5eef-473d-85f7-8f39bcc0fda6",
   "metadata": {},
   "source": [
    "# Example - save the model \n",
    "\n",
    "Having trained a model, possibly through hyperparameter tuning, we want our model to persist and so we need to store the trained weights and the architecture do describe the strcuture of the model to disk in a file of some sort. This is the first step in treating our models as *machine learning assets* that like data and code should follow *FAIR* principles.\n",
    "\n",
    "We will use explore several way to save our models. The first is to use the ML framework we're using for our model, in this case the Keras interface to Tensorflow. Secondly we'll use ML Flow, the experiment tracking tool which provides a framework independent way to save and load models. thirdly we'll look at a completely separate tool which is intended as an open standard way for exchanging machine learning models called *Open Neural-network eXchange* format or ONNX.\n",
    "\n",
    "Docs:\n",
    "* [Keras Model Saving/Loading](https://www.tensorflow.org/guide/keras/save_and_serialize)\n",
    "* [ML Flow Models](https://www.mlflow.org/docs/latest/models.html)\n",
    "* [ONNX](https://onnxruntime.ai/docs/)\n"
   ]
  },
  {
   "cell_type": "markdown",
   "id": "b14811d5-0326-4396-87b6-9032f1d55119",
   "metadata": {},
   "source": [
    "### Keras model format\n",
    "\n",
    "First we'll use the framework specific keras format to save our model."
   ]
  },
  {
   "cell_type": "code",
   "execution_count": 61,
   "id": "fcc020b2-c18a-403e-a00c-1ce7a34a6571",
   "metadata": {},
   "outputs": [
    {
     "name": "stdout",
     "output_type": "stream",
     "text": [
      "Model: \"sequential\"\n",
      "_________________________________________________________________\n",
      " Layer (type)                Output Shape              Param #   \n",
      "=================================================================\n",
      " dropout (Dropout)           (None, 88)                0         \n",
      "                                                                 \n",
      " dense (Dense)               (None, 1000)              89000     \n",
      "                                                                 \n",
      " dropout_1 (Dropout)         (None, 1000)              0         \n",
      "                                                                 \n",
      " dense_1 (Dense)             (None, 1000)              1001000   \n",
      "                                                                 \n",
      " dropout_2 (Dropout)         (None, 1000)              0         \n",
      "                                                                 \n",
      " dense_2 (Dense)             (None, 1000)              1001000   \n",
      "                                                                 \n",
      " dropout_3 (Dropout)         (None, 1000)              0         \n",
      "                                                                 \n",
      " dense_3 (Dense)             (None, 1000)              1001000   \n",
      "                                                                 \n",
      " dropout_4 (Dropout)         (None, 1000)              0         \n",
      "                                                                 \n",
      " dense_4 (Dense)             (None, 2)                 2002      \n",
      "                                                                 \n",
      "=================================================================\n",
      "Total params: 3,094,002\n",
      "Trainable params: 3,094,002\n",
      "Non-trainable params: 0\n",
      "_________________________________________________________________\n"
     ]
    }
   ],
   "source": [
    "rotors_ffnn_model.summary()"
   ]
  },
  {
   "cell_type": "code",
   "execution_count": 62,
   "id": "11364535-21fa-4bbe-a54d-6087099289e6",
   "metadata": {},
   "outputs": [
    {
     "data": {
      "text/plain": [
       "PosixPath('/Users/stephen.haddad/data/ukrse2022/keras_model')"
      ]
     },
     "execution_count": 62,
     "metadata": {},
     "output_type": "execute_result"
    }
   ],
   "source": [
    "model_keras_export_path = rse_root_data_dir / 'keras_model'\n",
    "model_keras_export_path\n"
   ]
  },
  {
   "cell_type": "code",
   "execution_count": 63,
   "id": "51fe69b1-c7bf-4114-a634-c96eade78743",
   "metadata": {},
   "outputs": [
    {
     "name": "stdout",
     "output_type": "stream",
     "text": [
      "INFO:tensorflow:Assets written to: /Users/stephen.haddad/data/ukrse2022/keras_model/assets\n"
     ]
    }
   ],
   "source": [
    "rotors_ffnn_model.save(model_keras_export_path)"
   ]
  },
  {
   "cell_type": "code",
   "execution_count": 67,
   "id": "d309d7b9-2c7b-4764-9f64-2b7d25af3e7f",
   "metadata": {},
   "outputs": [
    {
     "data": {
      "text/plain": [
       "[PosixPath('/Users/stephen.haddad/data/ukrse2022/keras_model/keras_metadata.pb'),\n",
       " PosixPath('/Users/stephen.haddad/data/ukrse2022/keras_model/variables'),\n",
       " PosixPath('/Users/stephen.haddad/data/ukrse2022/keras_model/saved_model.pb'),\n",
       " PosixPath('/Users/stephen.haddad/data/ukrse2022/keras_model/assets'),\n",
       " PosixPath('/Users/stephen.haddad/data/ukrse2022/keras_model/variables/variables.data-00000-of-00001'),\n",
       " PosixPath('/Users/stephen.haddad/data/ukrse2022/keras_model/variables/variables.index')]"
      ]
     },
     "execution_count": 67,
     "metadata": {},
     "output_type": "execute_result"
    }
   ],
   "source": [
    "list(model_keras_export_path.rglob('*'))"
   ]
  },
  {
   "cell_type": "markdown",
   "id": "f24285fe-aace-4ea1-bc27-25da8e6ea4ec",
   "metadata": {},
   "source": [
    "### ML FLOW\n",
    "\n",
    "When we trained our model at the start of the model, we logged all the details using ml flow automatically because at the start of the notebook we called `mlflow.tensorflow.autolog()` so that mlflow automatically logged any calls to `fit` with a tensorflow model. So as we'll see in the next notebook, we can access our saved models through the runs that are logged with ML Flow without explictly saving the model. We can also do an excplicit save outside the default artifact store of our ML Flow server as deomstrasted below."
   ]
  },
  {
   "cell_type": "code",
   "execution_count": 70,
   "id": "d3210a1f-5a4b-44a1-bb87-229fa7705bda",
   "metadata": {},
   "outputs": [
    {
     "data": {
      "text/plain": [
       "PosixPath('/Users/stephen.haddad/data/ukrse2022/mflow_model')"
      ]
     },
     "execution_count": 70,
     "metadata": {},
     "output_type": "execute_result"
    }
   ],
   "source": [
    "mlflow_model_path = rse_root_data_dir / 'mflow_model'\n",
    "mlflow_model_path"
   ]
  },
  {
   "cell_type": "code",
   "execution_count": 71,
   "id": "0b125dcc-fd3e-470d-8616-6475ca64adf9",
   "metadata": {},
   "outputs": [
    {
     "name": "stdout",
     "output_type": "stream",
     "text": [
      "INFO:tensorflow:Assets written to: /Users/stephen.haddad/data/ukrse2022/mflow_model/data/model/assets\n"
     ]
    }
   ],
   "source": [
    "mlflow.keras.save_model(rotors_ffnn_model, mlflow_model_path)"
   ]
  },
  {
   "cell_type": "code",
   "execution_count": 72,
   "id": "a0daaec3-b2bd-4029-a9e4-811e0abe2941",
   "metadata": {},
   "outputs": [
    {
     "data": {
      "text/plain": [
       "[PosixPath('/Users/stephen.haddad/data/ukrse2022/mflow_model/requirements.txt'),\n",
       " PosixPath('/Users/stephen.haddad/data/ukrse2022/mflow_model/MLmodel'),\n",
       " PosixPath('/Users/stephen.haddad/data/ukrse2022/mflow_model/conda.yaml'),\n",
       " PosixPath('/Users/stephen.haddad/data/ukrse2022/mflow_model/data'),\n",
       " PosixPath('/Users/stephen.haddad/data/ukrse2022/mflow_model/data/save_format.txt'),\n",
       " PosixPath('/Users/stephen.haddad/data/ukrse2022/mflow_model/data/keras_module.txt'),\n",
       " PosixPath('/Users/stephen.haddad/data/ukrse2022/mflow_model/data/model'),\n",
       " PosixPath('/Users/stephen.haddad/data/ukrse2022/mflow_model/data/model/keras_metadata.pb'),\n",
       " PosixPath('/Users/stephen.haddad/data/ukrse2022/mflow_model/data/model/variables'),\n",
       " PosixPath('/Users/stephen.haddad/data/ukrse2022/mflow_model/data/model/saved_model.pb'),\n",
       " PosixPath('/Users/stephen.haddad/data/ukrse2022/mflow_model/data/model/assets'),\n",
       " PosixPath('/Users/stephen.haddad/data/ukrse2022/mflow_model/data/model/variables/variables.data-00000-of-00001'),\n",
       " PosixPath('/Users/stephen.haddad/data/ukrse2022/mflow_model/data/model/variables/variables.index')]"
      ]
     },
     "execution_count": 72,
     "metadata": {},
     "output_type": "execute_result"
    }
   ],
   "source": [
    "list(mlflow_model_path.rglob('*'))"
   ]
  },
  {
   "cell_type": "code",
   "execution_count": 77,
   "id": "ca75db94-5ef7-490e-8784-5df9de4add1e",
   "metadata": {},
   "outputs": [
    {
     "data": {
      "text/plain": [
       "<keras.engine.sequential.Sequential at 0x7fbeb529cd90>"
      ]
     },
     "execution_count": 77,
     "metadata": {},
     "output_type": "execute_result"
    }
   ],
   "source": [
    "mlflow.keras.load_model(str(mlflow_model_path) )"
   ]
  },
  {
   "cell_type": "markdown",
   "id": "82a48a3d-1ad6-4b86-82d4-5274d41b4d5a",
   "metadata": {},
   "source": [
    "### ONNX\n",
    "\n",
    "The third format is a standard alone libary for storing models in a common format and a runtime envrionment for inference that is independant of the framework that trained the models. This should (potentially) provide a more stable envirnment for model storage and inference tat does not need to change if the model training pipeline and its dependencies change."
   ]
  },
  {
   "cell_type": "code",
   "execution_count": 54,
   "id": "035fc5a7-b491-4bae-8ac8-c6b1b0ea9ee6",
   "metadata": {},
   "outputs": [],
   "source": [
    "import onnx\n",
    "import tf2onnx"
   ]
  },
  {
   "cell_type": "code",
   "execution_count": 80,
   "id": "9a4747c2-edb9-42aa-b0c3-4dab3f1fd04a",
   "metadata": {},
   "outputs": [
    {
     "name": "stdout",
     "output_type": "stream",
     "text": [
      "Help on function from_keras in module tf2onnx.convert:\n",
      "\n",
      "from_keras(model, input_signature=None, opset=None, custom_ops=None, custom_op_handlers=None, custom_rewriter=None, inputs_as_nchw=None, extra_opset=None, shape_override=None, target=None, large_model=False, output_path=None)\n",
      "    Returns a ONNX model_proto for a tf.keras model.\n",
      "    \n",
      "    Args:\n",
      "        model: the tf.keras model we want to convert\n",
      "        input_signature: a tf.TensorSpec or a numpy array defining the shape/dtype of the input\n",
      "        opset: the opset to be used for the ONNX model, default is the latest\n",
      "        target: list of workarounds applied to help certain platforms\n",
      "        custom_op_handlers: dictionary of custom ops handlers\n",
      "        custom_rewriter: list of custom graph rewriters\n",
      "        extra_opset: list of extra opset's, for example the opset's used by custom ops\n",
      "        shape_override: dict with inputs that override the shapes given by tensorflow\n",
      "        inputs_as_nchw: transpose inputs in list from nchw to nhwc\n",
      "        large_model: use the ONNX external tensor storage format\n",
      "        output_path: save model to output_path\n",
      "    \n",
      "    Returns:\n",
      "        An ONNX model_proto and an external_tensor_storage dict.\n",
      "\n"
     ]
    }
   ],
   "source": [
    "help(tf2onnx.convert.from_keras)"
   ]
  },
  {
   "cell_type": "code",
   "execution_count": 96,
   "id": "1bd1b878-e328-413e-b844-098a7317dedb",
   "metadata": {},
   "outputs": [
    {
     "name": "stderr",
     "output_type": "stream",
     "text": [
      "2022-09-02 17:33:15.862789: I tensorflow/core/grappler/devices.cc:75] Number of eligible GPUs (core count >= 8, compute capability >= 0.0): 0 (Note: TensorFlow was not compiled with CUDA or ROCm support)\n",
      "2022-09-02 17:33:15.862982: I tensorflow/core/grappler/clusters/single_machine.cc:358] Starting new session\n",
      "2022-09-02 17:33:15.864590: I tensorflow/core/grappler/optimizers/meta_optimizer.cc:1164] Optimization results for grappler item: graph_to_optimize\n",
      "  function_optimizer: function_optimizer did nothing. time = 0.004ms.\n",
      "  function_optimizer: function_optimizer did nothing. time = 0.001ms.\n",
      "\n",
      "2022-09-02 17:33:16.128831: I tensorflow/core/grappler/devices.cc:75] Number of eligible GPUs (core count >= 8, compute capability >= 0.0): 0 (Note: TensorFlow was not compiled with CUDA or ROCm support)\n",
      "2022-09-02 17:33:16.128956: I tensorflow/core/grappler/clusters/single_machine.cc:358] Starting new session\n",
      "2022-09-02 17:33:16.242258: I tensorflow/core/grappler/optimizers/meta_optimizer.cc:1164] Optimization results for grappler item: graph_to_optimize\n",
      "  constant_folding: Graph size after: 34 nodes (-10), 43 edges (-10), time = 72.249ms.\n",
      "  function_optimizer: function_optimizer did nothing. time = 0.005ms.\n",
      "  constant_folding: Graph size after: 34 nodes (0), 43 edges (0), time = 8.424ms.\n",
      "  function_optimizer: function_optimizer did nothing. time = 0.003ms.\n",
      "\n"
     ]
    },
    {
     "name": "stdout",
     "output_type": "stream",
     "text": [
      "CPU times: user 1.28 s, sys: 399 ms, total: 1.68 s\n",
      "Wall time: 1.67 s\n"
     ]
    }
   ],
   "source": [
    "%%time\n",
    "rotors_onnx_model, _ = tf2onnx.convert.from_keras(\n",
    "    rotors_ffnn_model,\n",
    "    [tensorflow.TensorSpec(\n",
    "        shape=tensorflow.TensorShape([None,X_train.shape[1] ]),\n",
    "        dtype=X_train.dtype,\n",
    "        name='ukmo_rotors_model_input',\n",
    "    )],\n",
    ")"
   ]
  },
  {
   "cell_type": "code",
   "execution_count": 97,
   "id": "bc651e12-4662-48f3-9aab-502fbac09ee8",
   "metadata": {},
   "outputs": [
    {
     "data": {
      "text/plain": [
       "PosixPath('/Users/stephen.haddad/data/ukrse2022/onnx_model')"
      ]
     },
     "execution_count": 97,
     "metadata": {},
     "output_type": "execute_result"
    }
   ],
   "source": [
    "onnx_model_path = rse_root_data_dir / 'onnx_model'\n",
    "onnx_model_path"
   ]
  },
  {
   "cell_type": "code",
   "execution_count": 101,
   "id": "808fb600-d992-484d-b2ce-53d9818ae04b",
   "metadata": {},
   "outputs": [],
   "source": [
    "onnx.save_model(rotors_onnx_model, str(onnx_model_path))"
   ]
  },
  {
   "cell_type": "code",
   "execution_count": 106,
   "id": "99a886b1-801b-42ca-b7be-1ec7ee0b1ba7",
   "metadata": {},
   "outputs": [
    {
     "data": {
      "text/plain": [
       "os.stat_result(st_mode=33188, st_ino=16819661, st_dev=16777223, st_nlink=1, st_uid=501, st_gid=20, st_size=12378620, st_atime=1662136459, st_mtime=1662136498, st_ctime=1662136498)"
      ]
     },
     "execution_count": 106,
     "metadata": {},
     "output_type": "execute_result"
    }
   ],
   "source": [
    "onnx_model_path.stat()"
   ]
  },
  {
   "cell_type": "code",
   "execution_count": 114,
   "id": "cded42eb-b072-4af3-8712-3ed478cbd1ab",
   "metadata": {},
   "outputs": [],
   "source": [
    "# warning do not try to display, it will freze your notebook!\n",
    "reloaded_onnx_model = onnx.load_model(str(onnx_model_path))"
   ]
  },
  {
   "cell_type": "markdown",
   "id": "8e276609-6641-4d20-a5c8-3be339f6a26a",
   "metadata": {},
   "source": [
    "### Next Steps / Further Reading\n",
    "\n",
    "https://www.mlflow.org/docs/latest/concepts.html\n",
    "\n",
    "https://docs.ray.io/en/latest/tune/getting-started.html\n",
    "https://cloud.google.com/ai-platform/training/docs/hyperparameter-tuning-overview\n"
   ]
  },
  {
   "cell_type": "markdown",
   "id": "f4dc446a-15c6-43e3-a556-2d191f18e432",
   "metadata": {},
   "source": [
    "### References\n",
    "* mlflow\n",
    "* scikit-learn\n",
    "* tensorflow\n",
    "* tensorboard"
   ]
  },
  {
   "cell_type": "markdown",
   "id": "9ed2ef0b-1bd3-4c19-b180-50c339c5eb07",
   "metadata": {},
   "source": []
  }
 ],
 "metadata": {
  "kernelspec": {
   "display_name": "Python 3 (ipykernel)",
   "language": "python",
   "name": "python3"
  },
  "language_info": {
   "codemirror_mode": {
    "name": "ipython",
    "version": 3
   },
   "file_extension": ".py",
   "mimetype": "text/x-python",
   "name": "python",
   "nbconvert_exporter": "python",
   "pygments_lexer": "ipython3",
   "version": "3.8.13"
  }
 },
 "nbformat": 4,
 "nbformat_minor": 5
}
