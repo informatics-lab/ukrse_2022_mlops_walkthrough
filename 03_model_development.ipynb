{
 "cells": [
  {
   "cell_type": "markdown",
   "id": "d10d92d2-c199-482f-9d92-039d2cb5dbe9",
   "metadata": {},
   "source": [
    "# MLOps Walkthrough - Model Development\n",
    "\n",
    "\n",
    "key principles / tasks supported by RSEs\n",
    "* reusable components\n",
    "* running at scale\n",
    "* keeping track of experiements for reporoducability\n",
    "\n"
   ]
  },
  {
   "cell_type": "code",
   "execution_count": null,
   "id": "95a01caf-2fd1-4509-8ee0-5819b391767a",
   "metadata": {},
   "outputs": [],
   "source": [
    "import warnings\n",
    "warnings.filterwarnings('ignore')"
   ]
  },
  {
   "cell_type": "code",
   "execution_count": 1,
   "id": "f8319b23-ecaf-4acf-9919-9e1b4b745ac4",
   "metadata": {},
   "outputs": [],
   "source": [
    "import pathlib\n",
    "import datetime\n",
    "import os\n",
    "import functools\n",
    "import math"
   ]
  },
  {
   "cell_type": "code",
   "execution_count": 2,
   "id": "fd45036d-70ac-4569-96a0-1772efca8ed2",
   "metadata": {},
   "outputs": [],
   "source": [
    "import matplotlib\n",
    "%matplotlib inline"
   ]
  },
  {
   "cell_type": "code",
   "execution_count": 3,
   "id": "8ccbe28e-3dfd-4092-a138-17fc1696a8b5",
   "metadata": {},
   "outputs": [],
   "source": [
    "import numpy\n",
    "import pandas\n",
    "import dask"
   ]
  },
  {
   "cell_type": "code",
   "execution_count": 4,
   "id": "650cc24c-ded1-40b2-a0cb-7641ea5b4f5f",
   "metadata": {},
   "outputs": [],
   "source": [
    "import sklearn\n",
    "import sklearn.preprocessing\n",
    "import sklearn.model_selection"
   ]
  },
  {
   "cell_type": "code",
   "execution_count": 5,
   "id": "cdbe869b-e80e-407b-b8d4-a06983bbf8cf",
   "metadata": {},
   "outputs": [],
   "source": [
    "import tensorflow\n",
    "\n",
    "import tensorflow.keras\n",
    "import tensorflow.keras.layers\n",
    "import tensorflow.keras.models\n",
    "import tensorflow.keras.optimizers\n",
    "import tensorflow.keras.metrics\n",
    "import tensorflow.keras.layers\n",
    "import tensorflow.keras.constraints"
   ]
  },
  {
   "cell_type": "code",
   "execution_count": 6,
   "id": "b524f2f1-23f9-49c4-8ce1-2efc9c428dde",
   "metadata": {},
   "outputs": [],
   "source": [
    "import tensorboard"
   ]
  },
  {
   "cell_type": "code",
   "execution_count": 7,
   "id": "a3e5f0b6-3366-4fbd-8fda-49eaa08ff142",
   "metadata": {},
   "outputs": [],
   "source": [
    "# Load the TensorBoard notebook extension\n",
    "%load_ext tensorboard"
   ]
  },
  {
   "cell_type": "code",
   "execution_count": 8,
   "id": "d4dc663b-930b-4d87-b499-a5ec9a7abb3d",
   "metadata": {},
   "outputs": [
    {
     "name": "stderr",
     "output_type": "stream",
     "text": [
      "2022/08/12 16:23:36 WARNING mlflow.utils.autologging_utils: You are using an unsupported version of tensorflow. If you encounter errors during autologging, try upgrading / downgrading tensorflow to a supported version, or try upgrading MLflow.\n"
     ]
    }
   ],
   "source": [
    "import mlflow\n",
    "mlflow.tensorflow.autolog()"
   ]
  },
  {
   "cell_type": "code",
   "execution_count": 9,
   "id": "e49eccb8-404f-4f7b-ae35-9eca57818712",
   "metadata": {},
   "outputs": [],
   "source": [
    "import intake"
   ]
  },
  {
   "cell_type": "code",
   "execution_count": 10,
   "id": "a0b63f8f-4259-49ad-8a61-eb141b663dd6",
   "metadata": {},
   "outputs": [],
   "source": [
    "mlflow_dash_port = 5001\n",
    "tensorboard_dash_port = 5002\n",
    "ray_dash_port = 5003"
   ]
  },
  {
   "cell_type": "markdown",
   "id": "ef132d5b-aaac-4336-b1ab-ac8a6108ba95",
   "metadata": {},
   "source": [
    "### Load the data"
   ]
  },
  {
   "cell_type": "code",
   "execution_count": null,
   "id": "68a680df-9452-4a0f-96a9-64c326ffafdc",
   "metadata": {},
   "outputs": [],
   "source": [
    "try:\n",
    "    rse_root_data_dir = pathlib.Path(os.environ['RSE22_ROOT_DATA_DIR'])\n",
    "    print('reading from environment variable')\n",
    "except KeyError as ke1:\n",
    "    rse_root_data_dir = pathlib.Path(os.environ['HOME'])  / 'data' / 'ukrse2022'\n",
    "    print('using default path')\n",
    "rse_root_data_dir"
   ]
  },
  {
   "cell_type": "code",
   "execution_count": null,
   "id": "d6f646b1-d07d-42cd-9045-aac9833a7bf7",
   "metadata": {},
   "outputs": [],
   "source": [
    "rotors_catalog = intake.open_catalog(rse_root_data_dir / 'rotors_catalog.yml')\n",
    "rotors_catalog "
   ]
  },
  {
   "cell_type": "code",
   "execution_count": null,
   "id": "f23aba47-9061-487a-bc64-1358abc0ee63",
   "metadata": {},
   "outputs": [],
   "source": [
    "rotors_df = rotors_catalog['rotors'].read()"
   ]
  },
  {
   "cell_type": "code",
   "execution_count": null,
   "id": "4c68273f-ce70-4346-8af0-c119905029ec",
   "metadata": {},
   "outputs": [],
   "source": [
    "rotors_df"
   ]
  },
  {
   "cell_type": "code",
   "execution_count": null,
   "id": "082e6e0b-b374-45b1-b9b6-fb64db1fde5a",
   "metadata": {},
   "outputs": [],
   "source": [
    "rotors_df  = rotors_df [(rotors_df ['wind_speed_obs'] >= 0.0) &\n",
    "                            (rotors_df ['air_temp_obs'] >= 0.0) &\n",
    "                            (rotors_df ['wind_direction_obs'] >= 0.0) &\n",
    "                            (rotors_df ['dewpoint_obs'] >= 0.0) \n",
    "                           ]\n",
    "rotors_df ['DTG'] = dask.dataframe.to_datetime(rotors_df['DTG'])\n",
    "rotors_df  = rotors_df .drop_duplicates(subset=['DTG'])\n",
    "rotors_df  = rotors_df [~rotors_df['DTG'].isnull()]"
   ]
  },
  {
   "cell_type": "code",
   "execution_count": null,
   "id": "cb6cd664-d0c1-4e22-9e09-2808ebeddead",
   "metadata": {},
   "outputs": [],
   "source": [
    "temp_feature_names = [f'air_temp_{i1}' for i1 in range(1,23)]\n",
    "humidity_feature_names = [f'sh_{i1}' for i1 in range(1,23)]\n",
    "wind_direction_feature_names = [f'winddir_{i1}' for i1 in range(1,23)]\n",
    "wind_speed_feature_names = [f'windspd_{i1}' for i1 in range(1,23)]\n",
    "target_feature_name = 'rotors_present'"
   ]
  },
  {
   "cell_type": "code",
   "execution_count": null,
   "id": "10e03ba8-32b5-47f5-928d-b8ef17752c3c",
   "metadata": {},
   "outputs": [],
   "source": [
    "def get_v_wind(wind_dir_name, wind_speed_name, row1):\n",
    "    return math.cos(math.radians(row1[wind_dir_name])) * row1[wind_speed_name]\n",
    "\n",
    "def get_u_wind(wind_dir_name, wind_speed_name, row1):\n",
    "    return math.sin(math.radians(row1[wind_dir_name])) * row1[wind_speed_name]"
   ]
  },
  {
   "cell_type": "code",
   "execution_count": null,
   "id": "0075a1da-644e-416d-8ae7-ab9d0f194989",
   "metadata": {},
   "outputs": [],
   "source": [
    "%%time\n",
    "u_feature_template = 'u_wind_{level_ix}'\n",
    "v_feature_template = 'v_wind_{level_ix}'\n",
    "u_wind_feature_names = []\n",
    "v_wind_features_names = []\n",
    "for wsn1, wdn1 in zip(wind_speed_feature_names, wind_direction_feature_names):\n",
    "    level_ix = int( wsn1.split('_')[1])\n",
    "    u_feature = u_feature_template.format(level_ix=level_ix)\n",
    "    u_wind_feature_names += [u_feature]\n",
    "    rotors_df[u_feature] = rotors_df.apply(functools.partial(get_u_wind, wdn1, wsn1), axis='columns')\n",
    "    v_feature = v_feature_template.format(level_ix=level_ix)\n",
    "    v_wind_features_names += [v_feature]\n",
    "    rotors_df[v_feature] = rotors_df.apply(functools.partial(get_v_wind, wdn1, wsn1), axis='columns')"
   ]
  },
  {
   "cell_type": "markdown",
   "id": "b7de9bdc-8f6b-4264-923d-bfbe645503b5",
   "metadata": {},
   "source": [
    "### Train/test split\n",
    "\n",
    "Split based on year to avoid correlations between train and test sets."
   ]
  },
  {
   "cell_type": "code",
   "execution_count": null,
   "id": "ea031e48-ad63-49bd-ae5e-247f2faa0d1f",
   "metadata": {},
   "outputs": [],
   "source": [
    "train_df = rotors_df[rotors_df['DTG'] < datetime.datetime(2020,1,1,0,0)]\n",
    "val_df = rotors_df[rotors_df['DTG'] > datetime.datetime(2020,1,1,0,0)]"
   ]
  },
  {
   "cell_type": "code",
   "execution_count": null,
   "id": "80a795db-7530-4172-90eb-40f752d97b48",
   "metadata": {},
   "outputs": [],
   "source": [
    "input_feature_names = temp_feature_names + humidity_feature_names + u_wind_feature_names + v_wind_features_names"
   ]
  },
  {
   "cell_type": "code",
   "execution_count": null,
   "id": "86f5daf4-bacf-4485-aa1a-0269414e20e3",
   "metadata": {},
   "outputs": [],
   "source": [
    "preproc_dict = {}\n",
    "for if1 in input_feature_names:\n",
    "    scaler1 = sklearn.preprocessing.StandardScaler()\n",
    "    scaler1.fit(train_df[[if1]])\n",
    "    preproc_dict[if1] = scaler1"
   ]
  },
  {
   "cell_type": "code",
   "execution_count": null,
   "id": "0493be9a-8cba-45de-a292-19ca89c9642b",
   "metadata": {},
   "outputs": [],
   "source": [
    "target_encoder = sklearn.preprocessing.LabelEncoder()\n",
    "target_encoder.fit(train_df[[target_feature_name]])"
   ]
  },
  {
   "cell_type": "code",
   "execution_count": null,
   "id": "76262906-8df9-426c-98aa-2838eaa4aac9",
   "metadata": {},
   "outputs": [],
   "source": [
    "def preproc_input(data_subset, pp_dict):\n",
    "    return numpy.concatenate([scaler1.transform(data_subset[[if1]]) for if1,scaler1 in pp_dict.items()],axis=1)\n",
    "\n",
    "def preproc_target(data_subset, enc1):\n",
    "     return enc1.transform(data_subset[[target_feature_name]])"
   ]
  },
  {
   "cell_type": "code",
   "execution_count": null,
   "id": "b30332d1-3955-49d6-94a2-82af6642ec75",
   "metadata": {},
   "outputs": [],
   "source": [
    "X_train = preproc_input(train_df, preproc_dict)\n",
    "y_train = numpy.concatenate(\n",
    "    [preproc_target(train_df, target_encoder).reshape((-1,1)),\n",
    "    1.0 - (preproc_target(train_df, target_encoder).reshape((-1,1))),],\n",
    "    axis=1\n",
    ")"
   ]
  },
  {
   "cell_type": "code",
   "execution_count": null,
   "id": "a2064537-abc2-4d19-b2a1-dc0516fbc6c1",
   "metadata": {},
   "outputs": [],
   "source": [
    "X_val = preproc_input(val_df, preproc_dict)\n",
    "y_val = numpy.concatenate(\n",
    "    [preproc_target(val_df, target_encoder).reshape((-1,1)),\n",
    "    1.0 - (preproc_target(val_df, target_encoder).reshape((-1,1))),],\n",
    "    axis=1\n",
    ")"
   ]
  },
  {
   "cell_type": "markdown",
   "id": "5a262a54-9489-480e-947f-544627129cbb",
   "metadata": {},
   "source": [
    "### Set up experiment tracking - ML Flow"
   ]
  },
  {
   "cell_type": "code",
   "execution_count": null,
   "id": "5b3ea948-abfb-4954-8d39-dc24c818ecc3",
   "metadata": {},
   "outputs": [],
   "source": [
    "rse_rotors_experiment_name = 'rse_mlops_demo_rotors'"
   ]
  },
  {
   "cell_type": "code",
   "execution_count": null,
   "id": "973d8e79-f46a-4008-a3a1-97589a93524b",
   "metadata": {},
   "outputs": [],
   "source": [
    "timestamp_template = '{dt.year:04d}{dt.month:02d}{dt.day:02d}T{dt.hour:02d}{dt.minute:02d}{dt.second:02d}'"
   ]
  },
  {
   "cell_type": "code",
   "execution_count": null,
   "id": "054dfce5-65ea-41f2-9772-eab4dcda050c",
   "metadata": {},
   "outputs": [],
   "source": [
    "rse_run_name_template = 'rse_rotors_{network_name}_' + timestamp_template"
   ]
  },
  {
   "cell_type": "code",
   "execution_count": null,
   "id": "93d5e3f4-f6c6-4d9b-b7b8-dccfb861ed04",
   "metadata": {},
   "outputs": [],
   "source": [
    "mlflow_server_address = '127.0.0.1'\n",
    "mlflow_server_port = mlflow_dash_port\n",
    "mlflow_server_uri = f'http://{mlflow_server_address}:{mlflow_server_port:d}'\n",
    "mlflow_server_uri"
   ]
  },
  {
   "cell_type": "code",
   "execution_count": null,
   "id": "bb06a066-4875-42b6-9efa-9f7d6e32336c",
   "metadata": {},
   "outputs": [],
   "source": [
    "mlflow.set_tracking_uri(mlflow_server_uri)"
   ]
  },
  {
   "cell_type": "code",
   "execution_count": null,
   "id": "449510d2-c0b6-413d-83a3-4c0aa8faccd8",
   "metadata": {},
   "outputs": [],
   "source": [
    "try: \n",
    "    print('creating experiment')\n",
    "    rse_rotors_exp_id = mlflow.create_experiment(rse_rotors_experiment_name)\n",
    "    rse_rotors_exp = mlflow.get_experiment(rse_rotors_exp_id)\n",
    "except mlflow.exceptions.RestException:\n",
    "    rse_rotors_exp = mlflow.get_experiment_by_name(rse_rotors_experiment_name)\n",
    "rse_rotors_exp\n",
    "\n"
   ]
  },
  {
   "cell_type": "markdown",
   "id": "60e3a9f7-bd95-4d69-b380-a2c4122c2f97",
   "metadata": {},
   "source": [
    "### Set up model architecture hyperparameters"
   ]
  },
  {
   "cell_type": "code",
   "execution_count": null,
   "id": "1e8169a5-f82b-48ab-9011-8e8a535f3248",
   "metadata": {},
   "outputs": [],
   "source": [
    "def build_ffnn_model(hyperparameters, input_shape):\n",
    "    \"\"\"\n",
    "    Build a feed forward neural network model in tensorflow for predicting the occurence of turbulent orographically driven wind gusts called Rotors.\n",
    "    \"\"\"\n",
    "    model = tensorflow.keras.models.Sequential()\n",
    "    model.add(tensorflow.keras.layers.Dropout(hyperparameters['drop_out_rate'], \n",
    "                                              input_shape=input_shape))\n",
    "    for i in numpy.arange(0,hyperparameters['n_layers']):\n",
    "        model.add(tensorflow.keras.layers.Dense(hyperparameters['n_nodes'], \n",
    "                                                activation=hyperparameters['activation'], \n",
    "                                                kernel_constraint=tensorflow.keras.constraints.max_norm(3)))\n",
    "        model.add(tensorflow.keras.layers.Dropout(hyperparameters['drop_out_rate']))\n",
    "    model.add(tensorflow.keras.layers.Dense(2, activation='softmax'))             # This is the output layer\n",
    "    return model\n"
   ]
  },
  {
   "cell_type": "code",
   "execution_count": null,
   "id": "9a40187a-e968-4b01-bd16-5a387d58a318",
   "metadata": {},
   "outputs": [],
   "source": [
    "nx = X_train.shape[1]\n",
    "input_shape = (nx,)"
   ]
  },
  {
   "cell_type": "code",
   "execution_count": null,
   "id": "a448fc6d-7605-426f-8750-2ada22900ea9",
   "metadata": {},
   "outputs": [],
   "source": [
    "hyperparameters_dict = {\n",
    "    'initial_learning_rate': 1.0e-4,\n",
    "    'drop_out_rate': 0.2,\n",
    "    'n_epochs': 100,\n",
    "    'batch_size': 1000,\n",
    "    'n_nodes': 1000,\n",
    "    'n_layers': 4,\n",
    "    'activation': 'relu',\n",
    "    'loss': 'mse'\n",
    "}"
   ]
  },
  {
   "cell_type": "markdown",
   "id": "a7b8ad01-ed3a-45d0-a29a-582582a32f11",
   "metadata": {},
   "source": [
    "### Train model and setup monitoring\n",
    "\n",
    "Tools:\n",
    "* tensorboard\n",
    "* tensorflow\n",
    "* mlflow\n"
   ]
  },
  {
   "cell_type": "code",
   "execution_count": null,
   "id": "07a74806-91be-4d71-97b9-42684f279fb4",
   "metadata": {},
   "outputs": [],
   "source": [
    "log_dir_tensorboard = rse_root_data_dir / 'log_tensorboard' \n",
    "if not log_dir_tensorboard.is_dir():\n",
    "    log_dir_tensorboard.mkdir()\n",
    "    print(f'created tensorboard log directory {log_dir_tensorboard}')    \n",
    "log_dir_tensorboard"
   ]
  },
  {
   "cell_type": "code",
   "execution_count": null,
   "id": "61371d9c-1e0e-4f69-8ccc-ab164edb5620",
   "metadata": {},
   "outputs": [],
   "source": [
    "tensorboard_callback = tensorflow.keras.callbacks.TensorBoard(log_dir=log_dir_tensorboard, \n",
    "                                                              histogram_freq=1)"
   ]
  },
  {
   "cell_type": "code",
   "execution_count": null,
   "id": "250970b6-eb9c-4153-a55d-0e43162465b7",
   "metadata": {},
   "outputs": [],
   "source": [
    "log_dir_tensorboard"
   ]
  },
  {
   "cell_type": "code",
   "execution_count": null,
   "id": "bba04066-0ee9-41c2-a959-0371ca99267e",
   "metadata": {},
   "outputs": [],
   "source": [
    "%tensorboard --logdir /Users/stephen.haddad/data/ukrse2022/log_tensorboard"
   ]
  },
  {
   "cell_type": "code",
   "execution_count": null,
   "id": "446885b6-ced8-4d6b-98c5-b92f43d417f2",
   "metadata": {
    "tags": []
   },
   "outputs": [],
   "source": [
    "%time \n",
    "current_run_name = rse_run_name_template.format(network_name='ffnn',\n",
    "                                                dt=datetime.datetime.now()\n",
    "                                               )\n",
    "with mlflow.start_run(experiment_id=rse_rotors_exp.experiment_id, run_name=current_run_name) as current_run:\n",
    "    rotors_ffnn_model = build_ffnn_model(hyperparameters=hyperparameters_dict,\n",
    "                                     input_shape=input_shape,\n",
    "                                    )\n",
    "    rotors_ffnn_optimizer = tensorflow.optimizers.Adam(\n",
    "        learning_rate=hyperparameters_dict['initial_learning_rate'])  \n",
    "    \n",
    "    rotors_ffnn_model.compile(optimizer=rotors_ffnn_optimizer, \n",
    "                          loss=hyperparameters_dict['loss'], \n",
    "                          metrics=[tensorflow.keras.metrics.RootMeanSquaredError()])\n",
    "    \n",
    "    history=rotors_ffnn_model.fit(\n",
    "        X_train, \n",
    "        y_train, \n",
    "        validation_data=(X_val, \n",
    "                          y_val), \n",
    "        epochs=hyperparameters_dict['n_epochs'], \n",
    "        batch_size=hyperparameters_dict['batch_size'], \n",
    "        shuffle=True,\n",
    "        verbose=0,\n",
    "        callbacks=[tensorboard_callback],\n",
    "    )    \n",
    "    "
   ]
  },
  {
   "cell_type": "markdown",
   "id": "7ed7bb2b-94f6-4058-8094-052734c8f96f",
   "metadata": {},
   "source": [
    "#  Example do hyperparameteer tuning in ray\n",
    "\n",
    "https://docs.ray.io/en/latest/tune/examples/tune_mnist_keras.html#tune-mnist-keras\n"
   ]
  },
  {
   "cell_type": "code",
   "execution_count": 11,
   "id": "417f07c8-1659-4829-8fd9-b14d0f911c8a",
   "metadata": {},
   "outputs": [],
   "source": [
    "import ray\n",
    "import ray.tune\n",
    "import ray.tune.schedulers \n",
    "import ray.tune.integration.keras"
   ]
  },
  {
   "cell_type": "code",
   "execution_count": 12,
   "id": "9bc1a204-96ba-4ab7-8c22-555e14308dc3",
   "metadata": {},
   "outputs": [],
   "source": [
    "import rotors_hpt"
   ]
  },
  {
   "cell_type": "code",
   "execution_count": 13,
   "id": "a10a0ea7-2795-4377-a343-b17e434f4c15",
   "metadata": {},
   "outputs": [],
   "source": [
    "import importlib"
   ]
  },
  {
   "cell_type": "code",
   "execution_count": 31,
   "id": "d100560d-da11-4cf5-8921-9a28258dd0aa",
   "metadata": {},
   "outputs": [
    {
     "data": {
      "text/plain": [
       "<module 'rotors_hpt' from '/Users/stephen.haddad/prog/ukrse_2022_mlops_walkthrough/rotors_hpt.py'>"
      ]
     },
     "execution_count": 31,
     "metadata": {},
     "output_type": "execute_result"
    }
   ],
   "source": [
    "importlib.reload(rotors_hpt)"
   ]
  },
  {
   "cell_type": "code",
   "execution_count": 15,
   "id": "59deddd6-9c2f-4a84-9c5c-6e9fe1b9938c",
   "metadata": {},
   "outputs": [],
   "source": [
    "num_training_terations=20"
   ]
  },
  {
   "cell_type": "code",
   "execution_count": 16,
   "id": "b8a404e5-1ffc-4618-a4ec-6e97f528aaa2",
   "metadata": {},
   "outputs": [
    {
     "data": {
      "text/plain": [
       "RayContext(dashboard_url='', python_version='3.8.13', ray_version='1.13.0', ray_commit='e4ce38d001dbbe09cd21c497fedd03d692b2be3e', address_info={'node_ip_address': '127.0.0.1', 'raylet_ip_address': '127.0.0.1', 'redis_address': None, 'object_store_address': '/tmp/ray/session_2022-08-12_16-23-57_765638_26561/sockets/plasma_store', 'raylet_socket_name': '/tmp/ray/session_2022-08-12_16-23-57_765638_26561/sockets/raylet', 'webui_url': '', 'session_dir': '/tmp/ray/session_2022-08-12_16-23-57_765638_26561', 'metrics_export_port': 58009, 'gcs_address': '127.0.0.1:61655', 'address': '127.0.0.1:61655', 'node_id': 'd77f56b269afeebbc697ba72e771ed6bbd2a60a4f0e564b05d2b6d5e'})"
      ]
     },
     "execution_count": 16,
     "metadata": {},
     "output_type": "execute_result"
    }
   ],
   "source": [
    "ray.init(num_cpus=4, dashboard_port=ray_dash_port, dashboard_host='127.0.0.1')\n"
   ]
  },
  {
   "cell_type": "code",
   "execution_count": 17,
   "id": "5b084af9-de34-4012-b87b-0e2d5865fc8d",
   "metadata": {},
   "outputs": [],
   "source": [
    "# rse_rotors_sched = \n",
    "# set up local ray cluster"
   ]
  },
  {
   "cell_type": "code",
   "execution_count": 18,
   "id": "c1288fd5-6825-49e2-937d-f3804f7c702f",
   "metadata": {},
   "outputs": [],
   "source": [
    "rotors_hpt_config = {\n",
    "    'initial_learning_rate': ray.tune.uniform(1e-5,1e-3),\n",
    "    'n_nodes': ray.tune.randint(100,500),\n",
    "    'n_layers': ray.tune.randint(2,6)\n",
    "}"
   ]
  },
  {
   "cell_type": "code",
   "execution_count": 34,
   "id": "0161cc4d-91ba-4c6f-9c19-32480010a80e",
   "metadata": {},
   "outputs": [
    {
     "ename": "TypeError",
     "evalue": "__init__() missing 1 required positional argument: 'overwrite'",
     "output_type": "error",
     "traceback": [
      "\u001b[0;31m---------------------------------------------------------------------------\u001b[0m",
      "\u001b[0;31mTypeError\u001b[0m                                 Traceback (most recent call last)",
      "Input \u001b[0;32mIn [34]\u001b[0m, in \u001b[0;36m<cell line: 1>\u001b[0;34m()\u001b[0m\n\u001b[1;32m      1\u001b[0m rotors_hpt_analysis \u001b[38;5;241m=\u001b[39m ray\u001b[38;5;241m.\u001b[39mtune\u001b[38;5;241m.\u001b[39mrun(\n\u001b[1;32m      2\u001b[0m     rotors_hpt\u001b[38;5;241m.\u001b[39mrun_ml_pipeline,\n\u001b[1;32m      3\u001b[0m     name\u001b[38;5;241m=\u001b[39m\u001b[38;5;124m\"\u001b[39m\u001b[38;5;124mrse_rotors_hpt\u001b[39m\u001b[38;5;124m\"\u001b[39m,\n\u001b[1;32m      4\u001b[0m     scheduler\u001b[38;5;241m=\u001b[39mray\u001b[38;5;241m.\u001b[39mtune\u001b[38;5;241m.\u001b[39mschedulers\u001b[38;5;241m.\u001b[39mAsyncHyperBandScheduler(\n\u001b[1;32m      5\u001b[0m         time_attr\u001b[38;5;241m=\u001b[39m\u001b[38;5;124m\"\u001b[39m\u001b[38;5;124mtraining_iteration\u001b[39m\u001b[38;5;124m\"\u001b[39m, \n\u001b[1;32m      6\u001b[0m         max_t\u001b[38;5;241m=\u001b[39m\u001b[38;5;241m400\u001b[39m, \n\u001b[1;32m      7\u001b[0m         grace_period\u001b[38;5;241m=\u001b[39m\u001b[38;5;241m20\u001b[39m,\n\u001b[1;32m      8\u001b[0m     ),\n\u001b[1;32m      9\u001b[0m     metric\u001b[38;5;241m=\u001b[39m\u001b[38;5;124m\"\u001b[39m\u001b[38;5;124mroot_mean_squared_error\u001b[39m\u001b[38;5;124m\"\u001b[39m,\n\u001b[1;32m     10\u001b[0m     mode\u001b[38;5;241m=\u001b[39m\u001b[38;5;124m\"\u001b[39m\u001b[38;5;124mmax\u001b[39m\u001b[38;5;124m\"\u001b[39m,\n\u001b[1;32m     11\u001b[0m     stop\u001b[38;5;241m=\u001b[39m{\u001b[38;5;124m\"\u001b[39m\u001b[38;5;124mroot_mean_squared_error\u001b[39m\u001b[38;5;124m\"\u001b[39m: \u001b[38;5;241m0.99\u001b[39m, \n\u001b[1;32m     12\u001b[0m           \u001b[38;5;124m\"\u001b[39m\u001b[38;5;124mtraining_iteration\u001b[39m\u001b[38;5;124m\"\u001b[39m: num_training_terations},\n\u001b[1;32m     13\u001b[0m     num_samples\u001b[38;5;241m=\u001b[39m\u001b[38;5;241m10\u001b[39m,\n\u001b[1;32m     14\u001b[0m     resources_per_trial\u001b[38;5;241m=\u001b[39m{\u001b[38;5;124m\"\u001b[39m\u001b[38;5;124mcpu\u001b[39m\u001b[38;5;124m\"\u001b[39m: \u001b[38;5;241m2\u001b[39m,\n\u001b[1;32m     15\u001b[0m                          \u001b[38;5;124m\"\u001b[39m\u001b[38;5;124mgpu\u001b[39m\u001b[38;5;124m\"\u001b[39m: \u001b[38;5;241m0\u001b[39m},\n\u001b[1;32m     16\u001b[0m     config\u001b[38;5;241m=\u001b[39mrotors_hpt_config,\n\u001b[0;32m---> 17\u001b[0m     progress_reporter\u001b[38;5;241m=\u001b[39m\u001b[43mray\u001b[49m\u001b[38;5;241;43m.\u001b[39;49m\u001b[43mtune\u001b[49m\u001b[38;5;241;43m.\u001b[39;49m\u001b[43mJupyterNotebookReporter\u001b[49m\u001b[43m(\u001b[49m\u001b[43m)\u001b[49m,\n\u001b[1;32m     18\u001b[0m     )\n",
      "\u001b[0;31mTypeError\u001b[0m: __init__() missing 1 required positional argument: 'overwrite'"
     ]
    }
   ],
   "source": [
    "rotors_hpt_analysis = ray.tune.run(\n",
    "    rotors_hpt.run_ml_pipeline,\n",
    "    name=\"rse_rotors_hpt\",\n",
    "    scheduler=ray.tune.schedulers.AsyncHyperBandScheduler(\n",
    "        time_attr=\"training_iteration\", \n",
    "        max_t=400, \n",
    "        grace_period=20,\n",
    "    ),\n",
    "    metric=\"root_mean_squared_error\",\n",
    "    mode=\"max\",\n",
    "    stop={\"root_mean_squared_error\": 0.99, \n",
    "          \"training_iteration\": num_training_terations},\n",
    "    num_samples=10,\n",
    "    resources_per_trial={\"cpu\": 2,\n",
    "                         \"gpu\": 0},\n",
    "    config=rotors_hpt_config,\n",
    "    progress_reporter=ray.tune.JupyterNotebookReporter(overwrite=True),\n",
    "    )"
   ]
  },
  {
   "cell_type": "code",
   "execution_count": null,
   "id": "74da2f2d-7a82-49c3-8a7e-f1fb97ed9d2e",
   "metadata": {},
   "outputs": [],
   "source": []
  },
  {
   "cell_type": "markdown",
   "id": "424b6755-5eef-473d-85f7-8f39bcc0fda6",
   "metadata": {},
   "source": [
    "# Example save the model \n",
    "\n",
    "* use ONNX\n",
    "* Use MLFlow\n"
   ]
  },
  {
   "cell_type": "code",
   "execution_count": null,
   "id": "035fc5a7-b491-4bae-8ac8-c6b1b0ea9ee6",
   "metadata": {},
   "outputs": [],
   "source": [
    "# save model in ml flow"
   ]
  },
  {
   "cell_type": "code",
   "execution_count": null,
   "id": "74bb4e40-1469-47ba-b639-1f901261e116",
   "metadata": {},
   "outputs": [],
   "source": [
    "# stretch goal - save model in ONNX?"
   ]
  },
  {
   "cell_type": "code",
   "execution_count": null,
   "id": "99a886b1-801b-42ca-b7be-1ec7ee0b1ba7",
   "metadata": {},
   "outputs": [],
   "source": []
  },
  {
   "cell_type": "code",
   "execution_count": null,
   "id": "523c4214-0408-4821-a77d-84c51a0c0f41",
   "metadata": {},
   "outputs": [],
   "source": []
  },
  {
   "cell_type": "code",
   "execution_count": null,
   "id": "b9a340d0-6c4d-46a5-8b34-ce8f009d2317",
   "metadata": {},
   "outputs": [],
   "source": []
  },
  {
   "cell_type": "code",
   "execution_count": null,
   "id": "cded42eb-b072-4af3-8712-3ed478cbd1ab",
   "metadata": {},
   "outputs": [],
   "source": []
  },
  {
   "cell_type": "code",
   "execution_count": null,
   "id": "639735d0-58fc-4c2a-968d-e48005a101a8",
   "metadata": {},
   "outputs": [],
   "source": []
  },
  {
   "cell_type": "code",
   "execution_count": null,
   "id": "ea6830c5-eeae-400c-bde8-50e78066d2f0",
   "metadata": {},
   "outputs": [],
   "source": []
  },
  {
   "cell_type": "code",
   "execution_count": null,
   "id": "5d0fb9f1-71b9-4acd-8f7b-c6b1bb78d26f",
   "metadata": {},
   "outputs": [],
   "source": []
  },
  {
   "cell_type": "code",
   "execution_count": null,
   "id": "4452ec06-e014-454f-9115-0258b27209e1",
   "metadata": {},
   "outputs": [],
   "source": []
  },
  {
   "cell_type": "code",
   "execution_count": null,
   "id": "7aa84480-9b92-4a78-adf6-91fd0db7b438",
   "metadata": {},
   "outputs": [],
   "source": []
  },
  {
   "cell_type": "code",
   "execution_count": null,
   "id": "cd4552ee-a03a-4ee9-8e9c-6fe103e9fb9d",
   "metadata": {},
   "outputs": [],
   "source": []
  },
  {
   "cell_type": "code",
   "execution_count": null,
   "id": "f7dbc5fd-4974-4dc5-91ff-88d3023f3304",
   "metadata": {},
   "outputs": [],
   "source": []
  },
  {
   "cell_type": "code",
   "execution_count": null,
   "id": "e3f8838f-74c5-4c96-9132-dcd3dd66c99c",
   "metadata": {},
   "outputs": [],
   "source": []
  },
  {
   "cell_type": "code",
   "execution_count": null,
   "id": "9e2ec9e8-584a-45e5-a85b-42400512161f",
   "metadata": {},
   "outputs": [],
   "source": []
  },
  {
   "cell_type": "code",
   "execution_count": null,
   "id": "57cdd72d-1ac6-4b6e-88a0-d670a185b373",
   "metadata": {},
   "outputs": [],
   "source": []
  },
  {
   "cell_type": "code",
   "execution_count": null,
   "id": "e92a5183-52ff-44b5-80a1-96f9db88e4f2",
   "metadata": {},
   "outputs": [],
   "source": []
  },
  {
   "cell_type": "markdown",
   "id": "8e276609-6641-4d20-a5c8-3be339f6a26a",
   "metadata": {},
   "source": [
    "### Next Steps / Further Reading"
   ]
  },
  {
   "cell_type": "markdown",
   "id": "f4dc446a-15c6-43e3-a556-2d191f18e432",
   "metadata": {},
   "source": [
    "### References\n",
    "* mlflow\n",
    "* scikit-learn\n",
    "* tensorflow\n",
    "* tensorboard"
   ]
  },
  {
   "cell_type": "markdown",
   "id": "9ed2ef0b-1bd3-4c19-b180-50c339c5eb07",
   "metadata": {},
   "source": []
  }
 ],
 "metadata": {
  "kernelspec": {
   "display_name": "Python 3 (ipykernel)",
   "language": "python",
   "name": "python3"
  },
  "language_info": {
   "codemirror_mode": {
    "name": "ipython",
    "version": 3
   },
   "file_extension": ".py",
   "mimetype": "text/x-python",
   "name": "python",
   "nbconvert_exporter": "python",
   "pygments_lexer": "ipython3",
   "version": "3.8.13"
  }
 },
 "nbformat": 4,
 "nbformat_minor": 5
}
