{
 "cells": [
  {
   "cell_type": "markdown",
   "id": "e586d9f3-86d9-4d4c-bdf4-4f65bf0e9236",
   "metadata": {},
   "source": [
    "# 5. Summary and Next Steps"
   ]
  },
  {
   "cell_type": "markdown",
   "id": "c86876fe-8ae4-463c-a27f-c8c69d3144d6",
   "metadata": {},
   "source": [
    "## Summary \n",
    "\n",
    "In this tutorial, we have gone through the key steps of a workflow fror a typical machine learning project, which can be divided roughly into the following three steps:\n",
    "\n",
    "* data preparation and exploration\n",
    "* model training\n",
    "* model evaluation and explainability\n",
    "\n",
    "Perhaps the most important point about applying good development practices to a machine learning project is all the same principle and practices that research software engineers apply to other sorts of projects apply equally to ML projects. There are be some addtional tools to help apply these principle to the addtional assets (e.g. trained model weights) and specific workflows (e.g. experiment tracking), but generally all same principles and practices apply, such as:\n",
    "\n",
    "* *version control* - Use version control for all assets, including code, data and models.\n",
    "* *FAIR principles (Findable, Accessible, Interoperable, Reusable) * - Ensure you store models as well as code and data according to FAIR principles [FAIR principles](https://www.go-fair.org/fair-principles/)\n",
    "* *ARCO (Analysis-ready cloud optimised) - Ensure your data is is available in a form that is ready for use in machine learning pipelines with minimal transformation required. Also ensure it is stored in a format that is optimised for the platform on which it will be used and supports parallel access usage patterns.\n",
    "    "
   ]
  },
  {
   "cell_type": "markdown",
   "id": "85de2bec-6b19-4d4f-a8e7-b4b91e98aa77",
   "metadata": {},
   "source": [
    "## Next Steps - Projects\n",
    "\n",
    "The key question (hopefully) after such a tutorial is how can I make use of what I have learned in my projects now and in the future. Here are some initial steps in applying MLOps principles and practices that you can take immediately:\n",
    "\n",
    "* Encourage researcher to use Experiment Tracking software (e.g. ML Flow)\n",
    "* Review how your assets are organised and shared. Can you create a catalog of assets to make it easier for researchers to use them?\n"
   ]
  },
  {
   "cell_type": "markdown",
   "id": "2b52e826-9c60-487a-888c-5c4c9afb16e6",
   "metadata": {},
   "source": [
    "## Next Steps - Peronal Development \n",
    "There are also next steps for you as a Research Software Engineer around developing you:\n",
    "* Take the deeplearning.ai [MLOps course on coursera](https://www.coursera.org/specializations/machine-learning-engineering-for-production-mlops)\n",
    "* Go through tutorials for key tools such as\n",
    "  * ML Flow\n",
    "  * Ray\n",
    "  * Tensorboard\n",
    "  * Intake\n",
    "  * Holoviz\n"
   ]
  },
  {
   "cell_type": "code",
   "execution_count": null,
   "id": "0ec98f34-9a45-47f3-8960-225c1d36ca36",
   "metadata": {},
   "outputs": [],
   "source": []
  }
 ],
 "metadata": {
  "kernelspec": {
   "display_name": "Python 3 (ipykernel)",
   "language": "python",
   "name": "python3"
  },
  "language_info": {
   "codemirror_mode": {
    "name": "ipython",
    "version": 3
   },
   "file_extension": ".py",
   "mimetype": "text/x-python",
   "name": "python",
   "nbconvert_exporter": "python",
   "pygments_lexer": "ipython3",
   "version": "3.8.13"
  }
 },
 "nbformat": 4,
 "nbformat_minor": 5
}
