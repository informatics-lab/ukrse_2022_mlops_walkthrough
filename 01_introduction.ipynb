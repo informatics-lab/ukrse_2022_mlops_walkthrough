{
 "cells": [
  {
   "cell_type": "markdown",
   "id": "98e0570f-1073-457f-807f-809843d1322c",
   "metadata": {},
   "source": [
    "# Introduction: MLOps for Research Software Engineers\n",
    "\n"
   ]
  },
  {
   "cell_type": "code",
   "execution_count": null,
   "id": "79cdec66-ed29-4e4f-9a3c-54b40d593554",
   "metadata": {},
   "outputs": [],
   "source": []
  },
  {
   "cell_type": "markdown",
   "id": "de1cf903-322a-434f-9f18-24ff53d12b4e",
   "metadata": {},
   "source": [
    "## What is an RSE?\n",
    "\n",
    "\n",
    "https://ukrse.github.io/who.html\n",
    "\n",
    "https://software-carpentry.org/blog/2015/06/what-is-a-research-software-engineer.html \n",
    "\n",
    "* employed to develop software for research\n",
    "* spend more time developing software than doing research\n",
    "\n",
    "### What are the key principles for RSEs?\n",
    "\n",
    "* reproducability\n",
    "* code quality\n",
    "* code performance / optmisation\n",
    "* reliability / robustness\n",
    "* automation / productionising "
   ]
  },
  {
   "cell_type": "markdown",
   "id": "6f422529-4416-41d0-9e3d-1840d27fb483",
   "metadata": {},
   "source": [
    "## What is MLOps\n",
    "\n",
    "MLOps stands for Machine Learning Operations, and is derived from the term DevOps, or Developer / Operations. So what is DevOps then?\n",
    "\n",
    "### What is DevOps\n",
    "According to AWS: *DevOps is the combination of cultural philosophies, practices, and tools that increases an organization’s ability to deliver applications and services at high velocity*. The idea is to bring together good software practices to be able to good quality software more quickly. \n",
    "\n",
    "What are the key principles in Devops? (https://about.gitlab.com/topics/devops/)\n",
    "* Automation of the software development lifecycle\n",
    "* Collaboration and communication\n",
    "* Continuous improvement and minimization of waste\n",
    "* Hyperfocus on user needs with short feedback loops\n",
    "\n",
    "https://about.gitlab.com/nuxt-images/topics/lifecycle-2.png\n",
    "\n",
    "\n",
    "Links\n",
    "* https://aws.amazon.com/devops/what-is-devops/\n",
    "* https://about.gitlab.com/topics/devops/\n",
    "* https://www.pagerduty.com/resources/learn/essential-devops-roles/\n",
    "\n",
    "### What is MLOps\n",
    "\n",
    "MLOps aim to apply a similar philosophy to machine learning software \n",
    "\n",
    "https://www.bestdevops.com/what-are-roles-and-responsibilities-of-mlops-engineers/\n",
    "\n",
    "What are the roles./tasks  of an MLOps Engineer?\n",
    "1. Deployment and operationalization of MLOps, with a focus on:\n",
    "   * Optimization of model hyperparameters\n",
    "   * Evaluation and explicability of models\n",
    "   * Automated retraining and model training\n",
    "   * Model onboarding, operations, and decommissioning workflows.\n",
    "   * Version control and governance for models\n",
    "   * Data archiving and version control\n",
    "   * Monitoring the model and its drift\n",
    "2. To measure and improve services, create and use benchmarks, metrics, and monitoring.\n",
    "3. Providing best practises and running proof-of-concepts for automated and efficient model operations on a large scale.\n",
    "4. Creating and maintaining scalable MLOps frameworks to support client-specific models.\n",
    "\n",
    "\n",
    "\n",
    "What are the skills?\n",
    "* The demands for good programming knowledge, hands-on experience with ML frameworks, libraries, agile environments and deploying machine learning solutions using DevOps principles is quite high.\n",
    "* A combination of machine learning, data engineering, and DevOps practices is required in this field.\n",
    "* Machine learning is heavily reliant on data, so an experienced MLOps engineer should be well-versed in data structures, data modelling, and database management systems.\n",
    "* DevOps engineers should always collaborate with Quality Assurance (QA) teams and be aware of the testing history throughout the CI/CD cycle. Understanding how your code is tested and maintained requires an understanding of the framework/environments led by QA.\n",
    "* Understand the tools in the pipeline that serve different purposes, such as Continuous Integration servers, Configuration management, Deployment automation, Containers, Infrastructure Orchestration, Monitoring and Analytics, Testing and Cloud Quality tools, and network protocols.\n",
    "* MLOps is based on the existing DevOps discipline. Knowing how to automate the entire DevOps pipeline, including app performance monitoring, infrastructure settings, and configurations, is a requirement.\n",
    "* Model validation, model training, and other aspects of evaluating an ML system are in addition to traditional code tests like unit and integration testing.\n",
    "\n",
    "\n",
    "# RSE Perspective\n",
    "\n",
    "Why might an RSE care about adopting MLOpsor DevOps  practices? Mny RSEs are already doing this, even if they do not realise it, as often with research software the same person or small group of people is responsible for both developing and supporting a software package or library. Applying principles like automation and continous improvement can reduce the burden of supporting the software and make it easier to respond to requests from researchers for new features, extensions and improvements.\n"
   ]
  },
  {
   "cell_type": "code",
   "execution_count": null,
   "id": "7cf593d8-290a-4a9c-8762-b5b5288b7f7a",
   "metadata": {},
   "outputs": [],
   "source": []
  },
  {
   "cell_type": "markdown",
   "id": "49aa1524-4934-402d-b6b7-39d0ec0ff950",
   "metadata": {},
   "source": [
    "# What is MLOps"
   ]
  },
  {
   "cell_type": "code",
   "execution_count": null,
   "id": "d606fd75-d2dc-4936-a344-72334a65e486",
   "metadata": {},
   "outputs": [],
   "source": []
  },
  {
   "cell_type": "code",
   "execution_count": null,
   "id": "89044220-5279-4b8a-8c7c-c2bd46680ba1",
   "metadata": {},
   "outputs": [],
   "source": []
  },
  {
   "cell_type": "code",
   "execution_count": null,
   "id": "a1ad2637-7d2d-490b-ab83-6948d6b3badc",
   "metadata": {},
   "outputs": [],
   "source": []
  },
  {
   "cell_type": "markdown",
   "id": "eea6cfe9-4088-4523-9109-34a7e427b1ef",
   "metadata": {},
   "source": []
  },
  {
   "cell_type": "markdown",
   "id": "ea8f7575-3d28-45d0-bb52-d8d5732607df",
   "metadata": {},
   "source": [
    "### Machine Learning Pipeline\n",
    "What are the typical components of an end-to-end machine learning pipeline in a research project? \n",
    "\n",
    "* *Data Loading & Cleaning* - Start by loading the data, and filtering out any data considered to be unsuitable training and evaluation of machine learning algorithms. Selection of appropriate data is an important way in which domain expertise in vital in getting good results.\n",
    "* *Feauture Engineering* - The first step is to prepare the data for presenting to the algorithm. Different ways of presenting the data will emphasise different features, and choosing the right features is important for getting good results. Knowledge of what features represent based on domain knowledge is again very important.\n",
    "* *Train/test Split* - Before we train the algorithm, we need to split into train and test sets. This is to ensure out algorithm doesn't overfit, learning irrelevant details that are not representative of the whole space of possible data, but rather that in generalises well.\n",
    "* *Data Preparation* - The machine learning algorithm only sees numbers as numbers, with no inherent understnading oif meaning or context. We need to ensure different features are scaled to be comparable, otherwise big numbers will be treated as more important by the algorithm, irrespective of what those numbers mean. Value are typically scaled to a range of [0,1] or, assuming a gaussian distribution, to have mean=0 and std_dev=1.\n",
    "* *Algorithm Setup* - Here we select the particular algorithm e,.g. neural network, k-means clustering, and specify the hyperparameters. It is important to distinguish between parameters and hyperparameters.\n",
    "  * Parameters are the values that calculated by the training process.\n",
    "  * Hyperparameters are values specified in algorithm setup, which are not altered by training. These need to be fine-tuned using an additional outer training loop called hyperparameter tuning.\n",
    "* *Algorithm Training* - Execute the algorithm to calculate the best parameters for the chosen ML algorithm to fit the supplied training data\n",
    "* *Inference* - Once we have an algorithm, we use it to produce predictions, for both the train and test sets.\n",
    "* *Evaluation* - We then compare the predictions of the trained algorithms to expected results. For supervised learning, this will be supplied target values. For unsupervised learning, we will expplore the results and their usefulness much like in exploratory data analysis.\n",
    "* *Interpretability & Explainability* - Explaining how the model produced a certain prediction ( looking inside the blackbox) and interpreting what the prediction means in terms of relation to the real world problem.\n",
    "* *Model Storage* - Model training can be an expensive process that we don't want to perform too often, and. once we have a model that performs well we save its state so it can be reloaded and used subsequently for inference on later problems."
   ]
  },
  {
   "cell_type": "markdown",
   "id": "53216cfa-7e5a-48f1-bd73-c0aecdd302b9",
   "metadata": {},
   "source": [
    "### ML Lifecycle from an RSE perspective\n",
    "![Uber Michaelangelo''s ML lifecycle](https://1fykyq3mdn5r21tpna3wkdyi-wpengine.netdna-ssl.com/wp-content/uploads/2018/11/image6.png)\n",
    "\n",
    "RSEs are generally supporting ML projects in the Prototype phase of the ML Life cycle. The focus is on these three elements\n",
    "* Data Preparation\n",
    "* Model Development (\"train models\")\n",
    "* Model Evaluation (\"Evaluate models\")\n",
    "\n",
    "In many ways developing software for a machine learning project is no different than for any other sort of software project, but there are some additional or different challenges and also some different tools to supports tasks that are unique to a machine learning pipeline. In order to apply the principles of good software development that are typically applied by RSEs to ML projects RSEs will need to know about what ML software development and support has in common with other sorts of projects and what is different, and what tools are needed to suopport the different aspects. Many of these tools are about promoting these good practices in research ML projects, where researchers may not not be familiar with those good practicves or have the technical knowledge to set up and use the infrastructure tand tools to implement those practices. These notebooks will demonstrate some of tose tools that promote good practices leading to reproducible, scalable research software.\n"
   ]
  },
  {
   "cell_type": "code",
   "execution_count": null,
   "id": "270d2016-1ca6-4a6a-b0a4-ce52755ef983",
   "metadata": {},
   "outputs": [],
   "source": []
  },
  {
   "cell_type": "markdown",
   "id": "f22bfda0-278e-4f2e-8b56-7dddc1aa42d3",
   "metadata": {},
   "source": [
    "References:\n",
    "* ML Ops Wikipedia https://en.wikipedia.org/wiki/MLOps\n",
    "* Databricks MLOps https://databricks.com/glossary/mlops\n",
    "* Who is a RSE https://ukrse.github.io/who.html \n",
    "* What is Research Software Engineering https://software-carpentry.org/blog/2015/06/what-is-a-research-software-engineer.html "
   ]
  },
  {
   "cell_type": "code",
   "execution_count": null,
   "id": "172e335d-6ad9-4a83-9445-5fdc073e502e",
   "metadata": {},
   "outputs": [],
   "source": [
    "Firther reading\n",
    "\n",
    "\n",
    "* ML Engineering - https://databricks.com/wp-content/uploads/2021/09/ML-Engineering-Ebook-Final.pdf\n"
   ]
  }
 ],
 "metadata": {
  "kernelspec": {
   "display_name": "Python 3 (ipykernel)",
   "language": "python",
   "name": "python3"
  },
  "language_info": {
   "codemirror_mode": {
    "name": "ipython",
    "version": 3
   },
   "file_extension": ".py",
   "mimetype": "text/x-python",
   "name": "python",
   "nbconvert_exporter": "python",
   "pygments_lexer": "ipython3",
   "version": "3.8.13"
  }
 },
 "nbformat": 4,
 "nbformat_minor": 5
}
