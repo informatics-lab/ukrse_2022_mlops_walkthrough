{
 "cells": [
  {
   "cell_type": "markdown",
   "id": "57f9d431-06de-48e6-9d38-716441a7b192",
   "metadata": {},
   "source": [
    "# MLOps for RSEs - Data Preparation and Exploration Examples\n",
    "\n",
    "\n",
    "key principles / tasks supported by RSEs\n",
    "* reusable components\n",
    "* running at scale\n",
    "* interactive data exploration\n",
    "* FAIR / ARCO data\n"
   ]
  },
  {
   "cell_type": "markdown",
   "id": "216e3246-4f1a-4269-8c37-155758f0605f",
   "metadata": {},
   "source": [
    "## Key elements of data preparation and exploration"
   ]
  },
  {
   "cell_type": "markdown",
   "id": "f841893c-f4e3-4a04-ac37-c96925188550",
   "metadata": {},
   "source": [
    "load the data, get the data from zenodo if required.https://zenodo.org/record/6966937\n",
    "https://doi.org/10.5281/zenodo.6966937\n",
    "\n",
    "Also make available through azure??\n"
   ]
  },
  {
   "cell_type": "code",
   "execution_count": null,
   "id": "0cd1d650-3f0e-4708-8216-3fcbbba4c9f2",
   "metadata": {},
   "outputs": [],
   "source": []
  },
  {
   "cell_type": "markdown",
   "id": "1810862a-47bb-46c0-9ffb-910474a1049b",
   "metadata": {},
   "source": [
    "### Key Tools"
   ]
  },
  {
   "cell_type": "markdown",
   "id": "49f3ff9d-7211-486d-9536-5c06d73f5391",
   "metadata": {},
   "source": [
    "### Key RSE tasks and responsibilitiues"
   ]
  },
  {
   "cell_type": "code",
   "execution_count": null,
   "id": "484c569e-d55a-471e-9b8b-72dff2ba95d1",
   "metadata": {},
   "outputs": [],
   "source": []
  },
  {
   "cell_type": "markdown",
   "id": "b2b101ce-2ca2-413e-97b9-9987b41854f3",
   "metadata": {},
   "source": [
    "## Example 1 - Rotors Dataset\n",
    "\n",
    "data clean and exploration\n",
    "\n",
    "scikit learn pipeline?\n",
    "\n",
    "holoviz data display"
   ]
  },
  {
   "cell_type": "code",
   "execution_count": null,
   "id": "5faf10cc-0a23-4a89-acac-2824e0783fb7",
   "metadata": {},
   "outputs": [],
   "source": []
  },
  {
   "cell_type": "code",
   "execution_count": null,
   "id": "27ebdccc-dc34-4ce5-a731-e776d60323db",
   "metadata": {},
   "outputs": [],
   "source": []
  },
  {
   "cell_type": "code",
   "execution_count": null,
   "id": "d3788b80-e937-438a-b4e9-3e2ddc2e9d0b",
   "metadata": {},
   "outputs": [],
   "source": []
  },
  {
   "cell_type": "markdown",
   "id": "e2c3a8ae-5fea-43ab-8063-a97d9b2dd6ff",
   "metadata": {},
   "source": [
    "## Example 2 - ERA5 Reanalysis Dataset\n",
    "\n",
    "processing data at scale\n",
    "cloud optimised dataset\n",
    "intake catalog of data\n"
   ]
  },
  {
   "cell_type": "code",
   "execution_count": null,
   "id": "5ea0e80f-1cc6-4f60-8651-2333d3e0c212",
   "metadata": {},
   "outputs": [],
   "source": []
  },
  {
   "cell_type": "code",
   "execution_count": null,
   "id": "5b4969f9-8c14-42c9-9c5e-b6fec5f893c4",
   "metadata": {},
   "outputs": [],
   "source": []
  },
  {
   "cell_type": "code",
   "execution_count": null,
   "id": "cc3fc9fc-31c6-4a47-885d-e3ff47fba82e",
   "metadata": {},
   "outputs": [],
   "source": []
  },
  {
   "cell_type": "markdown",
   "id": "b557aad3-d2f0-4fef-86c5-93d7b6f67bc4",
   "metadata": {},
   "source": [
    "### Next Steps and further reading"
   ]
  },
  {
   "cell_type": "markdown",
   "id": "6df79eeb-4638-4b97-b3ea-082b52b9092a",
   "metadata": {},
   "source": [
    "### References\n",
    "\n",
    "* [Ray]()\n",
    "* [Holoviz](https://holoviz.org/)"
   ]
  },
  {
   "cell_type": "code",
   "execution_count": null,
   "id": "96cff350-1b6b-4d4d-9ab7-48e71267c029",
   "metadata": {},
   "outputs": [],
   "source": []
  }
 ],
 "metadata": {
  "kernelspec": {
   "display_name": "Python 3 (ipykernel)",
   "language": "python",
   "name": "python3"
  },
  "language_info": {
   "codemirror_mode": {
    "name": "ipython",
    "version": 3
   },
   "file_extension": ".py",
   "mimetype": "text/x-python",
   "name": "python",
   "nbconvert_exporter": "python",
   "pygments_lexer": "ipython3",
   "version": "3.8.13"
  }
 },
 "nbformat": 4,
 "nbformat_minor": 5
}
